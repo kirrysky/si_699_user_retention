{
 "cells": [
  {
   "cell_type": "markdown",
   "metadata": {},
   "source": [
    "# Proprecssing\n",
    "\n",
    "- Author: Wen Xin\n",
    "- Description: This file is about to extract daily count features in order to do LSTM and NN."
   ]
  },
  {
   "cell_type": "code",
   "execution_count": 49,
   "metadata": {},
   "outputs": [],
   "source": [
    "import pandas as pd\n",
    "import numpy as np\n",
    "import warnings\n",
    "warnings.filterwarnings(\"ignore\")"
   ]
  },
  {
   "cell_type": "code",
   "execution_count": 50,
   "metadata": {},
   "outputs": [],
   "source": [
    "data=pd.read_csv('feature_engineering0205.csv')"
   ]
  },
  {
   "cell_type": "code",
   "execution_count": 51,
   "metadata": {},
   "outputs": [],
   "source": [
    "cols=list(data.columns)\n",
    "my_cols=[]"
   ]
  },
  {
   "cell_type": "code",
   "execution_count": 52,
   "metadata": {},
   "outputs": [],
   "source": [
    "removes=['send_type_mode','couponworth_sum','ticketfee_sum','couponfee_sum']"
   ]
  },
  {
   "cell_type": "code",
   "execution_count": 53,
   "metadata": {},
   "outputs": [],
   "source": [
    "for c in cols:\n",
    "    if len(c.split(\"2016\"))==1 or c.split(\"2016\")[1] not in removes:\n",
    "        my_cols.append(c)"
   ]
  },
  {
   "cell_type": "code",
   "execution_count": 54,
   "metadata": {},
   "outputs": [
    {
     "data": {
      "text/plain": [
       "['user_id',\n",
       " '04/04/2016count',\n",
       " '04/05/2016count',\n",
       " '04/06/2016count',\n",
       " '04/07/2016count',\n",
       " '04/08/2016count',\n",
       " '04/09/2016count',\n",
       " '04/10/2016count',\n",
       " '04/11/2016count',\n",
       " '04/12/2016count',\n",
       " '04/13/2016count',\n",
       " '04/14/2016count',\n",
       " '04/15/2016count',\n",
       " '04/16/2016count',\n",
       " '04/17/2016count',\n",
       " '04/18/2016count',\n",
       " '04/19/2016count',\n",
       " '04/20/2016count',\n",
       " '04/21/2016count',\n",
       " '04/22/2016count',\n",
       " '04/23/2016count',\n",
       " '04/24/2016count',\n",
       " '04/25/2016count',\n",
       " '04/26/2016count',\n",
       " '04/27/2016count',\n",
       " '04/28/2016count',\n",
       " '04/29/2016count',\n",
       " '04/30/2016count',\n",
       " '05/01/2016count',\n",
       " '05/02/2016count',\n",
       " '05/03/2016count',\n",
       " '05/04/2016count',\n",
       " '05/05/2016count',\n",
       " '05/06/2016count',\n",
       " '05/07/2016count',\n",
       " '05/08/2016count',\n",
       " '05/09/2016count',\n",
       " '05/10/2016count',\n",
       " '05/11/2016count',\n",
       " '05/12/2016count',\n",
       " '05/13/2016count',\n",
       " '05/14/2016count',\n",
       " '05/15/2016count',\n",
       " '05/16/2016count',\n",
       " '05/17/2016count',\n",
       " '05/18/2016count',\n",
       " '05/19/2016count',\n",
       " '05/20/2016count',\n",
       " '05/21/2016count',\n",
       " '05/22/2016count',\n",
       " '05/23/2016count',\n",
       " '05/24/2016count',\n",
       " '05/25/2016count',\n",
       " '05/26/2016count',\n",
       " '05/27/2016count',\n",
       " '05/28/2016count',\n",
       " '05/29/2016count',\n",
       " '05/30/2016count',\n",
       " '05/31/2016count',\n",
       " '06/01/2016count',\n",
       " '06/02/2016count',\n",
       " '06/03/2016count',\n",
       " '06/04/2016count',\n",
       " '06/05/2016count',\n",
       " '06/06/2016count',\n",
       " '06/07/2016count',\n",
       " '06/08/2016count',\n",
       " '06/09/2016count',\n",
       " '06/10/2016count',\n",
       " '06/11/2016count',\n",
       " '06/12/2016count',\n",
       " '06/13/2016count',\n",
       " '06/14/2016count',\n",
       " '06/15/2016count',\n",
       " '06/16/2016count',\n",
       " '06/17/2016count',\n",
       " '06/18/2016count',\n",
       " '06/19/2016count',\n",
       " '06/20/2016count',\n",
       " '06/21/2016count',\n",
       " '06/22/2016count',\n",
       " '06/23/2016count',\n",
       " '06/24/2016count',\n",
       " '06/25/2016count',\n",
       " '06/26/2016count']"
      ]
     },
     "execution_count": 54,
     "metadata": {},
     "output_type": "execute_result"
    }
   ],
   "source": [
    "my_cols"
   ]
  },
  {
   "cell_type": "code",
   "execution_count": 56,
   "metadata": {},
   "outputs": [],
   "source": [
    "label_columns=['06/13/2016count',\n",
    " '06/14/2016count',\n",
    " '06/15/2016count',\n",
    " '06/16/2016count',\n",
    " '06/17/2016count',\n",
    " '06/18/2016count',\n",
    " '06/19/2016count',\n",
    " '06/20/2016count',\n",
    " '06/21/2016count',\n",
    " '06/22/2016count',\n",
    " '06/23/2016count',\n",
    " '06/24/2016count',\n",
    " '06/25/2016count',\n",
    " '06/26/2016count']"
   ]
  },
  {
   "cell_type": "code",
   "execution_count": 55,
   "metadata": {},
   "outputs": [],
   "source": [
    "other_columns=[\n",
    "'04/04/2016count',\n",
    " '04/05/2016count',\n",
    " '04/06/2016count',\n",
    " '04/07/2016count',\n",
    " '04/08/2016count',\n",
    " '04/09/2016count',\n",
    " '04/10/2016count',\n",
    " '04/11/2016count',\n",
    " '04/12/2016count',\n",
    " '04/13/2016count',\n",
    " '04/14/2016count',\n",
    " '04/15/2016count',\n",
    " '04/16/2016count',\n",
    " '04/17/2016count',\n",
    " '04/18/2016count',\n",
    " '04/19/2016count',\n",
    " '04/20/2016count',\n",
    " '04/21/2016count',\n",
    " '04/22/2016count',\n",
    " '04/23/2016count',\n",
    " '04/24/2016count',\n",
    " '04/25/2016count',\n",
    " '04/26/2016count',\n",
    " '04/27/2016count',\n",
    " '04/28/2016count',\n",
    " '04/29/2016count',\n",
    " '04/30/2016count',\n",
    " '05/01/2016count',\n",
    " '05/02/2016count',\n",
    " '05/03/2016count',\n",
    " '05/04/2016count',\n",
    " '05/05/2016count',\n",
    " '05/06/2016count',\n",
    " '05/07/2016count',\n",
    " '05/08/2016count',\n",
    " '05/09/2016count',\n",
    " '05/10/2016count',\n",
    " '05/11/2016count',\n",
    " '05/12/2016count',\n",
    " '05/13/2016count',\n",
    " '05/14/2016count',\n",
    " '05/15/2016count',\n",
    " '05/16/2016count',\n",
    " '05/17/2016count',\n",
    " '05/18/2016count',\n",
    " '05/19/2016count',\n",
    " '05/20/2016count',\n",
    " '05/21/2016count',\n",
    " '05/22/2016count',\n",
    " '05/23/2016count',\n",
    " '05/24/2016count',\n",
    " '05/25/2016count',\n",
    " '05/26/2016count',\n",
    " '05/27/2016count',\n",
    " '05/28/2016count',\n",
    " '05/29/2016count',\n",
    " '05/30/2016count',\n",
    " '05/31/2016count',\n",
    " '06/01/2016count',\n",
    " '06/02/2016count',\n",
    " '06/03/2016count',\n",
    " '06/04/2016count',\n",
    " '06/05/2016count',\n",
    " '06/06/2016count',\n",
    " '06/07/2016count',\n",
    " '06/08/2016count',\n",
    " '06/09/2016count',\n",
    " '06/10/2016count',\n",
    " '06/11/2016count',\n",
    " '06/12/2016count']"
   ]
  },
  {
   "cell_type": "code",
   "execution_count": 57,
   "metadata": {},
   "outputs": [],
   "source": [
    "counts=[]"
   ]
  },
  {
   "cell_type": "code",
   "execution_count": 58,
   "metadata": {},
   "outputs": [],
   "source": [
    "for i in range(len(data)):\n",
    "    count=0\n",
    "    for j in other_columns:\n",
    "        if not np.isnan(data[j].iloc[i]):\n",
    "            count+=data[j].iloc[i]\n",
    "    counts.append(count)"
   ]
  },
  {
   "cell_type": "code",
   "execution_count": 59,
   "metadata": {},
   "outputs": [
    {
     "data": {
      "text/plain": [
       "0"
      ]
     },
     "execution_count": 59,
     "metadata": {},
     "output_type": "execute_result"
    }
   ],
   "source": [
    "count"
   ]
  },
  {
   "cell_type": "code",
   "execution_count": 60,
   "metadata": {},
   "outputs": [
    {
     "data": {
      "text/plain": [
       "473628"
      ]
     },
     "execution_count": 60,
     "metadata": {},
     "output_type": "execute_result"
    }
   ],
   "source": [
    "len(counts)"
   ]
  },
  {
   "cell_type": "code",
   "execution_count": 61,
   "metadata": {},
   "outputs": [],
   "source": [
    "all_=data[my_cols]"
   ]
  },
  {
   "cell_type": "code",
   "execution_count": 62,
   "metadata": {},
   "outputs": [
    {
     "data": {
      "text/plain": [
       "473628"
      ]
     },
     "execution_count": 62,
     "metadata": {},
     "output_type": "execute_result"
    }
   ],
   "source": [
    "len(all_)"
   ]
  },
  {
   "cell_type": "code",
   "execution_count": 63,
   "metadata": {},
   "outputs": [],
   "source": [
    "all_=all_.fillna(0)"
   ]
  },
  {
   "cell_type": "code",
   "execution_count": 64,
   "metadata": {},
   "outputs": [],
   "source": [
    "all_.to_csv('training_coupon_set_2.csv',index=False)"
   ]
  },
  {
   "cell_type": "code",
   "execution_count": null,
   "metadata": {},
   "outputs": [],
   "source": []
  }
 ],
 "metadata": {
  "kernelspec": {
   "display_name": "Python 3",
   "language": "python",
   "name": "python3"
  },
  "language_info": {
   "codemirror_mode": {
    "name": "ipython",
    "version": 3
   },
   "file_extension": ".py",
   "mimetype": "text/x-python",
   "name": "python",
   "nbconvert_exporter": "python",
   "pygments_lexer": "ipython3",
   "version": "3.6.6"
  }
 },
 "nbformat": 4,
 "nbformat_minor": 2
}
