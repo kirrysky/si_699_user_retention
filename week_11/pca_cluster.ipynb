{
 "cells": [
  {
   "cell_type": "markdown",
   "metadata": {},
   "source": [
    "# PCA&Cluster\n",
    "\n",
    "- Author: Wen Xin\n",
    "- Description: This file means that I use pca and clusters to generate new features for our model. "
   ]
  },
  {
   "cell_type": "code",
   "execution_count": 2,
   "metadata": {},
   "outputs": [],
   "source": [
    "import numpy as np\n",
    "import pandas as pd\n",
    "import matplotlib.pyplot as plt\n",
    "import seaborn as sns \n",
    "import warnings\n",
    "warnings.filterwarnings(\"ignore\")"
   ]
  },
  {
   "cell_type": "code",
   "execution_count": 5,
   "metadata": {},
   "outputs": [],
   "source": [
    "train=pd.read_csv('train.csv')"
   ]
  },
  {
   "cell_type": "code",
   "execution_count": 6,
   "metadata": {},
   "outputs": [],
   "source": [
    "columns=list(train.columns)"
   ]
  },
  {
   "cell_type": "code",
   "execution_count": 7,
   "metadata": {},
   "outputs": [],
   "source": [
    "columns.remove('label')"
   ]
  },
  {
   "cell_type": "code",
   "execution_count": 8,
   "metadata": {},
   "outputs": [
    {
     "data": {
      "text/plain": [
       "(153484, 123)"
      ]
     },
     "execution_count": 8,
     "metadata": {},
     "output_type": "execute_result"
    }
   ],
   "source": [
    "train.shape"
   ]
  },
  {
   "cell_type": "code",
   "execution_count": 9,
   "metadata": {},
   "outputs": [],
   "source": [
    "from sklearn.preprocessing import StandardScaler"
   ]
  },
  {
   "cell_type": "code",
   "execution_count": 10,
   "metadata": {},
   "outputs": [],
   "source": [
    "scaler = StandardScaler()"
   ]
  },
  {
   "cell_type": "code",
   "execution_count": 35,
   "metadata": {},
   "outputs": [],
   "source": [
    "train_scaled=scaler.fit_transform(train[columns])"
   ]
  },
  {
   "cell_type": "code",
   "execution_count": 36,
   "metadata": {},
   "outputs": [],
   "source": [
    "import sklearn.decomposition as skd"
   ]
  },
  {
   "cell_type": "code",
   "execution_count": 37,
   "metadata": {},
   "outputs": [],
   "source": [
    "pca = skd.PCA()"
   ]
  },
  {
   "cell_type": "code",
   "execution_count": 38,
   "metadata": {},
   "outputs": [],
   "source": [
    "train_pcad = pca.fit_transform(train_scaled)"
   ]
  },
  {
   "cell_type": "code",
   "execution_count": 39,
   "metadata": {},
   "outputs": [],
   "source": [
    "import matplotlib.pyplot as plt"
   ]
  },
  {
   "cell_type": "code",
   "execution_count": 41,
   "metadata": {},
   "outputs": [
    {
     "data": {
      "text/plain": [
       "[<matplotlib.lines.Line2D at 0x1a18f2f0f0>]"
      ]
     },
     "execution_count": 41,
     "metadata": {},
     "output_type": "execute_result"
    },
    {
     "data": {
      "image/png": "[encoded data removed]",
      "text/plain": [
       "<Figure size 432x288 with 1 Axes>"
      ]
     },
     "metadata": {
      "needs_background": "light"
     },
     "output_type": "display_data"
    }
   ],
   "source": [
    "plt.plot(range(1,123),pca.explained_variance_,'b-o')"
   ]
  },
  {
   "cell_type": "code",
   "execution_count": 42,
   "metadata": {},
   "outputs": [
    {
     "data": {
      "text/plain": [
       "[<matplotlib.lines.Line2D at 0x1a18fe0eb8>]"
      ]
     },
     "execution_count": 42,
     "metadata": {},
     "output_type": "execute_result"
    },
    {
     "data": {
      "image/png": "[encoded data removed]",
      "text/plain": [
       "<Figure size 432x288 with 1 Axes>"
      ]
     },
     "metadata": {
      "needs_background": "light"
     },
     "output_type": "display_data"
    }
   ],
   "source": [
    "plt.plot(range(1,123),pca.explained_variance_ratio_,'b-o')"
   ]
  },
  {
   "cell_type": "code",
   "execution_count": 43,
   "metadata": {},
   "outputs": [],
   "source": [
    "pca_components=pd.DataFrame(train_pcad)[[0,1,2,3,4]]"
   ]
  },
  {
   "cell_type": "code",
   "execution_count": 44,
   "metadata": {},
   "outputs": [],
   "source": [
    "pca_components.columns=['pca_1','pca_2','pca_3','pca_4','pca_5']"
   ]
  },
  {
   "cell_type": "code",
   "execution_count": 45,
   "metadata": {},
   "outputs": [],
   "source": [
    "pca_columns=['pca_1','pca_2','pca_3','pca_4','pca_5']"
   ]
  },
  {
   "cell_type": "code",
   "execution_count": 46,
   "metadata": {},
   "outputs": [
    {
     "data": {
      "text/html": [
       "<div>\n",
       "<style scoped>\n",
       "    .dataframe tbody tr th:only-of-type {\n",
       "        vertical-align: middle;\n",
       "    }\n",
       "\n",
       "    .dataframe tbody tr th {\n",
       "        vertical-align: top;\n",
       "    }\n",
       "\n",
       "    .dataframe thead th {\n",
       "        text-align: right;\n",
       "    }\n",
       "</style>\n",
       "<table border=\"1\" class=\"dataframe\">\n",
       "  <thead>\n",
       "    <tr style=\"text-align: right;\">\n",
       "      <th></th>\n",
       "      <th>pca_1</th>\n",
       "      <th>pca_2</th>\n",
       "      <th>pca_3</th>\n",
       "      <th>pca_4</th>\n",
       "      <th>pca_5</th>\n",
       "    </tr>\n",
       "  </thead>\n",
       "  <tbody>\n",
       "    <tr>\n",
       "      <th>pca_1</th>\n",
       "      <td>1.000000e+00</td>\n",
       "      <td>1.640448e-15</td>\n",
       "      <td>-6.168308e-16</td>\n",
       "      <td>-1.813296e-15</td>\n",
       "      <td>-4.432454e-16</td>\n",
       "    </tr>\n",
       "    <tr>\n",
       "      <th>pca_2</th>\n",
       "      <td>1.640448e-15</td>\n",
       "      <td>1.000000e+00</td>\n",
       "      <td>-4.200290e-16</td>\n",
       "      <td>7.946634e-17</td>\n",
       "      <td>5.087783e-19</td>\n",
       "    </tr>\n",
       "    <tr>\n",
       "      <th>pca_3</th>\n",
       "      <td>-6.168308e-16</td>\n",
       "      <td>-4.200290e-16</td>\n",
       "      <td>1.000000e+00</td>\n",
       "      <td>1.505063e-16</td>\n",
       "      <td>-1.700886e-16</td>\n",
       "    </tr>\n",
       "    <tr>\n",
       "      <th>pca_4</th>\n",
       "      <td>-1.813296e-15</td>\n",
       "      <td>7.946634e-17</td>\n",
       "      <td>1.505063e-16</td>\n",
       "      <td>1.000000e+00</td>\n",
       "      <td>6.832165e-16</td>\n",
       "    </tr>\n",
       "    <tr>\n",
       "      <th>pca_5</th>\n",
       "      <td>-4.432454e-16</td>\n",
       "      <td>5.087783e-19</td>\n",
       "      <td>-1.700886e-16</td>\n",
       "      <td>6.832165e-16</td>\n",
       "      <td>1.000000e+00</td>\n",
       "    </tr>\n",
       "  </tbody>\n",
       "</table>\n",
       "</div>"
      ],
      "text/plain": [
       "              pca_1         pca_2         pca_3         pca_4         pca_5\n",
       "pca_1  1.000000e+00  1.640448e-15 -6.168308e-16 -1.813296e-15 -4.432454e-16\n",
       "pca_2  1.640448e-15  1.000000e+00 -4.200290e-16  7.946634e-17  5.087783e-19\n",
       "pca_3 -6.168308e-16 -4.200290e-16  1.000000e+00  1.505063e-16 -1.700886e-16\n",
       "pca_4 -1.813296e-15  7.946634e-17  1.505063e-16  1.000000e+00  6.832165e-16\n",
       "pca_5 -4.432454e-16  5.087783e-19 -1.700886e-16  6.832165e-16  1.000000e+00"
      ]
     },
     "execution_count": 46,
     "metadata": {},
     "output_type": "execute_result"
    }
   ],
   "source": [
    "pca_components.corr()"
   ]
  },
  {
   "cell_type": "code",
   "execution_count": 47,
   "metadata": {},
   "outputs": [],
   "source": [
    "for c in pca_columns:\n",
    "    train[c]=pca_components[c]"
   ]
  },
  {
   "cell_type": "code",
   "execution_count": 48,
   "metadata": {},
   "outputs": [
    {
     "name": "stdout",
     "output_type": "stream",
     "text": [
      "2\n",
      "3\n",
      "4\n",
      "5\n",
      "6\n",
      "7\n",
      "8\n",
      "9\n"
     ]
    }
   ],
   "source": [
    "from sklearn import metrics\n",
    "from sklearn.cluster import KMeans\n",
    "\n",
    "# Insert your code here\n",
    "elbows=[]\n",
    "sihouttes=[]\n",
    "for i in range(2,10):\n",
    "    print(i)\n",
    "    k_means = KMeans(init='k-means++', n_clusters=i, n_init=10)\n",
    "    k_means.fit(train_scaled)\n",
    "    elbows.append(k_means.inertia_)\n",
    "    sihouttes.append(metrics.silhouette_score(train_scaled,k_means.labels_))\n",
    "    \n",
    "elbows_frame = pd.DataFrame(elbows,index=[i for i in range(2,10)],columns=['eblow'])\n",
    "sihouttes_frame = pd.DataFrame(sihouttes,index=[i for i in range(2,10)],columns=['sihoutte'])"
   ]
  },
  {
   "cell_type": "code",
   "execution_count": 49,
   "metadata": {},
   "outputs": [],
   "source": [
    "import seaborn as sns"
   ]
  },
  {
   "cell_type": "code",
   "execution_count": 50,
   "metadata": {},
   "outputs": [
    {
     "data": {
      "image/png": "[encoded data removed]",
      "text/plain": [
       "<Figure size 432x288 with 1 Axes>"
      ]
     },
     "metadata": {
      "needs_background": "light"
     },
     "output_type": "display_data"
    }
   ],
   "source": [
    "#eblow\n",
    "fig=sns.lineplot(data=(elbows_frame))"
   ]
  },
  {
   "cell_type": "code",
   "execution_count": 51,
   "metadata": {},
   "outputs": [
    {
     "data": {
      "image/png": "[encoded data removed]",
      "text/plain": [
       "<Figure size 432x288 with 1 Axes>"
      ]
     },
     "metadata": {
      "needs_background": "light"
     },
     "output_type": "display_data"
    }
   ],
   "source": [
    "#sihoutte\n",
    "fig=sns.lineplot(data=(sihouttes_frame))"
   ]
  },
  {
   "cell_type": "code",
   "execution_count": 55,
   "metadata": {},
   "outputs": [
    {
     "data": {
      "text/plain": [
       "array([0, 0, 3, ..., 3, 3, 0], dtype=int32)"
      ]
     },
     "execution_count": 55,
     "metadata": {},
     "output_type": "execute_result"
    }
   ],
   "source": [
    "k_means = KMeans(init='k-means++', n_clusters=4, n_init=10)\n",
    "k_means.fit(train_scaled)\n",
    "k_means.labels_"
   ]
  },
  {
   "cell_type": "code",
   "execution_count": 56,
   "metadata": {},
   "outputs": [],
   "source": [
    "train['cluster']=np.array(k_means.labels_)"
   ]
  },
  {
   "cell_type": "code",
   "execution_count": 57,
   "metadata": {},
   "outputs": [
    {
     "data": {
      "text/plain": [
       "['order_sd',\n",
       " 'active_days',\n",
       " 'lastgap',\n",
       " 'avg_gap',\n",
       " 'min_gap',\n",
       " 'max_gap',\n",
       " 'w1_total_orders',\n",
       " 'w2_total_orders',\n",
       " 'w3_total_orders',\n",
       " 'w4_total_orders',\n",
       " 'w5_total_orders',\n",
       " 'w6_total_orders',\n",
       " 'w7_total_orders',\n",
       " 'label',\n",
       " 'first_order',\n",
       " 'last_order',\n",
       " 'accountLength',\n",
       " 'overall_time_mean',\n",
       " 'update2create_time_mean',\n",
       " 'send2update_time_mean',\n",
       " 'overall_time_min',\n",
       " 'update2create_time_min',\n",
       " 'send2update_time_min',\n",
       " 'overall_time_max',\n",
       " 'update2create_time_max',\n",
       " 'send2update_time_max',\n",
       " 'intime_rate',\n",
       " 'last_coupon_fee',\n",
       " 'last_send_type',\n",
       " 'order_nums',\n",
       " 'city_id',\n",
       " 'sex',\n",
       " 'age',\n",
       " 'login_platform_b',\n",
       " 'app_version_b',\n",
       " 'age_na',\n",
       " 'lastgap_na',\n",
       " 'avg_gap_na',\n",
       " 'min_gap_na',\n",
       " 'max_gap_na',\n",
       " 'overall_time_mean_na',\n",
       " 'update2create_time_mean_na',\n",
       " 'send2update_time_mean_na',\n",
       " 'overall_time_min_na',\n",
       " 'update2create_time_min_na',\n",
       " 'send2update_time_min_na',\n",
       " 'overall_time_max_na',\n",
       " 'update2create_time_max_na',\n",
       " 'send2update_time_max_na',\n",
       " 'w1_avg_couponworth',\n",
       " 'w2_avg_couponworth',\n",
       " 'w3_avg_couponworth',\n",
       " 'w4_avg_couponworth',\n",
       " 'w5_avg_couponworth',\n",
       " 'w6_avg_couponworth',\n",
       " 'w7_avg_couponworth',\n",
       " 'w1_max_couponworth',\n",
       " 'w2_max_couponworth',\n",
       " 'w3_max_couponworth',\n",
       " 'w4_max_couponworth',\n",
       " 'w5_max_couponworth',\n",
       " 'w6_max_couponworth',\n",
       " 'w7_max_couponworth',\n",
       " 'log_order_sd',\n",
       " 'log_active_days',\n",
       " 'log_total_orders',\n",
       " 'log_w1_total_orders',\n",
       " 'log_w2_total_orders',\n",
       " 'log_w3_total_orders',\n",
       " 'log_w4_total_orders',\n",
       " 'log_w5_total_orders',\n",
       " 'log_w6_total_orders',\n",
       " 'log_w7_total_orders',\n",
       " 'log_first_order',\n",
       " 'log_last_order',\n",
       " 'log_accountLength',\n",
       " 'log_overall_time_mean',\n",
       " 'log_overall_time_min',\n",
       " 'log_overall_time_max',\n",
       " 'log_intime_rate',\n",
       " 'log_last_coupon_fee',\n",
       " 'log_order_nums',\n",
       " 'log_w1_avg_couponworth',\n",
       " 'log_w2_avg_couponworth',\n",
       " 'log_w3_avg_couponworth',\n",
       " 'log_w4_avg_couponworth',\n",
       " 'log_w5_avg_couponworth',\n",
       " 'log_w6_avg_couponworth',\n",
       " 'log_w7_avg_couponworth',\n",
       " 'log_w1_max_couponworth',\n",
       " 'log_w2_max_couponworth',\n",
       " 'log_w3_max_couponworth',\n",
       " 'log_w4_max_couponworth',\n",
       " 'log_w5_max_couponworth',\n",
       " 'log_w6_max_couponworth',\n",
       " 'log_w7_max_couponworth',\n",
       " 'dummy_log_lastgap',\n",
       " 'log_lastgap',\n",
       " 'dummy_log_avg_gap',\n",
       " 'log_avg_gap',\n",
       " 'dummy_log_min_gap',\n",
       " 'log_min_gap',\n",
       " 'dummy_log_max_gap',\n",
       " 'log_max_gap',\n",
       " 'dummy_log_update2create_time_mean',\n",
       " 'log_update2create_time_mean',\n",
       " 'dummy_log_send2update_time_mean',\n",
       " 'log_send2update_time_mean',\n",
       " 'dummy_log_update2create_time_min',\n",
       " 'log_update2create_time_min',\n",
       " 'dummy_log_send2update_time_min',\n",
       " 'log_send2update_time_min',\n",
       " 'dummy_log_update2create_time_max',\n",
       " 'log_update2create_time_max',\n",
       " 'dummy_log_send2update_time_max',\n",
       " 'log_send2update_time_max',\n",
       " 'kitchen_royalty',\n",
       " 'staple_price',\n",
       " 'like_num',\n",
       " 'dummy_like_num',\n",
       " 'dummy_has_kitchen_info',\n",
       " 'dummy_staple_price',\n",
       " 'comment_perc',\n",
       " 'cluster',\n",
       " 'pca_1',\n",
       " 'pca_2',\n",
       " 'pca_3',\n",
       " 'pca_4',\n",
       " 'pca_5']"
      ]
     },
     "execution_count": 57,
     "metadata": {},
     "output_type": "execute_result"
    }
   ],
   "source": [
    "list(train.columns)"
   ]
  },
  {
   "cell_type": "code",
   "execution_count": 5,
   "metadata": {},
   "outputs": [],
   "source": [
    "test=pd.read_csv('test.csv')"
   ]
  },
  {
   "cell_type": "code",
   "execution_count": 6,
   "metadata": {},
   "outputs": [
    {
     "data": {
      "text/plain": [
       "38371"
      ]
     },
     "execution_count": 6,
     "metadata": {},
     "output_type": "execute_result"
    }
   ],
   "source": [
    "len(test)"
   ]
  },
  {
   "cell_type": "code",
   "execution_count": 59,
   "metadata": {},
   "outputs": [],
   "source": [
    "from sklearn.preprocessing import StandardScaler"
   ]
  },
  {
   "cell_type": "code",
   "execution_count": 60,
   "metadata": {},
   "outputs": [],
   "source": [
    "scaler = StandardScaler()"
   ]
  },
  {
   "cell_type": "code",
   "execution_count": 61,
   "metadata": {},
   "outputs": [],
   "source": [
    "test_scaled=scaler.fit_transform(test[columns])"
   ]
  },
  {
   "cell_type": "code",
   "execution_count": 63,
   "metadata": {},
   "outputs": [],
   "source": [
    "test_pcad = pca.transform(test_scaled)"
   ]
  },
  {
   "cell_type": "code",
   "execution_count": 64,
   "metadata": {},
   "outputs": [],
   "source": [
    "pca_components=pd.DataFrame(test_pcad)[[0,1,2,3,4]]"
   ]
  },
  {
   "cell_type": "code",
   "execution_count": 65,
   "metadata": {},
   "outputs": [],
   "source": [
    "pca_components.columns=['pca_1','pca_2','pca_3','pca_4','pca_5']"
   ]
  },
  {
   "cell_type": "code",
   "execution_count": 66,
   "metadata": {},
   "outputs": [],
   "source": [
    "for c in pca_columns:\n",
    "    test[c]=pca_components[c]"
   ]
  },
  {
   "cell_type": "code",
   "execution_count": 68,
   "metadata": {},
   "outputs": [],
   "source": [
    "test['cluster']=k_means.predict(test_scaled)"
   ]
  },
  {
   "cell_type": "code",
   "execution_count": 69,
   "metadata": {},
   "outputs": [],
   "source": [
    "train.to_csv(\"train_transfer.csv\",index=False)"
   ]
  },
  {
   "cell_type": "code",
   "execution_count": 70,
   "metadata": {},
   "outputs": [],
   "source": [
    "test.to_csv(\"test_transfer.csv\",index=False)"
   ]
  },
  {
   "cell_type": "code",
   "execution_count": null,
   "metadata": {},
   "outputs": [],
   "source": []
  }
 ],
 "metadata": {
  "kernelspec": {
   "display_name": "Python 3",
   "language": "python",
   "name": "python3"
  },
  "language_info": {
   "codemirror_mode": {
    "name": "ipython",
    "version": 3
   },
   "file_extension": ".py",
   "mimetype": "text/x-python",
   "name": "python",
   "nbconvert_exporter": "python",
   "pygments_lexer": "ipython3",
   "version": "3.6.6"
  }
 },
 "nbformat": 4,
 "nbformat_minor": 2
}
