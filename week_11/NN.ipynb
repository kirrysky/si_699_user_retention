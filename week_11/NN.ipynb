{
 "cells": [
  {
   "cell_type": "markdown",
   "metadata": {},
   "source": [
    "# NN\n",
    "\n",
    "- Author: Wen Xin\n",
    "- Description: This file means that I use NN(Nerual Network) as model."
   ]
  },
  {
   "cell_type": "code",
   "execution_count": 9,
   "metadata": {},
   "outputs": [],
   "source": [
    "import pandas as pd\n",
    "import numpy as np\n",
    "import matplotlib.pyplot as plt\n",
    "import warnings\n",
    "warnings.filterwarnings(\"ignore\")"
   ]
  },
  {
   "cell_type": "code",
   "execution_count": 10,
   "metadata": {},
   "outputs": [],
   "source": [
    "from sklearn.model_selection import train_test_split"
   ]
  },
  {
   "cell_type": "code",
   "execution_count": 11,
   "metadata": {},
   "outputs": [],
   "source": [
    "data=pd.read_csv('training_set.csv')"
   ]
  },
  {
   "cell_type": "code",
   "execution_count": 12,
   "metadata": {},
   "outputs": [],
   "source": [
    "X=data\n",
    "y=data['label1']\n",
    "#先删了吧= 。 =晚点再处理\n",
    "X=X.drop(['label1'],axis=1)"
   ]
  },
  {
   "cell_type": "code",
   "execution_count": 13,
   "metadata": {},
   "outputs": [],
   "source": [
    "X_train,X_test,y_train,y_test = train_test_split(X,y,test_size=0.2,random_state=42)"
   ]
  },
  {
   "cell_type": "code",
   "execution_count": 31,
   "metadata": {},
   "outputs": [],
   "source": [
    "import keras\n",
    "from keras.models import Sequential\n",
    "from keras.layers import Dense,Dropout"
   ]
  },
  {
   "cell_type": "code",
   "execution_count": 32,
   "metadata": {},
   "outputs": [],
   "source": [
    "classifier = Sequential()"
   ]
  },
  {
   "cell_type": "code",
   "execution_count": 40,
   "metadata": {},
   "outputs": [],
   "source": [
    "classifier.add(Dense(output_dim = 32, init = 'uniform', activation = 'relu', input_dim = 70))\n",
    "classifier.add(Dropout(0.1))\n",
    "classifier.add(Dense(output_dim = 8, init = 'uniform', activation = 'relu'))\n",
    "# classifier.add(Dropout(0.1))\n",
    "classifier.add(Dense(output_dim = 1, init = 'uniform', activation = 'sigmoid'))"
   ]
  },
  {
   "cell_type": "code",
   "execution_count": 41,
   "metadata": {},
   "outputs": [],
   "source": [
    "classifier.compile(optimizer = 'adam', loss = 'binary_crossentropy', metrics = ['accuracy'])"
   ]
  },
  {
   "cell_type": "code",
   "execution_count": 42,
   "metadata": {},
   "outputs": [
    {
     "name": "stdout",
     "output_type": "stream",
     "text": [
      "Epoch 1/30\n",
      "207609/207609 [==============================] - 4s 19us/step - loss: 0.5567 - acc: 0.7282\n",
      "Epoch 2/30\n",
      "207609/207609 [==============================] - 4s 18us/step - loss: 0.4864 - acc: 0.7807\n",
      "Epoch 3/30\n",
      "207609/207609 [==============================] - 4s 19us/step - loss: 0.4773 - acc: 0.7817\n",
      "Epoch 4/30\n",
      "207609/207609 [==============================] - 4s 18us/step - loss: 0.4736 - acc: 0.7826\n",
      "Epoch 5/30\n",
      "207609/207609 [==============================] - 4s 18us/step - loss: 0.4715 - acc: 0.7822\n",
      "Epoch 6/30\n",
      "207609/207609 [==============================] - 4s 17us/step - loss: 0.4695 - acc: 0.7835\n",
      "Epoch 7/30\n",
      "207609/207609 [==============================] - 4s 19us/step - loss: 0.4679 - acc: 0.7833\n",
      "Epoch 8/30\n",
      "207609/207609 [==============================] - 4s 20us/step - loss: 0.4670 - acc: 0.7842\n",
      "Epoch 9/30\n",
      "207609/207609 [==============================] - 4s 18us/step - loss: 0.4650 - acc: 0.7853\n",
      "Epoch 10/30\n",
      "207609/207609 [==============================] - 4s 21us/step - loss: 0.4638 - acc: 0.7858\n",
      "Epoch 11/30\n",
      "207609/207609 [==============================] - 4s 17us/step - loss: 0.4630 - acc: 0.7866\n",
      "Epoch 12/30\n",
      "207609/207609 [==============================] - 4s 19us/step - loss: 0.4623 - acc: 0.7863\n",
      "Epoch 13/30\n",
      "207609/207609 [==============================] - 4s 18us/step - loss: 0.4617 - acc: 0.7867\n",
      "Epoch 14/30\n",
      "207609/207609 [==============================] - 4s 18us/step - loss: 0.4612 - acc: 0.7870\n",
      "Epoch 15/30\n",
      "207609/207609 [==============================] - 4s 18us/step - loss: 0.4607 - acc: 0.7876\n",
      "Epoch 16/30\n",
      "207609/207609 [==============================] - 3s 16us/step - loss: 0.4607 - acc: 0.7864\n",
      "Epoch 17/30\n",
      "207609/207609 [==============================] - 3s 17us/step - loss: 0.4601 - acc: 0.7874\n",
      "Epoch 18/30\n",
      "207609/207609 [==============================] - 4s 18us/step - loss: 0.4596 - acc: 0.7877\n",
      "Epoch 19/30\n",
      "207609/207609 [==============================] - 4s 18us/step - loss: 0.4600 - acc: 0.7874\n",
      "Epoch 20/30\n",
      "207609/207609 [==============================] - 3s 17us/step - loss: 0.4593 - acc: 0.7873\n",
      "Epoch 21/30\n",
      "207609/207609 [==============================] - 3s 16us/step - loss: 0.4593 - acc: 0.7875\n",
      "Epoch 22/30\n",
      "207609/207609 [==============================] - 3s 16us/step - loss: 0.4588 - acc: 0.7881\n",
      "Epoch 23/30\n",
      "207609/207609 [==============================] - 3s 16us/step - loss: 0.4587 - acc: 0.7871\n",
      "Epoch 24/30\n",
      "207609/207609 [==============================] - 3s 17us/step - loss: 0.4583 - acc: 0.7881\n",
      "Epoch 25/30\n",
      "207609/207609 [==============================] - 3s 16us/step - loss: 0.4582 - acc: 0.7877\n",
      "Epoch 26/30\n",
      "207609/207609 [==============================] - 3s 17us/step - loss: 0.4586 - acc: 0.7882\n",
      "Epoch 27/30\n",
      "207609/207609 [==============================] - 4s 17us/step - loss: 0.4578 - acc: 0.7882\n",
      "Epoch 28/30\n",
      "207609/207609 [==============================] - 4s 19us/step - loss: 0.4578 - acc: 0.7878\n",
      "Epoch 29/30\n",
      "207609/207609 [==============================] - 4s 17us/step - loss: 0.4574 - acc: 0.7888\n",
      "Epoch 30/30\n",
      "207609/207609 [==============================] - 3s 16us/step - loss: 0.4568 - acc: 0.7898\n"
     ]
    },
    {
     "data": {
      "text/plain": [
       "<keras.callbacks.History at 0x1a203620f0>"
      ]
     },
     "execution_count": 42,
     "metadata": {},
     "output_type": "execute_result"
    }
   ],
   "source": [
    "classifier.fit(X_train, y_train, batch_size = 128, nb_epoch = 30)"
   ]
  },
  {
   "cell_type": "code",
   "execution_count": 43,
   "metadata": {},
   "outputs": [
    {
     "data": {
      "text/plain": [
       "array([[0.75562376],\n",
       "       [0.55733955],\n",
       "       [0.6543647 ],\n",
       "       ...,\n",
       "       [0.17916529],\n",
       "       [0.21169172],\n",
       "       [0.16604145]], dtype=float32)"
      ]
     },
     "execution_count": 43,
     "metadata": {},
     "output_type": "execute_result"
    }
   ],
   "source": [
    "classifier.predict(X_test)"
   ]
  },
  {
   "cell_type": "code",
   "execution_count": 44,
   "metadata": {},
   "outputs": [],
   "source": [
    "from sklearn.metrics import roc_auc_score"
   ]
  },
  {
   "cell_type": "code",
   "execution_count": 45,
   "metadata": {},
   "outputs": [
    {
     "data": {
      "text/plain": [
       "0.8688684643158487"
      ]
     },
     "execution_count": 45,
     "metadata": {},
     "output_type": "execute_result"
    }
   ],
   "source": [
    "roc_auc_score(y_train,classifier.predict(X_train))"
   ]
  },
  {
   "cell_type": "code",
   "execution_count": 46,
   "metadata": {},
   "outputs": [
    {
     "data": {
      "text/plain": [
       "0.8598129538796827"
      ]
     },
     "execution_count": 46,
     "metadata": {},
     "output_type": "execute_result"
    }
   ],
   "source": [
    "roc_auc_score(y_test,classifier.predict(X_test))"
   ]
  },
  {
   "cell_type": "code",
   "execution_count": 48,
   "metadata": {},
   "outputs": [],
   "source": [
    "pd.DataFrame(classifier.predict(X_test)).to_csv(\"nn_pred.csv\",index=False)"
   ]
  },
  {
   "cell_type": "code",
   "execution_count": null,
   "metadata": {},
   "outputs": [],
   "source": []
  }
 ],
 "metadata": {
  "kernelspec": {
   "display_name": "Python 3",
   "language": "python",
   "name": "python3"
  },
  "language_info": {
   "codemirror_mode": {
    "name": "ipython",
    "version": 3
   },
   "file_extension": ".py",
   "mimetype": "text/x-python",
   "name": "python",
   "nbconvert_exporter": "python",
   "pygments_lexer": "ipython3",
   "version": "3.6.6"
  }
 },
 "nbformat": 4,
 "nbformat_minor": 2
}
