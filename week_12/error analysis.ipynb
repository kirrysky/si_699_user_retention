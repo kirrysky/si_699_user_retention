{
 "cells": [
  {
   "cell_type": "code",
   "execution_count": 26,
   "metadata": {
    "collapsed": true
   },
   "outputs": [],
   "source": [
    "import pandas as pd"
   ]
  },
  {
   "cell_type": "code",
   "execution_count": 58,
   "metadata": {
    "collapsed": true
   },
   "outputs": [],
   "source": [
    "data=pd.read_csv('error_analysis_data_set.csv')"
   ]
  },
  {
   "cell_type": "code",
   "execution_count": 59,
   "metadata": {},
   "outputs": [
    {
     "data": {
      "text/html": [
       "<div>\n",
       "<style scoped>\n",
       "    .dataframe tbody tr th:only-of-type {\n",
       "        vertical-align: middle;\n",
       "    }\n",
       "\n",
       "    .dataframe tbody tr th {\n",
       "        vertical-align: top;\n",
       "    }\n",
       "\n",
       "    .dataframe thead th {\n",
       "        text-align: right;\n",
       "    }\n",
       "</style>\n",
       "<table border=\"1\" class=\"dataframe\">\n",
       "  <thead>\n",
       "    <tr style=\"text-align: right;\">\n",
       "      <th></th>\n",
       "      <th>user_id</th>\n",
       "      <th>voting</th>\n",
       "      <th>order_sd</th>\n",
       "      <th>active_days</th>\n",
       "      <th>lastgap</th>\n",
       "      <th>avg_gap</th>\n",
       "      <th>min_gap</th>\n",
       "      <th>max_gap</th>\n",
       "      <th>w1_total_orders</th>\n",
       "      <th>w2_total_orders</th>\n",
       "      <th>...</th>\n",
       "      <th>dummy_like_num</th>\n",
       "      <th>dummy_has_kitchen_info</th>\n",
       "      <th>dummy_staple_price</th>\n",
       "      <th>comment_perc</th>\n",
       "      <th>pca_1</th>\n",
       "      <th>pca_2</th>\n",
       "      <th>pca_3</th>\n",
       "      <th>pca_4</th>\n",
       "      <th>pca_5</th>\n",
       "      <th>cluster</th>\n",
       "    </tr>\n",
       "  </thead>\n",
       "  <tbody>\n",
       "    <tr>\n",
       "      <th>0</th>\n",
       "      <td>100372450</td>\n",
       "      <td>1</td>\n",
       "      <td>0.281963</td>\n",
       "      <td>6</td>\n",
       "      <td>10.0</td>\n",
       "      <td>10.200000</td>\n",
       "      <td>3.0</td>\n",
       "      <td>21.0</td>\n",
       "      <td>1.0</td>\n",
       "      <td>1.0</td>\n",
       "      <td>...</td>\n",
       "      <td>1.0</td>\n",
       "      <td>1</td>\n",
       "      <td>1</td>\n",
       "      <td>0.0</td>\n",
       "      <td>3.409103</td>\n",
       "      <td>-0.149396</td>\n",
       "      <td>1.754331</td>\n",
       "      <td>-3.435309</td>\n",
       "      <td>1.308357</td>\n",
       "      <td>0</td>\n",
       "    </tr>\n",
       "    <tr>\n",
       "      <th>1</th>\n",
       "      <td>101421318</td>\n",
       "      <td>0</td>\n",
       "      <td>0.119523</td>\n",
       "      <td>1</td>\n",
       "      <td>100.0</td>\n",
       "      <td>100.000000</td>\n",
       "      <td>100.0</td>\n",
       "      <td>100.0</td>\n",
       "      <td>0.0</td>\n",
       "      <td>0.0</td>\n",
       "      <td>...</td>\n",
       "      <td>0.0</td>\n",
       "      <td>0</td>\n",
       "      <td>0</td>\n",
       "      <td>0.0</td>\n",
       "      <td>-3.461943</td>\n",
       "      <td>-4.122877</td>\n",
       "      <td>-4.930299</td>\n",
       "      <td>3.696131</td>\n",
       "      <td>1.864631</td>\n",
       "      <td>3</td>\n",
       "    </tr>\n",
       "    <tr>\n",
       "      <th>2</th>\n",
       "      <td>101268720</td>\n",
       "      <td>0</td>\n",
       "      <td>0.302166</td>\n",
       "      <td>7</td>\n",
       "      <td>4.0</td>\n",
       "      <td>7.833333</td>\n",
       "      <td>1.0</td>\n",
       "      <td>36.0</td>\n",
       "      <td>4.0</td>\n",
       "      <td>1.0</td>\n",
       "      <td>...</td>\n",
       "      <td>1.0</td>\n",
       "      <td>1</td>\n",
       "      <td>1</td>\n",
       "      <td>0.0</td>\n",
       "      <td>4.748548</td>\n",
       "      <td>1.475891</td>\n",
       "      <td>1.883121</td>\n",
       "      <td>1.038071</td>\n",
       "      <td>-3.252782</td>\n",
       "      <td>0</td>\n",
       "    </tr>\n",
       "    <tr>\n",
       "      <th>3</th>\n",
       "      <td>100495757</td>\n",
       "      <td>0</td>\n",
       "      <td>0.119523</td>\n",
       "      <td>1</td>\n",
       "      <td>100.0</td>\n",
       "      <td>100.000000</td>\n",
       "      <td>100.0</td>\n",
       "      <td>100.0</td>\n",
       "      <td>0.0</td>\n",
       "      <td>1.0</td>\n",
       "      <td>...</td>\n",
       "      <td>1.0</td>\n",
       "      <td>1</td>\n",
       "      <td>1</td>\n",
       "      <td>0.0</td>\n",
       "      <td>-4.066705</td>\n",
       "      <td>-4.468919</td>\n",
       "      <td>1.303573</td>\n",
       "      <td>0.074750</td>\n",
       "      <td>3.000592</td>\n",
       "      <td>3</td>\n",
       "    </tr>\n",
       "    <tr>\n",
       "      <th>4</th>\n",
       "      <td>100372886</td>\n",
       "      <td>0</td>\n",
       "      <td>0.119523</td>\n",
       "      <td>1</td>\n",
       "      <td>100.0</td>\n",
       "      <td>100.000000</td>\n",
       "      <td>100.0</td>\n",
       "      <td>100.0</td>\n",
       "      <td>1.0</td>\n",
       "      <td>0.0</td>\n",
       "      <td>...</td>\n",
       "      <td>1.0</td>\n",
       "      <td>1</td>\n",
       "      <td>1</td>\n",
       "      <td>0.0</td>\n",
       "      <td>-3.322859</td>\n",
       "      <td>-3.956791</td>\n",
       "      <td>4.966979</td>\n",
       "      <td>2.133271</td>\n",
       "      <td>0.883639</td>\n",
       "      <td>3</td>\n",
       "    </tr>\n",
       "  </tbody>\n",
       "</table>\n",
       "<p>5 rows × 131 columns</p>\n",
       "</div>"
      ],
      "text/plain": [
       "     user_id  voting  order_sd  active_days  lastgap     avg_gap  min_gap  \\\n",
       "0  100372450       1  0.281963            6     10.0   10.200000      3.0   \n",
       "1  101421318       0  0.119523            1    100.0  100.000000    100.0   \n",
       "2  101268720       0  0.302166            7      4.0    7.833333      1.0   \n",
       "3  100495757       0  0.119523            1    100.0  100.000000    100.0   \n",
       "4  100372886       0  0.119523            1    100.0  100.000000    100.0   \n",
       "\n",
       "   max_gap  w1_total_orders  w2_total_orders   ...     dummy_like_num  \\\n",
       "0     21.0              1.0              1.0   ...                1.0   \n",
       "1    100.0              0.0              0.0   ...                0.0   \n",
       "2     36.0              4.0              1.0   ...                1.0   \n",
       "3    100.0              0.0              1.0   ...                1.0   \n",
       "4    100.0              1.0              0.0   ...                1.0   \n",
       "\n",
       "   dummy_has_kitchen_info  dummy_staple_price  comment_perc     pca_1  \\\n",
       "0                       1                   1           0.0  3.409103   \n",
       "1                       0                   0           0.0 -3.461943   \n",
       "2                       1                   1           0.0  4.748548   \n",
       "3                       1                   1           0.0 -4.066705   \n",
       "4                       1                   1           0.0 -3.322859   \n",
       "\n",
       "      pca_2     pca_3     pca_4     pca_5  cluster  \n",
       "0 -0.149396  1.754331 -3.435309  1.308357        0  \n",
       "1 -4.122877 -4.930299  3.696131  1.864631        3  \n",
       "2  1.475891  1.883121  1.038071 -3.252782        0  \n",
       "3 -4.468919  1.303573  0.074750  3.000592        3  \n",
       "4 -3.956791  4.966979  2.133271  0.883639        3  \n",
       "\n",
       "[5 rows x 131 columns]"
      ]
     },
     "execution_count": 59,
     "metadata": {},
     "output_type": "execute_result"
    }
   ],
   "source": [
    "data.head()"
   ]
  },
  {
   "cell_type": "code",
   "execution_count": 60,
   "metadata": {
    "collapsed": true
   },
   "outputs": [],
   "source": [
    "data_falsenegative=data[(data['voting']==0)&(data['label']==1)]"
   ]
  },
  {
   "cell_type": "code",
   "execution_count": 61,
   "metadata": {
    "collapsed": true
   },
   "outputs": [],
   "source": [
    "data_truepositive=data[(data['voting']==1)&(data['label']==1)]"
   ]
  },
  {
   "cell_type": "code",
   "execution_count": 62,
   "metadata": {
    "collapsed": true
   },
   "outputs": [],
   "source": [
    "data_falsepositive=data[(data['voting']==1)&(data['label']==0)]"
   ]
  },
  {
   "cell_type": "code",
   "execution_count": 63,
   "metadata": {
    "collapsed": true
   },
   "outputs": [],
   "source": [
    "data_truenegative=data[(data['voting']==0)&(data['label']==0)]"
   ]
  },
  {
   "cell_type": "code",
   "execution_count": 64,
   "metadata": {},
   "outputs": [
    {
     "name": "stderr",
     "output_type": "stream",
     "text": [
      "/Applications/anaconda3/lib/python3.6/site-packages/IPython/core/interactiveshell.py:2698: DtypeWarning: Columns (4) have mixed types. Specify dtype option on import or set low_memory=False.\n",
      "  interactivity=interactivity, compiler=compiler, result=result)\n"
     ]
    }
   ],
   "source": [
    "daily=pd.read_csv('feature_engineering0212.csv')"
   ]
  },
  {
   "cell_type": "code",
   "execution_count": 65,
   "metadata": {},
   "outputs": [],
   "source": [
    "daily.loc[daily['user_id'].isin(data_falsenegative.user_id.tolist()),'class']='false negative'"
   ]
  },
  {
   "cell_type": "code",
   "execution_count": 66,
   "metadata": {
    "collapsed": true
   },
   "outputs": [],
   "source": [
    "daily.loc[daily['user_id'].isin(data_truepositive.user_id.tolist()),'class']='true positive'"
   ]
  },
  {
   "cell_type": "code",
   "execution_count": 67,
   "metadata": {
    "collapsed": true
   },
   "outputs": [],
   "source": [
    "daily.loc[daily['user_id'].isin(data_falsepositive.user_id.tolist()),'class']='false positive'"
   ]
  },
  {
   "cell_type": "code",
   "execution_count": 68,
   "metadata": {
    "collapsed": true
   },
   "outputs": [],
   "source": [
    "daily.loc[daily['user_id'].isin(data_truenegative.user_id.tolist()),'class']='true negative'"
   ]
  },
  {
   "cell_type": "code",
   "execution_count": 69,
   "metadata": {
    "collapsed": true
   },
   "outputs": [],
   "source": [
    "daily=daily[pd.notnull(daily['class'])]"
   ]
  },
  {
   "cell_type": "code",
   "execution_count": 70,
   "metadata": {},
   "outputs": [],
   "source": [
    "cols=daily.filter(like='count', axis=1).columns.tolist()"
   ]
  },
  {
   "cell_type": "code",
   "execution_count": 71,
   "metadata": {},
   "outputs": [],
   "source": [
    "cols.append('class')"
   ]
  },
  {
   "cell_type": "code",
   "execution_count": 72,
   "metadata": {},
   "outputs": [],
   "source": [
    "#daily[cols].to_csv('error_daily.csv',index=False)\n",
    "temp=daily[cols]"
   ]
  },
  {
   "cell_type": "code",
   "execution_count": 88,
   "metadata": {},
   "outputs": [],
   "source": [
    "dates=[]\n",
    "counts=[]\n",
    "classes=[]"
   ]
  },
  {
   "cell_type": "code",
   "execution_count": 89,
   "metadata": {
    "collapsed": true
   },
   "outputs": [],
   "source": [
    "for date in daily.filter(like='count', axis=1).columns.tolist():\n",
    "    for c in ['false negative','true positive','false positive','true negative']:\n",
    "        dates.append(date)\n",
    "        classes.append(c)\n",
    "        counts.append(temp[temp['class']==c][date].sum()/len(temp[temp['class']==c]))"
   ]
  },
  {
   "cell_type": "code",
   "execution_count": 90,
   "metadata": {},
   "outputs": [],
   "source": [
    "final=pd.DataFrame(columns=['date','count','class'])"
   ]
  },
  {
   "cell_type": "code",
   "execution_count": 91,
   "metadata": {
    "collapsed": true
   },
   "outputs": [],
   "source": [
    "final['date']=dates\n",
    "final['count']=counts\n",
    "final['class']=classes"
   ]
  },
  {
   "cell_type": "code",
   "execution_count": 92,
   "metadata": {
    "collapsed": true
   },
   "outputs": [],
   "source": [
    "final.to_csv('error_daily.csv',index=False)"
   ]
  },
  {
   "cell_type": "code",
   "execution_count": null,
   "metadata": {
    "collapsed": true
   },
   "outputs": [],
   "source": []
  }
 ],
 "metadata": {
  "kernelspec": {
   "display_name": "Python 3",
   "language": "python",
   "name": "python3"
  },
  "language_info": {
   "codemirror_mode": {
    "name": "ipython",
    "version": 3
   },
   "file_extension": ".py",
   "mimetype": "text/x-python",
   "name": "python",
   "nbconvert_exporter": "python",
   "pygments_lexer": "ipython3",
   "version": "3.6.3"
  }
 },
 "nbformat": 4,
 "nbformat_minor": 2
}
