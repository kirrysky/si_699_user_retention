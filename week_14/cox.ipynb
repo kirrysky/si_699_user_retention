{
 "cells": [
  {
   "cell_type": "markdown",
   "metadata": {},
   "source": [
    "# Cox\n",
    "\n",
    "- Author: Wen Xin\n",
    "- Description: This file is about using cox as model to find which day is the most possible day that users will do retention and draw the survival line of it."
   ]
  },
  {
   "cell_type": "code",
   "execution_count": 53,
   "metadata": {},
   "outputs": [],
   "source": [
    "%matplotlib inline\n",
    "%config InlineBackend.figure_format = 'retina'\n",
    "\n",
    "from matplotlib import pyplot as plt\n",
    "from lifelines import CoxPHFitter\n",
    "import numpy as np\n",
    "import pandas as pd\n",
    "from lifelines.datasets import load_rossi\n",
    "\n",
    "plt.style.use('bmh')"
   ]
  },
  {
   "cell_type": "code",
   "execution_count": 54,
   "metadata": {},
   "outputs": [],
   "source": [
    "data=pd.read_csv('new_dataset_w9_final.csv')"
   ]
  },
  {
   "cell_type": "code",
   "execution_count": 55,
   "metadata": {},
   "outputs": [
    {
     "data": {
      "text/html": [
       "<div>\n",
       "<style scoped>\n",
       "    .dataframe tbody tr th:only-of-type {\n",
       "        vertical-align: middle;\n",
       "    }\n",
       "\n",
       "    .dataframe tbody tr th {\n",
       "        vertical-align: top;\n",
       "    }\n",
       "\n",
       "    .dataframe thead th {\n",
       "        text-align: right;\n",
       "    }\n",
       "</style>\n",
       "<table border=\"1\" class=\"dataframe\">\n",
       "  <thead>\n",
       "    <tr style=\"text-align: right;\">\n",
       "      <th></th>\n",
       "      <th>order_sd</th>\n",
       "      <th>active_days</th>\n",
       "      <th>lastgap</th>\n",
       "      <th>avg_gap</th>\n",
       "      <th>min_gap</th>\n",
       "      <th>max_gap</th>\n",
       "      <th>w1_total_orders</th>\n",
       "      <th>w2_total_orders</th>\n",
       "      <th>w3_total_orders</th>\n",
       "      <th>w4_total_orders</th>\n",
       "      <th>...</th>\n",
       "      <th>log_update2create_time_max</th>\n",
       "      <th>dummy_log_send2update_time_max</th>\n",
       "      <th>log_send2update_time_max</th>\n",
       "      <th>kitchen_royalty</th>\n",
       "      <th>staple_price</th>\n",
       "      <th>like_num</th>\n",
       "      <th>dummy_like_num</th>\n",
       "      <th>dummy_has_kitchen_info</th>\n",
       "      <th>dummy_staple_price</th>\n",
       "      <th>comment_perc</th>\n",
       "    </tr>\n",
       "  </thead>\n",
       "  <tbody>\n",
       "    <tr>\n",
       "      <th>0</th>\n",
       "      <td>0.663138</td>\n",
       "      <td>10</td>\n",
       "      <td>3.0</td>\n",
       "      <td>4.888889</td>\n",
       "      <td>1.0</td>\n",
       "      <td>12.0</td>\n",
       "      <td>4.0</td>\n",
       "      <td>2.0</td>\n",
       "      <td>2.0</td>\n",
       "      <td>6.0</td>\n",
       "      <td>...</td>\n",
       "      <td>8.895493</td>\n",
       "      <td>1.0</td>\n",
       "      <td>11.227614</td>\n",
       "      <td>1.875000</td>\n",
       "      <td>2.0</td>\n",
       "      <td>11.0</td>\n",
       "      <td>1.0</td>\n",
       "      <td>1</td>\n",
       "      <td>1</td>\n",
       "      <td>0.250000</td>\n",
       "    </tr>\n",
       "    <tr>\n",
       "      <th>1</th>\n",
       "      <td>0.602960</td>\n",
       "      <td>18</td>\n",
       "      <td>7.0</td>\n",
       "      <td>2.941176</td>\n",
       "      <td>1.0</td>\n",
       "      <td>11.0</td>\n",
       "      <td>8.0</td>\n",
       "      <td>5.0</td>\n",
       "      <td>3.0</td>\n",
       "      <td>1.0</td>\n",
       "      <td>...</td>\n",
       "      <td>11.053031</td>\n",
       "      <td>1.0</td>\n",
       "      <td>11.297663</td>\n",
       "      <td>1.833333</td>\n",
       "      <td>1.0</td>\n",
       "      <td>0.0</td>\n",
       "      <td>0.0</td>\n",
       "      <td>1</td>\n",
       "      <td>1</td>\n",
       "      <td>0.227273</td>\n",
       "    </tr>\n",
       "    <tr>\n",
       "      <th>2</th>\n",
       "      <td>0.391684</td>\n",
       "      <td>13</td>\n",
       "      <td>5.0</td>\n",
       "      <td>4.500000</td>\n",
       "      <td>2.0</td>\n",
       "      <td>12.0</td>\n",
       "      <td>3.0</td>\n",
       "      <td>2.0</td>\n",
       "      <td>2.0</td>\n",
       "      <td>1.0</td>\n",
       "      <td>...</td>\n",
       "      <td>9.829733</td>\n",
       "      <td>1.0</td>\n",
       "      <td>11.237844</td>\n",
       "      <td>2.600000</td>\n",
       "      <td>2.0</td>\n",
       "      <td>116.0</td>\n",
       "      <td>1.0</td>\n",
       "      <td>1</td>\n",
       "      <td>1</td>\n",
       "      <td>0.923077</td>\n",
       "    </tr>\n",
       "    <tr>\n",
       "      <th>3</th>\n",
       "      <td>0.337142</td>\n",
       "      <td>9</td>\n",
       "      <td>5.0</td>\n",
       "      <td>8.625000</td>\n",
       "      <td>1.0</td>\n",
       "      <td>53.0</td>\n",
       "      <td>2.0</td>\n",
       "      <td>0.0</td>\n",
       "      <td>0.0</td>\n",
       "      <td>0.0</td>\n",
       "      <td>...</td>\n",
       "      <td>9.625426</td>\n",
       "      <td>1.0</td>\n",
       "      <td>11.244497</td>\n",
       "      <td>2.250000</td>\n",
       "      <td>3.0</td>\n",
       "      <td>40.0</td>\n",
       "      <td>1.0</td>\n",
       "      <td>1</td>\n",
       "      <td>1</td>\n",
       "      <td>0.000000</td>\n",
       "    </tr>\n",
       "    <tr>\n",
       "      <th>4</th>\n",
       "      <td>0.535490</td>\n",
       "      <td>12</td>\n",
       "      <td>5.0</td>\n",
       "      <td>3.454545</td>\n",
       "      <td>1.0</td>\n",
       "      <td>6.0</td>\n",
       "      <td>0.0</td>\n",
       "      <td>0.0</td>\n",
       "      <td>0.0</td>\n",
       "      <td>2.0</td>\n",
       "      <td>...</td>\n",
       "      <td>8.668712</td>\n",
       "      <td>1.0</td>\n",
       "      <td>11.235207</td>\n",
       "      <td>1.363636</td>\n",
       "      <td>2.0</td>\n",
       "      <td>0.0</td>\n",
       "      <td>0.0</td>\n",
       "      <td>1</td>\n",
       "      <td>1</td>\n",
       "      <td>0.800000</td>\n",
       "    </tr>\n",
       "  </tbody>\n",
       "</table>\n",
       "<p>5 rows × 123 columns</p>\n",
       "</div>"
      ],
      "text/plain": [
       "   order_sd  active_days  lastgap   avg_gap  min_gap  max_gap  \\\n",
       "0  0.663138           10      3.0  4.888889      1.0     12.0   \n",
       "1  0.602960           18      7.0  2.941176      1.0     11.0   \n",
       "2  0.391684           13      5.0  4.500000      2.0     12.0   \n",
       "3  0.337142            9      5.0  8.625000      1.0     53.0   \n",
       "4  0.535490           12      5.0  3.454545      1.0      6.0   \n",
       "\n",
       "   w1_total_orders  w2_total_orders  w3_total_orders  w4_total_orders  ...  \\\n",
       "0              4.0              2.0              2.0              6.0  ...   \n",
       "1              8.0              5.0              3.0              1.0  ...   \n",
       "2              3.0              2.0              2.0              1.0  ...   \n",
       "3              2.0              0.0              0.0              0.0  ...   \n",
       "4              0.0              0.0              0.0              2.0  ...   \n",
       "\n",
       "   log_update2create_time_max  dummy_log_send2update_time_max  \\\n",
       "0                    8.895493                             1.0   \n",
       "1                   11.053031                             1.0   \n",
       "2                    9.829733                             1.0   \n",
       "3                    9.625426                             1.0   \n",
       "4                    8.668712                             1.0   \n",
       "\n",
       "   log_send2update_time_max  kitchen_royalty  staple_price  like_num  \\\n",
       "0                 11.227614         1.875000           2.0      11.0   \n",
       "1                 11.297663         1.833333           1.0       0.0   \n",
       "2                 11.237844         2.600000           2.0     116.0   \n",
       "3                 11.244497         2.250000           3.0      40.0   \n",
       "4                 11.235207         1.363636           2.0       0.0   \n",
       "\n",
       "   dummy_like_num  dummy_has_kitchen_info  dummy_staple_price  comment_perc  \n",
       "0             1.0                       1                   1      0.250000  \n",
       "1             0.0                       1                   1      0.227273  \n",
       "2             1.0                       1                   1      0.923077  \n",
       "3             1.0                       1                   1      0.000000  \n",
       "4             0.0                       1                   1      0.800000  \n",
       "\n",
       "[5 rows x 123 columns]"
      ]
     },
     "execution_count": 55,
     "metadata": {},
     "output_type": "execute_result"
    }
   ],
   "source": [
    "data.head()"
   ]
  },
  {
   "cell_type": "code",
   "execution_count": 56,
   "metadata": {},
   "outputs": [],
   "source": [
    "daily_features=pd.read_csv('daily_features.csv')"
   ]
  },
  {
   "cell_type": "code",
   "execution_count": 57,
   "metadata": {},
   "outputs": [
    {
     "data": {
      "text/html": [
       "<div>\n",
       "<style scoped>\n",
       "    .dataframe tbody tr th:only-of-type {\n",
       "        vertical-align: middle;\n",
       "    }\n",
       "\n",
       "    .dataframe tbody tr th {\n",
       "        vertical-align: top;\n",
       "    }\n",
       "\n",
       "    .dataframe thead th {\n",
       "        text-align: right;\n",
       "    }\n",
       "</style>\n",
       "<table border=\"1\" class=\"dataframe\">\n",
       "  <thead>\n",
       "    <tr style=\"text-align: right;\">\n",
       "      <th></th>\n",
       "      <th>04/04/2016count</th>\n",
       "      <th>04/05/2016count</th>\n",
       "      <th>04/06/2016count</th>\n",
       "      <th>04/07/2016count</th>\n",
       "      <th>04/08/2016count</th>\n",
       "      <th>04/09/2016count</th>\n",
       "      <th>04/10/2016count</th>\n",
       "      <th>04/11/2016count</th>\n",
       "      <th>04/12/2016count</th>\n",
       "      <th>04/13/2016count</th>\n",
       "      <th>...</th>\n",
       "      <th>06/05/2016count</th>\n",
       "      <th>06/06/2016count</th>\n",
       "      <th>06/07/2016count</th>\n",
       "      <th>06/08/2016count</th>\n",
       "      <th>06/09/2016count</th>\n",
       "      <th>06/10/2016count</th>\n",
       "      <th>06/11/2016count</th>\n",
       "      <th>06/12/2016count</th>\n",
       "      <th>gap</th>\n",
       "      <th>user_id</th>\n",
       "    </tr>\n",
       "  </thead>\n",
       "  <tbody>\n",
       "    <tr>\n",
       "      <th>0</th>\n",
       "      <td>NaN</td>\n",
       "      <td>2.0</td>\n",
       "      <td>1.0</td>\n",
       "      <td>NaN</td>\n",
       "      <td>NaN</td>\n",
       "      <td>NaN</td>\n",
       "      <td>NaN</td>\n",
       "      <td>NaN</td>\n",
       "      <td>1.0</td>\n",
       "      <td>NaN</td>\n",
       "      <td>...</td>\n",
       "      <td>NaN</td>\n",
       "      <td>NaN</td>\n",
       "      <td>NaN</td>\n",
       "      <td>NaN</td>\n",
       "      <td>NaN</td>\n",
       "      <td>NaN</td>\n",
       "      <td>NaN</td>\n",
       "      <td>NaN</td>\n",
       "      <td>100.0</td>\n",
       "      <td>100002020</td>\n",
       "    </tr>\n",
       "    <tr>\n",
       "      <th>1</th>\n",
       "      <td>NaN</td>\n",
       "      <td>1.0</td>\n",
       "      <td>1.0</td>\n",
       "      <td>3.0</td>\n",
       "      <td>1.0</td>\n",
       "      <td>NaN</td>\n",
       "      <td>NaN</td>\n",
       "      <td>1.0</td>\n",
       "      <td>1.0</td>\n",
       "      <td>NaN</td>\n",
       "      <td>...</td>\n",
       "      <td>NaN</td>\n",
       "      <td>NaN</td>\n",
       "      <td>NaN</td>\n",
       "      <td>NaN</td>\n",
       "      <td>NaN</td>\n",
       "      <td>NaN</td>\n",
       "      <td>NaN</td>\n",
       "      <td>NaN</td>\n",
       "      <td>100.0</td>\n",
       "      <td>100002033</td>\n",
       "    </tr>\n",
       "    <tr>\n",
       "      <th>2</th>\n",
       "      <td>NaN</td>\n",
       "      <td>1.0</td>\n",
       "      <td>NaN</td>\n",
       "      <td>NaN</td>\n",
       "      <td>NaN</td>\n",
       "      <td>NaN</td>\n",
       "      <td>1.0</td>\n",
       "      <td>NaN</td>\n",
       "      <td>1.0</td>\n",
       "      <td>NaN</td>\n",
       "      <td>...</td>\n",
       "      <td>NaN</td>\n",
       "      <td>NaN</td>\n",
       "      <td>NaN</td>\n",
       "      <td>NaN</td>\n",
       "      <td>NaN</td>\n",
       "      <td>NaN</td>\n",
       "      <td>NaN</td>\n",
       "      <td>NaN</td>\n",
       "      <td>100.0</td>\n",
       "      <td>100002035</td>\n",
       "    </tr>\n",
       "    <tr>\n",
       "      <th>3</th>\n",
       "      <td>1.0</td>\n",
       "      <td>1.0</td>\n",
       "      <td>NaN</td>\n",
       "      <td>NaN</td>\n",
       "      <td>NaN</td>\n",
       "      <td>NaN</td>\n",
       "      <td>NaN</td>\n",
       "      <td>NaN</td>\n",
       "      <td>NaN</td>\n",
       "      <td>NaN</td>\n",
       "      <td>...</td>\n",
       "      <td>NaN</td>\n",
       "      <td>1.0</td>\n",
       "      <td>1.0</td>\n",
       "      <td>NaN</td>\n",
       "      <td>NaN</td>\n",
       "      <td>NaN</td>\n",
       "      <td>NaN</td>\n",
       "      <td>1.0</td>\n",
       "      <td>1.0</td>\n",
       "      <td>100002036</td>\n",
       "    </tr>\n",
       "    <tr>\n",
       "      <th>4</th>\n",
       "      <td>NaN</td>\n",
       "      <td>NaN</td>\n",
       "      <td>NaN</td>\n",
       "      <td>NaN</td>\n",
       "      <td>NaN</td>\n",
       "      <td>NaN</td>\n",
       "      <td>NaN</td>\n",
       "      <td>NaN</td>\n",
       "      <td>NaN</td>\n",
       "      <td>NaN</td>\n",
       "      <td>...</td>\n",
       "      <td>3.0</td>\n",
       "      <td>NaN</td>\n",
       "      <td>1.0</td>\n",
       "      <td>NaN</td>\n",
       "      <td>NaN</td>\n",
       "      <td>NaN</td>\n",
       "      <td>NaN</td>\n",
       "      <td>1.0</td>\n",
       "      <td>1.0</td>\n",
       "      <td>100002040</td>\n",
       "    </tr>\n",
       "  </tbody>\n",
       "</table>\n",
       "<p>5 rows × 72 columns</p>\n",
       "</div>"
      ],
      "text/plain": [
       "   04/04/2016count  04/05/2016count  04/06/2016count  04/07/2016count  \\\n",
       "0              NaN              2.0              1.0              NaN   \n",
       "1              NaN              1.0              1.0              3.0   \n",
       "2              NaN              1.0              NaN              NaN   \n",
       "3              1.0              1.0              NaN              NaN   \n",
       "4              NaN              NaN              NaN              NaN   \n",
       "\n",
       "   04/08/2016count  04/09/2016count  04/10/2016count  04/11/2016count  \\\n",
       "0              NaN              NaN              NaN              NaN   \n",
       "1              1.0              NaN              NaN              1.0   \n",
       "2              NaN              NaN              1.0              NaN   \n",
       "3              NaN              NaN              NaN              NaN   \n",
       "4              NaN              NaN              NaN              NaN   \n",
       "\n",
       "   04/12/2016count  04/13/2016count  ...  06/05/2016count  06/06/2016count  \\\n",
       "0              1.0              NaN  ...              NaN              NaN   \n",
       "1              1.0              NaN  ...              NaN              NaN   \n",
       "2              1.0              NaN  ...              NaN              NaN   \n",
       "3              NaN              NaN  ...              NaN              1.0   \n",
       "4              NaN              NaN  ...              3.0              NaN   \n",
       "\n",
       "   06/07/2016count  06/08/2016count  06/09/2016count  06/10/2016count  \\\n",
       "0              NaN              NaN              NaN              NaN   \n",
       "1              NaN              NaN              NaN              NaN   \n",
       "2              NaN              NaN              NaN              NaN   \n",
       "3              1.0              NaN              NaN              NaN   \n",
       "4              1.0              NaN              NaN              NaN   \n",
       "\n",
       "   06/11/2016count  06/12/2016count    gap    user_id  \n",
       "0              NaN              NaN  100.0  100002020  \n",
       "1              NaN              NaN  100.0  100002033  \n",
       "2              NaN              NaN  100.0  100002035  \n",
       "3              NaN              1.0    1.0  100002036  \n",
       "4              NaN              1.0    1.0  100002040  \n",
       "\n",
       "[5 rows x 72 columns]"
      ]
     },
     "execution_count": 57,
     "metadata": {},
     "output_type": "execute_result"
    }
   ],
   "source": [
    "daily_features.head()"
   ]
  },
  {
   "cell_type": "code",
   "execution_count": 58,
   "metadata": {},
   "outputs": [],
   "source": [
    "cols =['04/04/2016count', '04/05/2016count', '04/06/2016count',\n",
    "       '04/07/2016count', '04/08/2016count', '04/09/2016count',\n",
    "       '04/10/2016count', '04/11/2016count', '04/12/2016count',\n",
    "       '04/13/2016count', '04/14/2016count', '04/15/2016count',\n",
    "       '04/16/2016count', '04/17/2016count', '04/18/2016count',\n",
    "       '04/19/2016count', '04/20/2016count', '04/21/2016count',\n",
    "       '04/22/2016count', '04/23/2016count', '04/24/2016count',\n",
    "       '04/25/2016count', '04/26/2016count', '04/27/2016count',\n",
    "       '04/28/2016count', '04/29/2016count', '04/30/2016count',\n",
    "       '05/01/2016count', '05/02/2016count', '05/03/2016count',\n",
    "       '05/04/2016count', '05/05/2016count', '05/06/2016count',\n",
    "       '05/07/2016count', '05/08/2016count', '05/09/2016count',\n",
    "       '05/10/2016count', '05/11/2016count', '05/12/2016count',\n",
    "       '05/13/2016count', '05/14/2016count', '05/15/2016count',\n",
    "       '05/16/2016count', '05/17/2016count', '05/18/2016count',\n",
    "       '05/19/2016count', '05/20/2016count', '05/21/2016count',\n",
    "       '05/22/2016count', '05/23/2016count', '05/24/2016count',\n",
    "       '05/25/2016count', '05/26/2016count', '05/27/2016count',\n",
    "       '05/28/2016count', '05/29/2016count', '05/30/2016count',\n",
    "       '05/31/2016count', '06/01/2016count', '06/02/2016count',\n",
    "       '06/03/2016count', '06/04/2016count', '06/05/2016count',\n",
    "       '06/06/2016count', '06/07/2016count', '06/08/2016count',\n",
    "       '06/09/2016count', '06/10/2016count', '06/11/2016count',\n",
    "       '06/12/2016count']"
   ]
  },
  {
   "cell_type": "code",
   "execution_count": 59,
   "metadata": {},
   "outputs": [],
   "source": [
    "dailys=[]"
   ]
  },
  {
   "cell_type": "code",
   "execution_count": 60,
   "metadata": {},
   "outputs": [],
   "source": [
    "for i in range(len(daily_features)):\n",
    "    days=[]\n",
    "    for j,c in enumerate(cols):\n",
    "        if not np.isnan(daily_features[c].iloc[i]):\n",
    "            days.append(j)\n",
    "    if len(days)>=2:\n",
    "        dailys.append((days[-1]-days[-2]+1))\n",
    "    if len(days)==1:\n",
    "        dailys.append((j-days[-1]+1))\n",
    "    if len(days)==0:\n",
    "        dailys.append((0))"
   ]
  },
  {
   "cell_type": "code",
   "execution_count": 61,
   "metadata": {},
   "outputs": [
    {
     "data": {
      "text/plain": [
       "191855"
      ]
     },
     "execution_count": 61,
     "metadata": {},
     "output_type": "execute_result"
    }
   ],
   "source": [
    "len(daily_features)"
   ]
  },
  {
   "cell_type": "code",
   "execution_count": 62,
   "metadata": {},
   "outputs": [
    {
     "data": {
      "text/plain": [
       "191855"
      ]
     },
     "execution_count": 62,
     "metadata": {},
     "output_type": "execute_result"
    }
   ],
   "source": [
    "len(dailys)"
   ]
  },
  {
   "cell_type": "code",
   "execution_count": 63,
   "metadata": {},
   "outputs": [],
   "source": [
    "mygap=np.array(dailys)"
   ]
  },
  {
   "cell_type": "code",
   "execution_count": 64,
   "metadata": {},
   "outputs": [
    {
     "data": {
      "text/plain": [
       "191855"
      ]
     },
     "execution_count": 64,
     "metadata": {},
     "output_type": "execute_result"
    }
   ],
   "source": [
    "len(data)"
   ]
  },
  {
   "cell_type": "code",
   "execution_count": 65,
   "metadata": {},
   "outputs": [],
   "source": [
    "data['my_gap']=mygap"
   ]
  },
  {
   "cell_type": "code",
   "execution_count": 66,
   "metadata": {},
   "outputs": [
    {
     "data": {
      "text/plain": [
       "['order_sd',\n",
       " 'active_days',\n",
       " 'lastgap',\n",
       " 'avg_gap',\n",
       " 'min_gap',\n",
       " 'max_gap',\n",
       " 'w1_total_orders',\n",
       " 'w2_total_orders',\n",
       " 'w3_total_orders',\n",
       " 'w4_total_orders',\n",
       " 'w5_total_orders',\n",
       " 'w6_total_orders',\n",
       " 'w7_total_orders',\n",
       " 'label',\n",
       " 'first_order',\n",
       " 'last_order',\n",
       " 'accountLength',\n",
       " 'overall_time_mean',\n",
       " 'update2create_time_mean',\n",
       " 'send2update_time_mean',\n",
       " 'overall_time_min',\n",
       " 'update2create_time_min',\n",
       " 'send2update_time_min',\n",
       " 'overall_time_max',\n",
       " 'update2create_time_max',\n",
       " 'send2update_time_max',\n",
       " 'intime_rate',\n",
       " 'last_coupon_fee',\n",
       " 'last_send_type',\n",
       " 'order_nums',\n",
       " 'city_id',\n",
       " 'sex',\n",
       " 'age',\n",
       " 'login_platform_b',\n",
       " 'app_version_b',\n",
       " 'age_na',\n",
       " 'lastgap_na',\n",
       " 'avg_gap_na',\n",
       " 'min_gap_na',\n",
       " 'max_gap_na',\n",
       " 'overall_time_mean_na',\n",
       " 'update2create_time_mean_na',\n",
       " 'send2update_time_mean_na',\n",
       " 'overall_time_min_na',\n",
       " 'update2create_time_min_na',\n",
       " 'send2update_time_min_na',\n",
       " 'overall_time_max_na',\n",
       " 'update2create_time_max_na',\n",
       " 'send2update_time_max_na',\n",
       " 'w1_avg_couponworth',\n",
       " 'w2_avg_couponworth',\n",
       " 'w3_avg_couponworth',\n",
       " 'w4_avg_couponworth',\n",
       " 'w5_avg_couponworth',\n",
       " 'w6_avg_couponworth',\n",
       " 'w7_avg_couponworth',\n",
       " 'w1_max_couponworth',\n",
       " 'w2_max_couponworth',\n",
       " 'w3_max_couponworth',\n",
       " 'w4_max_couponworth',\n",
       " 'w5_max_couponworth',\n",
       " 'w6_max_couponworth',\n",
       " 'w7_max_couponworth',\n",
       " 'log_order_sd',\n",
       " 'log_active_days',\n",
       " 'log_total_orders',\n",
       " 'log_w1_total_orders',\n",
       " 'log_w2_total_orders',\n",
       " 'log_w3_total_orders',\n",
       " 'log_w4_total_orders',\n",
       " 'log_w5_total_orders',\n",
       " 'log_w6_total_orders',\n",
       " 'log_w7_total_orders',\n",
       " 'log_first_order',\n",
       " 'log_last_order',\n",
       " 'log_accountLength',\n",
       " 'log_overall_time_mean',\n",
       " 'log_overall_time_min',\n",
       " 'log_overall_time_max',\n",
       " 'log_intime_rate',\n",
       " 'log_last_coupon_fee',\n",
       " 'log_order_nums',\n",
       " 'log_w1_avg_couponworth',\n",
       " 'log_w2_avg_couponworth',\n",
       " 'log_w3_avg_couponworth',\n",
       " 'log_w4_avg_couponworth',\n",
       " 'log_w5_avg_couponworth',\n",
       " 'log_w6_avg_couponworth',\n",
       " 'log_w7_avg_couponworth',\n",
       " 'log_w1_max_couponworth',\n",
       " 'log_w2_max_couponworth',\n",
       " 'log_w3_max_couponworth',\n",
       " 'log_w4_max_couponworth',\n",
       " 'log_w5_max_couponworth',\n",
       " 'log_w6_max_couponworth',\n",
       " 'log_w7_max_couponworth',\n",
       " 'dummy_log_lastgap',\n",
       " 'log_lastgap',\n",
       " 'dummy_log_avg_gap',\n",
       " 'log_avg_gap',\n",
       " 'dummy_log_min_gap',\n",
       " 'log_min_gap',\n",
       " 'dummy_log_max_gap',\n",
       " 'log_max_gap',\n",
       " 'dummy_log_update2create_time_mean',\n",
       " 'log_update2create_time_mean',\n",
       " 'dummy_log_send2update_time_mean',\n",
       " 'log_send2update_time_mean',\n",
       " 'dummy_log_update2create_time_min',\n",
       " 'log_update2create_time_min',\n",
       " 'dummy_log_send2update_time_min',\n",
       " 'log_send2update_time_min',\n",
       " 'dummy_log_update2create_time_max',\n",
       " 'log_update2create_time_max',\n",
       " 'dummy_log_send2update_time_max',\n",
       " 'log_send2update_time_max',\n",
       " 'kitchen_royalty',\n",
       " 'staple_price',\n",
       " 'like_num',\n",
       " 'dummy_like_num',\n",
       " 'dummy_has_kitchen_info',\n",
       " 'dummy_staple_price',\n",
       " 'comment_perc',\n",
       " 'my_gap']"
      ]
     },
     "execution_count": 66,
     "metadata": {},
     "output_type": "execute_result"
    }
   ],
   "source": [
    "list(data.columns)"
   ]
  },
  {
   "cell_type": "code",
   "execution_count": 67,
   "metadata": {},
   "outputs": [],
   "source": [
    "X=data.drop(['lastgap'],axis=1)"
   ]
  },
  {
   "cell_type": "code",
   "execution_count": 68,
   "metadata": {},
   "outputs": [],
   "source": [
    "from sklearn.model_selection import train_test_split"
   ]
  },
  {
   "cell_type": "code",
   "execution_count": 69,
   "metadata": {},
   "outputs": [],
   "source": [
    "train, test = train_test_split(X, test_size=0.2, random_state=42)"
   ]
  },
  {
   "cell_type": "code",
   "execution_count": 70,
   "metadata": {},
   "outputs": [],
   "source": [
    "cols=list(train.columns)"
   ]
  },
  {
   "cell_type": "code",
   "execution_count": 71,
   "metadata": {},
   "outputs": [
    {
     "data": {
      "text/plain": [
       "['order_sd',\n",
       " 'active_days',\n",
       " 'avg_gap',\n",
       " 'min_gap',\n",
       " 'max_gap',\n",
       " 'w1_total_orders',\n",
       " 'w2_total_orders',\n",
       " 'w3_total_orders',\n",
       " 'w4_total_orders',\n",
       " 'w5_total_orders',\n",
       " 'w6_total_orders',\n",
       " 'w7_total_orders',\n",
       " 'label',\n",
       " 'first_order',\n",
       " 'last_order',\n",
       " 'accountLength',\n",
       " 'overall_time_mean',\n",
       " 'update2create_time_mean',\n",
       " 'send2update_time_mean',\n",
       " 'overall_time_min',\n",
       " 'update2create_time_min',\n",
       " 'send2update_time_min',\n",
       " 'overall_time_max',\n",
       " 'update2create_time_max',\n",
       " 'send2update_time_max',\n",
       " 'intime_rate',\n",
       " 'last_coupon_fee',\n",
       " 'last_send_type',\n",
       " 'order_nums',\n",
       " 'city_id',\n",
       " 'sex',\n",
       " 'age',\n",
       " 'login_platform_b',\n",
       " 'app_version_b',\n",
       " 'age_na',\n",
       " 'lastgap_na',\n",
       " 'avg_gap_na',\n",
       " 'min_gap_na',\n",
       " 'max_gap_na',\n",
       " 'overall_time_mean_na',\n",
       " 'update2create_time_mean_na',\n",
       " 'send2update_time_mean_na',\n",
       " 'overall_time_min_na',\n",
       " 'update2create_time_min_na',\n",
       " 'send2update_time_min_na',\n",
       " 'overall_time_max_na',\n",
       " 'update2create_time_max_na',\n",
       " 'send2update_time_max_na',\n",
       " 'w1_avg_couponworth',\n",
       " 'w2_avg_couponworth',\n",
       " 'w3_avg_couponworth',\n",
       " 'w4_avg_couponworth',\n",
       " 'w5_avg_couponworth',\n",
       " 'w6_avg_couponworth',\n",
       " 'w7_avg_couponworth',\n",
       " 'w1_max_couponworth',\n",
       " 'w2_max_couponworth',\n",
       " 'w3_max_couponworth',\n",
       " 'w4_max_couponworth',\n",
       " 'w5_max_couponworth',\n",
       " 'w6_max_couponworth',\n",
       " 'w7_max_couponworth',\n",
       " 'log_order_sd',\n",
       " 'log_active_days',\n",
       " 'log_total_orders',\n",
       " 'log_w1_total_orders',\n",
       " 'log_w2_total_orders',\n",
       " 'log_w3_total_orders',\n",
       " 'log_w4_total_orders',\n",
       " 'log_w5_total_orders',\n",
       " 'log_w6_total_orders',\n",
       " 'log_w7_total_orders',\n",
       " 'log_first_order',\n",
       " 'log_last_order',\n",
       " 'log_accountLength',\n",
       " 'log_overall_time_mean',\n",
       " 'log_overall_time_min',\n",
       " 'log_overall_time_max',\n",
       " 'log_intime_rate',\n",
       " 'log_last_coupon_fee',\n",
       " 'log_order_nums',\n",
       " 'log_w1_avg_couponworth',\n",
       " 'log_w2_avg_couponworth',\n",
       " 'log_w3_avg_couponworth',\n",
       " 'log_w4_avg_couponworth',\n",
       " 'log_w5_avg_couponworth',\n",
       " 'log_w6_avg_couponworth',\n",
       " 'log_w7_avg_couponworth',\n",
       " 'log_w1_max_couponworth',\n",
       " 'log_w2_max_couponworth',\n",
       " 'log_w3_max_couponworth',\n",
       " 'log_w4_max_couponworth',\n",
       " 'log_w5_max_couponworth',\n",
       " 'log_w6_max_couponworth',\n",
       " 'log_w7_max_couponworth',\n",
       " 'dummy_log_lastgap',\n",
       " 'log_lastgap',\n",
       " 'dummy_log_avg_gap',\n",
       " 'log_avg_gap',\n",
       " 'dummy_log_min_gap',\n",
       " 'log_min_gap',\n",
       " 'dummy_log_max_gap',\n",
       " 'log_max_gap',\n",
       " 'dummy_log_update2create_time_mean',\n",
       " 'log_update2create_time_mean',\n",
       " 'dummy_log_send2update_time_mean',\n",
       " 'log_send2update_time_mean',\n",
       " 'dummy_log_update2create_time_min',\n",
       " 'log_update2create_time_min',\n",
       " 'dummy_log_send2update_time_min',\n",
       " 'log_send2update_time_min',\n",
       " 'dummy_log_update2create_time_max',\n",
       " 'log_update2create_time_max',\n",
       " 'dummy_log_send2update_time_max',\n",
       " 'log_send2update_time_max',\n",
       " 'kitchen_royalty',\n",
       " 'staple_price',\n",
       " 'like_num',\n",
       " 'dummy_like_num',\n",
       " 'dummy_has_kitchen_info',\n",
       " 'dummy_staple_price',\n",
       " 'comment_perc',\n",
       " 'my_gap']"
      ]
     },
     "execution_count": 71,
     "metadata": {},
     "output_type": "execute_result"
    }
   ],
   "source": [
    "cols"
   ]
  },
  {
   "cell_type": "code",
   "execution_count": 72,
   "metadata": {},
   "outputs": [],
   "source": [
    "cols.remove('label')\n",
    "cols.remove('my_gap')"
   ]
  },
  {
   "cell_type": "code",
   "execution_count": 73,
   "metadata": {},
   "outputs": [],
   "source": [
    "from sklearn.preprocessing import StandardScaler"
   ]
  },
  {
   "cell_type": "code",
   "execution_count": 74,
   "metadata": {},
   "outputs": [],
   "source": [
    "scaler = StandardScaler()"
   ]
  },
  {
   "cell_type": "code",
   "execution_count": 75,
   "metadata": {},
   "outputs": [],
   "source": [
    "import warnings\n",
    "warnings.filterwarnings(\"ignore\")"
   ]
  },
  {
   "cell_type": "code",
   "execution_count": 76,
   "metadata": {},
   "outputs": [],
   "source": [
    "train_scaled=scaler.fit_transform(train[cols])"
   ]
  },
  {
   "cell_type": "code",
   "execution_count": 77,
   "metadata": {},
   "outputs": [],
   "source": [
    "import sklearn.decomposition as skd"
   ]
  },
  {
   "cell_type": "code",
   "execution_count": 78,
   "metadata": {},
   "outputs": [],
   "source": [
    "pca = skd.PCA()"
   ]
  },
  {
   "cell_type": "code",
   "execution_count": 79,
   "metadata": {},
   "outputs": [],
   "source": [
    "train_pcad = pca.fit_transform(train_scaled)"
   ]
  },
  {
   "cell_type": "code",
   "execution_count": 80,
   "metadata": {},
   "outputs": [],
   "source": [
    "import matplotlib.pyplot as plt"
   ]
  },
  {
   "cell_type": "code",
   "execution_count": 81,
   "metadata": {},
   "outputs": [
    {
     "data": {
      "text/plain": [
       "[<matplotlib.lines.Line2D at 0x1a21d4b2b0>]"
      ]
     },
     "execution_count": 81,
     "metadata": {},
     "output_type": "execute_result"
    },
    {
     "data": {
      "image/png": "[encoded data removed]",
      "text/plain": [
       "<Figure size 432x288 with 1 Axes>"
      ]
     },
     "metadata": {
      "image/png": {
       "height": 244,
       "width": 365
      },
      "needs_background": "light"
     },
     "output_type": "display_data"
    }
   ],
   "source": [
    "# 看图， 5比较合适\n",
    "plt.plot(range(1,122),pca.explained_variance_,'b-o')"
   ]
  },
  {
   "cell_type": "code",
   "execution_count": 82,
   "metadata": {},
   "outputs": [],
   "source": [
    "pca_components=pd.DataFrame(train_pcad)[[0,1,2,3,4]]"
   ]
  },
  {
   "cell_type": "code",
   "execution_count": 83,
   "metadata": {},
   "outputs": [],
   "source": [
    "pca_components.columns=['pca_1','pca_2','pca_3','pca_4','pca_5']"
   ]
  },
  {
   "cell_type": "code",
   "execution_count": 84,
   "metadata": {},
   "outputs": [],
   "source": [
    "pca_columns=['pca_1','pca_2','pca_3','pca_4','pca_5']"
   ]
  },
  {
   "cell_type": "code",
   "execution_count": 85,
   "metadata": {},
   "outputs": [
    {
     "data": {
      "text/html": [
       "<div>\n",
       "<style scoped>\n",
       "    .dataframe tbody tr th:only-of-type {\n",
       "        vertical-align: middle;\n",
       "    }\n",
       "\n",
       "    .dataframe tbody tr th {\n",
       "        vertical-align: top;\n",
       "    }\n",
       "\n",
       "    .dataframe thead th {\n",
       "        text-align: right;\n",
       "    }\n",
       "</style>\n",
       "<table border=\"1\" class=\"dataframe\">\n",
       "  <thead>\n",
       "    <tr style=\"text-align: right;\">\n",
       "      <th></th>\n",
       "      <th>pca_1</th>\n",
       "      <th>pca_2</th>\n",
       "      <th>pca_3</th>\n",
       "      <th>pca_4</th>\n",
       "      <th>pca_5</th>\n",
       "    </tr>\n",
       "  </thead>\n",
       "  <tbody>\n",
       "    <tr>\n",
       "      <th>pca_1</th>\n",
       "      <td>1.000000e+00</td>\n",
       "      <td>1.208177e-15</td>\n",
       "      <td>8.942532e-16</td>\n",
       "      <td>-2.566081e-15</td>\n",
       "      <td>-8.109495e-16</td>\n",
       "    </tr>\n",
       "    <tr>\n",
       "      <th>pca_2</th>\n",
       "      <td>1.208177e-15</td>\n",
       "      <td>1.000000e+00</td>\n",
       "      <td>7.475934e-16</td>\n",
       "      <td>1.652146e-16</td>\n",
       "      <td>2.853761e-16</td>\n",
       "    </tr>\n",
       "    <tr>\n",
       "      <th>pca_3</th>\n",
       "      <td>8.942532e-16</td>\n",
       "      <td>7.475934e-16</td>\n",
       "      <td>1.000000e+00</td>\n",
       "      <td>6.401384e-16</td>\n",
       "      <td>2.250465e-15</td>\n",
       "    </tr>\n",
       "    <tr>\n",
       "      <th>pca_4</th>\n",
       "      <td>-2.566081e-15</td>\n",
       "      <td>1.652146e-16</td>\n",
       "      <td>6.401384e-16</td>\n",
       "      <td>1.000000e+00</td>\n",
       "      <td>3.442552e-15</td>\n",
       "    </tr>\n",
       "    <tr>\n",
       "      <th>pca_5</th>\n",
       "      <td>-8.109495e-16</td>\n",
       "      <td>2.853761e-16</td>\n",
       "      <td>2.250465e-15</td>\n",
       "      <td>3.442552e-15</td>\n",
       "      <td>1.000000e+00</td>\n",
       "    </tr>\n",
       "  </tbody>\n",
       "</table>\n",
       "</div>"
      ],
      "text/plain": [
       "              pca_1         pca_2         pca_3         pca_4         pca_5\n",
       "pca_1  1.000000e+00  1.208177e-15  8.942532e-16 -2.566081e-15 -8.109495e-16\n",
       "pca_2  1.208177e-15  1.000000e+00  7.475934e-16  1.652146e-16  2.853761e-16\n",
       "pca_3  8.942532e-16  7.475934e-16  1.000000e+00  6.401384e-16  2.250465e-15\n",
       "pca_4 -2.566081e-15  1.652146e-16  6.401384e-16  1.000000e+00  3.442552e-15\n",
       "pca_5 -8.109495e-16  2.853761e-16  2.250465e-15  3.442552e-15  1.000000e+00"
      ]
     },
     "execution_count": 85,
     "metadata": {},
     "output_type": "execute_result"
    }
   ],
   "source": [
    "pca_components.corr()"
   ]
  },
  {
   "cell_type": "code",
   "execution_count": 86,
   "metadata": {},
   "outputs": [
    {
     "data": {
      "text/plain": [
       "153484"
      ]
     },
     "execution_count": 86,
     "metadata": {},
     "output_type": "execute_result"
    }
   ],
   "source": [
    "len(train)"
   ]
  },
  {
   "cell_type": "code",
   "execution_count": 87,
   "metadata": {},
   "outputs": [
    {
     "data": {
      "text/plain": [
       "153484"
      ]
     },
     "execution_count": 87,
     "metadata": {},
     "output_type": "execute_result"
    }
   ],
   "source": [
    "len(pca_components)"
   ]
  },
  {
   "cell_type": "code",
   "execution_count": 88,
   "metadata": {},
   "outputs": [],
   "source": [
    "for c in pca_columns:\n",
    "    train[c]=pca_components[c]"
   ]
  },
  {
   "cell_type": "code",
   "execution_count": 89,
   "metadata": {},
   "outputs": [],
   "source": [
    "new_train=train[['pca_1','pca_2','pca_3','pca_4','pca_5','my_gap','label']]"
   ]
  },
  {
   "cell_type": "code",
   "execution_count": 90,
   "metadata": {},
   "outputs": [
    {
     "data": {
      "text/html": [
       "<div>\n",
       "<style scoped>\n",
       "    .dataframe tbody tr th:only-of-type {\n",
       "        vertical-align: middle;\n",
       "    }\n",
       "\n",
       "    .dataframe tbody tr th {\n",
       "        vertical-align: top;\n",
       "    }\n",
       "\n",
       "    .dataframe thead th {\n",
       "        text-align: right;\n",
       "    }\n",
       "</style>\n",
       "<table border=\"1\" class=\"dataframe\">\n",
       "  <thead>\n",
       "    <tr style=\"text-align: right;\">\n",
       "      <th></th>\n",
       "      <th>pca_1</th>\n",
       "      <th>pca_2</th>\n",
       "      <th>pca_3</th>\n",
       "      <th>pca_4</th>\n",
       "      <th>pca_5</th>\n",
       "      <th>my_gap</th>\n",
       "      <th>label</th>\n",
       "    </tr>\n",
       "  </thead>\n",
       "  <tbody>\n",
       "    <tr>\n",
       "      <th>2557</th>\n",
       "      <td>-3.762867</td>\n",
       "      <td>-4.680837</td>\n",
       "      <td>1.371402</td>\n",
       "      <td>0.132330</td>\n",
       "      <td>2.686205</td>\n",
       "      <td>2</td>\n",
       "      <td>0.0</td>\n",
       "    </tr>\n",
       "    <tr>\n",
       "      <th>104450</th>\n",
       "      <td>-3.882019</td>\n",
       "      <td>-4.555256</td>\n",
       "      <td>1.291051</td>\n",
       "      <td>-0.080328</td>\n",
       "      <td>3.156202</td>\n",
       "      <td>10</td>\n",
       "      <td>0.0</td>\n",
       "    </tr>\n",
       "    <tr>\n",
       "      <th>140622</th>\n",
       "      <td>-3.035374</td>\n",
       "      <td>-4.085439</td>\n",
       "      <td>0.027065</td>\n",
       "      <td>2.330186</td>\n",
       "      <td>0.637758</td>\n",
       "      <td>47</td>\n",
       "      <td>0.0</td>\n",
       "    </tr>\n",
       "    <tr>\n",
       "      <th>129338</th>\n",
       "      <td>2.531195</td>\n",
       "      <td>-0.477359</td>\n",
       "      <td>1.883783</td>\n",
       "      <td>-3.297314</td>\n",
       "      <td>-0.003258</td>\n",
       "      <td>54</td>\n",
       "      <td>0.0</td>\n",
       "    </tr>\n",
       "    <tr>\n",
       "      <th>163885</th>\n",
       "      <td>NaN</td>\n",
       "      <td>NaN</td>\n",
       "      <td>NaN</td>\n",
       "      <td>NaN</td>\n",
       "      <td>NaN</td>\n",
       "      <td>27</td>\n",
       "      <td>0.0</td>\n",
       "    </tr>\n",
       "    <tr>\n",
       "      <th>184858</th>\n",
       "      <td>NaN</td>\n",
       "      <td>NaN</td>\n",
       "      <td>NaN</td>\n",
       "      <td>NaN</td>\n",
       "      <td>NaN</td>\n",
       "      <td>11</td>\n",
       "      <td>0.0</td>\n",
       "    </tr>\n",
       "    <tr>\n",
       "      <th>46141</th>\n",
       "      <td>0.803138</td>\n",
       "      <td>-1.205829</td>\n",
       "      <td>6.113242</td>\n",
       "      <td>0.115939</td>\n",
       "      <td>-4.897947</td>\n",
       "      <td>57</td>\n",
       "      <td>0.0</td>\n",
       "    </tr>\n",
       "    <tr>\n",
       "      <th>82608</th>\n",
       "      <td>-3.734943</td>\n",
       "      <td>-4.686155</td>\n",
       "      <td>0.991288</td>\n",
       "      <td>0.232170</td>\n",
       "      <td>2.448858</td>\n",
       "      <td>2</td>\n",
       "      <td>0.0</td>\n",
       "    </tr>\n",
       "    <tr>\n",
       "      <th>59493</th>\n",
       "      <td>2.226474</td>\n",
       "      <td>-0.803380</td>\n",
       "      <td>1.722836</td>\n",
       "      <td>-2.709656</td>\n",
       "      <td>-0.519506</td>\n",
       "      <td>8</td>\n",
       "      <td>1.0</td>\n",
       "    </tr>\n",
       "    <tr>\n",
       "      <th>39773</th>\n",
       "      <td>-3.469907</td>\n",
       "      <td>-4.385936</td>\n",
       "      <td>1.267614</td>\n",
       "      <td>1.385206</td>\n",
       "      <td>1.423058</td>\n",
       "      <td>41</td>\n",
       "      <td>0.0</td>\n",
       "    </tr>\n",
       "  </tbody>\n",
       "</table>\n",
       "</div>"
      ],
      "text/plain": [
       "           pca_1     pca_2     pca_3     pca_4     pca_5  my_gap  label\n",
       "2557   -3.762867 -4.680837  1.371402  0.132330  2.686205       2    0.0\n",
       "104450 -3.882019 -4.555256  1.291051 -0.080328  3.156202      10    0.0\n",
       "140622 -3.035374 -4.085439  0.027065  2.330186  0.637758      47    0.0\n",
       "129338  2.531195 -0.477359  1.883783 -3.297314 -0.003258      54    0.0\n",
       "163885       NaN       NaN       NaN       NaN       NaN      27    0.0\n",
       "184858       NaN       NaN       NaN       NaN       NaN      11    0.0\n",
       "46141   0.803138 -1.205829  6.113242  0.115939 -4.897947      57    0.0\n",
       "82608  -3.734943 -4.686155  0.991288  0.232170  2.448858       2    0.0\n",
       "59493   2.226474 -0.803380  1.722836 -2.709656 -0.519506       8    1.0\n",
       "39773  -3.469907 -4.385936  1.267614  1.385206  1.423058      41    0.0"
      ]
     },
     "execution_count": 90,
     "metadata": {},
     "output_type": "execute_result"
    }
   ],
   "source": [
    "new_train.head(10)"
   ]
  },
  {
   "cell_type": "code",
   "execution_count": 91,
   "metadata": {},
   "outputs": [],
   "source": [
    "new_train=new_train.fillna(0)"
   ]
  },
  {
   "cell_type": "code",
   "execution_count": 92,
   "metadata": {},
   "outputs": [
    {
     "data": {
      "text/plain": [
       "<lifelines.CoxPHFitter: fitted with 153484 observations, 108250 censored>"
      ]
     },
     "execution_count": 92,
     "metadata": {},
     "output_type": "execute_result"
    }
   ],
   "source": [
    "cph = CoxPHFitter()\n",
    "cph.fit(new_train, 'my_gap', 'label')"
   ]
  },
  {
   "cell_type": "code",
   "execution_count": 93,
   "metadata": {},
   "outputs": [
    {
     "name": "stdout",
     "output_type": "stream",
     "text": [
      "<lifelines.CoxPHFitter: fitted with 153484 observations, 108250 censored>\n",
      "      duration col = 'my_gap'\n",
      "         event col = 'label'\n",
      "number of subjects = 153484\n",
      "  number of events = 45234\n",
      "    log-likelihood = -518209.92\n",
      "  time fit was run = 2019-04-16 23:45:20 UTC\n",
      "\n",
      "---\n",
      "       coef exp(coef)  se(coef)     z    p  -log2(p)  lower 0.95  upper 0.95\n",
      "pca_1  0.00      1.00      0.00  0.62 0.54      0.90       -0.00        0.00\n",
      "pca_2  0.00      1.00      0.00  0.39 0.70      0.52       -0.00        0.00\n",
      "pca_3  0.00      1.00      0.00  0.27 0.79      0.34       -0.00        0.00\n",
      "pca_4 -0.00      1.00      0.00 -0.96 0.33      1.58       -0.01        0.00\n",
      "pca_5  0.00      1.00      0.00  0.06 0.95      0.07       -0.00        0.00\n",
      "---\n",
      "Concordance = 0.50\n",
      "Log-likelihood ratio test = 1.54 on 5 df, -log2(p)=0.14\n"
     ]
    },
    {
     "data": {
      "image/png": "[encoded data removed]",
      "text/plain": [
       "<Figure size 432x288 with 1 Axes>"
      ]
     },
     "metadata": {
      "image/png": {
       "height": 260,
       "width": 382
      },
      "needs_background": "light"
     },
     "output_type": "display_data"
    }
   ],
   "source": [
    "cph.print_summary()\n",
    "cph.plot();"
   ]
  },
  {
   "cell_type": "code",
   "execution_count": 94,
   "metadata": {},
   "outputs": [],
   "source": [
    "timelines=[i for i in range(1,84)]"
   ]
  },
  {
   "cell_type": "code",
   "execution_count": 95,
   "metadata": {},
   "outputs": [],
   "source": [
    "train_survival_f=cph.predict_survival_function(new_train, times=timelines).T"
   ]
  },
  {
   "cell_type": "code",
   "execution_count": 102,
   "metadata": {},
   "outputs": [],
   "source": [
    "import seaborn as sns"
   ]
  },
  {
   "cell_type": "code",
   "execution_count": 101,
   "metadata": {},
   "outputs": [
    {
     "data": {
      "text/plain": [
       "1     0.996800\n",
       "2     0.939026\n",
       "3     0.907312\n",
       "4     0.884182\n",
       "5     0.852149\n",
       "6     0.826530\n",
       "7     0.805023\n",
       "8     0.780857\n",
       "9     0.767470\n",
       "10    0.755804\n",
       "11    0.745513\n",
       "12    0.736571\n",
       "13    0.727035\n",
       "14    0.719500\n",
       "15    0.711182\n",
       "16    0.705944\n",
       "17    0.701248\n",
       "18    0.697147\n",
       "19    0.693161\n",
       "20    0.688152\n",
       "21    0.684118\n",
       "22    0.679495\n",
       "23    0.676340\n",
       "24    0.673455\n",
       "25    0.670583\n",
       "26    0.667966\n",
       "27    0.664022\n",
       "28    0.661006\n",
       "29    0.657604\n",
       "30    0.655336\n",
       "        ...   \n",
       "54    0.612615\n",
       "55    0.609254\n",
       "56    0.607673\n",
       "57    0.605872\n",
       "58    0.604081\n",
       "59    0.602192\n",
       "60    0.600112\n",
       "61    0.597236\n",
       "62    0.589600\n",
       "63    0.585442\n",
       "64    0.581780\n",
       "65    0.577451\n",
       "66    0.571674\n",
       "67    0.567972\n",
       "68    0.558193\n",
       "69    0.538022\n",
       "70    0.502411\n",
       "71    0.502411\n",
       "72    0.502411\n",
       "73    0.502411\n",
       "74    0.502411\n",
       "75    0.502411\n",
       "76    0.502411\n",
       "77    0.502411\n",
       "78    0.502411\n",
       "79    0.502411\n",
       "80    0.502411\n",
       "81    0.502411\n",
       "82    0.502411\n",
       "83    0.502411\n",
       "Length: 83, dtype: float64"
      ]
     },
     "execution_count": 101,
     "metadata": {},
     "output_type": "execute_result"
    }
   ],
   "source": [
    "train_survival_f.mean()"
   ]
  },
  {
   "cell_type": "code",
   "execution_count": 104,
   "metadata": {},
   "outputs": [
    {
     "name": "stderr",
     "output_type": "stream",
     "text": [
      "No handles with labels found to put in legend.\n"
     ]
    },
    {
     "data": {
      "text/plain": [
       "<matplotlib.legend.Legend at 0x1a20636be0>"
      ]
     },
     "execution_count": 104,
     "metadata": {},
     "output_type": "execute_result"
    },
    {
     "data": {
      "image/png": "[encoded data removed]",
      "text/plain": [
       "<Figure size 432x288 with 1 Axes>"
      ]
     },
     "metadata": {
      "image/png": {
       "height": 261,
       "width": 368
      },
      "needs_background": "light"
     },
     "output_type": "display_data"
    }
   ],
   "source": [
    "plt.title(\"Survival\")\n",
    "plt.plot(train_survival_f.mean(), color='red', linewidth=2)\n",
    "plt.legend()"
   ]
  },
  {
   "cell_type": "code",
   "execution_count": null,
   "metadata": {},
   "outputs": [],
   "source": []
  }
 ],
 "metadata": {
  "kernelspec": {
   "display_name": "Python 3",
   "language": "python",
   "name": "python3"
  },
  "language_info": {
   "codemirror_mode": {
    "name": "ipython",
    "version": 3
   },
   "file_extension": ".py",
   "mimetype": "text/x-python",
   "name": "python",
   "nbconvert_exporter": "python",
   "pygments_lexer": "ipython3",
   "version": "3.6.6"
  }
 },
 "nbformat": 4,
 "nbformat_minor": 2
}
