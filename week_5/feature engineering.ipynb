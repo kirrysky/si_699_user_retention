{
 "cells": [
  {
   "cell_type": "code",
   "execution_count": 1,
   "metadata": {
    "collapsed": true
   },
   "outputs": [],
   "source": [
    "import pandas as pd\n",
    "import numpy as np"
   ]
  },
  {
   "cell_type": "code",
   "execution_count": 2,
   "metadata": {},
   "outputs": [
    {
     "name": "stderr",
     "output_type": "stream",
     "text": [
      "/Applications/anaconda3/lib/python3.6/site-packages/IPython/core/interactiveshell.py:2698: DtypeWarning: Columns (4) have mixed types. Specify dtype option on import or set low_memory=False.\n",
      "  interactivity=interactivity, compiler=compiler, result=result)\n"
     ]
    }
   ],
   "source": [
    "data=pd.read_csv('feature_engineering0212.csv')"
   ]
  },
  {
   "cell_type": "code",
   "execution_count": 3,
   "metadata": {},
   "outputs": [
    {
     "data": {
      "text/html": [
       "<div>\n",
       "<style scoped>\n",
       "    .dataframe tbody tr th:only-of-type {\n",
       "        vertical-align: middle;\n",
       "    }\n",
       "\n",
       "    .dataframe tbody tr th {\n",
       "        vertical-align: top;\n",
       "    }\n",
       "\n",
       "    .dataframe thead th {\n",
       "        text-align: right;\n",
       "    }\n",
       "</style>\n",
       "<table border=\"1\" class=\"dataframe\">\n",
       "  <thead>\n",
       "    <tr style=\"text-align: right;\">\n",
       "      <th></th>\n",
       "      <th>Unnamed: 0</th>\n",
       "      <th>user_id</th>\n",
       "      <th>city_id</th>\n",
       "      <th>sex</th>\n",
       "      <th>age</th>\n",
       "      <th>occupation</th>\n",
       "      <th>invite_id</th>\n",
       "      <th>invite_code</th>\n",
       "      <th>login_platform</th>\n",
       "      <th>last_login</th>\n",
       "      <th>...</th>\n",
       "      <th>06/11/2016count</th>\n",
       "      <th>06/11/2016send_type_mode</th>\n",
       "      <th>06/11/2016couponworth_sum</th>\n",
       "      <th>06/11/2016ticketfee_sum</th>\n",
       "      <th>06/11/2016couponfee_sum</th>\n",
       "      <th>06/12/2016count</th>\n",
       "      <th>06/12/2016send_type_mode</th>\n",
       "      <th>06/12/2016couponworth_sum</th>\n",
       "      <th>06/12/2016ticketfee_sum</th>\n",
       "      <th>06/12/2016couponfee_sum</th>\n",
       "    </tr>\n",
       "  </thead>\n",
       "  <tbody>\n",
       "    <tr>\n",
       "      <th>0</th>\n",
       "      <td>0</td>\n",
       "      <td>100002020</td>\n",
       "      <td>0</td>\n",
       "      <td>1</td>\n",
       "      <td>80</td>\n",
       "      <td>互联网</td>\n",
       "      <td>0</td>\n",
       "      <td>9828.0</td>\n",
       "      <td>Android</td>\n",
       "      <td>2016-07-04 17:53:27.0</td>\n",
       "      <td>...</td>\n",
       "      <td>NaN</td>\n",
       "      <td>NaN</td>\n",
       "      <td>NaN</td>\n",
       "      <td>NaN</td>\n",
       "      <td>NaN</td>\n",
       "      <td>NaN</td>\n",
       "      <td>NaN</td>\n",
       "      <td>NaN</td>\n",
       "      <td>NaN</td>\n",
       "      <td>NaN</td>\n",
       "    </tr>\n",
       "    <tr>\n",
       "      <th>1</th>\n",
       "      <td>13</td>\n",
       "      <td>100002033</td>\n",
       "      <td>0</td>\n",
       "      <td>0</td>\n",
       "      <td>NaN</td>\n",
       "      <td>NaN</td>\n",
       "      <td>0</td>\n",
       "      <td>6126.0</td>\n",
       "      <td>iOS</td>\n",
       "      <td>2017-05-12 00:42:20.0</td>\n",
       "      <td>...</td>\n",
       "      <td>NaN</td>\n",
       "      <td>NaN</td>\n",
       "      <td>NaN</td>\n",
       "      <td>NaN</td>\n",
       "      <td>NaN</td>\n",
       "      <td>NaN</td>\n",
       "      <td>NaN</td>\n",
       "      <td>NaN</td>\n",
       "      <td>NaN</td>\n",
       "      <td>NaN</td>\n",
       "    </tr>\n",
       "    <tr>\n",
       "      <th>2</th>\n",
       "      <td>15</td>\n",
       "      <td>100002035</td>\n",
       "      <td>0</td>\n",
       "      <td>0</td>\n",
       "      <td>NaN</td>\n",
       "      <td>NaN</td>\n",
       "      <td>0</td>\n",
       "      <td>3227.0</td>\n",
       "      <td>iOS</td>\n",
       "      <td>2016-01-13 17:29:46.0</td>\n",
       "      <td>...</td>\n",
       "      <td>NaN</td>\n",
       "      <td>NaN</td>\n",
       "      <td>NaN</td>\n",
       "      <td>NaN</td>\n",
       "      <td>NaN</td>\n",
       "      <td>NaN</td>\n",
       "      <td>NaN</td>\n",
       "      <td>NaN</td>\n",
       "      <td>NaN</td>\n",
       "      <td>NaN</td>\n",
       "    </tr>\n",
       "    <tr>\n",
       "      <th>3</th>\n",
       "      <td>16</td>\n",
       "      <td>100002036</td>\n",
       "      <td>0</td>\n",
       "      <td>0</td>\n",
       "      <td>NaN</td>\n",
       "      <td>NaN</td>\n",
       "      <td>0</td>\n",
       "      <td>3844.0</td>\n",
       "      <td>iOS</td>\n",
       "      <td>2017-04-19 12:59:09.0</td>\n",
       "      <td>...</td>\n",
       "      <td>NaN</td>\n",
       "      <td>NaN</td>\n",
       "      <td>NaN</td>\n",
       "      <td>NaN</td>\n",
       "      <td>NaN</td>\n",
       "      <td>1.0</td>\n",
       "      <td>1.0</td>\n",
       "      <td>0.0</td>\n",
       "      <td>0.0</td>\n",
       "      <td>0.0</td>\n",
       "    </tr>\n",
       "    <tr>\n",
       "      <th>4</th>\n",
       "      <td>20</td>\n",
       "      <td>100002040</td>\n",
       "      <td>0</td>\n",
       "      <td>2</td>\n",
       "      <td>90</td>\n",
       "      <td>上班族</td>\n",
       "      <td>0</td>\n",
       "      <td>4316.0</td>\n",
       "      <td>Android</td>\n",
       "      <td>2017-02-13 16:56:55.0</td>\n",
       "      <td>...</td>\n",
       "      <td>NaN</td>\n",
       "      <td>NaN</td>\n",
       "      <td>NaN</td>\n",
       "      <td>NaN</td>\n",
       "      <td>NaN</td>\n",
       "      <td>1.0</td>\n",
       "      <td>1.0</td>\n",
       "      <td>0.0</td>\n",
       "      <td>0.0</td>\n",
       "      <td>0.0</td>\n",
       "    </tr>\n",
       "  </tbody>\n",
       "</table>\n",
       "<p>5 rows × 363 columns</p>\n",
       "</div>"
      ],
      "text/plain": [
       "   Unnamed: 0    user_id  city_id  sex  age occupation  invite_id  \\\n",
       "0           0  100002020        0    1   80        互联网          0   \n",
       "1          13  100002033        0    0  NaN        NaN          0   \n",
       "2          15  100002035        0    0  NaN        NaN          0   \n",
       "3          16  100002036        0    0  NaN        NaN          0   \n",
       "4          20  100002040        0    2   90        上班族          0   \n",
       "\n",
       "   invite_code login_platform             last_login           ...             \\\n",
       "0       9828.0        Android  2016-07-04 17:53:27.0           ...              \n",
       "1       6126.0            iOS  2017-05-12 00:42:20.0           ...              \n",
       "2       3227.0            iOS  2016-01-13 17:29:46.0           ...              \n",
       "3       3844.0            iOS  2017-04-19 12:59:09.0           ...              \n",
       "4       4316.0        Android  2017-02-13 16:56:55.0           ...              \n",
       "\n",
       "  06/11/2016count 06/11/2016send_type_mode  06/11/2016couponworth_sum  \\\n",
       "0             NaN                      NaN                        NaN   \n",
       "1             NaN                      NaN                        NaN   \n",
       "2             NaN                      NaN                        NaN   \n",
       "3             NaN                      NaN                        NaN   \n",
       "4             NaN                      NaN                        NaN   \n",
       "\n",
       "   06/11/2016ticketfee_sum  06/11/2016couponfee_sum  06/12/2016count  \\\n",
       "0                      NaN                      NaN              NaN   \n",
       "1                      NaN                      NaN              NaN   \n",
       "2                      NaN                      NaN              NaN   \n",
       "3                      NaN                      NaN              1.0   \n",
       "4                      NaN                      NaN              1.0   \n",
       "\n",
       "   06/12/2016send_type_mode  06/12/2016couponworth_sum  \\\n",
       "0                       NaN                        NaN   \n",
       "1                       NaN                        NaN   \n",
       "2                       NaN                        NaN   \n",
       "3                       1.0                        0.0   \n",
       "4                       1.0                        0.0   \n",
       "\n",
       "   06/12/2016ticketfee_sum  06/12/2016couponfee_sum  \n",
       "0                      NaN                      NaN  \n",
       "1                      NaN                      NaN  \n",
       "2                      NaN                      NaN  \n",
       "3                      0.0                      0.0  \n",
       "4                      0.0                      0.0  \n",
       "\n",
       "[5 rows x 363 columns]"
      ]
     },
     "execution_count": 3,
     "metadata": {},
     "output_type": "execute_result"
    }
   ],
   "source": [
    "data.head()"
   ]
  },
  {
   "cell_type": "code",
   "execution_count": 4,
   "metadata": {},
   "outputs": [
    {
     "data": {
      "text/plain": [
       "0.29499882723932136"
      ]
     },
     "execution_count": 4,
     "metadata": {},
     "output_type": "execute_result"
    }
   ],
   "source": [
    "len(data[data['label']==1])/len(data)"
   ]
  },
  {
   "cell_type": "code",
   "execution_count": 5,
   "metadata": {
    "collapsed": true
   },
   "outputs": [],
   "source": [
    "columnlist=data.columns.tolist()"
   ]
  },
  {
   "cell_type": "code",
   "execution_count": 6,
   "metadata": {},
   "outputs": [
    {
     "data": {
      "text/plain": [
       "363"
      ]
     },
     "execution_count": 6,
     "metadata": {},
     "output_type": "execute_result"
    }
   ],
   "source": [
    "len(columnlist)"
   ]
  },
  {
   "cell_type": "code",
   "execution_count": 7,
   "metadata": {
    "collapsed": true
   },
   "outputs": [],
   "source": [
    "data_sd=data.filter(like='count', axis=1).fillna(0)"
   ]
  },
  {
   "cell_type": "code",
   "execution_count": 8,
   "metadata": {
    "collapsed": true
   },
   "outputs": [],
   "source": [
    "data_sd['combined']= data_sd.values.tolist()"
   ]
  },
  {
   "cell_type": "code",
   "execution_count": 9,
   "metadata": {},
   "outputs": [
    {
     "data": {
      "text/plain": [
       "0.3916837360273247"
      ]
     },
     "execution_count": 9,
     "metadata": {},
     "output_type": "execute_result"
    }
   ],
   "source": [
    "import statistics\n",
    "statistics.stdev(data_sd['combined'].iloc[2])"
   ]
  },
  {
   "cell_type": "code",
   "execution_count": 10,
   "metadata": {
    "collapsed": true
   },
   "outputs": [],
   "source": [
    "data_sd['order_sd']=data_sd['combined'].apply(lambda x: statistics.stdev(x))"
   ]
  },
  {
   "cell_type": "code",
   "execution_count": 11,
   "metadata": {},
   "outputs": [
    {
     "name": "stderr",
     "output_type": "stream",
     "text": [
      "/Applications/anaconda3/lib/python3.6/site-packages/ipykernel_launcher.py:2: SettingWithCopyWarning: \n",
      "A value is trying to be set on a copy of a slice from a DataFrame.\n",
      "Try using .loc[row_indexer,col_indexer] = value instead\n",
      "\n",
      "See the caveats in the documentation: http://pandas.pydata.org/pandas-docs/stable/indexing.html#indexing-view-versus-copy\n",
      "  \n"
     ]
    }
   ],
   "source": [
    "final=data[['user_id']]\n",
    "final['order_sd']=data_sd['order_sd']"
   ]
  },
  {
   "cell_type": "code",
   "execution_count": 12,
   "metadata": {
    "collapsed": true
   },
   "outputs": [],
   "source": [
    "data_sd['active_days']=data_sd['combined'].apply(lambda x: len(x)-x.count(0))"
   ]
  },
  {
   "cell_type": "code",
   "execution_count": 13,
   "metadata": {},
   "outputs": [
    {
     "name": "stderr",
     "output_type": "stream",
     "text": [
      "/Applications/anaconda3/lib/python3.6/site-packages/ipykernel_launcher.py:1: SettingWithCopyWarning: \n",
      "A value is trying to be set on a copy of a slice from a DataFrame.\n",
      "Try using .loc[row_indexer,col_indexer] = value instead\n",
      "\n",
      "See the caveats in the documentation: http://pandas.pydata.org/pandas-docs/stable/indexing.html#indexing-view-versus-copy\n",
      "  \"\"\"Entry point for launching an IPython kernel.\n"
     ]
    }
   ],
   "source": [
    "final['active_days']=data_sd['active_days']"
   ]
  },
  {
   "cell_type": "code",
   "execution_count": 14,
   "metadata": {
    "collapsed": true
   },
   "outputs": [],
   "source": [
    "data_sd['combined_to1']=data_sd['combined'].apply(lambda x: [1 if i > 0 else 0 for i in x])"
   ]
  },
  {
   "cell_type": "code",
   "execution_count": 15,
   "metadata": {},
   "outputs": [
    {
     "data": {
      "text/plain": [
       "1"
      ]
     },
     "execution_count": 15,
     "metadata": {},
     "output_type": "execute_result"
    }
   ],
   "source": [
    "data_sd['combined_to1'].iloc[1].index(1)"
   ]
  },
  {
   "cell_type": "code",
   "execution_count": 16,
   "metadata": {},
   "outputs": [
    {
     "data": {
      "text/plain": [
       "[1, 2, 3, 4, 7, 8, 10, 14, 15, 16, 21, 22, 25, 36, 40, 42, 44, 51]"
      ]
     },
     "execution_count": 16,
     "metadata": {},
     "output_type": "execute_result"
    }
   ],
   "source": [
    "data_sd['findindex']=data_sd['combined_to1'].apply(lambda x:[i for i, j in enumerate(x) if j == 1])\n",
    "data_sd['findindex'].iloc[1]"
   ]
  },
  {
   "cell_type": "code",
   "execution_count": 17,
   "metadata": {
    "collapsed": true
   },
   "outputs": [],
   "source": [
    "data_sd['lastgap']=data_sd['findindex'].apply(lambda x: np.nan if len(x)<=2 else x[-2:][1]-x[-2:][0] )"
   ]
  },
  {
   "cell_type": "code",
   "execution_count": 18,
   "metadata": {},
   "outputs": [
    {
     "name": "stderr",
     "output_type": "stream",
     "text": [
      "/Applications/anaconda3/lib/python3.6/site-packages/ipykernel_launcher.py:1: SettingWithCopyWarning: \n",
      "A value is trying to be set on a copy of a slice from a DataFrame.\n",
      "Try using .loc[row_indexer,col_indexer] = value instead\n",
      "\n",
      "See the caveats in the documentation: http://pandas.pydata.org/pandas-docs/stable/indexing.html#indexing-view-versus-copy\n",
      "  \"\"\"Entry point for launching an IPython kernel.\n"
     ]
    }
   ],
   "source": [
    "final['lastgap']=data_sd['lastgap']"
   ]
  },
  {
   "cell_type": "code",
   "execution_count": 19,
   "metadata": {
    "collapsed": true
   },
   "outputs": [],
   "source": [
    "temp=[1,2,5]"
   ]
  },
  {
   "cell_type": "code",
   "execution_count": 20,
   "metadata": {},
   "outputs": [
    {
     "data": {
      "text/plain": [
       "[1, 3]"
      ]
     },
     "execution_count": 20,
     "metadata": {},
     "output_type": "execute_result"
    }
   ],
   "source": [
    "[j-i for i, j in zip(temp[:-1], temp[1:])]"
   ]
  },
  {
   "cell_type": "code",
   "execution_count": 21,
   "metadata": {},
   "outputs": [
    {
     "data": {
      "text/plain": [
       "[1, 1, 1, 3, 1, 2, 4, 1, 1, 5, 1, 3, 11, 4, 2, 2, 7]"
      ]
     },
     "execution_count": 21,
     "metadata": {},
     "output_type": "execute_result"
    }
   ],
   "source": [
    "data_sd['gaps']=data_sd['findindex'].apply(lambda x: [j-i for i, j in zip(x[:-1], x[1:])] )\n",
    "data_sd['gaps'].iloc[1]"
   ]
  },
  {
   "cell_type": "code",
   "execution_count": 22,
   "metadata": {
    "collapsed": true
   },
   "outputs": [],
   "source": [
    "from statistics import mean"
   ]
  },
  {
   "cell_type": "code",
   "execution_count": 23,
   "metadata": {},
   "outputs": [
    {
     "data": {
      "text/plain": [
       "2.9411764705882355"
      ]
     },
     "execution_count": 23,
     "metadata": {},
     "output_type": "execute_result"
    }
   ],
   "source": [
    "mean(data_sd['gaps'].iloc[1])"
   ]
  },
  {
   "cell_type": "code",
   "execution_count": 24,
   "metadata": {
    "collapsed": true
   },
   "outputs": [],
   "source": [
    "data_sd['avg_gap']=data_sd['gaps'].apply(lambda x: mean(x) if len(x)>=1 else np.nan )"
   ]
  },
  {
   "cell_type": "code",
   "execution_count": 25,
   "metadata": {
    "collapsed": true
   },
   "outputs": [],
   "source": [
    "data_sd['min_gap']=data_sd['gaps'].apply(lambda x: min(x) if len(x)>=1 else np.nan )\n",
    "data_sd['max_gap']=data_sd['gaps'].apply(lambda x: max(x) if len(x)>=1 else np.nan )"
   ]
  },
  {
   "cell_type": "code",
   "execution_count": 26,
   "metadata": {},
   "outputs": [
    {
     "name": "stderr",
     "output_type": "stream",
     "text": [
      "/Applications/anaconda3/lib/python3.6/site-packages/ipykernel_launcher.py:1: SettingWithCopyWarning: \n",
      "A value is trying to be set on a copy of a slice from a DataFrame.\n",
      "Try using .loc[row_indexer,col_indexer] = value instead\n",
      "\n",
      "See the caveats in the documentation: http://pandas.pydata.org/pandas-docs/stable/indexing.html#indexing-view-versus-copy\n",
      "  \"\"\"Entry point for launching an IPython kernel.\n",
      "/Applications/anaconda3/lib/python3.6/site-packages/ipykernel_launcher.py:2: SettingWithCopyWarning: \n",
      "A value is trying to be set on a copy of a slice from a DataFrame.\n",
      "Try using .loc[row_indexer,col_indexer] = value instead\n",
      "\n",
      "See the caveats in the documentation: http://pandas.pydata.org/pandas-docs/stable/indexing.html#indexing-view-versus-copy\n",
      "  \n",
      "/Applications/anaconda3/lib/python3.6/site-packages/ipykernel_launcher.py:3: SettingWithCopyWarning: \n",
      "A value is trying to be set on a copy of a slice from a DataFrame.\n",
      "Try using .loc[row_indexer,col_indexer] = value instead\n",
      "\n",
      "See the caveats in the documentation: http://pandas.pydata.org/pandas-docs/stable/indexing.html#indexing-view-versus-copy\n",
      "  This is separate from the ipykernel package so we can avoid doing imports until\n"
     ]
    }
   ],
   "source": [
    "final['avg_gap']=data_sd['avg_gap']\n",
    "final['min_gap']=data_sd['min_gap']\n",
    "final['max_gap']=data_sd['max_gap']"
   ]
  },
  {
   "cell_type": "code",
   "execution_count": 27,
   "metadata": {
    "collapsed": true
   },
   "outputs": [],
   "source": [
    "data_sd['total_orders']=data_sd['combined'].apply(lambda x: sum(x) if len(x)>=1 else np.nan )"
   ]
  },
  {
   "cell_type": "code",
   "execution_count": 28,
   "metadata": {},
   "outputs": [
    {
     "name": "stderr",
     "output_type": "stream",
     "text": [
      "/Applications/anaconda3/lib/python3.6/site-packages/ipykernel_launcher.py:1: SettingWithCopyWarning: \n",
      "A value is trying to be set on a copy of a slice from a DataFrame.\n",
      "Try using .loc[row_indexer,col_indexer] = value instead\n",
      "\n",
      "See the caveats in the documentation: http://pandas.pydata.org/pandas-docs/stable/indexing.html#indexing-view-versus-copy\n",
      "  \"\"\"Entry point for launching an IPython kernel.\n"
     ]
    }
   ],
   "source": [
    "final['total_orders']=data_sd['total_orders']"
   ]
  },
  {
   "cell_type": "code",
   "execution_count": 29,
   "metadata": {
    "collapsed": true
   },
   "outputs": [],
   "source": [
    "weeks=data.filter(like='count', axis=1).fillna(0)\n",
    "\n",
    "len(weeks.columns.tolist())\n",
    "\n",
    "week1=weeks.columns.tolist()[0:10]\n",
    "week2=weeks.columns.tolist()[10:20]\n",
    "week3=weeks.columns.tolist()[20:30]\n",
    "week4=weeks.columns.tolist()[30:40]\n",
    "week5=weeks.columns.tolist()[40:50]\n",
    "week6=weeks.columns.tolist()[50:60]\n",
    "week7=weeks.columns.tolist()[60:70]"
   ]
  },
  {
   "cell_type": "code",
   "execution_count": 30,
   "metadata": {},
   "outputs": [
    {
     "name": "stderr",
     "output_type": "stream",
     "text": [
      "/Applications/anaconda3/lib/python3.6/site-packages/ipykernel_launcher.py:36: SettingWithCopyWarning: \n",
      "A value is trying to be set on a copy of a slice from a DataFrame.\n",
      "Try using .loc[row_indexer,col_indexer] = value instead\n",
      "\n",
      "See the caveats in the documentation: http://pandas.pydata.org/pandas-docs/stable/indexing.html#indexing-view-versus-copy\n",
      "/Applications/anaconda3/lib/python3.6/site-packages/ipykernel_launcher.py:37: SettingWithCopyWarning: \n",
      "A value is trying to be set on a copy of a slice from a DataFrame.\n",
      "Try using .loc[row_indexer,col_indexer] = value instead\n",
      "\n",
      "See the caveats in the documentation: http://pandas.pydata.org/pandas-docs/stable/indexing.html#indexing-view-versus-copy\n",
      "/Applications/anaconda3/lib/python3.6/site-packages/ipykernel_launcher.py:38: SettingWithCopyWarning: \n",
      "A value is trying to be set on a copy of a slice from a DataFrame.\n",
      "Try using .loc[row_indexer,col_indexer] = value instead\n",
      "\n",
      "See the caveats in the documentation: http://pandas.pydata.org/pandas-docs/stable/indexing.html#indexing-view-versus-copy\n",
      "/Applications/anaconda3/lib/python3.6/site-packages/ipykernel_launcher.py:39: SettingWithCopyWarning: \n",
      "A value is trying to be set on a copy of a slice from a DataFrame.\n",
      "Try using .loc[row_indexer,col_indexer] = value instead\n",
      "\n",
      "See the caveats in the documentation: http://pandas.pydata.org/pandas-docs/stable/indexing.html#indexing-view-versus-copy\n",
      "/Applications/anaconda3/lib/python3.6/site-packages/ipykernel_launcher.py:40: SettingWithCopyWarning: \n",
      "A value is trying to be set on a copy of a slice from a DataFrame.\n",
      "Try using .loc[row_indexer,col_indexer] = value instead\n",
      "\n",
      "See the caveats in the documentation: http://pandas.pydata.org/pandas-docs/stable/indexing.html#indexing-view-versus-copy\n",
      "/Applications/anaconda3/lib/python3.6/site-packages/ipykernel_launcher.py:41: SettingWithCopyWarning: \n",
      "A value is trying to be set on a copy of a slice from a DataFrame.\n",
      "Try using .loc[row_indexer,col_indexer] = value instead\n",
      "\n",
      "See the caveats in the documentation: http://pandas.pydata.org/pandas-docs/stable/indexing.html#indexing-view-versus-copy\n",
      "/Applications/anaconda3/lib/python3.6/site-packages/ipykernel_launcher.py:42: SettingWithCopyWarning: \n",
      "A value is trying to be set on a copy of a slice from a DataFrame.\n",
      "Try using .loc[row_indexer,col_indexer] = value instead\n",
      "\n",
      "See the caveats in the documentation: http://pandas.pydata.org/pandas-docs/stable/indexing.html#indexing-view-versus-copy\n"
     ]
    }
   ],
   "source": [
    "data_week1=data[week1].fillna(0)\n",
    "data_week1['combined']= data_week1.values.tolist()\n",
    "\n",
    "data_week1['w1_total_orders']=data_week1['combined'].apply(lambda x: sum(x))\n",
    "\n",
    "data_week2=data[week2].fillna(0)\n",
    "data_week2['combined']= data_week2.values.tolist()\n",
    "\n",
    "data_week2['w2_total_orders']=data_week2['combined'].apply(lambda x: sum(x))\n",
    "\n",
    "data_week3=data[week3].fillna(0)\n",
    "data_week3['combined']= data_week3.values.tolist()\n",
    "\n",
    "data_week3['w3_total_orders']=data_week3['combined'].apply(lambda x: sum(x))\n",
    "\n",
    "data_week4=data[week4].fillna(0)\n",
    "data_week4['combined']= data_week4.values.tolist()\n",
    "\n",
    "data_week4['w4_total_orders']=data_week4['combined'].apply(lambda x: sum(x))\n",
    "\n",
    "data_week5=data[week5].fillna(0)\n",
    "data_week5['combined']= data_week5.values.tolist()\n",
    "\n",
    "data_week5['w5_total_orders']=data_week5['combined'].apply(lambda x: sum(x))\n",
    "\n",
    "data_week6=data[week6].fillna(0)\n",
    "data_week6['combined']= data_week6.values.tolist()\n",
    "\n",
    "data_week6['w6_total_orders']=data_week6['combined'].apply(lambda x: sum(x))\n",
    "\n",
    "data_week7=data[week7].fillna(0)\n",
    "data_week7['combined']= data_week7.values.tolist()\n",
    "\n",
    "data_week7['w7_total_orders']=data_week7['combined'].apply(lambda x: sum(x))\n",
    "\n",
    "final['w1_total_orders']=data_week1['w1_total_orders']\n",
    "final['w2_total_orders']=data_week2['w2_total_orders']\n",
    "final['w3_total_orders']=data_week3['w3_total_orders']\n",
    "final['w4_total_orders']=data_week4['w4_total_orders']\n",
    "final['w5_total_orders']=data_week5['w5_total_orders']\n",
    "final['w6_total_orders']=data_week6['w6_total_orders']\n",
    "final['w7_total_orders']=data_week7['w7_total_orders']\n"
   ]
  },
  {
   "cell_type": "code",
   "execution_count": 31,
   "metadata": {
    "collapsed": true
   },
   "outputs": [],
   "source": [
    "data_coupon=data.filter(like='couponworth_sum', axis=1).fillna(0)"
   ]
  },
  {
   "cell_type": "code",
   "execution_count": 32,
   "metadata": {},
   "outputs": [
    {
     "data": {
      "text/html": [
       "<div>\n",
       "<style scoped>\n",
       "    .dataframe tbody tr th:only-of-type {\n",
       "        vertical-align: middle;\n",
       "    }\n",
       "\n",
       "    .dataframe tbody tr th {\n",
       "        vertical-align: top;\n",
       "    }\n",
       "\n",
       "    .dataframe thead th {\n",
       "        text-align: right;\n",
       "    }\n",
       "</style>\n",
       "<table border=\"1\" class=\"dataframe\">\n",
       "  <thead>\n",
       "    <tr style=\"text-align: right;\">\n",
       "      <th></th>\n",
       "      <th>04/04/2016couponworth_sum</th>\n",
       "      <th>04/05/2016couponworth_sum</th>\n",
       "      <th>04/06/2016couponworth_sum</th>\n",
       "      <th>04/07/2016couponworth_sum</th>\n",
       "      <th>04/08/2016couponworth_sum</th>\n",
       "      <th>04/09/2016couponworth_sum</th>\n",
       "      <th>04/10/2016couponworth_sum</th>\n",
       "      <th>04/11/2016couponworth_sum</th>\n",
       "      <th>04/12/2016couponworth_sum</th>\n",
       "      <th>04/13/2016couponworth_sum</th>\n",
       "      <th>...</th>\n",
       "      <th>06/03/2016couponworth_sum</th>\n",
       "      <th>06/04/2016couponworth_sum</th>\n",
       "      <th>06/05/2016couponworth_sum</th>\n",
       "      <th>06/06/2016couponworth_sum</th>\n",
       "      <th>06/07/2016couponworth_sum</th>\n",
       "      <th>06/08/2016couponworth_sum</th>\n",
       "      <th>06/09/2016couponworth_sum</th>\n",
       "      <th>06/10/2016couponworth_sum</th>\n",
       "      <th>06/11/2016couponworth_sum</th>\n",
       "      <th>06/12/2016couponworth_sum</th>\n",
       "    </tr>\n",
       "  </thead>\n",
       "  <tbody>\n",
       "    <tr>\n",
       "      <th>0</th>\n",
       "      <td>0.0</td>\n",
       "      <td>22.0</td>\n",
       "      <td>3.0</td>\n",
       "      <td>0.0</td>\n",
       "      <td>0.0</td>\n",
       "      <td>0.0</td>\n",
       "      <td>0.0</td>\n",
       "      <td>0.0</td>\n",
       "      <td>20.0</td>\n",
       "      <td>0.0</td>\n",
       "      <td>...</td>\n",
       "      <td>0.0</td>\n",
       "      <td>0.0</td>\n",
       "      <td>0.0</td>\n",
       "      <td>0.0</td>\n",
       "      <td>0.00</td>\n",
       "      <td>0.0</td>\n",
       "      <td>0.0</td>\n",
       "      <td>0.0</td>\n",
       "      <td>0.0</td>\n",
       "      <td>0.0</td>\n",
       "    </tr>\n",
       "    <tr>\n",
       "      <th>1</th>\n",
       "      <td>0.0</td>\n",
       "      <td>0.0</td>\n",
       "      <td>0.0</td>\n",
       "      <td>8.0</td>\n",
       "      <td>5.0</td>\n",
       "      <td>0.0</td>\n",
       "      <td>0.0</td>\n",
       "      <td>0.0</td>\n",
       "      <td>17.0</td>\n",
       "      <td>0.0</td>\n",
       "      <td>...</td>\n",
       "      <td>0.0</td>\n",
       "      <td>0.0</td>\n",
       "      <td>0.0</td>\n",
       "      <td>0.0</td>\n",
       "      <td>0.00</td>\n",
       "      <td>0.0</td>\n",
       "      <td>0.0</td>\n",
       "      <td>0.0</td>\n",
       "      <td>0.0</td>\n",
       "      <td>0.0</td>\n",
       "    </tr>\n",
       "    <tr>\n",
       "      <th>2</th>\n",
       "      <td>0.0</td>\n",
       "      <td>16.5</td>\n",
       "      <td>0.0</td>\n",
       "      <td>0.0</td>\n",
       "      <td>0.0</td>\n",
       "      <td>0.0</td>\n",
       "      <td>4.0</td>\n",
       "      <td>0.0</td>\n",
       "      <td>20.0</td>\n",
       "      <td>0.0</td>\n",
       "      <td>...</td>\n",
       "      <td>0.0</td>\n",
       "      <td>0.0</td>\n",
       "      <td>0.0</td>\n",
       "      <td>0.0</td>\n",
       "      <td>0.00</td>\n",
       "      <td>0.0</td>\n",
       "      <td>0.0</td>\n",
       "      <td>0.0</td>\n",
       "      <td>0.0</td>\n",
       "      <td>0.0</td>\n",
       "    </tr>\n",
       "    <tr>\n",
       "      <th>3</th>\n",
       "      <td>0.0</td>\n",
       "      <td>0.0</td>\n",
       "      <td>0.0</td>\n",
       "      <td>0.0</td>\n",
       "      <td>0.0</td>\n",
       "      <td>0.0</td>\n",
       "      <td>0.0</td>\n",
       "      <td>0.0</td>\n",
       "      <td>0.0</td>\n",
       "      <td>0.0</td>\n",
       "      <td>...</td>\n",
       "      <td>0.0</td>\n",
       "      <td>0.0</td>\n",
       "      <td>0.0</td>\n",
       "      <td>0.0</td>\n",
       "      <td>0.00</td>\n",
       "      <td>0.0</td>\n",
       "      <td>0.0</td>\n",
       "      <td>0.0</td>\n",
       "      <td>0.0</td>\n",
       "      <td>0.0</td>\n",
       "    </tr>\n",
       "    <tr>\n",
       "      <th>4</th>\n",
       "      <td>0.0</td>\n",
       "      <td>0.0</td>\n",
       "      <td>0.0</td>\n",
       "      <td>0.0</td>\n",
       "      <td>0.0</td>\n",
       "      <td>0.0</td>\n",
       "      <td>0.0</td>\n",
       "      <td>0.0</td>\n",
       "      <td>0.0</td>\n",
       "      <td>0.0</td>\n",
       "      <td>...</td>\n",
       "      <td>0.0</td>\n",
       "      <td>0.0</td>\n",
       "      <td>9.6</td>\n",
       "      <td>0.0</td>\n",
       "      <td>8.96</td>\n",
       "      <td>0.0</td>\n",
       "      <td>0.0</td>\n",
       "      <td>0.0</td>\n",
       "      <td>0.0</td>\n",
       "      <td>0.0</td>\n",
       "    </tr>\n",
       "  </tbody>\n",
       "</table>\n",
       "<p>5 rows × 70 columns</p>\n",
       "</div>"
      ],
      "text/plain": [
       "   04/04/2016couponworth_sum  04/05/2016couponworth_sum  \\\n",
       "0                        0.0                       22.0   \n",
       "1                        0.0                        0.0   \n",
       "2                        0.0                       16.5   \n",
       "3                        0.0                        0.0   \n",
       "4                        0.0                        0.0   \n",
       "\n",
       "   04/06/2016couponworth_sum  04/07/2016couponworth_sum  \\\n",
       "0                        3.0                        0.0   \n",
       "1                        0.0                        8.0   \n",
       "2                        0.0                        0.0   \n",
       "3                        0.0                        0.0   \n",
       "4                        0.0                        0.0   \n",
       "\n",
       "   04/08/2016couponworth_sum  04/09/2016couponworth_sum  \\\n",
       "0                        0.0                        0.0   \n",
       "1                        5.0                        0.0   \n",
       "2                        0.0                        0.0   \n",
       "3                        0.0                        0.0   \n",
       "4                        0.0                        0.0   \n",
       "\n",
       "   04/10/2016couponworth_sum  04/11/2016couponworth_sum  \\\n",
       "0                        0.0                        0.0   \n",
       "1                        0.0                        0.0   \n",
       "2                        4.0                        0.0   \n",
       "3                        0.0                        0.0   \n",
       "4                        0.0                        0.0   \n",
       "\n",
       "   04/12/2016couponworth_sum  04/13/2016couponworth_sum  \\\n",
       "0                       20.0                        0.0   \n",
       "1                       17.0                        0.0   \n",
       "2                       20.0                        0.0   \n",
       "3                        0.0                        0.0   \n",
       "4                        0.0                        0.0   \n",
       "\n",
       "             ...              06/03/2016couponworth_sum  \\\n",
       "0            ...                                    0.0   \n",
       "1            ...                                    0.0   \n",
       "2            ...                                    0.0   \n",
       "3            ...                                    0.0   \n",
       "4            ...                                    0.0   \n",
       "\n",
       "   06/04/2016couponworth_sum  06/05/2016couponworth_sum  \\\n",
       "0                        0.0                        0.0   \n",
       "1                        0.0                        0.0   \n",
       "2                        0.0                        0.0   \n",
       "3                        0.0                        0.0   \n",
       "4                        0.0                        9.6   \n",
       "\n",
       "   06/06/2016couponworth_sum  06/07/2016couponworth_sum  \\\n",
       "0                        0.0                       0.00   \n",
       "1                        0.0                       0.00   \n",
       "2                        0.0                       0.00   \n",
       "3                        0.0                       0.00   \n",
       "4                        0.0                       8.96   \n",
       "\n",
       "   06/08/2016couponworth_sum  06/09/2016couponworth_sum  \\\n",
       "0                        0.0                        0.0   \n",
       "1                        0.0                        0.0   \n",
       "2                        0.0                        0.0   \n",
       "3                        0.0                        0.0   \n",
       "4                        0.0                        0.0   \n",
       "\n",
       "   06/10/2016couponworth_sum  06/11/2016couponworth_sum  \\\n",
       "0                        0.0                        0.0   \n",
       "1                        0.0                        0.0   \n",
       "2                        0.0                        0.0   \n",
       "3                        0.0                        0.0   \n",
       "4                        0.0                        0.0   \n",
       "\n",
       "   06/12/2016couponworth_sum  \n",
       "0                        0.0  \n",
       "1                        0.0  \n",
       "2                        0.0  \n",
       "3                        0.0  \n",
       "4                        0.0  \n",
       "\n",
       "[5 rows x 70 columns]"
      ]
     },
     "execution_count": 32,
     "metadata": {},
     "output_type": "execute_result"
    }
   ],
   "source": [
    "data_coupon.head()"
   ]
  },
  {
   "cell_type": "code",
   "execution_count": 33,
   "metadata": {
    "collapsed": true
   },
   "outputs": [],
   "source": [
    "data_coupon['combined']= data_coupon.values.tolist()"
   ]
  },
  {
   "cell_type": "code",
   "execution_count": 34,
   "metadata": {
    "collapsed": true
   },
   "outputs": [],
   "source": [
    "data_coupon['total_couponworth']=data_coupon['combined'].apply(lambda x: sum(x)  )"
   ]
  },
  {
   "cell_type": "code",
   "execution_count": 35,
   "metadata": {},
   "outputs": [
    {
     "name": "stderr",
     "output_type": "stream",
     "text": [
      "/Applications/anaconda3/lib/python3.6/site-packages/ipykernel_launcher.py:1: SettingWithCopyWarning: \n",
      "A value is trying to be set on a copy of a slice from a DataFrame.\n",
      "Try using .loc[row_indexer,col_indexer] = value instead\n",
      "\n",
      "See the caveats in the documentation: http://pandas.pydata.org/pandas-docs/stable/indexing.html#indexing-view-versus-copy\n",
      "  \"\"\"Entry point for launching an IPython kernel.\n"
     ]
    }
   ],
   "source": [
    "final['total_couponworth']=data_coupon['total_couponworth']"
   ]
  },
  {
   "cell_type": "code",
   "execution_count": 36,
   "metadata": {
    "collapsed": true
   },
   "outputs": [],
   "source": [
    "weeks=data.filter(like='couponworth', axis=1).fillna(0)\n",
    "\n",
    "len(weeks.columns.tolist())\n",
    "\n",
    "week1=weeks.columns.tolist()[0:10]\n",
    "week2=weeks.columns.tolist()[10:20]\n",
    "week3=weeks.columns.tolist()[20:30]\n",
    "week4=weeks.columns.tolist()[30:40]\n",
    "week5=weeks.columns.tolist()[40:50]\n",
    "week6=weeks.columns.tolist()[50:60]\n",
    "week7=weeks.columns.tolist()[60:70]"
   ]
  },
  {
   "cell_type": "code",
   "execution_count": 37,
   "metadata": {},
   "outputs": [
    {
     "name": "stderr",
     "output_type": "stream",
     "text": [
      "/Applications/anaconda3/lib/python3.6/site-packages/ipykernel_launcher.py:36: SettingWithCopyWarning: \n",
      "A value is trying to be set on a copy of a slice from a DataFrame.\n",
      "Try using .loc[row_indexer,col_indexer] = value instead\n",
      "\n",
      "See the caveats in the documentation: http://pandas.pydata.org/pandas-docs/stable/indexing.html#indexing-view-versus-copy\n",
      "/Applications/anaconda3/lib/python3.6/site-packages/ipykernel_launcher.py:37: SettingWithCopyWarning: \n",
      "A value is trying to be set on a copy of a slice from a DataFrame.\n",
      "Try using .loc[row_indexer,col_indexer] = value instead\n",
      "\n",
      "See the caveats in the documentation: http://pandas.pydata.org/pandas-docs/stable/indexing.html#indexing-view-versus-copy\n",
      "/Applications/anaconda3/lib/python3.6/site-packages/ipykernel_launcher.py:38: SettingWithCopyWarning: \n",
      "A value is trying to be set on a copy of a slice from a DataFrame.\n",
      "Try using .loc[row_indexer,col_indexer] = value instead\n",
      "\n",
      "See the caveats in the documentation: http://pandas.pydata.org/pandas-docs/stable/indexing.html#indexing-view-versus-copy\n",
      "/Applications/anaconda3/lib/python3.6/site-packages/ipykernel_launcher.py:39: SettingWithCopyWarning: \n",
      "A value is trying to be set on a copy of a slice from a DataFrame.\n",
      "Try using .loc[row_indexer,col_indexer] = value instead\n",
      "\n",
      "See the caveats in the documentation: http://pandas.pydata.org/pandas-docs/stable/indexing.html#indexing-view-versus-copy\n",
      "/Applications/anaconda3/lib/python3.6/site-packages/ipykernel_launcher.py:40: SettingWithCopyWarning: \n",
      "A value is trying to be set on a copy of a slice from a DataFrame.\n",
      "Try using .loc[row_indexer,col_indexer] = value instead\n",
      "\n",
      "See the caveats in the documentation: http://pandas.pydata.org/pandas-docs/stable/indexing.html#indexing-view-versus-copy\n",
      "/Applications/anaconda3/lib/python3.6/site-packages/ipykernel_launcher.py:41: SettingWithCopyWarning: \n",
      "A value is trying to be set on a copy of a slice from a DataFrame.\n",
      "Try using .loc[row_indexer,col_indexer] = value instead\n",
      "\n",
      "See the caveats in the documentation: http://pandas.pydata.org/pandas-docs/stable/indexing.html#indexing-view-versus-copy\n",
      "/Applications/anaconda3/lib/python3.6/site-packages/ipykernel_launcher.py:42: SettingWithCopyWarning: \n",
      "A value is trying to be set on a copy of a slice from a DataFrame.\n",
      "Try using .loc[row_indexer,col_indexer] = value instead\n",
      "\n",
      "See the caveats in the documentation: http://pandas.pydata.org/pandas-docs/stable/indexing.html#indexing-view-versus-copy\n"
     ]
    }
   ],
   "source": [
    "data_week1=data[week1].fillna(0)\n",
    "data_week1['combined']= data_week1.values.tolist()\n",
    "\n",
    "data_week1['w1_total_couponworth']=data_week1['combined'].apply(lambda x: sum(x))\n",
    "\n",
    "data_week2=data[week2].fillna(0)\n",
    "data_week2['combined']= data_week2.values.tolist()\n",
    "\n",
    "data_week2['w2_total_couponworth']=data_week2['combined'].apply(lambda x: sum(x))\n",
    "\n",
    "data_week3=data[week3].fillna(0)\n",
    "data_week3['combined']= data_week3.values.tolist()\n",
    "\n",
    "data_week3['w3_total_couponworth']=data_week3['combined'].apply(lambda x: sum(x))\n",
    "\n",
    "data_week4=data[week4].fillna(0)\n",
    "data_week4['combined']= data_week4.values.tolist()\n",
    "\n",
    "data_week4['w4_total_couponworth']=data_week4['combined'].apply(lambda x: sum(x))\n",
    "\n",
    "data_week5=data[week5].fillna(0)\n",
    "data_week5['combined']= data_week5.values.tolist()\n",
    "\n",
    "data_week5['w5_total_couponworth']=data_week5['combined'].apply(lambda x: sum(x))\n",
    "\n",
    "data_week6=data[week6].fillna(0)\n",
    "data_week6['combined']= data_week6.values.tolist()\n",
    "\n",
    "data_week6['w6_total_couponworth']=data_week6['combined'].apply(lambda x: sum(x))\n",
    "\n",
    "data_week7=data[week7].fillna(0)\n",
    "data_week7['combined']= data_week7.values.tolist()\n",
    "\n",
    "data_week7['w7_total_couponworth']=data_week7['combined'].apply(lambda x: sum(x))\n",
    "\n",
    "final['w1_total_couponworth']=data_week1['w1_total_couponworth']\n",
    "final['w2_total_couponworth']=data_week2['w2_total_couponworth']\n",
    "final['w3_total_couponworth']=data_week3['w3_total_couponworth']\n",
    "final['w4_total_couponworth']=data_week4['w4_total_couponworth']\n",
    "final['w5_total_couponworth']=data_week5['w5_total_couponworth']\n",
    "final['w6_total_couponworth']=data_week6['w6_total_couponworth']\n",
    "final['w7_total_couponworth']=data_week7['w7_total_couponworth']\n",
    "\n"
   ]
  },
  {
   "cell_type": "code",
   "execution_count": 38,
   "metadata": {},
   "outputs": [
    {
     "name": "stderr",
     "output_type": "stream",
     "text": [
      "/Applications/anaconda3/lib/python3.6/site-packages/ipykernel_launcher.py:1: SettingWithCopyWarning: \n",
      "A value is trying to be set on a copy of a slice from a DataFrame.\n",
      "Try using .loc[row_indexer,col_indexer] = value instead\n",
      "\n",
      "See the caveats in the documentation: http://pandas.pydata.org/pandas-docs/stable/indexing.html#indexing-view-versus-copy\n",
      "  \"\"\"Entry point for launching an IPython kernel.\n"
     ]
    }
   ],
   "source": [
    "final['label']=data['label']"
   ]
  },
  {
   "cell_type": "code",
   "execution_count": 39,
   "metadata": {
    "collapsed": true
   },
   "outputs": [],
   "source": [
    "final.to_csv('Mengdan_features.csv',index=False)"
   ]
  },
  {
   "cell_type": "code",
   "execution_count": null,
   "metadata": {
    "collapsed": true
   },
   "outputs": [],
   "source": [
    "final=pd.read_csv('Mengdan_features.csv')"
   ]
  },
  {
   "cell_type": "code",
   "execution_count": 40,
   "metadata": {},
   "outputs": [
    {
     "data": {
      "text/plain": [
       "(191855, 24)"
      ]
     },
     "execution_count": 40,
     "metadata": {},
     "output_type": "execute_result"
    }
   ],
   "source": [
    "final.shape"
   ]
  },
  {
   "cell_type": "code",
   "execution_count": 41,
   "metadata": {},
   "outputs": [
    {
     "data": {
      "text/html": [
       "<div>\n",
       "<style scoped>\n",
       "    .dataframe tbody tr th:only-of-type {\n",
       "        vertical-align: middle;\n",
       "    }\n",
       "\n",
       "    .dataframe tbody tr th {\n",
       "        vertical-align: top;\n",
       "    }\n",
       "\n",
       "    .dataframe thead th {\n",
       "        text-align: right;\n",
       "    }\n",
       "</style>\n",
       "<table border=\"1\" class=\"dataframe\">\n",
       "  <thead>\n",
       "    <tr style=\"text-align: right;\">\n",
       "      <th></th>\n",
       "      <th>user_id</th>\n",
       "      <th>order_sd</th>\n",
       "      <th>active_days</th>\n",
       "      <th>lastgap</th>\n",
       "      <th>avg_gap</th>\n",
       "      <th>min_gap</th>\n",
       "      <th>max_gap</th>\n",
       "      <th>total_orders</th>\n",
       "      <th>w1_total_orders</th>\n",
       "      <th>w2_total_orders</th>\n",
       "      <th>...</th>\n",
       "      <th>w7_total_orders</th>\n",
       "      <th>total_couponworth</th>\n",
       "      <th>w1_total_couponworth</th>\n",
       "      <th>w2_total_couponworth</th>\n",
       "      <th>w3_total_couponworth</th>\n",
       "      <th>w4_total_couponworth</th>\n",
       "      <th>w5_total_couponworth</th>\n",
       "      <th>w6_total_couponworth</th>\n",
       "      <th>w7_total_couponworth</th>\n",
       "      <th>label</th>\n",
       "    </tr>\n",
       "  </thead>\n",
       "  <tbody>\n",
       "    <tr>\n",
       "      <th>0</th>\n",
       "      <td>100002020</td>\n",
       "      <td>0.663138</td>\n",
       "      <td>10</td>\n",
       "      <td>3.0</td>\n",
       "      <td>4.888889</td>\n",
       "      <td>1.0</td>\n",
       "      <td>12.0</td>\n",
       "      <td>16.0</td>\n",
       "      <td>4.0</td>\n",
       "      <td>2.0</td>\n",
       "      <td>...</td>\n",
       "      <td>0.0</td>\n",
       "      <td>126.00</td>\n",
       "      <td>45.0</td>\n",
       "      <td>17.0</td>\n",
       "      <td>15.0</td>\n",
       "      <td>33.0</td>\n",
       "      <td>16.0</td>\n",
       "      <td>0.00</td>\n",
       "      <td>0.00</td>\n",
       "      <td>0.0</td>\n",
       "    </tr>\n",
       "    <tr>\n",
       "      <th>1</th>\n",
       "      <td>100002033</td>\n",
       "      <td>0.602960</td>\n",
       "      <td>18</td>\n",
       "      <td>7.0</td>\n",
       "      <td>2.941176</td>\n",
       "      <td>1.0</td>\n",
       "      <td>11.0</td>\n",
       "      <td>22.0</td>\n",
       "      <td>8.0</td>\n",
       "      <td>5.0</td>\n",
       "      <td>...</td>\n",
       "      <td>0.0</td>\n",
       "      <td>101.00</td>\n",
       "      <td>30.0</td>\n",
       "      <td>19.0</td>\n",
       "      <td>8.0</td>\n",
       "      <td>15.0</td>\n",
       "      <td>16.0</td>\n",
       "      <td>13.00</td>\n",
       "      <td>0.00</td>\n",
       "      <td>0.0</td>\n",
       "    </tr>\n",
       "    <tr>\n",
       "      <th>2</th>\n",
       "      <td>100002035</td>\n",
       "      <td>0.391684</td>\n",
       "      <td>13</td>\n",
       "      <td>5.0</td>\n",
       "      <td>4.500000</td>\n",
       "      <td>2.0</td>\n",
       "      <td>12.0</td>\n",
       "      <td>13.0</td>\n",
       "      <td>3.0</td>\n",
       "      <td>2.0</td>\n",
       "      <td>...</td>\n",
       "      <td>0.0</td>\n",
       "      <td>140.50</td>\n",
       "      <td>40.5</td>\n",
       "      <td>25.0</td>\n",
       "      <td>23.0</td>\n",
       "      <td>0.0</td>\n",
       "      <td>27.0</td>\n",
       "      <td>25.00</td>\n",
       "      <td>0.00</td>\n",
       "      <td>0.0</td>\n",
       "    </tr>\n",
       "    <tr>\n",
       "      <th>3</th>\n",
       "      <td>100002036</td>\n",
       "      <td>0.337142</td>\n",
       "      <td>9</td>\n",
       "      <td>5.0</td>\n",
       "      <td>8.625000</td>\n",
       "      <td>1.0</td>\n",
       "      <td>53.0</td>\n",
       "      <td>9.0</td>\n",
       "      <td>2.0</td>\n",
       "      <td>0.0</td>\n",
       "      <td>...</td>\n",
       "      <td>3.0</td>\n",
       "      <td>5.00</td>\n",
       "      <td>0.0</td>\n",
       "      <td>0.0</td>\n",
       "      <td>0.0</td>\n",
       "      <td>0.0</td>\n",
       "      <td>0.0</td>\n",
       "      <td>5.00</td>\n",
       "      <td>0.00</td>\n",
       "      <td>1.0</td>\n",
       "    </tr>\n",
       "    <tr>\n",
       "      <th>4</th>\n",
       "      <td>100002040</td>\n",
       "      <td>0.535490</td>\n",
       "      <td>12</td>\n",
       "      <td>5.0</td>\n",
       "      <td>3.454545</td>\n",
       "      <td>1.0</td>\n",
       "      <td>6.0</td>\n",
       "      <td>15.0</td>\n",
       "      <td>0.0</td>\n",
       "      <td>0.0</td>\n",
       "      <td>...</td>\n",
       "      <td>5.0</td>\n",
       "      <td>45.48</td>\n",
       "      <td>0.0</td>\n",
       "      <td>0.0</td>\n",
       "      <td>0.0</td>\n",
       "      <td>3.0</td>\n",
       "      <td>14.0</td>\n",
       "      <td>9.92</td>\n",
       "      <td>18.56</td>\n",
       "      <td>1.0</td>\n",
       "    </tr>\n",
       "  </tbody>\n",
       "</table>\n",
       "<p>5 rows × 24 columns</p>\n",
       "</div>"
      ],
      "text/plain": [
       "     user_id  order_sd  active_days  lastgap   avg_gap  min_gap  max_gap  \\\n",
       "0  100002020  0.663138           10      3.0  4.888889      1.0     12.0   \n",
       "1  100002033  0.602960           18      7.0  2.941176      1.0     11.0   \n",
       "2  100002035  0.391684           13      5.0  4.500000      2.0     12.0   \n",
       "3  100002036  0.337142            9      5.0  8.625000      1.0     53.0   \n",
       "4  100002040  0.535490           12      5.0  3.454545      1.0      6.0   \n",
       "\n",
       "   total_orders  w1_total_orders  w2_total_orders  ...    w7_total_orders  \\\n",
       "0          16.0              4.0              2.0  ...                0.0   \n",
       "1          22.0              8.0              5.0  ...                0.0   \n",
       "2          13.0              3.0              2.0  ...                0.0   \n",
       "3           9.0              2.0              0.0  ...                3.0   \n",
       "4          15.0              0.0              0.0  ...                5.0   \n",
       "\n",
       "   total_couponworth  w1_total_couponworth  w2_total_couponworth  \\\n",
       "0             126.00                  45.0                  17.0   \n",
       "1             101.00                  30.0                  19.0   \n",
       "2             140.50                  40.5                  25.0   \n",
       "3               5.00                   0.0                   0.0   \n",
       "4              45.48                   0.0                   0.0   \n",
       "\n",
       "   w3_total_couponworth  w4_total_couponworth  w5_total_couponworth  \\\n",
       "0                  15.0                  33.0                  16.0   \n",
       "1                   8.0                  15.0                  16.0   \n",
       "2                  23.0                   0.0                  27.0   \n",
       "3                   0.0                   0.0                   0.0   \n",
       "4                   0.0                   3.0                  14.0   \n",
       "\n",
       "   w6_total_couponworth  w7_total_couponworth  label  \n",
       "0                  0.00                  0.00    0.0  \n",
       "1                 13.00                  0.00    0.0  \n",
       "2                 25.00                  0.00    0.0  \n",
       "3                  5.00                  0.00    1.0  \n",
       "4                  9.92                 18.56    1.0  \n",
       "\n",
       "[5 rows x 24 columns]"
      ]
     },
     "execution_count": 41,
     "metadata": {},
     "output_type": "execute_result"
    }
   ],
   "source": [
    "final.head()"
   ]
  },
  {
   "cell_type": "code",
   "execution_count": 42,
   "metadata": {
    "collapsed": true
   },
   "outputs": [],
   "source": [
    "data_xinwen=pd.read_csv('feature_engineering_xwpart.csv')"
   ]
  },
  {
   "cell_type": "code",
   "execution_count": 43,
   "metadata": {},
   "outputs": [
    {
     "data": {
      "text/plain": [
       "191865"
      ]
     },
     "execution_count": 43,
     "metadata": {},
     "output_type": "execute_result"
    }
   ],
   "source": [
    "len(data_xinwen)"
   ]
  },
  {
   "cell_type": "code",
   "execution_count": 44,
   "metadata": {},
   "outputs": [
    {
     "data": {
      "text/plain": [
       "191855"
      ]
     },
     "execution_count": 44,
     "metadata": {},
     "output_type": "execute_result"
    }
   ],
   "source": [
    "len(final)"
   ]
  },
  {
   "cell_type": "code",
   "execution_count": 63,
   "metadata": {},
   "outputs": [
    {
     "data": {
      "text/plain": [
       "set()"
      ]
     },
     "execution_count": 63,
     "metadata": {},
     "output_type": "execute_result"
    }
   ],
   "source": [
    "set(data_xinwen.user_id)-set(final.user_id)"
   ]
  },
  {
   "cell_type": "code",
   "execution_count": 67,
   "metadata": {},
   "outputs": [
    {
     "data": {
      "text/plain": [
       "True"
      ]
     },
     "execution_count": 67,
     "metadata": {},
     "output_type": "execute_result"
    }
   ],
   "source": [
    "set(data_xinwen.user_id)==set(final.user_id)"
   ]
  },
  {
   "cell_type": "code",
   "execution_count": 65,
   "metadata": {},
   "outputs": [
    {
     "data": {
      "text/plain": [
       "191855"
      ]
     },
     "execution_count": 65,
     "metadata": {},
     "output_type": "execute_result"
    }
   ],
   "source": [
    "len(data_xinwen.user_id.unique())"
   ]
  },
  {
   "cell_type": "code",
   "execution_count": 66,
   "metadata": {},
   "outputs": [
    {
     "data": {
      "text/plain": [
       "191855"
      ]
     },
     "execution_count": 66,
     "metadata": {},
     "output_type": "execute_result"
    }
   ],
   "source": [
    "len(final.user_id.unique())"
   ]
  },
  {
   "cell_type": "code",
   "execution_count": 64,
   "metadata": {},
   "outputs": [
    {
     "data": {
      "text/plain": [
       "set()"
      ]
     },
     "execution_count": 64,
     "metadata": {},
     "output_type": "execute_result"
    }
   ],
   "source": [
    "set(final.user_id)-set(data.user_id)"
   ]
  },
  {
   "cell_type": "code",
   "execution_count": 45,
   "metadata": {},
   "outputs": [
    {
     "data": {
      "text/html": [
       "<div>\n",
       "<style scoped>\n",
       "    .dataframe tbody tr th:only-of-type {\n",
       "        vertical-align: middle;\n",
       "    }\n",
       "\n",
       "    .dataframe tbody tr th {\n",
       "        vertical-align: top;\n",
       "    }\n",
       "\n",
       "    .dataframe thead th {\n",
       "        text-align: right;\n",
       "    }\n",
       "</style>\n",
       "<table border=\"1\" class=\"dataframe\">\n",
       "  <thead>\n",
       "    <tr style=\"text-align: right;\">\n",
       "      <th></th>\n",
       "      <th>user_id</th>\n",
       "      <th>first_order</th>\n",
       "      <th>last_order</th>\n",
       "      <th>accountLength</th>\n",
       "      <th>distance_min</th>\n",
       "      <th>distance_max</th>\n",
       "      <th>distance_mean</th>\n",
       "      <th>overall_time_mean</th>\n",
       "      <th>update2create_time_mean</th>\n",
       "      <th>send2update_time_mean</th>\n",
       "      <th>...</th>\n",
       "      <th>update2create_time_min</th>\n",
       "      <th>send2update_time_min</th>\n",
       "      <th>overall_time_max</th>\n",
       "      <th>update2create_time_max</th>\n",
       "      <th>send2update_time_max</th>\n",
       "      <th>intime_rate</th>\n",
       "      <th>last_coupon_fee</th>\n",
       "      <th>last_send_type</th>\n",
       "      <th>last_distance</th>\n",
       "      <th>order_nums</th>\n",
       "    </tr>\n",
       "  </thead>\n",
       "  <tbody>\n",
       "    <tr>\n",
       "      <th>0</th>\n",
       "      <td>100002020</td>\n",
       "      <td>68</td>\n",
       "      <td>24</td>\n",
       "      <td>626</td>\n",
       "      <td>0.0</td>\n",
       "      <td>6011.0</td>\n",
       "      <td>946.562500</td>\n",
       "      <td>4007.250000</td>\n",
       "      <td>2887.500000</td>\n",
       "      <td>2463.500000</td>\n",
       "      <td>...</td>\n",
       "      <td>1182.0</td>\n",
       "      <td>2095.0</td>\n",
       "      <td>9404.0</td>\n",
       "      <td>7309.0</td>\n",
       "      <td>2751.0</td>\n",
       "      <td>0.937500</td>\n",
       "      <td>9.0</td>\n",
       "      <td>1</td>\n",
       "      <td>56.0</td>\n",
       "      <td>8.0</td>\n",
       "    </tr>\n",
       "    <tr>\n",
       "      <th>1</th>\n",
       "      <td>100002033</td>\n",
       "      <td>68</td>\n",
       "      <td>18</td>\n",
       "      <td>626</td>\n",
       "      <td>524.0</td>\n",
       "      <td>2666.0</td>\n",
       "      <td>1646.500000</td>\n",
       "      <td>7422.545455</td>\n",
       "      <td>4852.619048</td>\n",
       "      <td>2737.333333</td>\n",
       "      <td>...</td>\n",
       "      <td>36.0</td>\n",
       "      <td>-132.0</td>\n",
       "      <td>63013.0</td>\n",
       "      <td>63145.0</td>\n",
       "      <td>8206.0</td>\n",
       "      <td>1.000000</td>\n",
       "      <td>7.0</td>\n",
       "      <td>1</td>\n",
       "      <td>2099.0</td>\n",
       "      <td>10.0</td>\n",
       "    </tr>\n",
       "    <tr>\n",
       "      <th>2</th>\n",
       "      <td>100002035</td>\n",
       "      <td>68</td>\n",
       "      <td>14</td>\n",
       "      <td>625</td>\n",
       "      <td>1069.0</td>\n",
       "      <td>1764.0</td>\n",
       "      <td>1313.000000</td>\n",
       "      <td>8809.923077</td>\n",
       "      <td>6259.384615</td>\n",
       "      <td>2550.538462</td>\n",
       "      <td>...</td>\n",
       "      <td>1664.0</td>\n",
       "      <td>1496.0</td>\n",
       "      <td>21959.0</td>\n",
       "      <td>18588.0</td>\n",
       "      <td>3524.0</td>\n",
       "      <td>1.000000</td>\n",
       "      <td>10.0</td>\n",
       "      <td>1</td>\n",
       "      <td>1423.0</td>\n",
       "      <td>7.0</td>\n",
       "    </tr>\n",
       "    <tr>\n",
       "      <th>3</th>\n",
       "      <td>100002036</td>\n",
       "      <td>69</td>\n",
       "      <td>0</td>\n",
       "      <td>625</td>\n",
       "      <td>1016.0</td>\n",
       "      <td>2237.0</td>\n",
       "      <td>1647.888889</td>\n",
       "      <td>8093.777778</td>\n",
       "      <td>5610.777778</td>\n",
       "      <td>2483.000000</td>\n",
       "      <td>...</td>\n",
       "      <td>162.0</td>\n",
       "      <td>526.0</td>\n",
       "      <td>17242.0</td>\n",
       "      <td>15155.0</td>\n",
       "      <td>4031.0</td>\n",
       "      <td>1.000000</td>\n",
       "      <td>0.0</td>\n",
       "      <td>1</td>\n",
       "      <td>1876.0</td>\n",
       "      <td>5.0</td>\n",
       "    </tr>\n",
       "    <tr>\n",
       "      <th>4</th>\n",
       "      <td>100002040</td>\n",
       "      <td>38</td>\n",
       "      <td>0</td>\n",
       "      <td>625</td>\n",
       "      <td>690.0</td>\n",
       "      <td>4513.0</td>\n",
       "      <td>1707.800000</td>\n",
       "      <td>4369.533333</td>\n",
       "      <td>2197.785714</td>\n",
       "      <td>2199.928571</td>\n",
       "      <td>...</td>\n",
       "      <td>932.0</td>\n",
       "      <td>283.0</td>\n",
       "      <td>7915.0</td>\n",
       "      <td>5828.0</td>\n",
       "      <td>3324.0</td>\n",
       "      <td>0.933333</td>\n",
       "      <td>0.0</td>\n",
       "      <td>1</td>\n",
       "      <td>2140.0</td>\n",
       "      <td>2.0</td>\n",
       "    </tr>\n",
       "  </tbody>\n",
       "</table>\n",
       "<p>5 rows × 21 columns</p>\n",
       "</div>"
      ],
      "text/plain": [
       "     user_id  first_order  last_order  accountLength  distance_min  \\\n",
       "0  100002020           68          24            626           0.0   \n",
       "1  100002033           68          18            626         524.0   \n",
       "2  100002035           68          14            625        1069.0   \n",
       "3  100002036           69           0            625        1016.0   \n",
       "4  100002040           38           0            625         690.0   \n",
       "\n",
       "   distance_max  distance_mean  overall_time_mean  update2create_time_mean  \\\n",
       "0        6011.0     946.562500        4007.250000              2887.500000   \n",
       "1        2666.0    1646.500000        7422.545455              4852.619048   \n",
       "2        1764.0    1313.000000        8809.923077              6259.384615   \n",
       "3        2237.0    1647.888889        8093.777778              5610.777778   \n",
       "4        4513.0    1707.800000        4369.533333              2197.785714   \n",
       "\n",
       "   send2update_time_mean     ...      update2create_time_min  \\\n",
       "0            2463.500000     ...                      1182.0   \n",
       "1            2737.333333     ...                        36.0   \n",
       "2            2550.538462     ...                      1664.0   \n",
       "3            2483.000000     ...                       162.0   \n",
       "4            2199.928571     ...                       932.0   \n",
       "\n",
       "   send2update_time_min  overall_time_max  update2create_time_max  \\\n",
       "0                2095.0            9404.0                  7309.0   \n",
       "1                -132.0           63013.0                 63145.0   \n",
       "2                1496.0           21959.0                 18588.0   \n",
       "3                 526.0           17242.0                 15155.0   \n",
       "4                 283.0            7915.0                  5828.0   \n",
       "\n",
       "   send2update_time_max  intime_rate  last_coupon_fee last_send_type  \\\n",
       "0                2751.0     0.937500              9.0              1   \n",
       "1                8206.0     1.000000              7.0              1   \n",
       "2                3524.0     1.000000             10.0              1   \n",
       "3                4031.0     1.000000              0.0              1   \n",
       "4                3324.0     0.933333              0.0              1   \n",
       "\n",
       "   last_distance  order_nums  \n",
       "0           56.0         8.0  \n",
       "1         2099.0        10.0  \n",
       "2         1423.0         7.0  \n",
       "3         1876.0         5.0  \n",
       "4         2140.0         2.0  \n",
       "\n",
       "[5 rows x 21 columns]"
      ]
     },
     "execution_count": 45,
     "metadata": {},
     "output_type": "execute_result"
    }
   ],
   "source": [
    "data_xinwen.head()"
   ]
  },
  {
   "cell_type": "code",
   "execution_count": 46,
   "metadata": {
    "collapsed": true
   },
   "outputs": [],
   "source": [
    "final2=pd.merge(final,data_xinwen,how='left',on='user_id')"
   ]
  },
  {
   "cell_type": "code",
   "execution_count": 47,
   "metadata": {},
   "outputs": [
    {
     "data": {
      "text/plain": [
       "44"
      ]
     },
     "execution_count": 47,
     "metadata": {},
     "output_type": "execute_result"
    }
   ],
   "source": [
    "len(final2.columns)"
   ]
  },
  {
   "cell_type": "code",
   "execution_count": 48,
   "metadata": {
    "collapsed": true
   },
   "outputs": [],
   "source": [
    "final2.to_csv('all_data.csv',index=False)"
   ]
  },
  {
   "cell_type": "code",
   "execution_count": 49,
   "metadata": {},
   "outputs": [
    {
     "data": {
      "text/plain": [
       "191865"
      ]
     },
     "execution_count": 49,
     "metadata": {},
     "output_type": "execute_result"
    }
   ],
   "source": [
    "len(final2)"
   ]
  },
  {
   "cell_type": "code",
   "execution_count": 50,
   "metadata": {
    "collapsed": true
   },
   "outputs": [],
   "source": [
    "data_count=data.filter(like='count', axis=1).fillna(0)"
   ]
  },
  {
   "cell_type": "code",
   "execution_count": 51,
   "metadata": {
    "collapsed": true
   },
   "outputs": [],
   "source": [
    "data_count['user_id']=data['user_id']"
   ]
  },
  {
   "cell_type": "code",
   "execution_count": 52,
   "metadata": {
    "collapsed": true
   },
   "outputs": [],
   "source": [
    "final3=pd.merge(final2,data_count,how='left',on='user_id')"
   ]
  },
  {
   "cell_type": "code",
   "execution_count": 53,
   "metadata": {
    "collapsed": true
   },
   "outputs": [],
   "source": [
    "final3.to_csv('all_data_add_daily_feature.csv',index=False)"
   ]
  },
  {
   "cell_type": "code",
   "execution_count": 54,
   "metadata": {},
   "outputs": [
    {
     "data": {
      "text/html": [
       "<div>\n",
       "<style scoped>\n",
       "    .dataframe tbody tr th:only-of-type {\n",
       "        vertical-align: middle;\n",
       "    }\n",
       "\n",
       "    .dataframe tbody tr th {\n",
       "        vertical-align: top;\n",
       "    }\n",
       "\n",
       "    .dataframe thead th {\n",
       "        text-align: right;\n",
       "    }\n",
       "</style>\n",
       "<table border=\"1\" class=\"dataframe\">\n",
       "  <thead>\n",
       "    <tr style=\"text-align: right;\">\n",
       "      <th></th>\n",
       "      <th>user_id</th>\n",
       "      <th>order_sd</th>\n",
       "      <th>active_days</th>\n",
       "      <th>lastgap</th>\n",
       "      <th>avg_gap</th>\n",
       "      <th>min_gap</th>\n",
       "      <th>max_gap</th>\n",
       "      <th>total_orders</th>\n",
       "      <th>w1_total_orders</th>\n",
       "      <th>w2_total_orders</th>\n",
       "      <th>...</th>\n",
       "      <th>update2create_time_min</th>\n",
       "      <th>send2update_time_min</th>\n",
       "      <th>overall_time_max</th>\n",
       "      <th>update2create_time_max</th>\n",
       "      <th>send2update_time_max</th>\n",
       "      <th>intime_rate</th>\n",
       "      <th>last_coupon_fee</th>\n",
       "      <th>last_send_type</th>\n",
       "      <th>last_distance</th>\n",
       "      <th>order_nums</th>\n",
       "    </tr>\n",
       "  </thead>\n",
       "  <tbody>\n",
       "    <tr>\n",
       "      <th>0</th>\n",
       "      <td>100002020</td>\n",
       "      <td>0.663138</td>\n",
       "      <td>10</td>\n",
       "      <td>3.0</td>\n",
       "      <td>4.888889</td>\n",
       "      <td>1.0</td>\n",
       "      <td>12.0</td>\n",
       "      <td>16.0</td>\n",
       "      <td>4.0</td>\n",
       "      <td>2.0</td>\n",
       "      <td>...</td>\n",
       "      <td>1182.0</td>\n",
       "      <td>2095.0</td>\n",
       "      <td>9404.0</td>\n",
       "      <td>7309.0</td>\n",
       "      <td>2751.0</td>\n",
       "      <td>0.937500</td>\n",
       "      <td>9.0</td>\n",
       "      <td>1</td>\n",
       "      <td>56.0</td>\n",
       "      <td>8.0</td>\n",
       "    </tr>\n",
       "    <tr>\n",
       "      <th>1</th>\n",
       "      <td>100002033</td>\n",
       "      <td>0.602960</td>\n",
       "      <td>18</td>\n",
       "      <td>7.0</td>\n",
       "      <td>2.941176</td>\n",
       "      <td>1.0</td>\n",
       "      <td>11.0</td>\n",
       "      <td>22.0</td>\n",
       "      <td>8.0</td>\n",
       "      <td>5.0</td>\n",
       "      <td>...</td>\n",
       "      <td>36.0</td>\n",
       "      <td>-132.0</td>\n",
       "      <td>63013.0</td>\n",
       "      <td>63145.0</td>\n",
       "      <td>8206.0</td>\n",
       "      <td>1.000000</td>\n",
       "      <td>7.0</td>\n",
       "      <td>1</td>\n",
       "      <td>2099.0</td>\n",
       "      <td>10.0</td>\n",
       "    </tr>\n",
       "    <tr>\n",
       "      <th>2</th>\n",
       "      <td>100002035</td>\n",
       "      <td>0.391684</td>\n",
       "      <td>13</td>\n",
       "      <td>5.0</td>\n",
       "      <td>4.500000</td>\n",
       "      <td>2.0</td>\n",
       "      <td>12.0</td>\n",
       "      <td>13.0</td>\n",
       "      <td>3.0</td>\n",
       "      <td>2.0</td>\n",
       "      <td>...</td>\n",
       "      <td>1664.0</td>\n",
       "      <td>1496.0</td>\n",
       "      <td>21959.0</td>\n",
       "      <td>18588.0</td>\n",
       "      <td>3524.0</td>\n",
       "      <td>1.000000</td>\n",
       "      <td>10.0</td>\n",
       "      <td>1</td>\n",
       "      <td>1423.0</td>\n",
       "      <td>7.0</td>\n",
       "    </tr>\n",
       "    <tr>\n",
       "      <th>3</th>\n",
       "      <td>100002036</td>\n",
       "      <td>0.337142</td>\n",
       "      <td>9</td>\n",
       "      <td>5.0</td>\n",
       "      <td>8.625000</td>\n",
       "      <td>1.0</td>\n",
       "      <td>53.0</td>\n",
       "      <td>9.0</td>\n",
       "      <td>2.0</td>\n",
       "      <td>0.0</td>\n",
       "      <td>...</td>\n",
       "      <td>162.0</td>\n",
       "      <td>526.0</td>\n",
       "      <td>17242.0</td>\n",
       "      <td>15155.0</td>\n",
       "      <td>4031.0</td>\n",
       "      <td>1.000000</td>\n",
       "      <td>0.0</td>\n",
       "      <td>1</td>\n",
       "      <td>1876.0</td>\n",
       "      <td>5.0</td>\n",
       "    </tr>\n",
       "    <tr>\n",
       "      <th>4</th>\n",
       "      <td>100002040</td>\n",
       "      <td>0.535490</td>\n",
       "      <td>12</td>\n",
       "      <td>5.0</td>\n",
       "      <td>3.454545</td>\n",
       "      <td>1.0</td>\n",
       "      <td>6.0</td>\n",
       "      <td>15.0</td>\n",
       "      <td>0.0</td>\n",
       "      <td>0.0</td>\n",
       "      <td>...</td>\n",
       "      <td>932.0</td>\n",
       "      <td>283.0</td>\n",
       "      <td>7915.0</td>\n",
       "      <td>5828.0</td>\n",
       "      <td>3324.0</td>\n",
       "      <td>0.933333</td>\n",
       "      <td>0.0</td>\n",
       "      <td>1</td>\n",
       "      <td>2140.0</td>\n",
       "      <td>2.0</td>\n",
       "    </tr>\n",
       "  </tbody>\n",
       "</table>\n",
       "<p>5 rows × 44 columns</p>\n",
       "</div>"
      ],
      "text/plain": [
       "     user_id  order_sd  active_days  lastgap   avg_gap  min_gap  max_gap  \\\n",
       "0  100002020  0.663138           10      3.0  4.888889      1.0     12.0   \n",
       "1  100002033  0.602960           18      7.0  2.941176      1.0     11.0   \n",
       "2  100002035  0.391684           13      5.0  4.500000      2.0     12.0   \n",
       "3  100002036  0.337142            9      5.0  8.625000      1.0     53.0   \n",
       "4  100002040  0.535490           12      5.0  3.454545      1.0      6.0   \n",
       "\n",
       "   total_orders  w1_total_orders  w2_total_orders     ...      \\\n",
       "0          16.0              4.0              2.0     ...       \n",
       "1          22.0              8.0              5.0     ...       \n",
       "2          13.0              3.0              2.0     ...       \n",
       "3           9.0              2.0              0.0     ...       \n",
       "4          15.0              0.0              0.0     ...       \n",
       "\n",
       "   update2create_time_min  send2update_time_min  overall_time_max  \\\n",
       "0                  1182.0                2095.0            9404.0   \n",
       "1                    36.0                -132.0           63013.0   \n",
       "2                  1664.0                1496.0           21959.0   \n",
       "3                   162.0                 526.0           17242.0   \n",
       "4                   932.0                 283.0            7915.0   \n",
       "\n",
       "   update2create_time_max  send2update_time_max  intime_rate  last_coupon_fee  \\\n",
       "0                  7309.0                2751.0     0.937500              9.0   \n",
       "1                 63145.0                8206.0     1.000000              7.0   \n",
       "2                 18588.0                3524.0     1.000000             10.0   \n",
       "3                 15155.0                4031.0     1.000000              0.0   \n",
       "4                  5828.0                3324.0     0.933333              0.0   \n",
       "\n",
       "   last_send_type  last_distance  order_nums  \n",
       "0               1           56.0         8.0  \n",
       "1               1         2099.0        10.0  \n",
       "2               1         1423.0         7.0  \n",
       "3               1         1876.0         5.0  \n",
       "4               1         2140.0         2.0  \n",
       "\n",
       "[5 rows x 44 columns]"
      ]
     },
     "execution_count": 54,
     "metadata": {},
     "output_type": "execute_result"
    }
   ],
   "source": [
    "final2.head()"
   ]
  },
  {
   "cell_type": "code",
   "execution_count": 55,
   "metadata": {},
   "outputs": [
    {
     "name": "stderr",
     "output_type": "stream",
     "text": [
      "/Applications/anaconda3/lib/python3.6/site-packages/IPython/core/interactiveshell.py:2698: DtypeWarning: Columns (4) have mixed types. Specify dtype option on import or set low_memory=False.\n",
      "  interactivity=interactivity, compiler=compiler, result=result)\n"
     ]
    }
   ],
   "source": [
    "data_user=pd.read_csv('userInfo.csv')"
   ]
  },
  {
   "cell_type": "code",
   "execution_count": 56,
   "metadata": {},
   "outputs": [
    {
     "data": {
      "text/plain": [
       "Index(['Unnamed: 0', 'user_id', 'city_id', 'sex', 'age', 'occupation',\n",
       "       'invite_id', 'invite_code', 'login_platform', 'last_login',\n",
       "       'app_version', 'create_time'],\n",
       "      dtype='object')"
      ]
     },
     "execution_count": 56,
     "metadata": {},
     "output_type": "execute_result"
    }
   ],
   "source": [
    "data_user.columns"
   ]
  },
  {
   "cell_type": "code",
   "execution_count": 57,
   "metadata": {
    "collapsed": true
   },
   "outputs": [],
   "source": [
    "data_user=data_user[['user_id', 'city_id', 'sex', 'age', 'occupation',\n",
    "       'invite_id', 'invite_code', 'login_platform', \n",
    "       'app_version']]"
   ]
  },
  {
   "cell_type": "code",
   "execution_count": 58,
   "metadata": {
    "collapsed": true
   },
   "outputs": [],
   "source": [
    "final2=pd.merge(final2,data_user,how='left',on='user_id')"
   ]
  },
  {
   "cell_type": "code",
   "execution_count": 59,
   "metadata": {},
   "outputs": [
    {
     "data": {
      "text/plain": [
       "191865"
      ]
     },
     "execution_count": 59,
     "metadata": {},
     "output_type": "execute_result"
    }
   ],
   "source": [
    "len(final2)"
   ]
  },
  {
   "cell_type": "code",
   "execution_count": 60,
   "metadata": {
    "collapsed": true
   },
   "outputs": [],
   "source": [
    "final2.to_csv('all_data.csv',index=False)"
   ]
  },
  {
   "cell_type": "code",
   "execution_count": 61,
   "metadata": {
    "collapsed": true
   },
   "outputs": [],
   "source": [
    "final3=pd.merge(final3,data_user,how='left',on='user_id')"
   ]
  },
  {
   "cell_type": "code",
   "execution_count": 62,
   "metadata": {},
   "outputs": [
    {
     "name": "stderr",
     "output_type": "stream",
     "text": [
      "ERROR:root:Internal Python error in the inspect module.\n",
      "Below is the traceback from this internal error.\n",
      "\n"
     ]
    },
    {
     "name": "stdout",
     "output_type": "stream",
     "text": [
      "Traceback (most recent call last):\n",
      "  File \"/Applications/anaconda3/lib/python3.6/site-packages/IPython/core/interactiveshell.py\", line 2862, in run_code\n",
      "    exec(code_obj, self.user_global_ns, self.user_ns)\n",
      "  File \"<ipython-input-62-3aa4fba0c2d0>\", line 1, in <module>\n",
      "    final3.to_csv('all_data_add_daily_feature.csv',index=False)\n",
      "  File \"/Applications/anaconda3/lib/python3.6/site-packages/pandas/core/frame.py\", line 1745, in to_csv\n",
      "    formatter.save()\n",
      "  File \"/Applications/anaconda3/lib/python3.6/site-packages/pandas/io/formats/csvs.py\", line 171, in save\n",
      "    self._save()\n",
      "  File \"/Applications/anaconda3/lib/python3.6/site-packages/pandas/io/formats/csvs.py\", line 286, in _save\n",
      "    self._save_chunk(start_i, end_i)\n",
      "  File \"/Applications/anaconda3/lib/python3.6/site-packages/pandas/io/formats/csvs.py\", line 310, in _save_chunk\n",
      "    quoting=self.quoting)\n",
      "  File \"/Applications/anaconda3/lib/python3.6/site-packages/pandas/core/indexes/base.py\", line 2432, in to_native_types\n",
      "    return values._format_native_types(**kwargs)\n",
      "  File \"/Applications/anaconda3/lib/python3.6/site-packages/pandas/core/indexes/base.py\", line 2438, in _format_native_types\n",
      "    values = np.asarray(self).astype(str)\n",
      "KeyboardInterrupt\n",
      "\n",
      "During handling of the above exception, another exception occurred:\n",
      "\n",
      "Traceback (most recent call last):\n",
      "  File \"/Applications/anaconda3/lib/python3.6/site-packages/IPython/core/interactiveshell.py\", line 1806, in showtraceback\n",
      "    stb = value._render_traceback_()\n",
      "AttributeError: 'KeyboardInterrupt' object has no attribute '_render_traceback_'\n",
      "\n",
      "During handling of the above exception, another exception occurred:\n",
      "\n",
      "Traceback (most recent call last):\n",
      "  File \"/Applications/anaconda3/lib/python3.6/site-packages/IPython/core/ultratb.py\", line 1090, in get_records\n",
      "    return _fixed_getinnerframes(etb, number_of_lines_of_context, tb_offset)\n",
      "  File \"/Applications/anaconda3/lib/python3.6/site-packages/IPython/core/ultratb.py\", line 311, in wrapped\n",
      "    return f(*args, **kwargs)\n",
      "  File \"/Applications/anaconda3/lib/python3.6/site-packages/IPython/core/ultratb.py\", line 345, in _fixed_getinnerframes\n",
      "    records = fix_frame_records_filenames(inspect.getinnerframes(etb, context))\n",
      "  File \"/Applications/anaconda3/lib/python3.6/inspect.py\", line 1480, in getinnerframes\n",
      "    frameinfo = (tb.tb_frame,) + getframeinfo(tb, context)\n",
      "  File \"/Applications/anaconda3/lib/python3.6/inspect.py\", line 1438, in getframeinfo\n",
      "    filename = getsourcefile(frame) or getfile(frame)\n",
      "  File \"/Applications/anaconda3/lib/python3.6/inspect.py\", line 693, in getsourcefile\n",
      "    if getattr(getmodule(object, filename), '__loader__', None) is not None:\n",
      "  File \"/Applications/anaconda3/lib/python3.6/inspect.py\", line 736, in getmodule\n",
      "    f = getabsfile(module)\n",
      "  File \"/Applications/anaconda3/lib/python3.6/inspect.py\", line 706, in getabsfile\n",
      "    return os.path.normcase(os.path.abspath(_filename))\n",
      "  File \"/Applications/anaconda3/lib/python3.6/posixpath.py\", line 376, in abspath\n",
      "    return normpath(path)\n",
      "  File \"/Applications/anaconda3/lib/python3.6/posixpath.py\", line 357, in normpath\n",
      "    new_comps.append(comp)\n",
      "KeyboardInterrupt\n"
     ]
    },
    {
     "ename": "KeyboardInterrupt",
     "evalue": "",
     "output_type": "error",
     "traceback": [
      "\u001b[0;31m---------------------------------------------------------------------------\u001b[0m"
     ]
    }
   ],
   "source": [
    "final3.to_csv('all_data_add_daily_feature.csv',index=False)"
   ]
  },
  {
   "cell_type": "code",
   "execution_count": null,
   "metadata": {
    "collapsed": true
   },
   "outputs": [],
   "source": []
  }
 ],
 "metadata": {
  "kernelspec": {
   "display_name": "Python 3",
   "language": "python",
   "name": "python3"
  },
  "language_info": {
   "codemirror_mode": {
    "name": "ipython",
    "version": 3
   },
   "file_extension": ".py",
   "mimetype": "text/x-python",
   "name": "python",
   "nbconvert_exporter": "python",
   "pygments_lexer": "ipython3",
   "version": "3.6.3"
  }
 },
 "nbformat": 4,
 "nbformat_minor": 2
}
