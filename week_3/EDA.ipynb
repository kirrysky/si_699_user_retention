{
 "cells": [
  {
   "cell_type": "code",
   "execution_count": 1,
   "metadata": {
    "collapsed": true
   },
   "outputs": [],
   "source": [
    "import pandas as pd"
   ]
  },
  {
   "cell_type": "code",
   "execution_count": 20,
   "metadata": {},
   "outputs": [],
   "source": [
    "data_user=pd.read_csv('userInfo.csv',dtype={'age':str})"
   ]
  },
  {
   "cell_type": "code",
   "execution_count": 22,
   "metadata": {},
   "outputs": [
    {
     "data": {
      "text/html": [
       "<div>\n",
       "<style scoped>\n",
       "    .dataframe tbody tr th:only-of-type {\n",
       "        vertical-align: middle;\n",
       "    }\n",
       "\n",
       "    .dataframe tbody tr th {\n",
       "        vertical-align: top;\n",
       "    }\n",
       "\n",
       "    .dataframe thead th {\n",
       "        text-align: right;\n",
       "    }\n",
       "</style>\n",
       "<table border=\"1\" class=\"dataframe\">\n",
       "  <thead>\n",
       "    <tr style=\"text-align: right;\">\n",
       "      <th></th>\n",
       "      <th>Unnamed: 0</th>\n",
       "      <th>user_id</th>\n",
       "      <th>city_id</th>\n",
       "      <th>sex</th>\n",
       "      <th>age</th>\n",
       "      <th>occupation</th>\n",
       "      <th>invite_id</th>\n",
       "      <th>invite_code</th>\n",
       "      <th>login_platform</th>\n",
       "      <th>last_login</th>\n",
       "      <th>app_version</th>\n",
       "      <th>create_time</th>\n",
       "    </tr>\n",
       "  </thead>\n",
       "  <tbody>\n",
       "    <tr>\n",
       "      <th>0</th>\n",
       "      <td>0</td>\n",
       "      <td>100002020</td>\n",
       "      <td>0</td>\n",
       "      <td>1</td>\n",
       "      <td>80.0</td>\n",
       "      <td>互联网</td>\n",
       "      <td>0</td>\n",
       "      <td>9828.0</td>\n",
       "      <td>Android</td>\n",
       "      <td>2016-07-04 17:53:27.0</td>\n",
       "      <td>2.8.2</td>\n",
       "      <td>2014-09-25 08:43:55.0</td>\n",
       "    </tr>\n",
       "    <tr>\n",
       "      <th>1</th>\n",
       "      <td>3</td>\n",
       "      <td>100002023</td>\n",
       "      <td>0</td>\n",
       "      <td>2</td>\n",
       "      <td>80.0</td>\n",
       "      <td>公司员工</td>\n",
       "      <td>0</td>\n",
       "      <td>7262.0</td>\n",
       "      <td>iOS</td>\n",
       "      <td>2016-01-23 10:50:37.0</td>\n",
       "      <td>2.4.6</td>\n",
       "      <td>2014-09-25 11:32:21.0</td>\n",
       "    </tr>\n",
       "    <tr>\n",
       "      <th>2</th>\n",
       "      <td>4</td>\n",
       "      <td>100002024</td>\n",
       "      <td>0</td>\n",
       "      <td>1</td>\n",
       "      <td>90.0</td>\n",
       "      <td>程序员</td>\n",
       "      <td>0</td>\n",
       "      <td>5723.0</td>\n",
       "      <td>iOS</td>\n",
       "      <td>2017-03-07 18:16:19.0</td>\n",
       "      <td>3.3.0</td>\n",
       "      <td>2014-09-25 14:54:44.0</td>\n",
       "    </tr>\n",
       "    <tr>\n",
       "      <th>3</th>\n",
       "      <td>13</td>\n",
       "      <td>100002033</td>\n",
       "      <td>0</td>\n",
       "      <td>0</td>\n",
       "      <td>NaN</td>\n",
       "      <td>NaN</td>\n",
       "      <td>0</td>\n",
       "      <td>6126.0</td>\n",
       "      <td>iOS</td>\n",
       "      <td>2017-05-12 00:42:20.0</td>\n",
       "      <td>3.5.0</td>\n",
       "      <td>2014-09-25 23:55:48.0</td>\n",
       "    </tr>\n",
       "    <tr>\n",
       "      <th>4</th>\n",
       "      <td>14</td>\n",
       "      <td>100002034</td>\n",
       "      <td>0</td>\n",
       "      <td>0</td>\n",
       "      <td>NaN</td>\n",
       "      <td>NaN</td>\n",
       "      <td>0</td>\n",
       "      <td>6665.0</td>\n",
       "      <td>iOS</td>\n",
       "      <td>2015-12-21 18:01:17.0</td>\n",
       "      <td>2.4.2</td>\n",
       "      <td>2014-09-26 08:01:30.0</td>\n",
       "    </tr>\n",
       "  </tbody>\n",
       "</table>\n",
       "</div>"
      ],
      "text/plain": [
       "   Unnamed: 0    user_id  city_id  sex   age occupation  invite_id  \\\n",
       "0           0  100002020        0    1  80.0        互联网          0   \n",
       "1           3  100002023        0    2  80.0       公司员工          0   \n",
       "2           4  100002024        0    1  90.0        程序员          0   \n",
       "3          13  100002033        0    0   NaN        NaN          0   \n",
       "4          14  100002034        0    0   NaN        NaN          0   \n",
       "\n",
       "   invite_code login_platform             last_login app_version  \\\n",
       "0       9828.0        Android  2016-07-04 17:53:27.0       2.8.2   \n",
       "1       7262.0            iOS  2016-01-23 10:50:37.0       2.4.6   \n",
       "2       5723.0            iOS  2017-03-07 18:16:19.0       3.3.0   \n",
       "3       6126.0            iOS  2017-05-12 00:42:20.0       3.5.0   \n",
       "4       6665.0            iOS  2015-12-21 18:01:17.0       2.4.2   \n",
       "\n",
       "             create_time  \n",
       "0  2014-09-25 08:43:55.0  \n",
       "1  2014-09-25 11:32:21.0  \n",
       "2  2014-09-25 14:54:44.0  \n",
       "3  2014-09-25 23:55:48.0  \n",
       "4  2014-09-26 08:01:30.0  "
      ]
     },
     "execution_count": 22,
     "metadata": {},
     "output_type": "execute_result"
    }
   ],
   "source": [
    "data_user.head()"
   ]
  },
  {
   "cell_type": "code",
   "execution_count": 23,
   "metadata": {},
   "outputs": [
    {
     "data": {
      "text/plain": [
       "473628"
      ]
     },
     "execution_count": 23,
     "metadata": {},
     "output_type": "execute_result"
    }
   ],
   "source": [
    "len(data_user)"
   ]
  },
  {
   "cell_type": "code",
   "execution_count": 24,
   "metadata": {},
   "outputs": [
    {
     "data": {
      "text/plain": [
       "473628"
      ]
     },
     "execution_count": 24,
     "metadata": {},
     "output_type": "execute_result"
    }
   ],
   "source": [
    "len(data_user.user_id.unique())"
   ]
  },
  {
   "cell_type": "code",
   "execution_count": 25,
   "metadata": {},
   "outputs": [
    {
     "data": {
      "text/plain": [
       "array([     0, 110000, 110100, 310100, 440100, 440300, 330100, 310000])"
      ]
     },
     "execution_count": 25,
     "metadata": {},
     "output_type": "execute_result"
    }
   ],
   "source": [
    "data_user.city_id.unique()"
   ]
  },
  {
   "cell_type": "code",
   "execution_count": 30,
   "metadata": {},
   "outputs": [
    {
     "data": {
      "text/plain": [
       "110100    64.683042\n",
       "310100    14.546437\n",
       "440300     9.002846\n",
       "440100     4.657030\n",
       "330100     3.592693\n",
       "0          3.509716\n",
       "110000     0.007812\n",
       "310000     0.000422\n",
       "Name: city_id, dtype: float64"
      ]
     },
     "execution_count": 30,
     "metadata": {},
     "output_type": "execute_result"
    }
   ],
   "source": [
    "data_user['city_id'].value_counts()/473628*100"
   ]
  },
  {
   "cell_type": "code",
   "execution_count": 21,
   "metadata": {},
   "outputs": [
    {
     "data": {
      "text/plain": [
       "array(['80.0', '90.0', nan, '70.0', '60.0', '0.0', '90', '80', '70', '60',\n",
       "       '00', '前', '0', '0后', \"00'\"], dtype=object)"
      ]
     },
     "execution_count": 21,
     "metadata": {},
     "output_type": "execute_result"
    }
   ],
   "source": [
    "data_user.age.unique()"
   ]
  },
  {
   "cell_type": "code",
   "execution_count": 33,
   "metadata": {},
   "outputs": [
    {
     "data": {
      "text/plain": [
       "array(['互联网', '公司员工', '程序员', ..., '证券交易人', '平安保险总监', '好吃的人'], dtype=object)"
      ]
     },
     "execution_count": 33,
     "metadata": {},
     "output_type": "execute_result"
    }
   ],
   "source": [
    "data_user.occupation.unique()"
   ]
  },
  {
   "cell_type": "code",
   "execution_count": 37,
   "metadata": {},
   "outputs": [
    {
     "data": {
      "text/plain": [
       "iOS        68.394816\n",
       "Android    31.427829\n",
       "mobile      0.105357\n",
       "Name: login_platform, dtype: float64"
      ]
     },
     "execution_count": 37,
     "metadata": {},
     "output_type": "execute_result"
    }
   ],
   "source": [
    "data_user['login_platform'].value_counts()/473628*100"
   ]
  },
  {
   "cell_type": "code",
   "execution_count": 38,
   "metadata": {},
   "outputs": [
    {
     "name": "stderr",
     "output_type": "stream",
     "text": [
      "/Applications/anaconda3/lib/python3.6/site-packages/IPython/core/interactiveshell.py:2698: DtypeWarning: Columns (17,18,23,24) have mixed types. Specify dtype option on import or set low_memory=False.\n",
      "  interactivity=interactivity, compiler=compiler, result=result)\n"
     ]
    }
   ],
   "source": [
    "data_order=pd.read_csv('OrderAprtoJun.csv')"
   ]
  },
  {
   "cell_type": "code",
   "execution_count": 59,
   "metadata": {},
   "outputs": [
    {
     "data": {
      "text/html": [
       "<div>\n",
       "<style scoped>\n",
       "    .dataframe tbody tr th:only-of-type {\n",
       "        vertical-align: middle;\n",
       "    }\n",
       "\n",
       "    .dataframe tbody tr th {\n",
       "        vertical-align: top;\n",
       "    }\n",
       "\n",
       "    .dataframe thead th {\n",
       "        text-align: right;\n",
       "    }\n",
       "</style>\n",
       "<table border=\"1\" class=\"dataframe\">\n",
       "  <thead>\n",
       "    <tr style=\"text-align: right;\">\n",
       "      <th></th>\n",
       "      <th>Unnamed: 0</th>\n",
       "      <th>order_no</th>\n",
       "      <th>kitchen_id</th>\n",
       "      <th>user_id</th>\n",
       "      <th>city_id</th>\n",
       "      <th>send_time</th>\n",
       "      <th>send_type</th>\n",
       "      <th>state</th>\n",
       "      <th>state_train</th>\n",
       "      <th>dishes</th>\n",
       "      <th>...</th>\n",
       "      <th>coupon_id</th>\n",
       "      <th>coupon_fee</th>\n",
       "      <th>platform</th>\n",
       "      <th>app_version</th>\n",
       "      <th>update_time</th>\n",
       "      <th>insure</th>\n",
       "      <th>ticket_id</th>\n",
       "      <th>ticket_fee</th>\n",
       "      <th>raw_data</th>\n",
       "      <th>dt</th>\n",
       "    </tr>\n",
       "  </thead>\n",
       "  <tbody>\n",
       "    <tr>\n",
       "      <th>0</th>\n",
       "      <td>0</td>\n",
       "      <td>463044790017929</td>\n",
       "      <td>28366</td>\n",
       "      <td>101296988</td>\n",
       "      <td>110100</td>\n",
       "      <td>2016-05-12 18:30:00.0</td>\n",
       "      <td>1</td>\n",
       "      <td>11</td>\n",
       "      <td>2,4,6,9,10,11</td>\n",
       "      <td>NaN</td>\n",
       "      <td>...</td>\n",
       "      <td>0</td>\n",
       "      <td>0.0</td>\n",
       "      <td>iOS</td>\n",
       "      <td>2.7.0</td>\n",
       "      <td>2016-05-12 17:55:19.0</td>\n",
       "      <td>1</td>\n",
       "      <td>0</td>\n",
       "      <td>0</td>\n",
       "      <td>NaN</td>\n",
       "      <td>NaN</td>\n",
       "    </tr>\n",
       "    <tr>\n",
       "      <th>1</th>\n",
       "      <td>1</td>\n",
       "      <td>463044790017933</td>\n",
       "      <td>17873</td>\n",
       "      <td>101057772</td>\n",
       "      <td>110100</td>\n",
       "      <td>2016-05-12 18:30:00.0</td>\n",
       "      <td>1</td>\n",
       "      <td>11</td>\n",
       "      <td>2,4,6,8,11</td>\n",
       "      <td>NaN</td>\n",
       "      <td>...</td>\n",
       "      <td>0</td>\n",
       "      <td>0.0</td>\n",
       "      <td>iOS</td>\n",
       "      <td>2.7.0</td>\n",
       "      <td>2016-05-12 18:06:29.0</td>\n",
       "      <td>1</td>\n",
       "      <td>0</td>\n",
       "      <td>0</td>\n",
       "      <td>NaN</td>\n",
       "      <td>NaN</td>\n",
       "    </tr>\n",
       "    <tr>\n",
       "      <th>2</th>\n",
       "      <td>2</td>\n",
       "      <td>463044784017918</td>\n",
       "      <td>130952</td>\n",
       "      <td>100789540</td>\n",
       "      <td>110100</td>\n",
       "      <td>2016-05-12 18:30:00.0</td>\n",
       "      <td>1</td>\n",
       "      <td>11</td>\n",
       "      <td>2,4,6,9,10,11</td>\n",
       "      <td>NaN</td>\n",
       "      <td>...</td>\n",
       "      <td>17155317</td>\n",
       "      <td>8.0</td>\n",
       "      <td>iOS</td>\n",
       "      <td>2.7.0</td>\n",
       "      <td>2016-05-12 17:32:49.0</td>\n",
       "      <td>1</td>\n",
       "      <td>0</td>\n",
       "      <td>0</td>\n",
       "      <td>NaN</td>\n",
       "      <td>NaN</td>\n",
       "    </tr>\n",
       "    <tr>\n",
       "      <th>3</th>\n",
       "      <td>3</td>\n",
       "      <td>463044770017889</td>\n",
       "      <td>151016</td>\n",
       "      <td>101057084</td>\n",
       "      <td>440300</td>\n",
       "      <td>2016-05-12 18:30:00.0</td>\n",
       "      <td>1</td>\n",
       "      <td>11</td>\n",
       "      <td>2,4,6,9,10,11</td>\n",
       "      <td>NaN</td>\n",
       "      <td>...</td>\n",
       "      <td>17164655</td>\n",
       "      <td>8.0</td>\n",
       "      <td>Android</td>\n",
       "      <td>2.7.1</td>\n",
       "      <td>2016-05-12 17:55:12.0</td>\n",
       "      <td>1</td>\n",
       "      <td>0</td>\n",
       "      <td>0</td>\n",
       "      <td>NaN</td>\n",
       "      <td>NaN</td>\n",
       "    </tr>\n",
       "    <tr>\n",
       "      <th>4</th>\n",
       "      <td>4</td>\n",
       "      <td>463044778017902</td>\n",
       "      <td>148024</td>\n",
       "      <td>101370266</td>\n",
       "      <td>110100</td>\n",
       "      <td>2016-05-12 18:30:00.0</td>\n",
       "      <td>1</td>\n",
       "      <td>11</td>\n",
       "      <td>2,4,6,9,10,11</td>\n",
       "      <td>NaN</td>\n",
       "      <td>...</td>\n",
       "      <td>0</td>\n",
       "      <td>0.0</td>\n",
       "      <td>Android</td>\n",
       "      <td>2.7.1</td>\n",
       "      <td>2016-05-12 17:58:44.0</td>\n",
       "      <td>1</td>\n",
       "      <td>0</td>\n",
       "      <td>0</td>\n",
       "      <td>NaN</td>\n",
       "      <td>NaN</td>\n",
       "    </tr>\n",
       "  </tbody>\n",
       "</table>\n",
       "<p>5 rows × 27 columns</p>\n",
       "</div>"
      ],
      "text/plain": [
       "   Unnamed: 0         order_no  kitchen_id    user_id  city_id  \\\n",
       "0           0  463044790017929       28366  101296988   110100   \n",
       "1           1  463044790017933       17873  101057772   110100   \n",
       "2           2  463044784017918      130952  100789540   110100   \n",
       "3           3  463044770017889      151016  101057084   440300   \n",
       "4           4  463044778017902      148024  101370266   110100   \n",
       "\n",
       "               send_time  send_type  state    state_train  dishes ...  \\\n",
       "0  2016-05-12 18:30:00.0          1     11  2,4,6,9,10,11     NaN ...   \n",
       "1  2016-05-12 18:30:00.0          1     11     2,4,6,8,11     NaN ...   \n",
       "2  2016-05-12 18:30:00.0          1     11  2,4,6,9,10,11     NaN ...   \n",
       "3  2016-05-12 18:30:00.0          1     11  2,4,6,9,10,11     NaN ...   \n",
       "4  2016-05-12 18:30:00.0          1     11  2,4,6,9,10,11     NaN ...   \n",
       "\n",
       "   coupon_id  coupon_fee  platform  app_version            update_time insure  \\\n",
       "0          0         0.0       iOS        2.7.0  2016-05-12 17:55:19.0      1   \n",
       "1          0         0.0       iOS        2.7.0  2016-05-12 18:06:29.0      1   \n",
       "2   17155317         8.0       iOS        2.7.0  2016-05-12 17:32:49.0      1   \n",
       "3   17164655         8.0   Android        2.7.1  2016-05-12 17:55:12.0      1   \n",
       "4          0         0.0   Android        2.7.1  2016-05-12 17:58:44.0      1   \n",
       "\n",
       "  ticket_id ticket_fee raw_data  dt  \n",
       "0         0          0      NaN NaN  \n",
       "1         0          0      NaN NaN  \n",
       "2         0          0      NaN NaN  \n",
       "3         0          0      NaN NaN  \n",
       "4         0          0      NaN NaN  \n",
       "\n",
       "[5 rows x 27 columns]"
      ]
     },
     "execution_count": 59,
     "metadata": {},
     "output_type": "execute_result"
    }
   ],
   "source": [
    "data_order.head()"
   ]
  },
  {
   "cell_type": "code",
   "execution_count": 40,
   "metadata": {},
   "outputs": [
    {
     "data": {
      "text/plain": [
       "Index(['Unnamed: 0', 'order_no', 'kitchen_id', 'user_id', 'city_id',\n",
       "       'send_time', 'send_type', 'state', 'state_train', 'dishes',\n",
       "       'refund_channel', 'comment', 'distance', 'user_longitude',\n",
       "       'user_latitude', 'message', 'create_time', 'coupon_id', 'coupon_fee',\n",
       "       'platform', 'app_version', 'update_time', 'insure', 'ticket_id',\n",
       "       'ticket_fee', 'raw_data', 'dt'],\n",
       "      dtype='object')"
      ]
     },
     "execution_count": 40,
     "metadata": {},
     "output_type": "execute_result"
    }
   ],
   "source": [
    "data_order.columns"
   ]
  },
  {
   "cell_type": "code",
   "execution_count": 47,
   "metadata": {},
   "outputs": [],
   "source": [
    "temp_order=data_order[['create_time','user_id']]"
   ]
  },
  {
   "cell_type": "code",
   "execution_count": 48,
   "metadata": {},
   "outputs": [
    {
     "data": {
      "text/html": [
       "<div>\n",
       "<style scoped>\n",
       "    .dataframe tbody tr th:only-of-type {\n",
       "        vertical-align: middle;\n",
       "    }\n",
       "\n",
       "    .dataframe tbody tr th {\n",
       "        vertical-align: top;\n",
       "    }\n",
       "\n",
       "    .dataframe thead th {\n",
       "        text-align: right;\n",
       "    }\n",
       "</style>\n",
       "<table border=\"1\" class=\"dataframe\">\n",
       "  <thead>\n",
       "    <tr style=\"text-align: right;\">\n",
       "      <th></th>\n",
       "      <th>create_time</th>\n",
       "      <th>user_id</th>\n",
       "    </tr>\n",
       "  </thead>\n",
       "  <tbody>\n",
       "    <tr>\n",
       "      <th>0</th>\n",
       "      <td>2016-05-12 17:19:50.0</td>\n",
       "      <td>101296988</td>\n",
       "    </tr>\n",
       "    <tr>\n",
       "      <th>1</th>\n",
       "      <td>2016-05-12 17:19:51.0</td>\n",
       "      <td>101057772</td>\n",
       "    </tr>\n",
       "    <tr>\n",
       "      <th>2</th>\n",
       "      <td>2016-05-12 17:19:44.0</td>\n",
       "      <td>100789540</td>\n",
       "    </tr>\n",
       "    <tr>\n",
       "      <th>3</th>\n",
       "      <td>2016-05-12 17:19:31.0</td>\n",
       "      <td>101057084</td>\n",
       "    </tr>\n",
       "    <tr>\n",
       "      <th>4</th>\n",
       "      <td>2016-05-12 17:19:39.0</td>\n",
       "      <td>101370266</td>\n",
       "    </tr>\n",
       "  </tbody>\n",
       "</table>\n",
       "</div>"
      ],
      "text/plain": [
       "             create_time    user_id\n",
       "0  2016-05-12 17:19:50.0  101296988\n",
       "1  2016-05-12 17:19:51.0  101057772\n",
       "2  2016-05-12 17:19:44.0  100789540\n",
       "3  2016-05-12 17:19:31.0  101057084\n",
       "4  2016-05-12 17:19:39.0  101370266"
      ]
     },
     "execution_count": 48,
     "metadata": {},
     "output_type": "execute_result"
    }
   ],
   "source": [
    "temp_order.head()"
   ]
  },
  {
   "cell_type": "code",
   "execution_count": 49,
   "metadata": {},
   "outputs": [
    {
     "data": {
      "text/html": [
       "<div>\n",
       "<style scoped>\n",
       "    .dataframe tbody tr th:only-of-type {\n",
       "        vertical-align: middle;\n",
       "    }\n",
       "\n",
       "    .dataframe tbody tr th {\n",
       "        vertical-align: top;\n",
       "    }\n",
       "\n",
       "    .dataframe thead th {\n",
       "        text-align: right;\n",
       "    }\n",
       "</style>\n",
       "<table border=\"1\" class=\"dataframe\">\n",
       "  <thead>\n",
       "    <tr style=\"text-align: right;\">\n",
       "      <th></th>\n",
       "      <th>Unnamed: 0</th>\n",
       "      <th>user_id</th>\n",
       "      <th>city_id</th>\n",
       "      <th>sex</th>\n",
       "      <th>age</th>\n",
       "      <th>occupation</th>\n",
       "      <th>invite_id</th>\n",
       "      <th>invite_code</th>\n",
       "      <th>login_platform</th>\n",
       "      <th>last_login</th>\n",
       "      <th>app_version</th>\n",
       "      <th>create_time</th>\n",
       "    </tr>\n",
       "  </thead>\n",
       "  <tbody>\n",
       "    <tr>\n",
       "      <th>0</th>\n",
       "      <td>0</td>\n",
       "      <td>100002020</td>\n",
       "      <td>0</td>\n",
       "      <td>1</td>\n",
       "      <td>80.0</td>\n",
       "      <td>互联网</td>\n",
       "      <td>0</td>\n",
       "      <td>9828.0</td>\n",
       "      <td>Android</td>\n",
       "      <td>2016-07-04 17:53:27.0</td>\n",
       "      <td>2.8.2</td>\n",
       "      <td>2014-09-25 08:43:55.0</td>\n",
       "    </tr>\n",
       "    <tr>\n",
       "      <th>1</th>\n",
       "      <td>3</td>\n",
       "      <td>100002023</td>\n",
       "      <td>0</td>\n",
       "      <td>2</td>\n",
       "      <td>80.0</td>\n",
       "      <td>公司员工</td>\n",
       "      <td>0</td>\n",
       "      <td>7262.0</td>\n",
       "      <td>iOS</td>\n",
       "      <td>2016-01-23 10:50:37.0</td>\n",
       "      <td>2.4.6</td>\n",
       "      <td>2014-09-25 11:32:21.0</td>\n",
       "    </tr>\n",
       "    <tr>\n",
       "      <th>2</th>\n",
       "      <td>4</td>\n",
       "      <td>100002024</td>\n",
       "      <td>0</td>\n",
       "      <td>1</td>\n",
       "      <td>90.0</td>\n",
       "      <td>程序员</td>\n",
       "      <td>0</td>\n",
       "      <td>5723.0</td>\n",
       "      <td>iOS</td>\n",
       "      <td>2017-03-07 18:16:19.0</td>\n",
       "      <td>3.3.0</td>\n",
       "      <td>2014-09-25 14:54:44.0</td>\n",
       "    </tr>\n",
       "    <tr>\n",
       "      <th>3</th>\n",
       "      <td>13</td>\n",
       "      <td>100002033</td>\n",
       "      <td>0</td>\n",
       "      <td>0</td>\n",
       "      <td>NaN</td>\n",
       "      <td>NaN</td>\n",
       "      <td>0</td>\n",
       "      <td>6126.0</td>\n",
       "      <td>iOS</td>\n",
       "      <td>2017-05-12 00:42:20.0</td>\n",
       "      <td>3.5.0</td>\n",
       "      <td>2014-09-25 23:55:48.0</td>\n",
       "    </tr>\n",
       "    <tr>\n",
       "      <th>4</th>\n",
       "      <td>14</td>\n",
       "      <td>100002034</td>\n",
       "      <td>0</td>\n",
       "      <td>0</td>\n",
       "      <td>NaN</td>\n",
       "      <td>NaN</td>\n",
       "      <td>0</td>\n",
       "      <td>6665.0</td>\n",
       "      <td>iOS</td>\n",
       "      <td>2015-12-21 18:01:17.0</td>\n",
       "      <td>2.4.2</td>\n",
       "      <td>2014-09-26 08:01:30.0</td>\n",
       "    </tr>\n",
       "  </tbody>\n",
       "</table>\n",
       "</div>"
      ],
      "text/plain": [
       "   Unnamed: 0    user_id  city_id  sex   age occupation  invite_id  \\\n",
       "0           0  100002020        0    1  80.0        互联网          0   \n",
       "1           3  100002023        0    2  80.0       公司员工          0   \n",
       "2           4  100002024        0    1  90.0        程序员          0   \n",
       "3          13  100002033        0    0   NaN        NaN          0   \n",
       "4          14  100002034        0    0   NaN        NaN          0   \n",
       "\n",
       "   invite_code login_platform             last_login app_version  \\\n",
       "0       9828.0        Android  2016-07-04 17:53:27.0       2.8.2   \n",
       "1       7262.0            iOS  2016-01-23 10:50:37.0       2.4.6   \n",
       "2       5723.0            iOS  2017-03-07 18:16:19.0       3.3.0   \n",
       "3       6126.0            iOS  2017-05-12 00:42:20.0       3.5.0   \n",
       "4       6665.0            iOS  2015-12-21 18:01:17.0       2.4.2   \n",
       "\n",
       "             create_time  \n",
       "0  2014-09-25 08:43:55.0  \n",
       "1  2014-09-25 11:32:21.0  \n",
       "2  2014-09-25 14:54:44.0  \n",
       "3  2014-09-25 23:55:48.0  \n",
       "4  2014-09-26 08:01:30.0  "
      ]
     },
     "execution_count": 49,
     "metadata": {},
     "output_type": "execute_result"
    }
   ],
   "source": [
    "data_user.head()"
   ]
  },
  {
   "cell_type": "code",
   "execution_count": 51,
   "metadata": {},
   "outputs": [
    {
     "data": {
      "text/plain": [
       "'2016-04-04 00:00:14.0'"
      ]
     },
     "execution_count": 51,
     "metadata": {},
     "output_type": "execute_result"
    }
   ],
   "source": [
    "data_order.create_time.min()"
   ]
  },
  {
   "cell_type": "code",
   "execution_count": 52,
   "metadata": {},
   "outputs": [
    {
     "data": {
      "text/plain": [
       "'2016-06-26 23:59:45.0'"
      ]
     },
     "execution_count": 52,
     "metadata": {},
     "output_type": "execute_result"
    }
   ],
   "source": [
    "data_order.create_time.max()"
   ]
  },
  {
   "cell_type": "code",
   "execution_count": 54,
   "metadata": {},
   "outputs": [
    {
     "data": {
      "text/plain": [
       "array(['2016-07-04 17:53:27.0', '2016-01-23 10:50:37.0',\n",
       "       '2017-03-07 18:16:19.0', ..., '2016-06-26 23:49:08.0',\n",
       "       '2016-06-26 23:49:20.0', '2016-06-26 23:51:42.0'], dtype=object)"
      ]
     },
     "execution_count": 54,
     "metadata": {},
     "output_type": "execute_result"
    }
   ],
   "source": [
    "data_user.last_login.unique()"
   ]
  },
  {
   "cell_type": "code",
   "execution_count": 55,
   "metadata": {},
   "outputs": [
    {
     "name": "stderr",
     "output_type": "stream",
     "text": [
      "/Applications/anaconda3/lib/python3.6/site-packages/IPython/core/interactiveshell.py:2698: DtypeWarning: Columns (11,16,21,23,25,26,32) have mixed types. Specify dtype option on import or set low_memory=False.\n",
      "  interactivity=interactivity, compiler=compiler, result=result)\n"
     ]
    }
   ],
   "source": [
    "data_coupon=pd.read_csv('coupon_AprToJun.csv')"
   ]
  },
  {
   "cell_type": "code",
   "execution_count": 56,
   "metadata": {},
   "outputs": [
    {
     "data": {
      "text/html": [
       "<div>\n",
       "<style scoped>\n",
       "    .dataframe tbody tr th:only-of-type {\n",
       "        vertical-align: middle;\n",
       "    }\n",
       "\n",
       "    .dataframe tbody tr th {\n",
       "        vertical-align: top;\n",
       "    }\n",
       "\n",
       "    .dataframe thead th {\n",
       "        text-align: right;\n",
       "    }\n",
       "</style>\n",
       "<table border=\"1\" class=\"dataframe\">\n",
       "  <thead>\n",
       "    <tr style=\"text-align: right;\">\n",
       "      <th></th>\n",
       "      <th>Unnamed: 0</th>\n",
       "      <th>coupon_id</th>\n",
       "      <th>type</th>\n",
       "      <th>from</th>\n",
       "      <th>user_id</th>\n",
       "      <th>purpose</th>\n",
       "      <th>money</th>\n",
       "      <th>worth_money</th>\n",
       "      <th>max_money</th>\n",
       "      <th>start_time</th>\n",
       "      <th>...</th>\n",
       "      <th>is_frozen</th>\n",
       "      <th>frozen_reason</th>\n",
       "      <th>rule_id</th>\n",
       "      <th>order_no</th>\n",
       "      <th>activity_id</th>\n",
       "      <th>activity_channel_id</th>\n",
       "      <th>risk_control_level</th>\n",
       "      <th>basics_id</th>\n",
       "      <th>pre_id</th>\n",
       "      <th>kitchen_charge_percentage</th>\n",
       "    </tr>\n",
       "  </thead>\n",
       "  <tbody>\n",
       "    <tr>\n",
       "      <th>0</th>\n",
       "      <td>0</td>\n",
       "      <td>17224369</td>\n",
       "      <td>5</td>\n",
       "      <td>14</td>\n",
       "      <td>101249805</td>\n",
       "      <td>0</td>\n",
       "      <td>2.0</td>\n",
       "      <td>0.0</td>\n",
       "      <td>0.0</td>\n",
       "      <td>2016-05-12 00:00:00.0</td>\n",
       "      <td>...</td>\n",
       "      <td>0</td>\n",
       "      <td>NaN</td>\n",
       "      <td>415</td>\n",
       "      <td>NaN</td>\n",
       "      <td>0</td>\n",
       "      <td>0</td>\n",
       "      <td>0</td>\n",
       "      <td>0</td>\n",
       "      <td>0</td>\n",
       "      <td>0.0</td>\n",
       "    </tr>\n",
       "    <tr>\n",
       "      <th>1</th>\n",
       "      <td>1</td>\n",
       "      <td>17331977</td>\n",
       "      <td>1</td>\n",
       "      <td>33</td>\n",
       "      <td>101370879</td>\n",
       "      <td>0</td>\n",
       "      <td>8.0</td>\n",
       "      <td>0.0</td>\n",
       "      <td>0.0</td>\n",
       "      <td>2016-05-12 00:00:00.0</td>\n",
       "      <td>...</td>\n",
       "      <td>0</td>\n",
       "      <td>NaN</td>\n",
       "      <td>1078</td>\n",
       "      <td>NaN</td>\n",
       "      <td>0</td>\n",
       "      <td>0</td>\n",
       "      <td>0</td>\n",
       "      <td>0</td>\n",
       "      <td>764213</td>\n",
       "      <td>0.0</td>\n",
       "    </tr>\n",
       "    <tr>\n",
       "      <th>2</th>\n",
       "      <td>2</td>\n",
       "      <td>17331976</td>\n",
       "      <td>1</td>\n",
       "      <td>33</td>\n",
       "      <td>101370879</td>\n",
       "      <td>0</td>\n",
       "      <td>7.0</td>\n",
       "      <td>0.0</td>\n",
       "      <td>0.0</td>\n",
       "      <td>2016-05-12 00:00:00.0</td>\n",
       "      <td>...</td>\n",
       "      <td>0</td>\n",
       "      <td>NaN</td>\n",
       "      <td>1078</td>\n",
       "      <td>NaN</td>\n",
       "      <td>0</td>\n",
       "      <td>0</td>\n",
       "      <td>0</td>\n",
       "      <td>0</td>\n",
       "      <td>764212</td>\n",
       "      <td>0.0</td>\n",
       "    </tr>\n",
       "    <tr>\n",
       "      <th>3</th>\n",
       "      <td>3</td>\n",
       "      <td>17331975</td>\n",
       "      <td>1</td>\n",
       "      <td>33</td>\n",
       "      <td>101370879</td>\n",
       "      <td>0</td>\n",
       "      <td>15.0</td>\n",
       "      <td>0.0</td>\n",
       "      <td>0.0</td>\n",
       "      <td>2016-05-12 00:00:00.0</td>\n",
       "      <td>...</td>\n",
       "      <td>0</td>\n",
       "      <td>NaN</td>\n",
       "      <td>412</td>\n",
       "      <td>NaN</td>\n",
       "      <td>0</td>\n",
       "      <td>0</td>\n",
       "      <td>0</td>\n",
       "      <td>0</td>\n",
       "      <td>764211</td>\n",
       "      <td>0.0</td>\n",
       "    </tr>\n",
       "    <tr>\n",
       "      <th>4</th>\n",
       "      <td>4</td>\n",
       "      <td>17331974</td>\n",
       "      <td>1</td>\n",
       "      <td>54</td>\n",
       "      <td>100962744</td>\n",
       "      <td>0</td>\n",
       "      <td>5.0</td>\n",
       "      <td>0.0</td>\n",
       "      <td>25.0</td>\n",
       "      <td>2016-05-12 00:00:00.0</td>\n",
       "      <td>...</td>\n",
       "      <td>0</td>\n",
       "      <td>NaN</td>\n",
       "      <td>412,2472</td>\n",
       "      <td>NaN</td>\n",
       "      <td>0</td>\n",
       "      <td>0</td>\n",
       "      <td>0</td>\n",
       "      <td>0</td>\n",
       "      <td>0</td>\n",
       "      <td>0.0</td>\n",
       "    </tr>\n",
       "  </tbody>\n",
       "</table>\n",
       "<p>5 rows × 34 columns</p>\n",
       "</div>"
      ],
      "text/plain": [
       "   Unnamed: 0  coupon_id  type  from    user_id  purpose  money  worth_money  \\\n",
       "0           0   17224369     5    14  101249805        0    2.0          0.0   \n",
       "1           1   17331977     1    33  101370879        0    8.0          0.0   \n",
       "2           2   17331976     1    33  101370879        0    7.0          0.0   \n",
       "3           3   17331975     1    33  101370879        0   15.0          0.0   \n",
       "4           4   17331974     1    54  100962744        0    5.0          0.0   \n",
       "\n",
       "   max_money             start_time            ...            is_frozen  \\\n",
       "0        0.0  2016-05-12 00:00:00.0            ...                    0   \n",
       "1        0.0  2016-05-12 00:00:00.0            ...                    0   \n",
       "2        0.0  2016-05-12 00:00:00.0            ...                    0   \n",
       "3        0.0  2016-05-12 00:00:00.0            ...                    0   \n",
       "4       25.0  2016-05-12 00:00:00.0            ...                    0   \n",
       "\n",
       "  frozen_reason   rule_id order_no  activity_id  activity_channel_id  \\\n",
       "0           NaN       415      NaN            0                    0   \n",
       "1           NaN      1078      NaN            0                    0   \n",
       "2           NaN      1078      NaN            0                    0   \n",
       "3           NaN       412      NaN            0                    0   \n",
       "4           NaN  412,2472      NaN            0                    0   \n",
       "\n",
       "  risk_control_level  basics_id  pre_id kitchen_charge_percentage  \n",
       "0                  0          0       0                       0.0  \n",
       "1                  0          0  764213                       0.0  \n",
       "2                  0          0  764212                       0.0  \n",
       "3                  0          0  764211                       0.0  \n",
       "4                  0          0       0                       0.0  \n",
       "\n",
       "[5 rows x 34 columns]"
      ]
     },
     "execution_count": 56,
     "metadata": {},
     "output_type": "execute_result"
    }
   ],
   "source": [
    "data_coupon.head()"
   ]
  },
  {
   "cell_type": "code",
   "execution_count": 58,
   "metadata": {},
   "outputs": [
    {
     "data": {
      "text/plain": [
       "Index(['Unnamed: 0', 'coupon_id', 'type', 'from', 'user_id', 'purpose',\n",
       "       'money', 'worth_money', 'max_money', 'start_time', 'end_time',\n",
       "       'use_time', 'create_time', 'update_time', 'is_used', 'has_rule', 'code',\n",
       "       'is_del', 'special_id', 'reason', 'title', 'sub_title', 'content',\n",
       "       'tag', 'is_frozen', 'frozen_reason', 'rule_id', 'order_no',\n",
       "       'activity_id', 'activity_channel_id', 'risk_control_level', 'basics_id',\n",
       "       'pre_id', 'kitchen_charge_percentage'],\n",
       "      dtype='object')"
      ]
     },
     "execution_count": 58,
     "metadata": {},
     "output_type": "execute_result"
    }
   ],
   "source": [
    "data_coupon.columns"
   ]
  },
  {
   "cell_type": "code",
   "execution_count": 60,
   "metadata": {},
   "outputs": [
    {
     "data": {
      "text/html": [
       "<div>\n",
       "<style scoped>\n",
       "    .dataframe tbody tr th:only-of-type {\n",
       "        vertical-align: middle;\n",
       "    }\n",
       "\n",
       "    .dataframe tbody tr th {\n",
       "        vertical-align: top;\n",
       "    }\n",
       "\n",
       "    .dataframe thead th {\n",
       "        text-align: right;\n",
       "    }\n",
       "</style>\n",
       "<table border=\"1\" class=\"dataframe\">\n",
       "  <thead>\n",
       "    <tr style=\"text-align: right;\">\n",
       "      <th></th>\n",
       "      <th>Unnamed: 0</th>\n",
       "      <th>user_id</th>\n",
       "      <th>city_id</th>\n",
       "      <th>sex</th>\n",
       "      <th>age</th>\n",
       "      <th>occupation</th>\n",
       "      <th>invite_id</th>\n",
       "      <th>invite_code</th>\n",
       "      <th>login_platform</th>\n",
       "      <th>last_login</th>\n",
       "      <th>app_version</th>\n",
       "      <th>create_time</th>\n",
       "    </tr>\n",
       "  </thead>\n",
       "  <tbody>\n",
       "    <tr>\n",
       "      <th>0</th>\n",
       "      <td>0</td>\n",
       "      <td>100002020</td>\n",
       "      <td>0</td>\n",
       "      <td>1</td>\n",
       "      <td>80.0</td>\n",
       "      <td>互联网</td>\n",
       "      <td>0</td>\n",
       "      <td>9828.0</td>\n",
       "      <td>Android</td>\n",
       "      <td>2016-07-04 17:53:27.0</td>\n",
       "      <td>2.8.2</td>\n",
       "      <td>2014-09-25 08:43:55.0</td>\n",
       "    </tr>\n",
       "    <tr>\n",
       "      <th>1</th>\n",
       "      <td>3</td>\n",
       "      <td>100002023</td>\n",
       "      <td>0</td>\n",
       "      <td>2</td>\n",
       "      <td>80.0</td>\n",
       "      <td>公司员工</td>\n",
       "      <td>0</td>\n",
       "      <td>7262.0</td>\n",
       "      <td>iOS</td>\n",
       "      <td>2016-01-23 10:50:37.0</td>\n",
       "      <td>2.4.6</td>\n",
       "      <td>2014-09-25 11:32:21.0</td>\n",
       "    </tr>\n",
       "    <tr>\n",
       "      <th>2</th>\n",
       "      <td>4</td>\n",
       "      <td>100002024</td>\n",
       "      <td>0</td>\n",
       "      <td>1</td>\n",
       "      <td>90.0</td>\n",
       "      <td>程序员</td>\n",
       "      <td>0</td>\n",
       "      <td>5723.0</td>\n",
       "      <td>iOS</td>\n",
       "      <td>2017-03-07 18:16:19.0</td>\n",
       "      <td>3.3.0</td>\n",
       "      <td>2014-09-25 14:54:44.0</td>\n",
       "    </tr>\n",
       "    <tr>\n",
       "      <th>3</th>\n",
       "      <td>13</td>\n",
       "      <td>100002033</td>\n",
       "      <td>0</td>\n",
       "      <td>0</td>\n",
       "      <td>NaN</td>\n",
       "      <td>NaN</td>\n",
       "      <td>0</td>\n",
       "      <td>6126.0</td>\n",
       "      <td>iOS</td>\n",
       "      <td>2017-05-12 00:42:20.0</td>\n",
       "      <td>3.5.0</td>\n",
       "      <td>2014-09-25 23:55:48.0</td>\n",
       "    </tr>\n",
       "    <tr>\n",
       "      <th>4</th>\n",
       "      <td>14</td>\n",
       "      <td>100002034</td>\n",
       "      <td>0</td>\n",
       "      <td>0</td>\n",
       "      <td>NaN</td>\n",
       "      <td>NaN</td>\n",
       "      <td>0</td>\n",
       "      <td>6665.0</td>\n",
       "      <td>iOS</td>\n",
       "      <td>2015-12-21 18:01:17.0</td>\n",
       "      <td>2.4.2</td>\n",
       "      <td>2014-09-26 08:01:30.0</td>\n",
       "    </tr>\n",
       "  </tbody>\n",
       "</table>\n",
       "</div>"
      ],
      "text/plain": [
       "   Unnamed: 0    user_id  city_id  sex   age occupation  invite_id  \\\n",
       "0           0  100002020        0    1  80.0        互联网          0   \n",
       "1           3  100002023        0    2  80.0       公司员工          0   \n",
       "2           4  100002024        0    1  90.0        程序员          0   \n",
       "3          13  100002033        0    0   NaN        NaN          0   \n",
       "4          14  100002034        0    0   NaN        NaN          0   \n",
       "\n",
       "   invite_code login_platform             last_login app_version  \\\n",
       "0       9828.0        Android  2016-07-04 17:53:27.0       2.8.2   \n",
       "1       7262.0            iOS  2016-01-23 10:50:37.0       2.4.6   \n",
       "2       5723.0            iOS  2017-03-07 18:16:19.0       3.3.0   \n",
       "3       6126.0            iOS  2017-05-12 00:42:20.0       3.5.0   \n",
       "4       6665.0            iOS  2015-12-21 18:01:17.0       2.4.2   \n",
       "\n",
       "             create_time  \n",
       "0  2014-09-25 08:43:55.0  \n",
       "1  2014-09-25 11:32:21.0  \n",
       "2  2014-09-25 14:54:44.0  \n",
       "3  2014-09-25 23:55:48.0  \n",
       "4  2014-09-26 08:01:30.0  "
      ]
     },
     "execution_count": 60,
     "metadata": {},
     "output_type": "execute_result"
    }
   ],
   "source": [
    "data_user.head()"
   ]
  },
  {
   "cell_type": "code",
   "execution_count": 61,
   "metadata": {
    "collapsed": true
   },
   "outputs": [],
   "source": [
    "data_user.iloc[:,9] =  pd.to_datetime(data_user['last_login'])"
   ]
  },
  {
   "cell_type": "code",
   "execution_count": 63,
   "metadata": {},
   "outputs": [
    {
     "ename": "TypeError",
     "evalue": "Cannot compare type 'Timestamp' with type 'struct_time'",
     "output_type": "error",
     "traceback": [
      "\u001b[0;31m---------------------------------------------------------------------------\u001b[0m",
      "\u001b[0;31mTypeError\u001b[0m                                 Traceback (most recent call last)",
      "\u001b[0;32m<ipython-input-63-60b681ee1251>\u001b[0m in \u001b[0;36m<module>\u001b[0;34m()\u001b[0m\n\u001b[1;32m      4\u001b[0m \u001b[0mmaxtime\u001b[0m\u001b[0;34m=\u001b[0m\u001b[0mtime\u001b[0m\u001b[0;34m.\u001b[0m\u001b[0mstrptime\u001b[0m\u001b[0;34m(\u001b[0m\u001b[0;34m'2016-06-26 23:59:45'\u001b[0m\u001b[0;34m,\u001b[0m\u001b[0;34m\"%Y-%m-%d %H:%M:%S\"\u001b[0m\u001b[0;34m)\u001b[0m\u001b[0;34m\u001b[0m\u001b[0m\n\u001b[1;32m      5\u001b[0m \u001b[0;32mfor\u001b[0m \u001b[0mindex\u001b[0m\u001b[0;34m,\u001b[0m \u001b[0mrow\u001b[0m \u001b[0;32min\u001b[0m \u001b[0mdata_user\u001b[0m\u001b[0;34m.\u001b[0m\u001b[0miterrows\u001b[0m\u001b[0;34m(\u001b[0m\u001b[0;34m)\u001b[0m\u001b[0;34m:\u001b[0m\u001b[0;34m\u001b[0m\u001b[0m\n\u001b[0;32m----> 6\u001b[0;31m     \u001b[0;32mif\u001b[0m \u001b[0;34m(\u001b[0m\u001b[0mrow\u001b[0m\u001b[0;34m[\u001b[0m\u001b[0;34m'last_login'\u001b[0m\u001b[0;34m]\u001b[0m\u001b[0;34m<=\u001b[0m\u001b[0mmintime\u001b[0m\u001b[0;34m)\u001b[0m\u001b[0;34m:\u001b[0m\u001b[0;34m\u001b[0m\u001b[0m\n\u001b[0m\u001b[1;32m      7\u001b[0m         \u001b[0minactive\u001b[0m\u001b[0;34m=\u001b[0m\u001b[0;36m1\u001b[0m\u001b[0;34m\u001b[0m\u001b[0m\n\u001b[1;32m      8\u001b[0m     \u001b[0;32melse\u001b[0m\u001b[0;34m:\u001b[0m\u001b[0;34m\u001b[0m\u001b[0m\n",
      "\u001b[0;32mpandas/_libs/tslibs/timestamps.pyx\u001b[0m in \u001b[0;36mpandas._libs.tslibs.timestamps._Timestamp.__richcmp__\u001b[0;34m()\u001b[0m\n",
      "\u001b[0;31mTypeError\u001b[0m: Cannot compare type 'Timestamp' with type 'struct_time'"
     ]
    }
   ],
   "source": [
    "import time\n",
    "inactive=[]\n",
    "mintime=time.strptime('2016-04-04 00:00:14',\"%Y-%m-%d %H:%M:%S\")\n",
    "maxtime=time.strptime('2016-06-26 23:59:45',\"%Y-%m-%d %H:%M:%S\")\n",
    "for index, row in data_user.iterrows():\n",
    "    if (row['last_login']<=mintime):\n",
    "        inactive=1\n",
    "    else:\n",
    "        inactive=0"
   ]
  },
  {
   "cell_type": "code",
   "execution_count": null,
   "metadata": {
    "collapsed": true
   },
   "outputs": [],
   "source": [
    "data_user.inactive=inactive"
   ]
  }
 ],
 "metadata": {
  "kernelspec": {
   "display_name": "Python 3",
   "language": "python",
   "name": "python3"
  },
  "language_info": {
   "codemirror_mode": {
    "name": "ipython",
    "version": 3
   },
   "file_extension": ".py",
   "mimetype": "text/x-python",
   "name": "python",
   "nbconvert_exporter": "python",
   "pygments_lexer": "ipython3",
   "version": "3.6.3"
  }
 },
 "nbformat": 4,
 "nbformat_minor": 2
}
