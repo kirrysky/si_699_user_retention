{
 "cells": [
  {
   "cell_type": "markdown",
   "metadata": {},
   "source": [
    "# Cox\n",
    "\n",
    "- Author: Wen Xin\n",
    "- Description: This file is about using cox as model to find which day is the most possible day that users do retention."
   ]
  },
  {
   "cell_type": "code",
   "execution_count": 1,
   "metadata": {},
   "outputs": [],
   "source": [
    "%matplotlib inline\n",
    "%config InlineBackend.figure_format = 'retina'\n",
    "\n",
    "from matplotlib import pyplot as plt\n",
    "from lifelines import CoxPHFitter\n",
    "import numpy as np\n",
    "import pandas as pd\n",
    "from lifelines.datasets import load_rossi\n",
    "\n",
    "plt.style.use('bmh')"
   ]
  },
  {
   "cell_type": "code",
   "execution_count": 2,
   "metadata": {},
   "outputs": [],
   "source": [
    "data=pd.read_csv('new_dataset_w9_final.csv')"
   ]
  },
  {
   "cell_type": "code",
   "execution_count": 3,
   "metadata": {},
   "outputs": [
    {
     "data": {
      "text/html": [
       "<div>\n",
       "<style scoped>\n",
       "    .dataframe tbody tr th:only-of-type {\n",
       "        vertical-align: middle;\n",
       "    }\n",
       "\n",
       "    .dataframe tbody tr th {\n",
       "        vertical-align: top;\n",
       "    }\n",
       "\n",
       "    .dataframe thead th {\n",
       "        text-align: right;\n",
       "    }\n",
       "</style>\n",
       "<table border=\"1\" class=\"dataframe\">\n",
       "  <thead>\n",
       "    <tr style=\"text-align: right;\">\n",
       "      <th></th>\n",
       "      <th>order_sd</th>\n",
       "      <th>active_days</th>\n",
       "      <th>lastgap</th>\n",
       "      <th>avg_gap</th>\n",
       "      <th>min_gap</th>\n",
       "      <th>max_gap</th>\n",
       "      <th>w1_total_orders</th>\n",
       "      <th>w2_total_orders</th>\n",
       "      <th>w3_total_orders</th>\n",
       "      <th>w4_total_orders</th>\n",
       "      <th>...</th>\n",
       "      <th>log_update2create_time_max</th>\n",
       "      <th>dummy_log_send2update_time_max</th>\n",
       "      <th>log_send2update_time_max</th>\n",
       "      <th>kitchen_royalty</th>\n",
       "      <th>staple_price</th>\n",
       "      <th>like_num</th>\n",
       "      <th>dummy_like_num</th>\n",
       "      <th>dummy_has_kitchen_info</th>\n",
       "      <th>dummy_staple_price</th>\n",
       "      <th>comment_perc</th>\n",
       "    </tr>\n",
       "  </thead>\n",
       "  <tbody>\n",
       "    <tr>\n",
       "      <th>0</th>\n",
       "      <td>0.663138</td>\n",
       "      <td>10</td>\n",
       "      <td>3.0</td>\n",
       "      <td>4.888889</td>\n",
       "      <td>1.0</td>\n",
       "      <td>12.0</td>\n",
       "      <td>4.0</td>\n",
       "      <td>2.0</td>\n",
       "      <td>2.0</td>\n",
       "      <td>6.0</td>\n",
       "      <td>...</td>\n",
       "      <td>8.895493</td>\n",
       "      <td>1.0</td>\n",
       "      <td>11.227614</td>\n",
       "      <td>1.875000</td>\n",
       "      <td>2.0</td>\n",
       "      <td>11.0</td>\n",
       "      <td>1.0</td>\n",
       "      <td>1</td>\n",
       "      <td>1</td>\n",
       "      <td>0.250000</td>\n",
       "    </tr>\n",
       "    <tr>\n",
       "      <th>1</th>\n",
       "      <td>0.602960</td>\n",
       "      <td>18</td>\n",
       "      <td>7.0</td>\n",
       "      <td>2.941176</td>\n",
       "      <td>1.0</td>\n",
       "      <td>11.0</td>\n",
       "      <td>8.0</td>\n",
       "      <td>5.0</td>\n",
       "      <td>3.0</td>\n",
       "      <td>1.0</td>\n",
       "      <td>...</td>\n",
       "      <td>11.053031</td>\n",
       "      <td>1.0</td>\n",
       "      <td>11.297663</td>\n",
       "      <td>1.833333</td>\n",
       "      <td>1.0</td>\n",
       "      <td>0.0</td>\n",
       "      <td>0.0</td>\n",
       "      <td>1</td>\n",
       "      <td>1</td>\n",
       "      <td>0.227273</td>\n",
       "    </tr>\n",
       "    <tr>\n",
       "      <th>2</th>\n",
       "      <td>0.391684</td>\n",
       "      <td>13</td>\n",
       "      <td>5.0</td>\n",
       "      <td>4.500000</td>\n",
       "      <td>2.0</td>\n",
       "      <td>12.0</td>\n",
       "      <td>3.0</td>\n",
       "      <td>2.0</td>\n",
       "      <td>2.0</td>\n",
       "      <td>1.0</td>\n",
       "      <td>...</td>\n",
       "      <td>9.829733</td>\n",
       "      <td>1.0</td>\n",
       "      <td>11.237844</td>\n",
       "      <td>2.600000</td>\n",
       "      <td>2.0</td>\n",
       "      <td>116.0</td>\n",
       "      <td>1.0</td>\n",
       "      <td>1</td>\n",
       "      <td>1</td>\n",
       "      <td>0.923077</td>\n",
       "    </tr>\n",
       "    <tr>\n",
       "      <th>3</th>\n",
       "      <td>0.337142</td>\n",
       "      <td>9</td>\n",
       "      <td>5.0</td>\n",
       "      <td>8.625000</td>\n",
       "      <td>1.0</td>\n",
       "      <td>53.0</td>\n",
       "      <td>2.0</td>\n",
       "      <td>0.0</td>\n",
       "      <td>0.0</td>\n",
       "      <td>0.0</td>\n",
       "      <td>...</td>\n",
       "      <td>9.625426</td>\n",
       "      <td>1.0</td>\n",
       "      <td>11.244497</td>\n",
       "      <td>2.250000</td>\n",
       "      <td>3.0</td>\n",
       "      <td>40.0</td>\n",
       "      <td>1.0</td>\n",
       "      <td>1</td>\n",
       "      <td>1</td>\n",
       "      <td>0.000000</td>\n",
       "    </tr>\n",
       "    <tr>\n",
       "      <th>4</th>\n",
       "      <td>0.535490</td>\n",
       "      <td>12</td>\n",
       "      <td>5.0</td>\n",
       "      <td>3.454545</td>\n",
       "      <td>1.0</td>\n",
       "      <td>6.0</td>\n",
       "      <td>0.0</td>\n",
       "      <td>0.0</td>\n",
       "      <td>0.0</td>\n",
       "      <td>2.0</td>\n",
       "      <td>...</td>\n",
       "      <td>8.668712</td>\n",
       "      <td>1.0</td>\n",
       "      <td>11.235207</td>\n",
       "      <td>1.363636</td>\n",
       "      <td>2.0</td>\n",
       "      <td>0.0</td>\n",
       "      <td>0.0</td>\n",
       "      <td>1</td>\n",
       "      <td>1</td>\n",
       "      <td>0.800000</td>\n",
       "    </tr>\n",
       "  </tbody>\n",
       "</table>\n",
       "<p>5 rows × 123 columns</p>\n",
       "</div>"
      ],
      "text/plain": [
       "   order_sd  active_days  lastgap   avg_gap  min_gap  max_gap  \\\n",
       "0  0.663138           10      3.0  4.888889      1.0     12.0   \n",
       "1  0.602960           18      7.0  2.941176      1.0     11.0   \n",
       "2  0.391684           13      5.0  4.500000      2.0     12.0   \n",
       "3  0.337142            9      5.0  8.625000      1.0     53.0   \n",
       "4  0.535490           12      5.0  3.454545      1.0      6.0   \n",
       "\n",
       "   w1_total_orders  w2_total_orders  w3_total_orders  w4_total_orders  ...  \\\n",
       "0              4.0              2.0              2.0              6.0  ...   \n",
       "1              8.0              5.0              3.0              1.0  ...   \n",
       "2              3.0              2.0              2.0              1.0  ...   \n",
       "3              2.0              0.0              0.0              0.0  ...   \n",
       "4              0.0              0.0              0.0              2.0  ...   \n",
       "\n",
       "   log_update2create_time_max  dummy_log_send2update_time_max  \\\n",
       "0                    8.895493                             1.0   \n",
       "1                   11.053031                             1.0   \n",
       "2                    9.829733                             1.0   \n",
       "3                    9.625426                             1.0   \n",
       "4                    8.668712                             1.0   \n",
       "\n",
       "   log_send2update_time_max  kitchen_royalty  staple_price  like_num  \\\n",
       "0                 11.227614         1.875000           2.0      11.0   \n",
       "1                 11.297663         1.833333           1.0       0.0   \n",
       "2                 11.237844         2.600000           2.0     116.0   \n",
       "3                 11.244497         2.250000           3.0      40.0   \n",
       "4                 11.235207         1.363636           2.0       0.0   \n",
       "\n",
       "   dummy_like_num  dummy_has_kitchen_info  dummy_staple_price  comment_perc  \n",
       "0             1.0                       1                   1      0.250000  \n",
       "1             0.0                       1                   1      0.227273  \n",
       "2             1.0                       1                   1      0.923077  \n",
       "3             1.0                       1                   1      0.000000  \n",
       "4             0.0                       1                   1      0.800000  \n",
       "\n",
       "[5 rows x 123 columns]"
      ]
     },
     "execution_count": 3,
     "metadata": {},
     "output_type": "execute_result"
    }
   ],
   "source": [
    "data.head()"
   ]
  },
  {
   "cell_type": "code",
   "execution_count": 4,
   "metadata": {},
   "outputs": [],
   "source": [
    "daily_features=pd.read_csv('daily_features.csv')"
   ]
  },
  {
   "cell_type": "code",
   "execution_count": 5,
   "metadata": {},
   "outputs": [
    {
     "data": {
      "text/html": [
       "<div>\n",
       "<style scoped>\n",
       "    .dataframe tbody tr th:only-of-type {\n",
       "        vertical-align: middle;\n",
       "    }\n",
       "\n",
       "    .dataframe tbody tr th {\n",
       "        vertical-align: top;\n",
       "    }\n",
       "\n",
       "    .dataframe thead th {\n",
       "        text-align: right;\n",
       "    }\n",
       "</style>\n",
       "<table border=\"1\" class=\"dataframe\">\n",
       "  <thead>\n",
       "    <tr style=\"text-align: right;\">\n",
       "      <th></th>\n",
       "      <th>04/04/2016count</th>\n",
       "      <th>04/05/2016count</th>\n",
       "      <th>04/06/2016count</th>\n",
       "      <th>04/07/2016count</th>\n",
       "      <th>04/08/2016count</th>\n",
       "      <th>04/09/2016count</th>\n",
       "      <th>04/10/2016count</th>\n",
       "      <th>04/11/2016count</th>\n",
       "      <th>04/12/2016count</th>\n",
       "      <th>04/13/2016count</th>\n",
       "      <th>...</th>\n",
       "      <th>06/05/2016count</th>\n",
       "      <th>06/06/2016count</th>\n",
       "      <th>06/07/2016count</th>\n",
       "      <th>06/08/2016count</th>\n",
       "      <th>06/09/2016count</th>\n",
       "      <th>06/10/2016count</th>\n",
       "      <th>06/11/2016count</th>\n",
       "      <th>06/12/2016count</th>\n",
       "      <th>gap</th>\n",
       "      <th>user_id</th>\n",
       "    </tr>\n",
       "  </thead>\n",
       "  <tbody>\n",
       "    <tr>\n",
       "      <th>0</th>\n",
       "      <td>NaN</td>\n",
       "      <td>2.0</td>\n",
       "      <td>1.0</td>\n",
       "      <td>NaN</td>\n",
       "      <td>NaN</td>\n",
       "      <td>NaN</td>\n",
       "      <td>NaN</td>\n",
       "      <td>NaN</td>\n",
       "      <td>1.0</td>\n",
       "      <td>NaN</td>\n",
       "      <td>...</td>\n",
       "      <td>NaN</td>\n",
       "      <td>NaN</td>\n",
       "      <td>NaN</td>\n",
       "      <td>NaN</td>\n",
       "      <td>NaN</td>\n",
       "      <td>NaN</td>\n",
       "      <td>NaN</td>\n",
       "      <td>NaN</td>\n",
       "      <td>100.0</td>\n",
       "      <td>100002020</td>\n",
       "    </tr>\n",
       "    <tr>\n",
       "      <th>1</th>\n",
       "      <td>NaN</td>\n",
       "      <td>1.0</td>\n",
       "      <td>1.0</td>\n",
       "      <td>3.0</td>\n",
       "      <td>1.0</td>\n",
       "      <td>NaN</td>\n",
       "      <td>NaN</td>\n",
       "      <td>1.0</td>\n",
       "      <td>1.0</td>\n",
       "      <td>NaN</td>\n",
       "      <td>...</td>\n",
       "      <td>NaN</td>\n",
       "      <td>NaN</td>\n",
       "      <td>NaN</td>\n",
       "      <td>NaN</td>\n",
       "      <td>NaN</td>\n",
       "      <td>NaN</td>\n",
       "      <td>NaN</td>\n",
       "      <td>NaN</td>\n",
       "      <td>100.0</td>\n",
       "      <td>100002033</td>\n",
       "    </tr>\n",
       "    <tr>\n",
       "      <th>2</th>\n",
       "      <td>NaN</td>\n",
       "      <td>1.0</td>\n",
       "      <td>NaN</td>\n",
       "      <td>NaN</td>\n",
       "      <td>NaN</td>\n",
       "      <td>NaN</td>\n",
       "      <td>1.0</td>\n",
       "      <td>NaN</td>\n",
       "      <td>1.0</td>\n",
       "      <td>NaN</td>\n",
       "      <td>...</td>\n",
       "      <td>NaN</td>\n",
       "      <td>NaN</td>\n",
       "      <td>NaN</td>\n",
       "      <td>NaN</td>\n",
       "      <td>NaN</td>\n",
       "      <td>NaN</td>\n",
       "      <td>NaN</td>\n",
       "      <td>NaN</td>\n",
       "      <td>100.0</td>\n",
       "      <td>100002035</td>\n",
       "    </tr>\n",
       "    <tr>\n",
       "      <th>3</th>\n",
       "      <td>1.0</td>\n",
       "      <td>1.0</td>\n",
       "      <td>NaN</td>\n",
       "      <td>NaN</td>\n",
       "      <td>NaN</td>\n",
       "      <td>NaN</td>\n",
       "      <td>NaN</td>\n",
       "      <td>NaN</td>\n",
       "      <td>NaN</td>\n",
       "      <td>NaN</td>\n",
       "      <td>...</td>\n",
       "      <td>NaN</td>\n",
       "      <td>1.0</td>\n",
       "      <td>1.0</td>\n",
       "      <td>NaN</td>\n",
       "      <td>NaN</td>\n",
       "      <td>NaN</td>\n",
       "      <td>NaN</td>\n",
       "      <td>1.0</td>\n",
       "      <td>1.0</td>\n",
       "      <td>100002036</td>\n",
       "    </tr>\n",
       "    <tr>\n",
       "      <th>4</th>\n",
       "      <td>NaN</td>\n",
       "      <td>NaN</td>\n",
       "      <td>NaN</td>\n",
       "      <td>NaN</td>\n",
       "      <td>NaN</td>\n",
       "      <td>NaN</td>\n",
       "      <td>NaN</td>\n",
       "      <td>NaN</td>\n",
       "      <td>NaN</td>\n",
       "      <td>NaN</td>\n",
       "      <td>...</td>\n",
       "      <td>3.0</td>\n",
       "      <td>NaN</td>\n",
       "      <td>1.0</td>\n",
       "      <td>NaN</td>\n",
       "      <td>NaN</td>\n",
       "      <td>NaN</td>\n",
       "      <td>NaN</td>\n",
       "      <td>1.0</td>\n",
       "      <td>1.0</td>\n",
       "      <td>100002040</td>\n",
       "    </tr>\n",
       "  </tbody>\n",
       "</table>\n",
       "<p>5 rows × 72 columns</p>\n",
       "</div>"
      ],
      "text/plain": [
       "   04/04/2016count  04/05/2016count  04/06/2016count  04/07/2016count  \\\n",
       "0              NaN              2.0              1.0              NaN   \n",
       "1              NaN              1.0              1.0              3.0   \n",
       "2              NaN              1.0              NaN              NaN   \n",
       "3              1.0              1.0              NaN              NaN   \n",
       "4              NaN              NaN              NaN              NaN   \n",
       "\n",
       "   04/08/2016count  04/09/2016count  04/10/2016count  04/11/2016count  \\\n",
       "0              NaN              NaN              NaN              NaN   \n",
       "1              1.0              NaN              NaN              1.0   \n",
       "2              NaN              NaN              1.0              NaN   \n",
       "3              NaN              NaN              NaN              NaN   \n",
       "4              NaN              NaN              NaN              NaN   \n",
       "\n",
       "   04/12/2016count  04/13/2016count  ...  06/05/2016count  06/06/2016count  \\\n",
       "0              1.0              NaN  ...              NaN              NaN   \n",
       "1              1.0              NaN  ...              NaN              NaN   \n",
       "2              1.0              NaN  ...              NaN              NaN   \n",
       "3              NaN              NaN  ...              NaN              1.0   \n",
       "4              NaN              NaN  ...              3.0              NaN   \n",
       "\n",
       "   06/07/2016count  06/08/2016count  06/09/2016count  06/10/2016count  \\\n",
       "0              NaN              NaN              NaN              NaN   \n",
       "1              NaN              NaN              NaN              NaN   \n",
       "2              NaN              NaN              NaN              NaN   \n",
       "3              1.0              NaN              NaN              NaN   \n",
       "4              1.0              NaN              NaN              NaN   \n",
       "\n",
       "   06/11/2016count  06/12/2016count    gap    user_id  \n",
       "0              NaN              NaN  100.0  100002020  \n",
       "1              NaN              NaN  100.0  100002033  \n",
       "2              NaN              NaN  100.0  100002035  \n",
       "3              NaN              1.0    1.0  100002036  \n",
       "4              NaN              1.0    1.0  100002040  \n",
       "\n",
       "[5 rows x 72 columns]"
      ]
     },
     "execution_count": 5,
     "metadata": {},
     "output_type": "execute_result"
    }
   ],
   "source": [
    "daily_features.head()"
   ]
  },
  {
   "cell_type": "code",
   "execution_count": 6,
   "metadata": {},
   "outputs": [],
   "source": [
    "cols =['04/04/2016count', '04/05/2016count', '04/06/2016count',\n",
    "       '04/07/2016count', '04/08/2016count', '04/09/2016count',\n",
    "       '04/10/2016count', '04/11/2016count', '04/12/2016count',\n",
    "       '04/13/2016count', '04/14/2016count', '04/15/2016count',\n",
    "       '04/16/2016count', '04/17/2016count', '04/18/2016count',\n",
    "       '04/19/2016count', '04/20/2016count', '04/21/2016count',\n",
    "       '04/22/2016count', '04/23/2016count', '04/24/2016count',\n",
    "       '04/25/2016count', '04/26/2016count', '04/27/2016count',\n",
    "       '04/28/2016count', '04/29/2016count', '04/30/2016count',\n",
    "       '05/01/2016count', '05/02/2016count', '05/03/2016count',\n",
    "       '05/04/2016count', '05/05/2016count', '05/06/2016count',\n",
    "       '05/07/2016count', '05/08/2016count', '05/09/2016count',\n",
    "       '05/10/2016count', '05/11/2016count', '05/12/2016count',\n",
    "       '05/13/2016count', '05/14/2016count', '05/15/2016count',\n",
    "       '05/16/2016count', '05/17/2016count', '05/18/2016count',\n",
    "       '05/19/2016count', '05/20/2016count', '05/21/2016count',\n",
    "       '05/22/2016count', '05/23/2016count', '05/24/2016count',\n",
    "       '05/25/2016count', '05/26/2016count', '05/27/2016count',\n",
    "       '05/28/2016count', '05/29/2016count', '05/30/2016count',\n",
    "       '05/31/2016count', '06/01/2016count', '06/02/2016count',\n",
    "       '06/03/2016count', '06/04/2016count', '06/05/2016count',\n",
    "       '06/06/2016count', '06/07/2016count', '06/08/2016count',\n",
    "       '06/09/2016count', '06/10/2016count', '06/11/2016count',\n",
    "       '06/12/2016count']"
   ]
  },
  {
   "cell_type": "code",
   "execution_count": 7,
   "metadata": {},
   "outputs": [],
   "source": [
    "dailys=[]"
   ]
  },
  {
   "cell_type": "code",
   "execution_count": 8,
   "metadata": {},
   "outputs": [],
   "source": [
    "for i in range(len(daily_features)):\n",
    "    days=[]\n",
    "    for j,c in enumerate(cols):\n",
    "        if not np.isnan(daily_features[c].iloc[i]):\n",
    "            days.append(j)\n",
    "    if len(days)>=2:\n",
    "        dailys.append((days[-1]-days[-2]+1))\n",
    "    if len(days)==1:\n",
    "        dailys.append((j-days[-1]+1))\n",
    "    if len(days)==0:\n",
    "        dailys.append((0))"
   ]
  },
  {
   "cell_type": "code",
   "execution_count": 9,
   "metadata": {},
   "outputs": [
    {
     "data": {
      "text/plain": [
       "191855"
      ]
     },
     "execution_count": 9,
     "metadata": {},
     "output_type": "execute_result"
    }
   ],
   "source": [
    "len(daily_features)"
   ]
  },
  {
   "cell_type": "code",
   "execution_count": 10,
   "metadata": {},
   "outputs": [
    {
     "data": {
      "text/plain": [
       "191855"
      ]
     },
     "execution_count": 10,
     "metadata": {},
     "output_type": "execute_result"
    }
   ],
   "source": [
    "len(dailys)"
   ]
  },
  {
   "cell_type": "code",
   "execution_count": 11,
   "metadata": {},
   "outputs": [],
   "source": [
    "mygap=np.array(dailys)"
   ]
  },
  {
   "cell_type": "code",
   "execution_count": 12,
   "metadata": {},
   "outputs": [
    {
     "data": {
      "text/plain": [
       "191855"
      ]
     },
     "execution_count": 12,
     "metadata": {},
     "output_type": "execute_result"
    }
   ],
   "source": [
    "len(data)"
   ]
  },
  {
   "cell_type": "code",
   "execution_count": 13,
   "metadata": {},
   "outputs": [],
   "source": [
    "data['my_gap']=mygap"
   ]
  },
  {
   "cell_type": "code",
   "execution_count": 14,
   "metadata": {},
   "outputs": [
    {
     "data": {
      "text/plain": [
       "['order_sd',\n",
       " 'active_days',\n",
       " 'lastgap',\n",
       " 'avg_gap',\n",
       " 'min_gap',\n",
       " 'max_gap',\n",
       " 'w1_total_orders',\n",
       " 'w2_total_orders',\n",
       " 'w3_total_orders',\n",
       " 'w4_total_orders',\n",
       " 'w5_total_orders',\n",
       " 'w6_total_orders',\n",
       " 'w7_total_orders',\n",
       " 'label',\n",
       " 'first_order',\n",
       " 'last_order',\n",
       " 'accountLength',\n",
       " 'overall_time_mean',\n",
       " 'update2create_time_mean',\n",
       " 'send2update_time_mean',\n",
       " 'overall_time_min',\n",
       " 'update2create_time_min',\n",
       " 'send2update_time_min',\n",
       " 'overall_time_max',\n",
       " 'update2create_time_max',\n",
       " 'send2update_time_max',\n",
       " 'intime_rate',\n",
       " 'last_coupon_fee',\n",
       " 'last_send_type',\n",
       " 'order_nums',\n",
       " 'city_id',\n",
       " 'sex',\n",
       " 'age',\n",
       " 'login_platform_b',\n",
       " 'app_version_b',\n",
       " 'age_na',\n",
       " 'lastgap_na',\n",
       " 'avg_gap_na',\n",
       " 'min_gap_na',\n",
       " 'max_gap_na',\n",
       " 'overall_time_mean_na',\n",
       " 'update2create_time_mean_na',\n",
       " 'send2update_time_mean_na',\n",
       " 'overall_time_min_na',\n",
       " 'update2create_time_min_na',\n",
       " 'send2update_time_min_na',\n",
       " 'overall_time_max_na',\n",
       " 'update2create_time_max_na',\n",
       " 'send2update_time_max_na',\n",
       " 'w1_avg_couponworth',\n",
       " 'w2_avg_couponworth',\n",
       " 'w3_avg_couponworth',\n",
       " 'w4_avg_couponworth',\n",
       " 'w5_avg_couponworth',\n",
       " 'w6_avg_couponworth',\n",
       " 'w7_avg_couponworth',\n",
       " 'w1_max_couponworth',\n",
       " 'w2_max_couponworth',\n",
       " 'w3_max_couponworth',\n",
       " 'w4_max_couponworth',\n",
       " 'w5_max_couponworth',\n",
       " 'w6_max_couponworth',\n",
       " 'w7_max_couponworth',\n",
       " 'log_order_sd',\n",
       " 'log_active_days',\n",
       " 'log_total_orders',\n",
       " 'log_w1_total_orders',\n",
       " 'log_w2_total_orders',\n",
       " 'log_w3_total_orders',\n",
       " 'log_w4_total_orders',\n",
       " 'log_w5_total_orders',\n",
       " 'log_w6_total_orders',\n",
       " 'log_w7_total_orders',\n",
       " 'log_first_order',\n",
       " 'log_last_order',\n",
       " 'log_accountLength',\n",
       " 'log_overall_time_mean',\n",
       " 'log_overall_time_min',\n",
       " 'log_overall_time_max',\n",
       " 'log_intime_rate',\n",
       " 'log_last_coupon_fee',\n",
       " 'log_order_nums',\n",
       " 'log_w1_avg_couponworth',\n",
       " 'log_w2_avg_couponworth',\n",
       " 'log_w3_avg_couponworth',\n",
       " 'log_w4_avg_couponworth',\n",
       " 'log_w5_avg_couponworth',\n",
       " 'log_w6_avg_couponworth',\n",
       " 'log_w7_avg_couponworth',\n",
       " 'log_w1_max_couponworth',\n",
       " 'log_w2_max_couponworth',\n",
       " 'log_w3_max_couponworth',\n",
       " 'log_w4_max_couponworth',\n",
       " 'log_w5_max_couponworth',\n",
       " 'log_w6_max_couponworth',\n",
       " 'log_w7_max_couponworth',\n",
       " 'dummy_log_lastgap',\n",
       " 'log_lastgap',\n",
       " 'dummy_log_avg_gap',\n",
       " 'log_avg_gap',\n",
       " 'dummy_log_min_gap',\n",
       " 'log_min_gap',\n",
       " 'dummy_log_max_gap',\n",
       " 'log_max_gap',\n",
       " 'dummy_log_update2create_time_mean',\n",
       " 'log_update2create_time_mean',\n",
       " 'dummy_log_send2update_time_mean',\n",
       " 'log_send2update_time_mean',\n",
       " 'dummy_log_update2create_time_min',\n",
       " 'log_update2create_time_min',\n",
       " 'dummy_log_send2update_time_min',\n",
       " 'log_send2update_time_min',\n",
       " 'dummy_log_update2create_time_max',\n",
       " 'log_update2create_time_max',\n",
       " 'dummy_log_send2update_time_max',\n",
       " 'log_send2update_time_max',\n",
       " 'kitchen_royalty',\n",
       " 'staple_price',\n",
       " 'like_num',\n",
       " 'dummy_like_num',\n",
       " 'dummy_has_kitchen_info',\n",
       " 'dummy_staple_price',\n",
       " 'comment_perc',\n",
       " 'my_gap']"
      ]
     },
     "execution_count": 14,
     "metadata": {},
     "output_type": "execute_result"
    }
   ],
   "source": [
    "list(data.columns)"
   ]
  },
  {
   "cell_type": "code",
   "execution_count": 15,
   "metadata": {},
   "outputs": [],
   "source": [
    "X=data.drop(['lastgap'],axis=1)"
   ]
  },
  {
   "cell_type": "code",
   "execution_count": 16,
   "metadata": {},
   "outputs": [],
   "source": [
    "df = load_rossi()"
   ]
  },
  {
   "cell_type": "code",
   "execution_count": 17,
   "metadata": {},
   "outputs": [
    {
     "data": {
      "text/html": [
       "<div>\n",
       "<style scoped>\n",
       "    .dataframe tbody tr th:only-of-type {\n",
       "        vertical-align: middle;\n",
       "    }\n",
       "\n",
       "    .dataframe tbody tr th {\n",
       "        vertical-align: top;\n",
       "    }\n",
       "\n",
       "    .dataframe thead th {\n",
       "        text-align: right;\n",
       "    }\n",
       "</style>\n",
       "<table border=\"1\" class=\"dataframe\">\n",
       "  <thead>\n",
       "    <tr style=\"text-align: right;\">\n",
       "      <th></th>\n",
       "      <th>week</th>\n",
       "      <th>arrest</th>\n",
       "      <th>fin</th>\n",
       "      <th>age</th>\n",
       "      <th>race</th>\n",
       "      <th>wexp</th>\n",
       "      <th>mar</th>\n",
       "      <th>paro</th>\n",
       "      <th>prio</th>\n",
       "    </tr>\n",
       "  </thead>\n",
       "  <tbody>\n",
       "    <tr>\n",
       "      <th>0</th>\n",
       "      <td>20</td>\n",
       "      <td>1</td>\n",
       "      <td>0</td>\n",
       "      <td>27</td>\n",
       "      <td>1</td>\n",
       "      <td>0</td>\n",
       "      <td>0</td>\n",
       "      <td>1</td>\n",
       "      <td>3</td>\n",
       "    </tr>\n",
       "    <tr>\n",
       "      <th>1</th>\n",
       "      <td>17</td>\n",
       "      <td>1</td>\n",
       "      <td>0</td>\n",
       "      <td>18</td>\n",
       "      <td>1</td>\n",
       "      <td>0</td>\n",
       "      <td>0</td>\n",
       "      <td>1</td>\n",
       "      <td>8</td>\n",
       "    </tr>\n",
       "    <tr>\n",
       "      <th>2</th>\n",
       "      <td>25</td>\n",
       "      <td>1</td>\n",
       "      <td>0</td>\n",
       "      <td>19</td>\n",
       "      <td>0</td>\n",
       "      <td>1</td>\n",
       "      <td>0</td>\n",
       "      <td>1</td>\n",
       "      <td>13</td>\n",
       "    </tr>\n",
       "    <tr>\n",
       "      <th>3</th>\n",
       "      <td>52</td>\n",
       "      <td>0</td>\n",
       "      <td>1</td>\n",
       "      <td>23</td>\n",
       "      <td>1</td>\n",
       "      <td>1</td>\n",
       "      <td>1</td>\n",
       "      <td>1</td>\n",
       "      <td>1</td>\n",
       "    </tr>\n",
       "    <tr>\n",
       "      <th>4</th>\n",
       "      <td>52</td>\n",
       "      <td>0</td>\n",
       "      <td>0</td>\n",
       "      <td>19</td>\n",
       "      <td>0</td>\n",
       "      <td>1</td>\n",
       "      <td>0</td>\n",
       "      <td>1</td>\n",
       "      <td>3</td>\n",
       "    </tr>\n",
       "  </tbody>\n",
       "</table>\n",
       "</div>"
      ],
      "text/plain": [
       "   week  arrest  fin  age  race  wexp  mar  paro  prio\n",
       "0    20       1    0   27     1     0    0     1     3\n",
       "1    17       1    0   18     1     0    0     1     8\n",
       "2    25       1    0   19     0     1    0     1    13\n",
       "3    52       0    1   23     1     1    1     1     1\n",
       "4    52       0    0   19     0     1    0     1     3"
      ]
     },
     "execution_count": 17,
     "metadata": {},
     "output_type": "execute_result"
    }
   ],
   "source": [
    "df.head()"
   ]
  },
  {
   "cell_type": "code",
   "execution_count": 18,
   "metadata": {},
   "outputs": [],
   "source": [
    "df['age_strata'] = pd.cut(df['age'], np.arange(0, 80, 5))\n",
    "df = df.drop('age', axis=1)"
   ]
  },
  {
   "cell_type": "code",
   "execution_count": 19,
   "metadata": {},
   "outputs": [
    {
     "data": {
      "text/plain": [
       "<lifelines.CoxPHFitter: fitted with 432 observations, 318 censored>"
      ]
     },
     "execution_count": 19,
     "metadata": {},
     "output_type": "execute_result"
    }
   ],
   "source": [
    "cph = CoxPHFitter()\n",
    "cph.fit(df, 'week', 'arrest', strata=['age_strata', 'wexp'])"
   ]
  },
  {
   "cell_type": "code",
   "execution_count": 20,
   "metadata": {},
   "outputs": [
    {
     "name": "stdout",
     "output_type": "stream",
     "text": [
      "<lifelines.CoxPHFitter: fitted with 432 observations, 318 censored>\n",
      "      duration col = 'week'\n",
      "         event col = 'arrest'\n",
      "            strata = ['age_strata', 'wexp']\n",
      "number of subjects = 432\n",
      "  number of events = 114\n",
      "    log-likelihood = -434.50\n",
      "  time fit was run = 2019-04-10 20:03:04 UTC\n",
      "\n",
      "---\n",
      "      coef exp(coef)  se(coef)     z      p  -log2(p)  lower 0.95  upper 0.95\n",
      "fin  -0.41      0.67      0.19 -2.10   0.04      4.82       -0.79       -0.03\n",
      "race  0.29      1.33      0.31  0.93   0.35      1.50       -0.32        0.90\n",
      "mar  -0.34      0.71      0.39 -0.87   0.38      1.38       -1.10        0.42\n",
      "paro -0.10      0.91      0.20 -0.50   0.62      0.70       -0.48        0.29\n",
      "prio  0.08      1.08      0.03  2.83 <0.005      7.73        0.02        0.14\n",
      "---\n",
      "Concordance = 0.57\n",
      "Log-likelihood ratio test = 13.12 on 5 df, -log2(p)=5.49\n"
     ]
    },
    {
     "data": {
      "image/png": "[encoded data removed]",
      "text/plain": [
       "<Figure size 432x288 with 1 Axes>"
      ]
     },
     "metadata": {
      "image/png": {
       "height": 260,
       "width": 375
      },
      "needs_background": "light"
     },
     "output_type": "display_data"
    }
   ],
   "source": [
    "cph.print_summary()\n",
    "cph.plot();"
   ]
  },
  {
   "cell_type": "code",
   "execution_count": 21,
   "metadata": {},
   "outputs": [],
   "source": [
    "from sklearn.model_selection import train_test_split"
   ]
  },
  {
   "cell_type": "code",
   "execution_count": 22,
   "metadata": {},
   "outputs": [],
   "source": [
    "train, test = train_test_split(X, test_size=0.2, random_state=42)"
   ]
  },
  {
   "cell_type": "code",
   "execution_count": 23,
   "metadata": {},
   "outputs": [],
   "source": [
    "cols=list(train.columns)"
   ]
  },
  {
   "cell_type": "code",
   "execution_count": 24,
   "metadata": {},
   "outputs": [
    {
     "data": {
      "text/plain": [
       "['order_sd',\n",
       " 'active_days',\n",
       " 'avg_gap',\n",
       " 'min_gap',\n",
       " 'max_gap',\n",
       " 'w1_total_orders',\n",
       " 'w2_total_orders',\n",
       " 'w3_total_orders',\n",
       " 'w4_total_orders',\n",
       " 'w5_total_orders',\n",
       " 'w6_total_orders',\n",
       " 'w7_total_orders',\n",
       " 'label',\n",
       " 'first_order',\n",
       " 'last_order',\n",
       " 'accountLength',\n",
       " 'overall_time_mean',\n",
       " 'update2create_time_mean',\n",
       " 'send2update_time_mean',\n",
       " 'overall_time_min',\n",
       " 'update2create_time_min',\n",
       " 'send2update_time_min',\n",
       " 'overall_time_max',\n",
       " 'update2create_time_max',\n",
       " 'send2update_time_max',\n",
       " 'intime_rate',\n",
       " 'last_coupon_fee',\n",
       " 'last_send_type',\n",
       " 'order_nums',\n",
       " 'city_id',\n",
       " 'sex',\n",
       " 'age',\n",
       " 'login_platform_b',\n",
       " 'app_version_b',\n",
       " 'age_na',\n",
       " 'lastgap_na',\n",
       " 'avg_gap_na',\n",
       " 'min_gap_na',\n",
       " 'max_gap_na',\n",
       " 'overall_time_mean_na',\n",
       " 'update2create_time_mean_na',\n",
       " 'send2update_time_mean_na',\n",
       " 'overall_time_min_na',\n",
       " 'update2create_time_min_na',\n",
       " 'send2update_time_min_na',\n",
       " 'overall_time_max_na',\n",
       " 'update2create_time_max_na',\n",
       " 'send2update_time_max_na',\n",
       " 'w1_avg_couponworth',\n",
       " 'w2_avg_couponworth',\n",
       " 'w3_avg_couponworth',\n",
       " 'w4_avg_couponworth',\n",
       " 'w5_avg_couponworth',\n",
       " 'w6_avg_couponworth',\n",
       " 'w7_avg_couponworth',\n",
       " 'w1_max_couponworth',\n",
       " 'w2_max_couponworth',\n",
       " 'w3_max_couponworth',\n",
       " 'w4_max_couponworth',\n",
       " 'w5_max_couponworth',\n",
       " 'w6_max_couponworth',\n",
       " 'w7_max_couponworth',\n",
       " 'log_order_sd',\n",
       " 'log_active_days',\n",
       " 'log_total_orders',\n",
       " 'log_w1_total_orders',\n",
       " 'log_w2_total_orders',\n",
       " 'log_w3_total_orders',\n",
       " 'log_w4_total_orders',\n",
       " 'log_w5_total_orders',\n",
       " 'log_w6_total_orders',\n",
       " 'log_w7_total_orders',\n",
       " 'log_first_order',\n",
       " 'log_last_order',\n",
       " 'log_accountLength',\n",
       " 'log_overall_time_mean',\n",
       " 'log_overall_time_min',\n",
       " 'log_overall_time_max',\n",
       " 'log_intime_rate',\n",
       " 'log_last_coupon_fee',\n",
       " 'log_order_nums',\n",
       " 'log_w1_avg_couponworth',\n",
       " 'log_w2_avg_couponworth',\n",
       " 'log_w3_avg_couponworth',\n",
       " 'log_w4_avg_couponworth',\n",
       " 'log_w5_avg_couponworth',\n",
       " 'log_w6_avg_couponworth',\n",
       " 'log_w7_avg_couponworth',\n",
       " 'log_w1_max_couponworth',\n",
       " 'log_w2_max_couponworth',\n",
       " 'log_w3_max_couponworth',\n",
       " 'log_w4_max_couponworth',\n",
       " 'log_w5_max_couponworth',\n",
       " 'log_w6_max_couponworth',\n",
       " 'log_w7_max_couponworth',\n",
       " 'dummy_log_lastgap',\n",
       " 'log_lastgap',\n",
       " 'dummy_log_avg_gap',\n",
       " 'log_avg_gap',\n",
       " 'dummy_log_min_gap',\n",
       " 'log_min_gap',\n",
       " 'dummy_log_max_gap',\n",
       " 'log_max_gap',\n",
       " 'dummy_log_update2create_time_mean',\n",
       " 'log_update2create_time_mean',\n",
       " 'dummy_log_send2update_time_mean',\n",
       " 'log_send2update_time_mean',\n",
       " 'dummy_log_update2create_time_min',\n",
       " 'log_update2create_time_min',\n",
       " 'dummy_log_send2update_time_min',\n",
       " 'log_send2update_time_min',\n",
       " 'dummy_log_update2create_time_max',\n",
       " 'log_update2create_time_max',\n",
       " 'dummy_log_send2update_time_max',\n",
       " 'log_send2update_time_max',\n",
       " 'kitchen_royalty',\n",
       " 'staple_price',\n",
       " 'like_num',\n",
       " 'dummy_like_num',\n",
       " 'dummy_has_kitchen_info',\n",
       " 'dummy_staple_price',\n",
       " 'comment_perc',\n",
       " 'my_gap']"
      ]
     },
     "execution_count": 24,
     "metadata": {},
     "output_type": "execute_result"
    }
   ],
   "source": [
    "cols"
   ]
  },
  {
   "cell_type": "code",
   "execution_count": 25,
   "metadata": {},
   "outputs": [],
   "source": [
    "cols.remove('label')\n",
    "cols.remove('my_gap')"
   ]
  },
  {
   "cell_type": "code",
   "execution_count": 26,
   "metadata": {},
   "outputs": [],
   "source": [
    "from sklearn.preprocessing import StandardScaler"
   ]
  },
  {
   "cell_type": "code",
   "execution_count": 27,
   "metadata": {},
   "outputs": [],
   "source": [
    "scaler = StandardScaler()"
   ]
  },
  {
   "cell_type": "code",
   "execution_count": 28,
   "metadata": {},
   "outputs": [],
   "source": [
    "import warnings\n",
    "warnings.filterwarnings(\"ignore\")"
   ]
  },
  {
   "cell_type": "code",
   "execution_count": 29,
   "metadata": {},
   "outputs": [],
   "source": [
    "train_scaled=scaler.fit_transform(train[cols])"
   ]
  },
  {
   "cell_type": "code",
   "execution_count": 30,
   "metadata": {},
   "outputs": [],
   "source": [
    "import sklearn.decomposition as skd"
   ]
  },
  {
   "cell_type": "code",
   "execution_count": 31,
   "metadata": {},
   "outputs": [],
   "source": [
    "pca = skd.PCA()"
   ]
  },
  {
   "cell_type": "code",
   "execution_count": 32,
   "metadata": {},
   "outputs": [],
   "source": [
    "train_pcad = pca.fit_transform(train_scaled)"
   ]
  },
  {
   "cell_type": "code",
   "execution_count": 33,
   "metadata": {},
   "outputs": [],
   "source": [
    "import matplotlib.pyplot as plt"
   ]
  },
  {
   "cell_type": "code",
   "execution_count": 34,
   "metadata": {},
   "outputs": [
    {
     "data": {
      "text/plain": [
       "[<matplotlib.lines.Line2D at 0x1a2105b780>]"
      ]
     },
     "execution_count": 34,
     "metadata": {},
     "output_type": "execute_result"
    },
    {
     "data": {
      "image/png": "[encoded data removed]",
      "text/plain": [
       "<Figure size 432x288 with 1 Axes>"
      ]
     },
     "metadata": {
      "image/png": {
       "height": 244,
       "width": 365
      },
      "needs_background": "light"
     },
     "output_type": "display_data"
    }
   ],
   "source": [
    "# 看图， 5比较合适\n",
    "plt.plot(range(1,122),pca.explained_variance_,'b-o')"
   ]
  },
  {
   "cell_type": "code",
   "execution_count": 35,
   "metadata": {},
   "outputs": [],
   "source": [
    "pca_components=pd.DataFrame(train_pcad)[[0,1,2,3,4]]"
   ]
  },
  {
   "cell_type": "code",
   "execution_count": 36,
   "metadata": {},
   "outputs": [],
   "source": [
    "pca_components.columns=['pca_1','pca_2','pca_3','pca_4','pca_5']"
   ]
  },
  {
   "cell_type": "code",
   "execution_count": 37,
   "metadata": {},
   "outputs": [],
   "source": [
    "pca_columns=['pca_1','pca_2','pca_3','pca_4','pca_5']"
   ]
  },
  {
   "cell_type": "code",
   "execution_count": 38,
   "metadata": {},
   "outputs": [
    {
     "data": {
      "text/html": [
       "<div>\n",
       "<style scoped>\n",
       "    .dataframe tbody tr th:only-of-type {\n",
       "        vertical-align: middle;\n",
       "    }\n",
       "\n",
       "    .dataframe tbody tr th {\n",
       "        vertical-align: top;\n",
       "    }\n",
       "\n",
       "    .dataframe thead th {\n",
       "        text-align: right;\n",
       "    }\n",
       "</style>\n",
       "<table border=\"1\" class=\"dataframe\">\n",
       "  <thead>\n",
       "    <tr style=\"text-align: right;\">\n",
       "      <th></th>\n",
       "      <th>pca_1</th>\n",
       "      <th>pca_2</th>\n",
       "      <th>pca_3</th>\n",
       "      <th>pca_4</th>\n",
       "      <th>pca_5</th>\n",
       "    </tr>\n",
       "  </thead>\n",
       "  <tbody>\n",
       "    <tr>\n",
       "      <th>pca_1</th>\n",
       "      <td>1.000000e+00</td>\n",
       "      <td>1.208177e-15</td>\n",
       "      <td>8.942532e-16</td>\n",
       "      <td>-2.566081e-15</td>\n",
       "      <td>-8.109495e-16</td>\n",
       "    </tr>\n",
       "    <tr>\n",
       "      <th>pca_2</th>\n",
       "      <td>1.208177e-15</td>\n",
       "      <td>1.000000e+00</td>\n",
       "      <td>7.475934e-16</td>\n",
       "      <td>1.652146e-16</td>\n",
       "      <td>2.853761e-16</td>\n",
       "    </tr>\n",
       "    <tr>\n",
       "      <th>pca_3</th>\n",
       "      <td>8.942532e-16</td>\n",
       "      <td>7.475934e-16</td>\n",
       "      <td>1.000000e+00</td>\n",
       "      <td>6.401384e-16</td>\n",
       "      <td>2.250465e-15</td>\n",
       "    </tr>\n",
       "    <tr>\n",
       "      <th>pca_4</th>\n",
       "      <td>-2.566081e-15</td>\n",
       "      <td>1.652146e-16</td>\n",
       "      <td>6.401384e-16</td>\n",
       "      <td>1.000000e+00</td>\n",
       "      <td>3.442552e-15</td>\n",
       "    </tr>\n",
       "    <tr>\n",
       "      <th>pca_5</th>\n",
       "      <td>-8.109495e-16</td>\n",
       "      <td>2.853761e-16</td>\n",
       "      <td>2.250465e-15</td>\n",
       "      <td>3.442552e-15</td>\n",
       "      <td>1.000000e+00</td>\n",
       "    </tr>\n",
       "  </tbody>\n",
       "</table>\n",
       "</div>"
      ],
      "text/plain": [
       "              pca_1         pca_2         pca_3         pca_4         pca_5\n",
       "pca_1  1.000000e+00  1.208177e-15  8.942532e-16 -2.566081e-15 -8.109495e-16\n",
       "pca_2  1.208177e-15  1.000000e+00  7.475934e-16  1.652146e-16  2.853761e-16\n",
       "pca_3  8.942532e-16  7.475934e-16  1.000000e+00  6.401384e-16  2.250465e-15\n",
       "pca_4 -2.566081e-15  1.652146e-16  6.401384e-16  1.000000e+00  3.442552e-15\n",
       "pca_5 -8.109495e-16  2.853761e-16  2.250465e-15  3.442552e-15  1.000000e+00"
      ]
     },
     "execution_count": 38,
     "metadata": {},
     "output_type": "execute_result"
    }
   ],
   "source": [
    "pca_components.corr()"
   ]
  },
  {
   "cell_type": "code",
   "execution_count": 39,
   "metadata": {},
   "outputs": [
    {
     "data": {
      "text/plain": [
       "153484"
      ]
     },
     "execution_count": 39,
     "metadata": {},
     "output_type": "execute_result"
    }
   ],
   "source": [
    "len(train)"
   ]
  },
  {
   "cell_type": "code",
   "execution_count": 40,
   "metadata": {},
   "outputs": [
    {
     "data": {
      "text/plain": [
       "153484"
      ]
     },
     "execution_count": 40,
     "metadata": {},
     "output_type": "execute_result"
    }
   ],
   "source": [
    "len(pca_components)"
   ]
  },
  {
   "cell_type": "code",
   "execution_count": 41,
   "metadata": {},
   "outputs": [],
   "source": [
    "for c in pca_columns:\n",
    "    train[c]=pca_components[c]"
   ]
  },
  {
   "cell_type": "code",
   "execution_count": 42,
   "metadata": {},
   "outputs": [],
   "source": [
    "new_train=train[['pca_1','pca_2','pca_3','pca_4','pca_5','my_gap','label']]"
   ]
  },
  {
   "cell_type": "code",
   "execution_count": 43,
   "metadata": {},
   "outputs": [
    {
     "data": {
      "text/html": [
       "<div>\n",
       "<style scoped>\n",
       "    .dataframe tbody tr th:only-of-type {\n",
       "        vertical-align: middle;\n",
       "    }\n",
       "\n",
       "    .dataframe tbody tr th {\n",
       "        vertical-align: top;\n",
       "    }\n",
       "\n",
       "    .dataframe thead th {\n",
       "        text-align: right;\n",
       "    }\n",
       "</style>\n",
       "<table border=\"1\" class=\"dataframe\">\n",
       "  <thead>\n",
       "    <tr style=\"text-align: right;\">\n",
       "      <th></th>\n",
       "      <th>pca_1</th>\n",
       "      <th>pca_2</th>\n",
       "      <th>pca_3</th>\n",
       "      <th>pca_4</th>\n",
       "      <th>pca_5</th>\n",
       "      <th>my_gap</th>\n",
       "      <th>label</th>\n",
       "    </tr>\n",
       "  </thead>\n",
       "  <tbody>\n",
       "    <tr>\n",
       "      <th>2557</th>\n",
       "      <td>-3.762867</td>\n",
       "      <td>-4.680837</td>\n",
       "      <td>1.371402</td>\n",
       "      <td>0.132330</td>\n",
       "      <td>2.686205</td>\n",
       "      <td>2</td>\n",
       "      <td>0.0</td>\n",
       "    </tr>\n",
       "    <tr>\n",
       "      <th>104450</th>\n",
       "      <td>-3.882019</td>\n",
       "      <td>-4.555256</td>\n",
       "      <td>1.291051</td>\n",
       "      <td>-0.080328</td>\n",
       "      <td>3.156202</td>\n",
       "      <td>10</td>\n",
       "      <td>0.0</td>\n",
       "    </tr>\n",
       "    <tr>\n",
       "      <th>140622</th>\n",
       "      <td>-3.035374</td>\n",
       "      <td>-4.085439</td>\n",
       "      <td>0.027065</td>\n",
       "      <td>2.330186</td>\n",
       "      <td>0.637758</td>\n",
       "      <td>47</td>\n",
       "      <td>0.0</td>\n",
       "    </tr>\n",
       "    <tr>\n",
       "      <th>129338</th>\n",
       "      <td>2.531195</td>\n",
       "      <td>-0.477359</td>\n",
       "      <td>1.883783</td>\n",
       "      <td>-3.297314</td>\n",
       "      <td>-0.003258</td>\n",
       "      <td>54</td>\n",
       "      <td>0.0</td>\n",
       "    </tr>\n",
       "    <tr>\n",
       "      <th>163885</th>\n",
       "      <td>NaN</td>\n",
       "      <td>NaN</td>\n",
       "      <td>NaN</td>\n",
       "      <td>NaN</td>\n",
       "      <td>NaN</td>\n",
       "      <td>27</td>\n",
       "      <td>0.0</td>\n",
       "    </tr>\n",
       "    <tr>\n",
       "      <th>184858</th>\n",
       "      <td>NaN</td>\n",
       "      <td>NaN</td>\n",
       "      <td>NaN</td>\n",
       "      <td>NaN</td>\n",
       "      <td>NaN</td>\n",
       "      <td>11</td>\n",
       "      <td>0.0</td>\n",
       "    </tr>\n",
       "    <tr>\n",
       "      <th>46141</th>\n",
       "      <td>0.803138</td>\n",
       "      <td>-1.205829</td>\n",
       "      <td>6.113242</td>\n",
       "      <td>0.115939</td>\n",
       "      <td>-4.897947</td>\n",
       "      <td>57</td>\n",
       "      <td>0.0</td>\n",
       "    </tr>\n",
       "    <tr>\n",
       "      <th>82608</th>\n",
       "      <td>-3.734943</td>\n",
       "      <td>-4.686155</td>\n",
       "      <td>0.991288</td>\n",
       "      <td>0.232170</td>\n",
       "      <td>2.448858</td>\n",
       "      <td>2</td>\n",
       "      <td>0.0</td>\n",
       "    </tr>\n",
       "    <tr>\n",
       "      <th>59493</th>\n",
       "      <td>2.226474</td>\n",
       "      <td>-0.803380</td>\n",
       "      <td>1.722836</td>\n",
       "      <td>-2.709656</td>\n",
       "      <td>-0.519506</td>\n",
       "      <td>8</td>\n",
       "      <td>1.0</td>\n",
       "    </tr>\n",
       "    <tr>\n",
       "      <th>39773</th>\n",
       "      <td>-3.469907</td>\n",
       "      <td>-4.385936</td>\n",
       "      <td>1.267614</td>\n",
       "      <td>1.385206</td>\n",
       "      <td>1.423058</td>\n",
       "      <td>41</td>\n",
       "      <td>0.0</td>\n",
       "    </tr>\n",
       "  </tbody>\n",
       "</table>\n",
       "</div>"
      ],
      "text/plain": [
       "           pca_1     pca_2     pca_3     pca_4     pca_5  my_gap  label\n",
       "2557   -3.762867 -4.680837  1.371402  0.132330  2.686205       2    0.0\n",
       "104450 -3.882019 -4.555256  1.291051 -0.080328  3.156202      10    0.0\n",
       "140622 -3.035374 -4.085439  0.027065  2.330186  0.637758      47    0.0\n",
       "129338  2.531195 -0.477359  1.883783 -3.297314 -0.003258      54    0.0\n",
       "163885       NaN       NaN       NaN       NaN       NaN      27    0.0\n",
       "184858       NaN       NaN       NaN       NaN       NaN      11    0.0\n",
       "46141   0.803138 -1.205829  6.113242  0.115939 -4.897947      57    0.0\n",
       "82608  -3.734943 -4.686155  0.991288  0.232170  2.448858       2    0.0\n",
       "59493   2.226474 -0.803380  1.722836 -2.709656 -0.519506       8    1.0\n",
       "39773  -3.469907 -4.385936  1.267614  1.385206  1.423058      41    0.0"
      ]
     },
     "execution_count": 43,
     "metadata": {},
     "output_type": "execute_result"
    }
   ],
   "source": [
    "new_train.head(10)"
   ]
  },
  {
   "cell_type": "code",
   "execution_count": 44,
   "metadata": {},
   "outputs": [],
   "source": [
    "new_train=new_train.fillna(0)"
   ]
  },
  {
   "cell_type": "code",
   "execution_count": 45,
   "metadata": {},
   "outputs": [
    {
     "data": {
      "text/plain": [
       "<lifelines.CoxPHFitter: fitted with 153484 observations, 108250 censored>"
      ]
     },
     "execution_count": 45,
     "metadata": {},
     "output_type": "execute_result"
    }
   ],
   "source": [
    "cph = CoxPHFitter()\n",
    "cph.fit(new_train, 'my_gap', 'label')"
   ]
  },
  {
   "cell_type": "code",
   "execution_count": 46,
   "metadata": {},
   "outputs": [
    {
     "name": "stdout",
     "output_type": "stream",
     "text": [
      "<lifelines.CoxPHFitter: fitted with 153484 observations, 108250 censored>\n",
      "      duration col = 'my_gap'\n",
      "         event col = 'label'\n",
      "number of subjects = 153484\n",
      "  number of events = 45234\n",
      "    log-likelihood = -518209.92\n",
      "  time fit was run = 2019-04-10 20:03:09 UTC\n",
      "\n",
      "---\n",
      "       coef exp(coef)  se(coef)     z    p  -log2(p)  lower 0.95  upper 0.95\n",
      "pca_1  0.00      1.00      0.00  0.62 0.54      0.90       -0.00        0.00\n",
      "pca_2  0.00      1.00      0.00  0.39 0.70      0.52       -0.00        0.00\n",
      "pca_3  0.00      1.00      0.00  0.27 0.79      0.34       -0.00        0.00\n",
      "pca_4 -0.00      1.00      0.00 -0.96 0.33      1.58       -0.01        0.00\n",
      "pca_5  0.00      1.00      0.00  0.06 0.95      0.07       -0.00        0.00\n",
      "---\n",
      "Concordance = 0.50\n",
      "Log-likelihood ratio test = 1.54 on 5 df, -log2(p)=0.14\n"
     ]
    },
    {
     "data": {
      "image/png": "[encoded data removed]",
      "text/plain": [
       "<Figure size 432x288 with 1 Axes>"
      ]
     },
     "metadata": {
      "image/png": {
       "height": 260,
       "width": 382
      },
      "needs_background": "light"
     },
     "output_type": "display_data"
    }
   ],
   "source": [
    "cph.print_summary()\n",
    "cph.plot();"
   ]
  },
  {
   "cell_type": "code",
   "execution_count": 47,
   "metadata": {},
   "outputs": [],
   "source": [
    "timelines=[i for i in range(1,84)]"
   ]
  },
  {
   "cell_type": "code",
   "execution_count": 48,
   "metadata": {},
   "outputs": [],
   "source": [
    "train_survival_f=cph.predict_survival_function(new_train, times=timelines).T"
   ]
  },
  {
   "cell_type": "code",
   "execution_count": 49,
   "metadata": {},
   "outputs": [],
   "source": [
    "for j in range(1,83):\n",
    "    train_survival_f[\"gap\"+str(j)]=train_survival_f[j]-train_survival_f[j+1]"
   ]
  },
  {
   "cell_type": "code",
   "execution_count": 50,
   "metadata": {},
   "outputs": [],
   "source": [
    "gap_cols=[   'gap1',\n",
    "             'gap2',\n",
    "             'gap3',\n",
    "             'gap4',\n",
    "             'gap5',\n",
    "             'gap6',\n",
    "             'gap7',\n",
    "             'gap8',\n",
    "             'gap9',\n",
    "             'gap10',\n",
    "             'gap11',\n",
    "             'gap12',\n",
    "             'gap13',\n",
    "             'gap14',\n",
    "             'gap15',\n",
    "             'gap16',\n",
    "             'gap17',\n",
    "             'gap18',\n",
    "             'gap19',\n",
    "             'gap20',\n",
    "             'gap21',\n",
    "             'gap22',\n",
    "             'gap23',\n",
    "             'gap24',\n",
    "             'gap25',\n",
    "             'gap26',\n",
    "             'gap27',\n",
    "             'gap28',\n",
    "             'gap29',\n",
    "             'gap30',\n",
    "             'gap31',\n",
    "             'gap32',\n",
    "             'gap33',\n",
    "             'gap34',\n",
    "             'gap35',\n",
    "             'gap36',\n",
    "             'gap37',\n",
    "             'gap38',\n",
    "             'gap39',\n",
    "             'gap40',\n",
    "             'gap41',\n",
    "             'gap42',\n",
    "             'gap43',\n",
    "             'gap44',\n",
    "             'gap45',\n",
    "             'gap46',\n",
    "             'gap47',\n",
    "             'gap48',\n",
    "             'gap49',\n",
    "             'gap50',\n",
    "             'gap51',\n",
    "             'gap52',\n",
    "             'gap53',\n",
    "             'gap54',\n",
    "             'gap55',\n",
    "             'gap56',\n",
    "             'gap57',\n",
    "             'gap58',\n",
    "             'gap59',\n",
    "             'gap60',\n",
    "             'gap61',\n",
    "             'gap62',\n",
    "             'gap63',\n",
    "             'gap64',\n",
    "             'gap65',\n",
    "             'gap66',\n",
    "             'gap67',\n",
    "             'gap68',\n",
    "             'gap69',\n",
    "             'gap70',\n",
    "             'gap71',\n",
    "             'gap72',\n",
    "             'gap73',\n",
    "             'gap74',\n",
    "             'gap75',\n",
    "             'gap76',\n",
    "             'gap77',\n",
    "             'gap78',\n",
    "             'gap79',\n",
    "             'gap80',\n",
    "             'gap81',\n",
    "             'gap82']"
   ]
  },
  {
   "cell_type": "code",
   "execution_count": 51,
   "metadata": {},
   "outputs": [],
   "source": [
    "max_cols=[]"
   ]
  },
  {
   "cell_type": "code",
   "execution_count": 52,
   "metadata": {},
   "outputs": [],
   "source": [
    "for i in range(len(train_survival_f)):\n",
    "    max_col='gap1'\n",
    "    for j in range(1,len(gap_cols)):\n",
    "        if train_survival_f[gap_cols[j]].iloc[i]>=train_survival_f[max_col].iloc[i]:\n",
    "            max_col=gap_cols[j]\n",
    "    max_cols.append(max_col)"
   ]
  },
  {
   "cell_type": "code",
   "execution_count": 57,
   "metadata": {},
   "outputs": [
    {
     "data": {
      "text/plain": [
       "array(['gap1'], dtype=object)"
      ]
     },
     "execution_count": 57,
     "metadata": {},
     "output_type": "execute_result"
    }
   ],
   "source": [
    "pd.DataFrame(np.array(max_cols))[0].unique()"
   ]
  },
  {
   "cell_type": "code",
   "execution_count": null,
   "metadata": {},
   "outputs": [],
   "source": []
  }
 ],
 "metadata": {
  "kernelspec": {
   "display_name": "Python 3",
   "language": "python",
   "name": "python3"
  },
  "language_info": {
   "codemirror_mode": {
    "name": "ipython",
    "version": 3
   },
   "file_extension": ".py",
   "mimetype": "text/x-python",
   "name": "python",
   "nbconvert_exporter": "python",
   "pygments_lexer": "ipython3",
   "version": "3.6.6"
  }
 },
 "nbformat": 4,
 "nbformat_minor": 2
}
