{
 "cells": [
  {
   "cell_type": "code",
   "execution_count": 3,
   "metadata": {},
   "outputs": [
    {
     "name": "stderr",
     "output_type": "stream",
     "text": [
      "/Applications/anaconda3/lib/python3.6/site-packages/h5py/__init__.py:34: FutureWarning: Conversion of the second argument of issubdtype from `float` to `np.floating` is deprecated. In future, it will be treated as `np.float64 == np.dtype(float).type`.\n",
      "  from ._conv import register_converters as _register_converters\n",
      "Using TensorFlow backend.\n"
     ]
    }
   ],
   "source": [
    "import numpy\n",
    "import matplotlib.pyplot as plt\n",
    "import pandas as pd\n",
    "import math\n",
    "from keras.models import Sequential\n",
    "from keras.layers import Dense,Dropout\n",
    "from keras.layers import LSTM\n",
    "from sklearn.preprocessing import MinMaxScaler\n",
    "from sklearn.metrics import mean_squared_error\n",
    "from sklearn.model_selection import train_test_split\n",
    "from sklearn.model_selection import StratifiedShuffleSplit\n",
    "from keras.layers import Input, Embedding"
   ]
  },
  {
   "cell_type": "code",
   "execution_count": 4,
   "metadata": {
    "collapsed": true
   },
   "outputs": [],
   "source": [
    "data=pd.read_csv('daily_features.csv')"
   ]
  },
  {
   "cell_type": "code",
   "execution_count": 5,
   "metadata": {
    "collapsed": true
   },
   "outputs": [],
   "source": [
    "data=data.fillna(0)"
   ]
  },
  {
   "cell_type": "code",
   "execution_count": 6,
   "metadata": {},
   "outputs": [],
   "source": [
    "data=data[data['gap']!=100]"
   ]
  },
  {
   "cell_type": "code",
   "execution_count": 7,
   "metadata": {},
   "outputs": [
    {
     "data": {
      "text/plain": [
       "56597"
      ]
     },
     "execution_count": 7,
     "metadata": {},
     "output_type": "execute_result"
    }
   ],
   "source": [
    "len(data)"
   ]
  },
  {
   "cell_type": "code",
   "execution_count": 8,
   "metadata": {},
   "outputs": [],
   "source": [
    "data=data.drop('user_id',1)"
   ]
  },
  {
   "cell_type": "code",
   "execution_count": 9,
   "metadata": {
    "collapsed": true
   },
   "outputs": [],
   "source": [
    "datax=data.drop('gap',1)\n",
    "datay=data['gap']"
   ]
  },
  {
   "cell_type": "code",
   "execution_count": 22,
   "metadata": {},
   "outputs": [],
   "source": [
    "X_train, X_test, y_train, y_test = train_test_split(datax, datay, test_size=0.25, random_state=42,shuffle=True)"
   ]
  },
  {
   "cell_type": "code",
   "execution_count": 37,
   "metadata": {},
   "outputs": [
    {
     "name": "stdout",
     "output_type": "stream",
     "text": [
      "(42447, 1, 70) (42447,) (14150, 1, 70) (14150,)\n"
     ]
    }
   ],
   "source": [
    "# reshape input to be 3D [samples, timesteps, features]\n",
    "train_X = X_train.values.reshape((X_train.values.shape[0], 1, X_train.values.shape[1]))\n",
    "test_X = X_test.values.reshape((X_test.values.shape[0], 1, X_test.values.shape[1]))\n",
    "print(train_X.shape, y_train.shape, test_X.shape, y_test.shape)"
   ]
  },
  {
   "cell_type": "code",
   "execution_count": 24,
   "metadata": {
    "scrolled": true
   },
   "outputs": [
    {
     "name": "stdout",
     "output_type": "stream",
     "text": [
      "Train on 42447 samples, validate on 14150 samples\n",
      "Epoch 1/50\n",
      " - 3s - loss: 10.9445 - val_loss: 8.0361\n",
      "Epoch 2/50\n",
      " - 2s - loss: 7.0116 - val_loss: 6.1659\n",
      "Epoch 3/50\n",
      " - 3s - loss: 5.7903 - val_loss: 5.2657\n",
      "Epoch 4/50\n",
      " - 2s - loss: 5.0641 - val_loss: 4.6639\n",
      "Epoch 5/50\n",
      " - 2s - loss: 4.5686 - val_loss: 4.2551\n",
      "Epoch 6/50\n",
      " - 2s - loss: 4.2074 - val_loss: 3.9587\n",
      "Epoch 7/50\n",
      " - 2s - loss: 3.9355 - val_loss: 3.7254\n",
      "Epoch 8/50\n",
      " - 2s - loss: 3.7210 - val_loss: 3.5421\n",
      "Epoch 9/50\n",
      " - 2s - loss: 3.5488 - val_loss: 3.3967\n",
      "Epoch 10/50\n",
      " - 2s - loss: 3.4083 - val_loss: 3.2829\n",
      "Epoch 11/50\n",
      " - 2s - loss: 3.2956 - val_loss: 3.1936\n",
      "Epoch 12/50\n",
      " - 2s - loss: 3.2033 - val_loss: 3.1211\n",
      "Epoch 13/50\n",
      " - 2s - loss: 3.1252 - val_loss: 3.0604\n",
      "Epoch 14/50\n",
      " - 2s - loss: 3.0598 - val_loss: 3.0108\n",
      "Epoch 15/50\n",
      " - 2s - loss: 3.0059 - val_loss: 2.9692\n",
      "Epoch 16/50\n",
      " - 2s - loss: 2.9616 - val_loss: 2.9345\n",
      "Epoch 17/50\n",
      " - 2s - loss: 2.9234 - val_loss: 2.9037\n",
      "Epoch 18/50\n",
      " - 2s - loss: 2.8902 - val_loss: 2.8788\n",
      "Epoch 19/50\n",
      " - 2s - loss: 2.8618 - val_loss: 2.8592\n",
      "Epoch 20/50\n",
      " - 3s - loss: 2.8378 - val_loss: 2.8439\n",
      "Epoch 21/50\n",
      " - 2s - loss: 2.8174 - val_loss: 2.8311\n",
      "Epoch 22/50\n",
      " - 2s - loss: 2.7999 - val_loss: 2.8210\n",
      "Epoch 23/50\n",
      " - 2s - loss: 2.7855 - val_loss: 2.8116\n",
      "Epoch 24/50\n",
      " - 2s - loss: 2.7725 - val_loss: 2.8032\n",
      "Epoch 25/50\n",
      " - 2s - loss: 2.7613 - val_loss: 2.7959\n",
      "Epoch 26/50\n",
      " - 2s - loss: 2.7514 - val_loss: 2.7892\n",
      "Epoch 27/50\n",
      " - 2s - loss: 2.7425 - val_loss: 2.7834\n",
      "Epoch 28/50\n",
      " - 2s - loss: 2.7347 - val_loss: 2.7784\n",
      "Epoch 29/50\n",
      " - 2s - loss: 2.7271 - val_loss: 2.7739\n",
      "Epoch 30/50\n",
      " - 2s - loss: 2.7204 - val_loss: 2.7700\n",
      "Epoch 31/50\n",
      " - 2s - loss: 2.7141 - val_loss: 2.7665\n",
      "Epoch 32/50\n",
      " - 2s - loss: 2.7082 - val_loss: 2.7634\n",
      "Epoch 33/50\n",
      " - 2s - loss: 2.7028 - val_loss: 2.7618\n",
      "Epoch 34/50\n",
      " - 2s - loss: 2.6978 - val_loss: 2.7587\n",
      "Epoch 35/50\n",
      " - 2s - loss: 2.6932 - val_loss: 2.7576\n",
      "Epoch 36/50\n",
      " - 2s - loss: 2.6888 - val_loss: 2.7547\n",
      "Epoch 37/50\n",
      " - 2s - loss: 2.6845 - val_loss: 2.7544\n",
      "Epoch 38/50\n",
      " - 2s - loss: 2.6810 - val_loss: 2.7536\n",
      "Epoch 39/50\n",
      " - 2s - loss: 2.6773 - val_loss: 2.7524\n",
      "Epoch 40/50\n",
      " - 2s - loss: 2.6741 - val_loss: 2.7518\n",
      "Epoch 41/50\n",
      " - 2s - loss: 2.6709 - val_loss: 2.7508\n",
      "Epoch 42/50\n",
      " - 2s - loss: 2.6679 - val_loss: 2.7504\n",
      "Epoch 43/50\n",
      " - 2s - loss: 2.6649 - val_loss: 2.7499\n",
      "Epoch 44/50\n",
      " - 2s - loss: 2.6620 - val_loss: 2.7491\n",
      "Epoch 45/50\n",
      " - 2s - loss: 2.6593 - val_loss: 2.7492\n",
      "Epoch 46/50\n",
      " - 2s - loss: 2.6567 - val_loss: 2.7485\n",
      "Epoch 47/50\n",
      " - 2s - loss: 2.6540 - val_loss: 2.7493\n",
      "Epoch 48/50\n",
      " - 2s - loss: 2.6517 - val_loss: 2.7482\n",
      "Epoch 49/50\n",
      " - 2s - loss: 2.6490 - val_loss: 2.7478\n",
      "Epoch 50/50\n",
      " - 2s - loss: 2.6464 - val_loss: 2.7483\n"
     ]
    }
   ],
   "source": [
    "model = Sequential()\n",
    "model.add(LSTM(50, input_shape=(train_X.shape[1], train_X.shape[2])))\n",
    "model.add(Dense(1))\n",
    "model.compile(loss='mae', optimizer='adam')\n",
    "# fit network\n",
    "history = model.fit(train_X, y_train, epochs=50, batch_size=72, validation_data=(test_X, y_test), verbose=2, shuffle=False)"
   ]
  },
  {
   "cell_type": "code",
   "execution_count": 38,
   "metadata": {},
   "outputs": [
    {
     "name": "stdout",
     "output_type": "stream",
     "text": [
      "2.7483003155671244\n"
     ]
    }
   ],
   "source": [
    "from numpy import concatenate\n",
    "from sklearn.preprocessing import MinMaxScaler\n",
    "from sklearn.metrics import mean_absolute_error\n",
    "#scaler = MinMaxScaler(feature_range=(0, 1))\n",
    "# make a prediction\n",
    "yhat = model.predict(test_X)\n",
    "# test_X = test_X.reshape((test_X.shape[0], test_X.shape[2]))\n",
    "# # invert scaling for forecast\n",
    "# inv_yhat = concatenate((yhat, test_X[:, 1:]), axis=1)\n",
    "# #inv_yhat = scaler.inverse_transform(inv_yhat)\n",
    "# inv_yhat = inv_yhat[:,0]\n",
    "# # invert scaling for actual\n",
    "# y_test = y_test.reshape((len(y_test), 1))\n",
    "# inv_y = concatenate((y_test, test_X[:, 1:]), axis=1)\n",
    "# inv_y = scaler.inverse_transform(inv_y)\n",
    "# inv_y = inv_y[:,0]\n",
    "# # calculate RMSE\n",
    "# mae = mean_absolute_error(inv_y, inv_yhat)\n",
    "mae = mean_absolute_error(y_test, yhat)\n",
    "print(mae)"
   ]
  },
  {
   "cell_type": "code",
   "execution_count": 21,
   "metadata": {},
   "outputs": [
    {
     "data": {
      "text/plain": [
       "(14150, 1, 70)"
      ]
     },
     "execution_count": 21,
     "metadata": {},
     "output_type": "execute_result"
    }
   ],
   "source": [
    "test_X.shape"
   ]
  },
  {
   "cell_type": "code",
   "execution_count": null,
   "metadata": {
    "collapsed": true
   },
   "outputs": [],
   "source": []
  },
  {
   "cell_type": "code",
   "execution_count": null,
   "metadata": {},
   "outputs": [
    {
     "name": "stderr",
     "output_type": "stream",
     "text": [
      "/Applications/anaconda3/lib/python3.6/site-packages/pandas/core/series.py:842: FutureWarning: \n",
      "Passing list-likes to .loc or [] with any missing label will raise\n",
      "KeyError in the future, you can use .reindex() as an alternative.\n",
      "\n",
      "See the documentation here:\n",
      "https://pandas.pydata.org/pandas-docs/stable/indexing.html#deprecate-loc-reindex-listlike\n",
      "  return self.loc[key]\n"
     ]
    },
    {
     "name": "stdout",
     "output_type": "stream",
     "text": [
      "Epoch 1/200\n"
     ]
    }
   ],
   "source": [
    "from sklearn.model_selection import KFold \n",
    "kf = KFold(n_splits=5,random_state=42)\n",
    "            \n",
    "mae=0      \n",
    "\n",
    "for train_index, test_index in kf.split(X_train0):\n",
    "    X_train, X_test = X_train0.iloc[train_index], X_train0.iloc[test_index]\n",
    "    y_train, y_test = y_train0[train_index], y_train0[test_index]\n",
    "    \n",
    "    model = Sequential()\n",
    "    model.add(Dense(8, input_dim=70, activation='relu'))\n",
    "    model.add(Dense(1))\n",
    "    model.compile(loss='mean_absolute_error', optimizer='adam')\n",
    "    model.fit(X_train, y_train, epochs=200, batch_size=2, verbose=2)\n",
    "    \n",
    "    testScore = model.evaluate(X_test, y_test, verbose=0)\n",
    "    mae+=testScore/5\n",
    "\n",
    "     "
   ]
  },
  {
   "cell_type": "code",
   "execution_count": null,
   "metadata": {
    "collapsed": true
   },
   "outputs": [],
   "source": []
  }
 ],
 "metadata": {
  "kernelspec": {
   "display_name": "Python 3",
   "language": "python",
   "name": "python3"
  },
  "language_info": {
   "codemirror_mode": {
    "name": "ipython",
    "version": 3
   },
   "file_extension": ".py",
   "mimetype": "text/x-python",
   "name": "python",
   "nbconvert_exporter": "python",
   "pygments_lexer": "ipython3",
   "version": "3.6.3"
  }
 },
 "nbformat": 4,
 "nbformat_minor": 2
}
