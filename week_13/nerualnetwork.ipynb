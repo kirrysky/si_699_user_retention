{
 "cells": [
  {
   "cell_type": "markdown",
   "metadata": {},
   "source": [
    "# Nerual Network\n",
    "\n",
    "- Author: Wen Xin\n",
    "- Description: This file is about using Nerual Network to do regression for our problem."
   ]
  },
  {
   "cell_type": "code",
   "execution_count": 1,
   "metadata": {},
   "outputs": [],
   "source": [
    "import pandas as pd\n",
    "import numpy as np\n",
    "import warnings\n",
    "warnings.filterwarnings(\"ignore\")"
   ]
  },
  {
   "cell_type": "code",
   "execution_count": 2,
   "metadata": {},
   "outputs": [],
   "source": [
    "data=pd.read_csv('data.csv')"
   ]
  },
  {
   "cell_type": "code",
   "execution_count": 3,
   "metadata": {},
   "outputs": [],
   "source": [
    "X=data\n",
    "y=data['gap']\n",
    "X=X.drop(['gap'],axis=1)"
   ]
  },
  {
   "cell_type": "code",
   "execution_count": 4,
   "metadata": {},
   "outputs": [],
   "source": [
    "from sklearn.model_selection import train_test_split"
   ]
  },
  {
   "cell_type": "code",
   "execution_count": 5,
   "metadata": {},
   "outputs": [],
   "source": [
    "X_train, X_test, y_train, y_test = train_test_split(X, y, test_size=0.2, random_state=42)"
   ]
  },
  {
   "cell_type": "code",
   "execution_count": 6,
   "metadata": {},
   "outputs": [],
   "source": [
    "from sklearn.preprocessing import StandardScaler"
   ]
  },
  {
   "cell_type": "code",
   "execution_count": 7,
   "metadata": {},
   "outputs": [],
   "source": [
    "scaler = StandardScaler()"
   ]
  },
  {
   "cell_type": "code",
   "execution_count": 8,
   "metadata": {},
   "outputs": [],
   "source": [
    "X_train2=scaler.fit_transform(X_train)\n",
    "X_test2=scaler.transform(X_test)"
   ]
  },
  {
   "cell_type": "code",
   "execution_count": 9,
   "metadata": {},
   "outputs": [
    {
     "data": {
      "text/plain": [
       "(45277, 122)"
      ]
     },
     "execution_count": 9,
     "metadata": {},
     "output_type": "execute_result"
    }
   ],
   "source": [
    "X_train2.shape"
   ]
  },
  {
   "cell_type": "code",
   "execution_count": 15,
   "metadata": {},
   "outputs": [],
   "source": [
    "import keras\n",
    "from keras.models import Sequential\n",
    "from keras.layers import Dense,Dropout"
   ]
  },
  {
   "cell_type": "code",
   "execution_count": 16,
   "metadata": {},
   "outputs": [],
   "source": [
    "classifier = Sequential()"
   ]
  },
  {
   "cell_type": "code",
   "execution_count": 17,
   "metadata": {},
   "outputs": [],
   "source": [
    "classifier.add(Dense(output_dim = 32, init = 'uniform', activation = 'relu', input_dim = 122))\n",
    "classifier.add(Dropout(0.1))\n",
    "classifier.add(Dense(output_dim = 8, init = 'uniform', activation = 'relu'))\n",
    "# classifier.add(Dropout(0.1))\n",
    "classifier.add(Dense(output_dim = 1, init = 'uniform'))"
   ]
  },
  {
   "cell_type": "code",
   "execution_count": 18,
   "metadata": {},
   "outputs": [],
   "source": [
    "classifier.compile(optimizer = 'adam', loss = 'mean_squared_error')"
   ]
  },
  {
   "cell_type": "code",
   "execution_count": 51,
   "metadata": {},
   "outputs": [
    {
     "name": "stdout",
     "output_type": "stream",
     "text": [
      "Epoch 1/30\n",
      "45277/45277 [==============================] - 1s 19us/step - loss: 12.8632\n",
      "Epoch 2/30\n",
      "45277/45277 [==============================] - 1s 17us/step - loss: 12.8370\n",
      "Epoch 3/30\n",
      "45277/45277 [==============================] - 1s 20us/step - loss: 12.8874\n",
      "Epoch 4/30\n",
      "45277/45277 [==============================] - 1s 20us/step - loss: 12.7944\n",
      "Epoch 5/30\n",
      "45277/45277 [==============================] - 1s 20us/step - loss: 12.8706\n",
      "Epoch 6/30\n",
      "45277/45277 [==============================] - 1s 22us/step - loss: 12.7504\n",
      "Epoch 7/30\n",
      "45277/45277 [==============================] - 1s 20us/step - loss: 12.6979\n",
      "Epoch 8/30\n",
      "45277/45277 [==============================] - 1s 18us/step - loss: 12.6523\n",
      "Epoch 9/30\n",
      "45277/45277 [==============================] - 1s 18us/step - loss: 12.6538\n",
      "Epoch 10/30\n",
      "45277/45277 [==============================] - 1s 20us/step - loss: 12.6083\n",
      "Epoch 11/30\n",
      "45277/45277 [==============================] - 1s 21us/step - loss: 12.6333\n",
      "Epoch 12/30\n",
      "45277/45277 [==============================] - 1s 20us/step - loss: 12.6027\n",
      "Epoch 13/30\n",
      "45277/45277 [==============================] - 1s 23us/step - loss: 12.5771\n",
      "Epoch 14/30\n",
      "45277/45277 [==============================] - 1s 18us/step - loss: 12.5930\n",
      "Epoch 15/30\n",
      "45277/45277 [==============================] - 1s 19us/step - loss: 12.5300\n",
      "Epoch 16/30\n",
      "45277/45277 [==============================] - 1s 18us/step - loss: 12.5061\n",
      "Epoch 17/30\n",
      "45277/45277 [==============================] - 1s 24us/step - loss: 12.4189\n",
      "Epoch 18/30\n",
      "45277/45277 [==============================] - 1s 19us/step - loss: 12.5065\n",
      "Epoch 19/30\n",
      "45277/45277 [==============================] - 1s 20us/step - loss: 12.4228\n",
      "Epoch 20/30\n",
      "45277/45277 [==============================] - 1s 21us/step - loss: 12.4860\n",
      "Epoch 21/30\n",
      "45277/45277 [==============================] - 1s 20us/step - loss: 12.4224\n",
      "Epoch 22/30\n",
      "45277/45277 [==============================] - 1s 20us/step - loss: 12.4104\n",
      "Epoch 23/30\n",
      "45277/45277 [==============================] - 1s 25us/step - loss: 12.4378\n",
      "Epoch 24/30\n",
      "45277/45277 [==============================] - 1s 18us/step - loss: 12.3506\n",
      "Epoch 25/30\n",
      "45277/45277 [==============================] - 1s 24us/step - loss: 12.3854\n",
      "Epoch 26/30\n",
      "45277/45277 [==============================] - 1s 20us/step - loss: 12.4561\n",
      "Epoch 27/30\n",
      "45277/45277 [==============================] - 1s 24us/step - loss: 12.3552\n",
      "Epoch 28/30\n",
      "45277/45277 [==============================] - 1s 21us/step - loss: 12.3309\n",
      "Epoch 29/30\n",
      "45277/45277 [==============================] - 1s 18us/step - loss: 12.3457\n",
      "Epoch 30/30\n",
      "45277/45277 [==============================] - 1s 18us/step - loss: 12.3228\n"
     ]
    },
    {
     "data": {
      "text/plain": [
       "<keras.callbacks.History at 0x1a3fa11b70>"
      ]
     },
     "execution_count": 51,
     "metadata": {},
     "output_type": "execute_result"
    }
   ],
   "source": [
    "classifier.fit(X_train2, y_train, batch_size = 64, nb_epoch = 30)"
   ]
  },
  {
   "cell_type": "code",
   "execution_count": 52,
   "metadata": {},
   "outputs": [],
   "source": [
    "test_predict=classifier.predict(X_test2)"
   ]
  },
  {
   "cell_type": "code",
   "execution_count": 53,
   "metadata": {},
   "outputs": [],
   "source": [
    "train_predict=classifier.predict(X_train2)"
   ]
  },
  {
   "cell_type": "code",
   "execution_count": 54,
   "metadata": {},
   "outputs": [],
   "source": [
    "from sklearn.metrics import mean_absolute_error"
   ]
  },
  {
   "cell_type": "code",
   "execution_count": 55,
   "metadata": {},
   "outputs": [
    {
     "data": {
      "text/plain": [
       "array([[ 7.6147313],\n",
       "       [31.232233 ],\n",
       "       [ 2.570902 ],\n",
       "       ...,\n",
       "       [24.367062 ],\n",
       "       [11.247924 ],\n",
       "       [ 4.7793674]], dtype=float32)"
      ]
     },
     "execution_count": 55,
     "metadata": {},
     "output_type": "execute_result"
    }
   ],
   "source": [
    "np.where(train_predict<0,0,train_predict)"
   ]
  },
  {
   "cell_type": "code",
   "execution_count": 56,
   "metadata": {},
   "outputs": [
    {
     "data": {
      "text/plain": [
       "array([[ 2.1062555],\n",
       "       [ 2.6999135],\n",
       "       [19.561384 ],\n",
       "       ...,\n",
       "       [64.68219  ],\n",
       "       [ 4.9652324],\n",
       "       [ 3.023418 ]], dtype=float32)"
      ]
     },
     "execution_count": 56,
     "metadata": {},
     "output_type": "execute_result"
    }
   ],
   "source": [
    "np.where(test_predict<0,0,test_predict)"
   ]
  },
  {
   "cell_type": "code",
   "execution_count": 57,
   "metadata": {},
   "outputs": [
    {
     "data": {
      "text/plain": [
       "2.827464405854273"
      ]
     },
     "execution_count": 57,
     "metadata": {},
     "output_type": "execute_result"
    }
   ],
   "source": [
    "mean_absolute_error(y_train, train_predict)"
   ]
  },
  {
   "cell_type": "code",
   "execution_count": 58,
   "metadata": {},
   "outputs": [
    {
     "data": {
      "text/plain": [
       "2.827464405854273"
      ]
     },
     "execution_count": 58,
     "metadata": {},
     "output_type": "execute_result"
    }
   ],
   "source": [
    "mean_absolute_error(y_train, np.where(train_predict<0,0,train_predict))"
   ]
  },
  {
   "cell_type": "code",
   "execution_count": 59,
   "metadata": {},
   "outputs": [
    {
     "data": {
      "text/plain": [
       "2.930526969573944"
      ]
     },
     "execution_count": 59,
     "metadata": {},
     "output_type": "execute_result"
    }
   ],
   "source": [
    "mean_absolute_error(y_test, test_predict)"
   ]
  },
  {
   "cell_type": "code",
   "execution_count": 60,
   "metadata": {},
   "outputs": [
    {
     "data": {
      "text/plain": [
       "2.930526969573944"
      ]
     },
     "execution_count": 60,
     "metadata": {},
     "output_type": "execute_result"
    }
   ],
   "source": [
    "mean_absolute_error(y_test, np.where(test_predict<0,0,test_predict))"
   ]
  },
  {
   "cell_type": "code",
   "execution_count": null,
   "metadata": {},
   "outputs": [],
   "source": []
  }
 ],
 "metadata": {
  "kernelspec": {
   "display_name": "Python 3",
   "language": "python",
   "name": "python3"
  },
  "language_info": {
   "codemirror_mode": {
    "name": "ipython",
    "version": 3
   },
   "file_extension": ".py",
   "mimetype": "text/x-python",
   "name": "python",
   "nbconvert_exporter": "python",
   "pygments_lexer": "ipython3",
   "version": "3.6.6"
  }
 },
 "nbformat": 4,
 "nbformat_minor": 2
}
