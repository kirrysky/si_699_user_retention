{
 "cells": [
  {
   "cell_type": "code",
   "execution_count": 1,
   "metadata": {
    "collapsed": true
   },
   "outputs": [],
   "source": [
    "import pandas as pd"
   ]
  },
  {
   "cell_type": "code",
   "execution_count": 2,
   "metadata": {
    "collapsed": true
   },
   "outputs": [],
   "source": [
    "data=pd.read_csv('new_dataset_w9_final.csv')"
   ]
  },
  {
   "cell_type": "code",
   "execution_count": 3,
   "metadata": {},
   "outputs": [
    {
     "name": "stderr",
     "output_type": "stream",
     "text": [
      "/Applications/anaconda3/lib/python3.6/site-packages/IPython/core/interactiveshell.py:2698: DtypeWarning: Columns (4) have mixed types. Specify dtype option on import or set low_memory=False.\n",
      "  interactivity=interactivity, compiler=compiler, result=result)\n"
     ]
    }
   ],
   "source": [
    "data_user=pd.read_csv('feature_engineering0212.csv')"
   ]
  },
  {
   "cell_type": "code",
   "execution_count": 4,
   "metadata": {},
   "outputs": [
    {
     "data": {
      "text/plain": [
       "191855"
      ]
     },
     "execution_count": 4,
     "metadata": {},
     "output_type": "execute_result"
    }
   ],
   "source": [
    "len(data)"
   ]
  },
  {
   "cell_type": "code",
   "execution_count": 5,
   "metadata": {},
   "outputs": [
    {
     "data": {
      "text/plain": [
       "191855"
      ]
     },
     "execution_count": 5,
     "metadata": {},
     "output_type": "execute_result"
    }
   ],
   "source": [
    "len(data_user)"
   ]
  },
  {
   "cell_type": "code",
   "execution_count": 6,
   "metadata": {
    "collapsed": true
   },
   "outputs": [],
   "source": [
    "data['user_id']=data_user['user_id']"
   ]
  },
  {
   "cell_type": "code",
   "execution_count": 9,
   "metadata": {},
   "outputs": [
    {
     "data": {
      "text/html": [
       "<div>\n",
       "<style scoped>\n",
       "    .dataframe tbody tr th:only-of-type {\n",
       "        vertical-align: middle;\n",
       "    }\n",
       "\n",
       "    .dataframe tbody tr th {\n",
       "        vertical-align: top;\n",
       "    }\n",
       "\n",
       "    .dataframe thead th {\n",
       "        text-align: right;\n",
       "    }\n",
       "</style>\n",
       "<table border=\"1\" class=\"dataframe\">\n",
       "  <thead>\n",
       "    <tr style=\"text-align: right;\">\n",
       "      <th></th>\n",
       "      <th>order_sd</th>\n",
       "      <th>active_days</th>\n",
       "      <th>lastgap</th>\n",
       "      <th>avg_gap</th>\n",
       "      <th>min_gap</th>\n",
       "      <th>max_gap</th>\n",
       "      <th>w1_total_orders</th>\n",
       "      <th>w2_total_orders</th>\n",
       "      <th>w3_total_orders</th>\n",
       "      <th>w4_total_orders</th>\n",
       "      <th>...</th>\n",
       "      <th>dummy_log_send2update_time_max</th>\n",
       "      <th>log_send2update_time_max</th>\n",
       "      <th>kitchen_royalty</th>\n",
       "      <th>staple_price</th>\n",
       "      <th>like_num</th>\n",
       "      <th>dummy_like_num</th>\n",
       "      <th>dummy_has_kitchen_info</th>\n",
       "      <th>dummy_staple_price</th>\n",
       "      <th>comment_perc</th>\n",
       "      <th>user_id</th>\n",
       "    </tr>\n",
       "  </thead>\n",
       "  <tbody>\n",
       "    <tr>\n",
       "      <th>0</th>\n",
       "      <td>0.663138</td>\n",
       "      <td>10</td>\n",
       "      <td>3.0</td>\n",
       "      <td>4.888889</td>\n",
       "      <td>1.0</td>\n",
       "      <td>12.0</td>\n",
       "      <td>4.0</td>\n",
       "      <td>2.0</td>\n",
       "      <td>2.0</td>\n",
       "      <td>6.0</td>\n",
       "      <td>...</td>\n",
       "      <td>1.0</td>\n",
       "      <td>11.227614</td>\n",
       "      <td>1.875000</td>\n",
       "      <td>2.0</td>\n",
       "      <td>11.0</td>\n",
       "      <td>1.0</td>\n",
       "      <td>1</td>\n",
       "      <td>1</td>\n",
       "      <td>0.250000</td>\n",
       "      <td>100002020</td>\n",
       "    </tr>\n",
       "    <tr>\n",
       "      <th>1</th>\n",
       "      <td>0.602960</td>\n",
       "      <td>18</td>\n",
       "      <td>7.0</td>\n",
       "      <td>2.941176</td>\n",
       "      <td>1.0</td>\n",
       "      <td>11.0</td>\n",
       "      <td>8.0</td>\n",
       "      <td>5.0</td>\n",
       "      <td>3.0</td>\n",
       "      <td>1.0</td>\n",
       "      <td>...</td>\n",
       "      <td>1.0</td>\n",
       "      <td>11.297663</td>\n",
       "      <td>1.833333</td>\n",
       "      <td>1.0</td>\n",
       "      <td>0.0</td>\n",
       "      <td>0.0</td>\n",
       "      <td>1</td>\n",
       "      <td>1</td>\n",
       "      <td>0.227273</td>\n",
       "      <td>100002033</td>\n",
       "    </tr>\n",
       "    <tr>\n",
       "      <th>2</th>\n",
       "      <td>0.391684</td>\n",
       "      <td>13</td>\n",
       "      <td>5.0</td>\n",
       "      <td>4.500000</td>\n",
       "      <td>2.0</td>\n",
       "      <td>12.0</td>\n",
       "      <td>3.0</td>\n",
       "      <td>2.0</td>\n",
       "      <td>2.0</td>\n",
       "      <td>1.0</td>\n",
       "      <td>...</td>\n",
       "      <td>1.0</td>\n",
       "      <td>11.237844</td>\n",
       "      <td>2.600000</td>\n",
       "      <td>2.0</td>\n",
       "      <td>116.0</td>\n",
       "      <td>1.0</td>\n",
       "      <td>1</td>\n",
       "      <td>1</td>\n",
       "      <td>0.923077</td>\n",
       "      <td>100002035</td>\n",
       "    </tr>\n",
       "    <tr>\n",
       "      <th>3</th>\n",
       "      <td>0.337142</td>\n",
       "      <td>9</td>\n",
       "      <td>5.0</td>\n",
       "      <td>8.625000</td>\n",
       "      <td>1.0</td>\n",
       "      <td>53.0</td>\n",
       "      <td>2.0</td>\n",
       "      <td>0.0</td>\n",
       "      <td>0.0</td>\n",
       "      <td>0.0</td>\n",
       "      <td>...</td>\n",
       "      <td>1.0</td>\n",
       "      <td>11.244497</td>\n",
       "      <td>2.250000</td>\n",
       "      <td>3.0</td>\n",
       "      <td>40.0</td>\n",
       "      <td>1.0</td>\n",
       "      <td>1</td>\n",
       "      <td>1</td>\n",
       "      <td>0.000000</td>\n",
       "      <td>100002036</td>\n",
       "    </tr>\n",
       "    <tr>\n",
       "      <th>4</th>\n",
       "      <td>0.535490</td>\n",
       "      <td>12</td>\n",
       "      <td>5.0</td>\n",
       "      <td>3.454545</td>\n",
       "      <td>1.0</td>\n",
       "      <td>6.0</td>\n",
       "      <td>0.0</td>\n",
       "      <td>0.0</td>\n",
       "      <td>0.0</td>\n",
       "      <td>2.0</td>\n",
       "      <td>...</td>\n",
       "      <td>1.0</td>\n",
       "      <td>11.235207</td>\n",
       "      <td>1.363636</td>\n",
       "      <td>2.0</td>\n",
       "      <td>0.0</td>\n",
       "      <td>0.0</td>\n",
       "      <td>1</td>\n",
       "      <td>1</td>\n",
       "      <td>0.800000</td>\n",
       "      <td>100002040</td>\n",
       "    </tr>\n",
       "  </tbody>\n",
       "</table>\n",
       "<p>5 rows × 124 columns</p>\n",
       "</div>"
      ],
      "text/plain": [
       "   order_sd  active_days  lastgap   avg_gap  min_gap  max_gap  \\\n",
       "0  0.663138           10      3.0  4.888889      1.0     12.0   \n",
       "1  0.602960           18      7.0  2.941176      1.0     11.0   \n",
       "2  0.391684           13      5.0  4.500000      2.0     12.0   \n",
       "3  0.337142            9      5.0  8.625000      1.0     53.0   \n",
       "4  0.535490           12      5.0  3.454545      1.0      6.0   \n",
       "\n",
       "   w1_total_orders  w2_total_orders  w3_total_orders  w4_total_orders  \\\n",
       "0              4.0              2.0              2.0              6.0   \n",
       "1              8.0              5.0              3.0              1.0   \n",
       "2              3.0              2.0              2.0              1.0   \n",
       "3              2.0              0.0              0.0              0.0   \n",
       "4              0.0              0.0              0.0              2.0   \n",
       "\n",
       "     ...      dummy_log_send2update_time_max  log_send2update_time_max  \\\n",
       "0    ...                                 1.0                 11.227614   \n",
       "1    ...                                 1.0                 11.297663   \n",
       "2    ...                                 1.0                 11.237844   \n",
       "3    ...                                 1.0                 11.244497   \n",
       "4    ...                                 1.0                 11.235207   \n",
       "\n",
       "   kitchen_royalty  staple_price  like_num  dummy_like_num  \\\n",
       "0         1.875000           2.0      11.0             1.0   \n",
       "1         1.833333           1.0       0.0             0.0   \n",
       "2         2.600000           2.0     116.0             1.0   \n",
       "3         2.250000           3.0      40.0             1.0   \n",
       "4         1.363636           2.0       0.0             0.0   \n",
       "\n",
       "   dummy_has_kitchen_info  dummy_staple_price  comment_perc    user_id  \n",
       "0                       1                   1      0.250000  100002020  \n",
       "1                       1                   1      0.227273  100002033  \n",
       "2                       1                   1      0.923077  100002035  \n",
       "3                       1                   1      0.000000  100002036  \n",
       "4                       1                   1      0.800000  100002040  \n",
       "\n",
       "[5 rows x 124 columns]"
      ]
     },
     "execution_count": 9,
     "metadata": {},
     "output_type": "execute_result"
    }
   ],
   "source": [
    "data.head()"
   ]
  },
  {
   "cell_type": "code",
   "execution_count": 10,
   "metadata": {
    "collapsed": true
   },
   "outputs": [],
   "source": [
    "data_gap=pd.read_csv('gap.csv')"
   ]
  },
  {
   "cell_type": "code",
   "execution_count": 11,
   "metadata": {
    "collapsed": true
   },
   "outputs": [],
   "source": [
    "data=pd.merge(data,data_gap,how='left',on='user_id')"
   ]
  },
  {
   "cell_type": "code",
   "execution_count": 15,
   "metadata": {},
   "outputs": [
    {
     "data": {
      "text/html": [
       "<div>\n",
       "<style scoped>\n",
       "    .dataframe tbody tr th:only-of-type {\n",
       "        vertical-align: middle;\n",
       "    }\n",
       "\n",
       "    .dataframe tbody tr th {\n",
       "        vertical-align: top;\n",
       "    }\n",
       "\n",
       "    .dataframe thead th {\n",
       "        text-align: right;\n",
       "    }\n",
       "</style>\n",
       "<table border=\"1\" class=\"dataframe\">\n",
       "  <thead>\n",
       "    <tr style=\"text-align: right;\">\n",
       "      <th></th>\n",
       "      <th>order_sd</th>\n",
       "      <th>active_days</th>\n",
       "      <th>lastgap</th>\n",
       "      <th>avg_gap</th>\n",
       "      <th>min_gap</th>\n",
       "      <th>max_gap</th>\n",
       "      <th>w1_total_orders</th>\n",
       "      <th>w2_total_orders</th>\n",
       "      <th>w3_total_orders</th>\n",
       "      <th>w4_total_orders</th>\n",
       "      <th>...</th>\n",
       "      <th>log_send2update_time_max</th>\n",
       "      <th>kitchen_royalty</th>\n",
       "      <th>staple_price</th>\n",
       "      <th>like_num</th>\n",
       "      <th>dummy_like_num</th>\n",
       "      <th>dummy_has_kitchen_info</th>\n",
       "      <th>dummy_staple_price</th>\n",
       "      <th>comment_perc</th>\n",
       "      <th>user_id</th>\n",
       "      <th>gap</th>\n",
       "    </tr>\n",
       "  </thead>\n",
       "  <tbody>\n",
       "  </tbody>\n",
       "</table>\n",
       "<p>0 rows × 125 columns</p>\n",
       "</div>"
      ],
      "text/plain": [
       "Empty DataFrame\n",
       "Columns: [order_sd, active_days, lastgap, avg_gap, min_gap, max_gap, w1_total_orders, w2_total_orders, w3_total_orders, w4_total_orders, w5_total_orders, w6_total_orders, w7_total_orders, label, first_order, last_order, accountLength, overall_time_mean, update2create_time_mean, send2update_time_mean, overall_time_min, update2create_time_min, send2update_time_min, overall_time_max, update2create_time_max, send2update_time_max, intime_rate, last_coupon_fee, last_send_type, order_nums, city_id, sex, age, login_platform_b, app_version_b, age_na, lastgap_na, avg_gap_na, min_gap_na, max_gap_na, overall_time_mean_na, update2create_time_mean_na, send2update_time_mean_na, overall_time_min_na, update2create_time_min_na, send2update_time_min_na, overall_time_max_na, update2create_time_max_na, send2update_time_max_na, w1_avg_couponworth, w2_avg_couponworth, w3_avg_couponworth, w4_avg_couponworth, w5_avg_couponworth, w6_avg_couponworth, w7_avg_couponworth, w1_max_couponworth, w2_max_couponworth, w3_max_couponworth, w4_max_couponworth, w5_max_couponworth, w6_max_couponworth, w7_max_couponworth, log_order_sd, log_active_days, log_total_orders, log_w1_total_orders, log_w2_total_orders, log_w3_total_orders, log_w4_total_orders, log_w5_total_orders, log_w6_total_orders, log_w7_total_orders, log_first_order, log_last_order, log_accountLength, log_overall_time_mean, log_overall_time_min, log_overall_time_max, log_intime_rate, log_last_coupon_fee, log_order_nums, log_w1_avg_couponworth, log_w2_avg_couponworth, log_w3_avg_couponworth, log_w4_avg_couponworth, log_w5_avg_couponworth, log_w6_avg_couponworth, log_w7_avg_couponworth, log_w1_max_couponworth, log_w2_max_couponworth, log_w3_max_couponworth, log_w4_max_couponworth, log_w5_max_couponworth, log_w6_max_couponworth, log_w7_max_couponworth, dummy_log_lastgap, log_lastgap, dummy_log_avg_gap, log_avg_gap, ...]\n",
       "Index: []\n",
       "\n",
       "[0 rows x 125 columns]"
      ]
     },
     "execution_count": 15,
     "metadata": {},
     "output_type": "execute_result"
    }
   ],
   "source": [
    "data[(data['gap']!=100) & (data['label']==0)]"
   ]
  },
  {
   "cell_type": "code",
   "execution_count": 20,
   "metadata": {},
   "outputs": [],
   "source": [
    "data=data.drop('label',1)"
   ]
  },
  {
   "cell_type": "code",
   "execution_count": 21,
   "metadata": {
    "collapsed": true
   },
   "outputs": [],
   "source": [
    "data.to_csv('regression_data.csv',index=False)"
   ]
  },
  {
   "cell_type": "code",
   "execution_count": null,
   "metadata": {
    "collapsed": true
   },
   "outputs": [],
   "source": []
  }
 ],
 "metadata": {
  "kernelspec": {
   "display_name": "Python 3",
   "language": "python",
   "name": "python3"
  },
  "language_info": {
   "codemirror_mode": {
    "name": "ipython",
    "version": 3
   },
   "file_extension": ".py",
   "mimetype": "text/x-python",
   "name": "python",
   "nbconvert_exporter": "python",
   "pygments_lexer": "ipython3",
   "version": "3.6.3"
  }
 },
 "nbformat": 4,
 "nbformat_minor": 2
}
