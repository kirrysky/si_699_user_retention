{
 "cells": [
  {
   "cell_type": "markdown",
   "metadata": {},
   "source": [
    "# First EDA\n",
    "\n",
    "- author: Wen Xin\n",
    "\n",
    "- description: This file is used to do some first-step EDA to the data in order to help us to have a picture of what we have. This helps us to define problems, brainstorm first-step solutions and what is deliverable in the final."
   ]
  },
  {
   "cell_type": "markdown",
   "metadata": {},
   "source": [
    "### 1. investigate coupon information"
   ]
  },
  {
   "cell_type": "code",
   "execution_count": 3,
   "metadata": {},
   "outputs": [],
   "source": [
    "import numpy as np\n",
    "import pandas as pd\n",
    "import matplotlib.pyplot as plt\n",
    "import seaborn as sns \n",
    "import warnings\n",
    "warnings.filterwarnings(\"ignore\")"
   ]
  },
  {
   "cell_type": "code",
   "execution_count": 4,
   "metadata": {},
   "outputs": [],
   "source": [
    "coupon=pd.read_csv('coupon_AprToJun.csv')"
   ]
  },
  {
   "cell_type": "code",
   "execution_count": 5,
   "metadata": {},
   "outputs": [
    {
     "data": {
      "text/html": [
       "<div>\n",
       "<style scoped>\n",
       "    .dataframe tbody tr th:only-of-type {\n",
       "        vertical-align: middle;\n",
       "    }\n",
       "\n",
       "    .dataframe tbody tr th {\n",
       "        vertical-align: top;\n",
       "    }\n",
       "\n",
       "    .dataframe thead th {\n",
       "        text-align: right;\n",
       "    }\n",
       "</style>\n",
       "<table border=\"1\" class=\"dataframe\">\n",
       "  <thead>\n",
       "    <tr style=\"text-align: right;\">\n",
       "      <th></th>\n",
       "      <th>Unnamed: 0</th>\n",
       "      <th>coupon_id</th>\n",
       "      <th>type</th>\n",
       "      <th>from</th>\n",
       "      <th>user_id</th>\n",
       "      <th>purpose</th>\n",
       "      <th>money</th>\n",
       "      <th>worth_money</th>\n",
       "      <th>max_money</th>\n",
       "      <th>start_time</th>\n",
       "      <th>...</th>\n",
       "      <th>is_frozen</th>\n",
       "      <th>frozen_reason</th>\n",
       "      <th>rule_id</th>\n",
       "      <th>order_no</th>\n",
       "      <th>activity_id</th>\n",
       "      <th>activity_channel_id</th>\n",
       "      <th>risk_control_level</th>\n",
       "      <th>basics_id</th>\n",
       "      <th>pre_id</th>\n",
       "      <th>kitchen_charge_percentage</th>\n",
       "    </tr>\n",
       "  </thead>\n",
       "  <tbody>\n",
       "    <tr>\n",
       "      <th>0</th>\n",
       "      <td>0</td>\n",
       "      <td>17224369</td>\n",
       "      <td>5</td>\n",
       "      <td>14</td>\n",
       "      <td>101249805</td>\n",
       "      <td>0</td>\n",
       "      <td>2.0</td>\n",
       "      <td>0.0</td>\n",
       "      <td>0.0</td>\n",
       "      <td>2016-05-12 00:00:00.0</td>\n",
       "      <td>...</td>\n",
       "      <td>0</td>\n",
       "      <td>NaN</td>\n",
       "      <td>415</td>\n",
       "      <td>NaN</td>\n",
       "      <td>0</td>\n",
       "      <td>0</td>\n",
       "      <td>0</td>\n",
       "      <td>0</td>\n",
       "      <td>0</td>\n",
       "      <td>0.0</td>\n",
       "    </tr>\n",
       "    <tr>\n",
       "      <th>1</th>\n",
       "      <td>1</td>\n",
       "      <td>17331977</td>\n",
       "      <td>1</td>\n",
       "      <td>33</td>\n",
       "      <td>101370879</td>\n",
       "      <td>0</td>\n",
       "      <td>8.0</td>\n",
       "      <td>0.0</td>\n",
       "      <td>0.0</td>\n",
       "      <td>2016-05-12 00:00:00.0</td>\n",
       "      <td>...</td>\n",
       "      <td>0</td>\n",
       "      <td>NaN</td>\n",
       "      <td>1078</td>\n",
       "      <td>NaN</td>\n",
       "      <td>0</td>\n",
       "      <td>0</td>\n",
       "      <td>0</td>\n",
       "      <td>0</td>\n",
       "      <td>764213</td>\n",
       "      <td>0.0</td>\n",
       "    </tr>\n",
       "    <tr>\n",
       "      <th>2</th>\n",
       "      <td>2</td>\n",
       "      <td>17331976</td>\n",
       "      <td>1</td>\n",
       "      <td>33</td>\n",
       "      <td>101370879</td>\n",
       "      <td>0</td>\n",
       "      <td>7.0</td>\n",
       "      <td>0.0</td>\n",
       "      <td>0.0</td>\n",
       "      <td>2016-05-12 00:00:00.0</td>\n",
       "      <td>...</td>\n",
       "      <td>0</td>\n",
       "      <td>NaN</td>\n",
       "      <td>1078</td>\n",
       "      <td>NaN</td>\n",
       "      <td>0</td>\n",
       "      <td>0</td>\n",
       "      <td>0</td>\n",
       "      <td>0</td>\n",
       "      <td>764212</td>\n",
       "      <td>0.0</td>\n",
       "    </tr>\n",
       "    <tr>\n",
       "      <th>3</th>\n",
       "      <td>3</td>\n",
       "      <td>17331975</td>\n",
       "      <td>1</td>\n",
       "      <td>33</td>\n",
       "      <td>101370879</td>\n",
       "      <td>0</td>\n",
       "      <td>15.0</td>\n",
       "      <td>0.0</td>\n",
       "      <td>0.0</td>\n",
       "      <td>2016-05-12 00:00:00.0</td>\n",
       "      <td>...</td>\n",
       "      <td>0</td>\n",
       "      <td>NaN</td>\n",
       "      <td>412</td>\n",
       "      <td>NaN</td>\n",
       "      <td>0</td>\n",
       "      <td>0</td>\n",
       "      <td>0</td>\n",
       "      <td>0</td>\n",
       "      <td>764211</td>\n",
       "      <td>0.0</td>\n",
       "    </tr>\n",
       "    <tr>\n",
       "      <th>4</th>\n",
       "      <td>4</td>\n",
       "      <td>17331974</td>\n",
       "      <td>1</td>\n",
       "      <td>54</td>\n",
       "      <td>100962744</td>\n",
       "      <td>0</td>\n",
       "      <td>5.0</td>\n",
       "      <td>0.0</td>\n",
       "      <td>25.0</td>\n",
       "      <td>2016-05-12 00:00:00.0</td>\n",
       "      <td>...</td>\n",
       "      <td>0</td>\n",
       "      <td>NaN</td>\n",
       "      <td>412,2472</td>\n",
       "      <td>NaN</td>\n",
       "      <td>0</td>\n",
       "      <td>0</td>\n",
       "      <td>0</td>\n",
       "      <td>0</td>\n",
       "      <td>0</td>\n",
       "      <td>0.0</td>\n",
       "    </tr>\n",
       "  </tbody>\n",
       "</table>\n",
       "<p>5 rows × 34 columns</p>\n",
       "</div>"
      ],
      "text/plain": [
       "   Unnamed: 0  coupon_id  type  from    user_id  purpose  money  worth_money  \\\n",
       "0           0   17224369     5    14  101249805        0    2.0          0.0   \n",
       "1           1   17331977     1    33  101370879        0    8.0          0.0   \n",
       "2           2   17331976     1    33  101370879        0    7.0          0.0   \n",
       "3           3   17331975     1    33  101370879        0   15.0          0.0   \n",
       "4           4   17331974     1    54  100962744        0    5.0          0.0   \n",
       "\n",
       "   max_money             start_time            ...            is_frozen  \\\n",
       "0        0.0  2016-05-12 00:00:00.0            ...                    0   \n",
       "1        0.0  2016-05-12 00:00:00.0            ...                    0   \n",
       "2        0.0  2016-05-12 00:00:00.0            ...                    0   \n",
       "3        0.0  2016-05-12 00:00:00.0            ...                    0   \n",
       "4       25.0  2016-05-12 00:00:00.0            ...                    0   \n",
       "\n",
       "  frozen_reason   rule_id order_no  activity_id  activity_channel_id  \\\n",
       "0           NaN       415      NaN            0                    0   \n",
       "1           NaN      1078      NaN            0                    0   \n",
       "2           NaN      1078      NaN            0                    0   \n",
       "3           NaN       412      NaN            0                    0   \n",
       "4           NaN  412,2472      NaN            0                    0   \n",
       "\n",
       "  risk_control_level  basics_id  pre_id kitchen_charge_percentage  \n",
       "0                  0          0       0                       0.0  \n",
       "1                  0          0  764213                       0.0  \n",
       "2                  0          0  764212                       0.0  \n",
       "3                  0          0  764211                       0.0  \n",
       "4                  0          0       0                       0.0  \n",
       "\n",
       "[5 rows x 34 columns]"
      ]
     },
     "execution_count": 5,
     "metadata": {},
     "output_type": "execute_result"
    }
   ],
   "source": [
    "coupon.head()"
   ]
  },
  {
   "cell_type": "code",
   "execution_count": 6,
   "metadata": {},
   "outputs": [
    {
     "data": {
      "text/plain": [
       "9111938"
      ]
     },
     "execution_count": 6,
     "metadata": {},
     "output_type": "execute_result"
    }
   ],
   "source": [
    "len(coupon)"
   ]
  },
  {
   "cell_type": "code",
   "execution_count": 7,
   "metadata": {},
   "outputs": [
    {
     "data": {
      "text/plain": [
       "Index(['Unnamed: 0', 'coupon_id', 'type', 'from', 'user_id', 'purpose',\n",
       "       'money', 'worth_money', 'max_money', 'start_time', 'end_time',\n",
       "       'use_time', 'create_time', 'update_time', 'is_used', 'has_rule', 'code',\n",
       "       'is_del', 'special_id', 'reason', 'title', 'sub_title', 'content',\n",
       "       'tag', 'is_frozen', 'frozen_reason', 'rule_id', 'order_no',\n",
       "       'activity_id', 'activity_channel_id', 'risk_control_level', 'basics_id',\n",
       "       'pre_id', 'kitchen_charge_percentage'],\n",
       "      dtype='object')"
      ]
     },
     "execution_count": 7,
     "metadata": {},
     "output_type": "execute_result"
    }
   ],
   "source": [
    "coupon.columns"
   ]
  },
  {
   "cell_type": "code",
   "execution_count": 8,
   "metadata": {},
   "outputs": [
    {
     "name": "stdout",
     "output_type": "stream",
     "text": [
      "<class 'pandas.core.frame.DataFrame'>\n",
      "RangeIndex: 9111938 entries, 0 to 9111937\n",
      "Data columns (total 34 columns):\n",
      "Unnamed: 0                   int64\n",
      "coupon_id                    int64\n",
      "type                         int64\n",
      "from                         int64\n",
      "user_id                      int64\n",
      "purpose                      int64\n",
      "money                        float64\n",
      "worth_money                  float64\n",
      "max_money                    float64\n",
      "start_time                   object\n",
      "end_time                     object\n",
      "use_time                     object\n",
      "create_time                  object\n",
      "update_time                  object\n",
      "is_used                      int64\n",
      "has_rule                     int64\n",
      "code                         object\n",
      "is_del                       int64\n",
      "special_id                   int64\n",
      "reason                       object\n",
      "title                        object\n",
      "sub_title                    object\n",
      "content                      object\n",
      "tag                          object\n",
      "is_frozen                    int64\n",
      "frozen_reason                object\n",
      "rule_id                      object\n",
      "order_no                     float64\n",
      "activity_id                  int64\n",
      "activity_channel_id          int64\n",
      "risk_control_level           int64\n",
      "basics_id                    int64\n",
      "pre_id                       object\n",
      "kitchen_charge_percentage    float64\n",
      "dtypes: float64(5), int64(15), object(14)\n",
      "memory usage: 2.3+ GB\n"
     ]
    }
   ],
   "source": [
    "coupon.info()"
   ]
  },
  {
   "cell_type": "markdown",
   "metadata": {},
   "source": [
    "### 2. investigate order information"
   ]
  },
  {
   "cell_type": "code",
   "execution_count": 9,
   "metadata": {},
   "outputs": [],
   "source": [
    "order_=pd.read_csv('OrderAprtoJun.csv')"
   ]
  },
  {
   "cell_type": "code",
   "execution_count": 10,
   "metadata": {},
   "outputs": [
    {
     "data": {
      "text/html": [
       "<div>\n",
       "<style scoped>\n",
       "    .dataframe tbody tr th:only-of-type {\n",
       "        vertical-align: middle;\n",
       "    }\n",
       "\n",
       "    .dataframe tbody tr th {\n",
       "        vertical-align: top;\n",
       "    }\n",
       "\n",
       "    .dataframe thead th {\n",
       "        text-align: right;\n",
       "    }\n",
       "</style>\n",
       "<table border=\"1\" class=\"dataframe\">\n",
       "  <thead>\n",
       "    <tr style=\"text-align: right;\">\n",
       "      <th></th>\n",
       "      <th>Unnamed: 0</th>\n",
       "      <th>order_no</th>\n",
       "      <th>kitchen_id</th>\n",
       "      <th>user_id</th>\n",
       "      <th>city_id</th>\n",
       "      <th>send_time</th>\n",
       "      <th>send_type</th>\n",
       "      <th>state</th>\n",
       "      <th>state_train</th>\n",
       "      <th>dishes</th>\n",
       "      <th>...</th>\n",
       "      <th>coupon_id</th>\n",
       "      <th>coupon_fee</th>\n",
       "      <th>platform</th>\n",
       "      <th>app_version</th>\n",
       "      <th>update_time</th>\n",
       "      <th>insure</th>\n",
       "      <th>ticket_id</th>\n",
       "      <th>ticket_fee</th>\n",
       "      <th>raw_data</th>\n",
       "      <th>dt</th>\n",
       "    </tr>\n",
       "  </thead>\n",
       "  <tbody>\n",
       "    <tr>\n",
       "      <th>0</th>\n",
       "      <td>0</td>\n",
       "      <td>463044790017929</td>\n",
       "      <td>28366</td>\n",
       "      <td>101296988</td>\n",
       "      <td>110100</td>\n",
       "      <td>2016-05-12 18:30:00.0</td>\n",
       "      <td>1</td>\n",
       "      <td>11</td>\n",
       "      <td>2,4,6,9,10,11</td>\n",
       "      <td>NaN</td>\n",
       "      <td>...</td>\n",
       "      <td>0</td>\n",
       "      <td>0.0</td>\n",
       "      <td>iOS</td>\n",
       "      <td>2.7.0</td>\n",
       "      <td>2016-05-12 17:55:19.0</td>\n",
       "      <td>1</td>\n",
       "      <td>0</td>\n",
       "      <td>0</td>\n",
       "      <td>NaN</td>\n",
       "      <td>NaN</td>\n",
       "    </tr>\n",
       "    <tr>\n",
       "      <th>1</th>\n",
       "      <td>1</td>\n",
       "      <td>463044790017933</td>\n",
       "      <td>17873</td>\n",
       "      <td>101057772</td>\n",
       "      <td>110100</td>\n",
       "      <td>2016-05-12 18:30:00.0</td>\n",
       "      <td>1</td>\n",
       "      <td>11</td>\n",
       "      <td>2,4,6,8,11</td>\n",
       "      <td>NaN</td>\n",
       "      <td>...</td>\n",
       "      <td>0</td>\n",
       "      <td>0.0</td>\n",
       "      <td>iOS</td>\n",
       "      <td>2.7.0</td>\n",
       "      <td>2016-05-12 18:06:29.0</td>\n",
       "      <td>1</td>\n",
       "      <td>0</td>\n",
       "      <td>0</td>\n",
       "      <td>NaN</td>\n",
       "      <td>NaN</td>\n",
       "    </tr>\n",
       "    <tr>\n",
       "      <th>2</th>\n",
       "      <td>2</td>\n",
       "      <td>463044784017918</td>\n",
       "      <td>130952</td>\n",
       "      <td>100789540</td>\n",
       "      <td>110100</td>\n",
       "      <td>2016-05-12 18:30:00.0</td>\n",
       "      <td>1</td>\n",
       "      <td>11</td>\n",
       "      <td>2,4,6,9,10,11</td>\n",
       "      <td>NaN</td>\n",
       "      <td>...</td>\n",
       "      <td>17155317</td>\n",
       "      <td>8.0</td>\n",
       "      <td>iOS</td>\n",
       "      <td>2.7.0</td>\n",
       "      <td>2016-05-12 17:32:49.0</td>\n",
       "      <td>1</td>\n",
       "      <td>0</td>\n",
       "      <td>0</td>\n",
       "      <td>NaN</td>\n",
       "      <td>NaN</td>\n",
       "    </tr>\n",
       "    <tr>\n",
       "      <th>3</th>\n",
       "      <td>3</td>\n",
       "      <td>463044770017889</td>\n",
       "      <td>151016</td>\n",
       "      <td>101057084</td>\n",
       "      <td>440300</td>\n",
       "      <td>2016-05-12 18:30:00.0</td>\n",
       "      <td>1</td>\n",
       "      <td>11</td>\n",
       "      <td>2,4,6,9,10,11</td>\n",
       "      <td>NaN</td>\n",
       "      <td>...</td>\n",
       "      <td>17164655</td>\n",
       "      <td>8.0</td>\n",
       "      <td>Android</td>\n",
       "      <td>2.7.1</td>\n",
       "      <td>2016-05-12 17:55:12.0</td>\n",
       "      <td>1</td>\n",
       "      <td>0</td>\n",
       "      <td>0</td>\n",
       "      <td>NaN</td>\n",
       "      <td>NaN</td>\n",
       "    </tr>\n",
       "    <tr>\n",
       "      <th>4</th>\n",
       "      <td>4</td>\n",
       "      <td>463044778017902</td>\n",
       "      <td>148024</td>\n",
       "      <td>101370266</td>\n",
       "      <td>110100</td>\n",
       "      <td>2016-05-12 18:30:00.0</td>\n",
       "      <td>1</td>\n",
       "      <td>11</td>\n",
       "      <td>2,4,6,9,10,11</td>\n",
       "      <td>NaN</td>\n",
       "      <td>...</td>\n",
       "      <td>0</td>\n",
       "      <td>0.0</td>\n",
       "      <td>Android</td>\n",
       "      <td>2.7.1</td>\n",
       "      <td>2016-05-12 17:58:44.0</td>\n",
       "      <td>1</td>\n",
       "      <td>0</td>\n",
       "      <td>0</td>\n",
       "      <td>NaN</td>\n",
       "      <td>NaN</td>\n",
       "    </tr>\n",
       "  </tbody>\n",
       "</table>\n",
       "<p>5 rows × 27 columns</p>\n",
       "</div>"
      ],
      "text/plain": [
       "   Unnamed: 0         order_no  kitchen_id    user_id  city_id  \\\n",
       "0           0  463044790017929       28366  101296988   110100   \n",
       "1           1  463044790017933       17873  101057772   110100   \n",
       "2           2  463044784017918      130952  100789540   110100   \n",
       "3           3  463044770017889      151016  101057084   440300   \n",
       "4           4  463044778017902      148024  101370266   110100   \n",
       "\n",
       "               send_time  send_type  state    state_train  dishes ...  \\\n",
       "0  2016-05-12 18:30:00.0          1     11  2,4,6,9,10,11     NaN ...   \n",
       "1  2016-05-12 18:30:00.0          1     11     2,4,6,8,11     NaN ...   \n",
       "2  2016-05-12 18:30:00.0          1     11  2,4,6,9,10,11     NaN ...   \n",
       "3  2016-05-12 18:30:00.0          1     11  2,4,6,9,10,11     NaN ...   \n",
       "4  2016-05-12 18:30:00.0          1     11  2,4,6,9,10,11     NaN ...   \n",
       "\n",
       "   coupon_id  coupon_fee  platform  app_version            update_time insure  \\\n",
       "0          0         0.0       iOS        2.7.0  2016-05-12 17:55:19.0      1   \n",
       "1          0         0.0       iOS        2.7.0  2016-05-12 18:06:29.0      1   \n",
       "2   17155317         8.0       iOS        2.7.0  2016-05-12 17:32:49.0      1   \n",
       "3   17164655         8.0   Android        2.7.1  2016-05-12 17:55:12.0      1   \n",
       "4          0         0.0   Android        2.7.1  2016-05-12 17:58:44.0      1   \n",
       "\n",
       "  ticket_id ticket_fee raw_data  dt  \n",
       "0         0          0      NaN NaN  \n",
       "1         0          0      NaN NaN  \n",
       "2         0          0      NaN NaN  \n",
       "3         0          0      NaN NaN  \n",
       "4         0          0      NaN NaN  \n",
       "\n",
       "[5 rows x 27 columns]"
      ]
     },
     "execution_count": 10,
     "metadata": {},
     "output_type": "execute_result"
    }
   ],
   "source": [
    "order_.head()"
   ]
  },
  {
   "cell_type": "code",
   "execution_count": 11,
   "metadata": {},
   "outputs": [
    {
     "data": {
      "text/plain": [
       "1367885"
      ]
     },
     "execution_count": 11,
     "metadata": {},
     "output_type": "execute_result"
    }
   ],
   "source": [
    "len(order_)"
   ]
  },
  {
   "cell_type": "code",
   "execution_count": 12,
   "metadata": {},
   "outputs": [
    {
     "data": {
      "text/plain": [
       "55403"
      ]
     },
     "execution_count": 12,
     "metadata": {},
     "output_type": "execute_result"
    }
   ],
   "source": [
    "len(order_[order_['coupon_id']==0])"
   ]
  },
  {
   "cell_type": "code",
   "execution_count": 13,
   "metadata": {},
   "outputs": [
    {
     "data": {
      "text/plain": [
       "1312482"
      ]
     },
     "execution_count": 13,
     "metadata": {},
     "output_type": "execute_result"
    }
   ],
   "source": [
    "len(order_[order_['coupon_id']!=0])"
   ]
  },
  {
   "cell_type": "code",
   "execution_count": 20,
   "metadata": {},
   "outputs": [
    {
     "data": {
      "text/plain": [
       "0.9594973261641147"
      ]
     },
     "execution_count": 20,
     "metadata": {},
     "output_type": "execute_result"
    }
   ],
   "source": [
    "len(order_[order_['coupon_id']!=0])/len(order_)"
   ]
  },
  {
   "cell_type": "code",
   "execution_count": 14,
   "metadata": {},
   "outputs": [
    {
     "data": {
      "text/plain": [
       "Index(['Unnamed: 0', 'order_no', 'kitchen_id', 'user_id', 'city_id',\n",
       "       'send_time', 'send_type', 'state', 'state_train', 'dishes',\n",
       "       'refund_channel', 'comment', 'distance', 'user_longitude',\n",
       "       'user_latitude', 'message', 'create_time', 'coupon_id', 'coupon_fee',\n",
       "       'platform', 'app_version', 'update_time', 'insure', 'ticket_id',\n",
       "       'ticket_fee', 'raw_data', 'dt'],\n",
       "      dtype='object')"
      ]
     },
     "execution_count": 14,
     "metadata": {},
     "output_type": "execute_result"
    }
   ],
   "source": [
    "order_.columns"
   ]
  },
  {
   "cell_type": "code",
   "execution_count": 15,
   "metadata": {},
   "outputs": [
    {
     "data": {
      "text/plain": [
       "city_id\n",
       "110100    924706\n",
       "310100    232176\n",
       "330100     32757\n",
       "440100     60564\n",
       "440300    117682\n",
       "dtype: int64"
      ]
     },
     "execution_count": 15,
     "metadata": {},
     "output_type": "execute_result"
    }
   ],
   "source": [
    "cityd=order_.groupby([\"city_id\"]).size()\n",
    "cityd"
   ]
  },
  {
   "cell_type": "code",
   "execution_count": 17,
   "metadata": {},
   "outputs": [
    {
     "data": {
      "text/plain": [
       "<matplotlib.axes._subplots.AxesSubplot at 0x1a20f7b748>"
      ]
     },
     "execution_count": 17,
     "metadata": {},
     "output_type": "execute_result"
    },
    {
     "data": {
      "image/png": "[encoded data removed]",
      "text/plain": [
       "<Figure size 432x288 with 1 Axes>"
      ]
     },
     "metadata": {
      "needs_background": "light"
     },
     "output_type": "display_data"
    }
   ],
   "source": [
    "cityd.plot.bar()"
   ]
  },
  {
   "cell_type": "code",
   "execution_count": 18,
   "metadata": {},
   "outputs": [
    {
     "data": {
      "text/plain": [
       "platform\n",
       "Android    430170\n",
       "iOS        937221\n",
       "mobile        494\n",
       "dtype: int64"
      ]
     },
     "execution_count": 18,
     "metadata": {},
     "output_type": "execute_result"
    }
   ],
   "source": [
    "platformd=order_.groupby([\"platform\"]).size()\n",
    "platformd"
   ]
  },
  {
   "cell_type": "code",
   "execution_count": 19,
   "metadata": {},
   "outputs": [
    {
     "data": {
      "text/plain": [
       "<matplotlib.axes._subplots.AxesSubplot at 0x1a24354b00>"
      ]
     },
     "execution_count": 19,
     "metadata": {},
     "output_type": "execute_result"
    },
    {
     "data": {
      "image/png": "[encoded data removed]",
      "text/plain": [
       "<Figure size 432x288 with 1 Axes>"
      ]
     },
     "metadata": {
      "needs_background": "light"
     },
     "output_type": "display_data"
    }
   ],
   "source": [
    "platformd.plot.bar()"
   ]
  },
  {
   "cell_type": "code",
   "execution_count": 37,
   "metadata": {},
   "outputs": [
    {
     "data": {
      "text/plain": [
       "212406"
      ]
     },
     "execution_count": 37,
     "metadata": {},
     "output_type": "execute_result"
    }
   ],
   "source": [
    "len(order_.groupby([\"user_id\"]))"
   ]
  },
  {
   "cell_type": "code",
   "execution_count": 39,
   "metadata": {},
   "outputs": [
    {
     "data": {
      "text/plain": [
       "5524"
      ]
     },
     "execution_count": 39,
     "metadata": {},
     "output_type": "execute_result"
    }
   ],
   "source": [
    "len(order_.groupby([\"kitchen_id\"]))"
   ]
  },
  {
   "cell_type": "markdown",
   "metadata": {},
   "source": [
    "### 3. investigate user information"
   ]
  },
  {
   "cell_type": "code",
   "execution_count": 12,
   "metadata": {},
   "outputs": [],
   "source": [
    "user=pd.read_csv('userInfo.csv')"
   ]
  },
  {
   "cell_type": "code",
   "execution_count": 13,
   "metadata": {},
   "outputs": [
    {
     "data": {
      "text/html": [
       "<div>\n",
       "<style scoped>\n",
       "    .dataframe tbody tr th:only-of-type {\n",
       "        vertical-align: middle;\n",
       "    }\n",
       "\n",
       "    .dataframe tbody tr th {\n",
       "        vertical-align: top;\n",
       "    }\n",
       "\n",
       "    .dataframe thead th {\n",
       "        text-align: right;\n",
       "    }\n",
       "</style>\n",
       "<table border=\"1\" class=\"dataframe\">\n",
       "  <thead>\n",
       "    <tr style=\"text-align: right;\">\n",
       "      <th></th>\n",
       "      <th>Unnamed: 0</th>\n",
       "      <th>user_id</th>\n",
       "      <th>city_id</th>\n",
       "      <th>sex</th>\n",
       "      <th>age</th>\n",
       "      <th>occupation</th>\n",
       "      <th>invite_id</th>\n",
       "      <th>invite_code</th>\n",
       "      <th>login_platform</th>\n",
       "      <th>last_login</th>\n",
       "      <th>app_version</th>\n",
       "      <th>create_time</th>\n",
       "    </tr>\n",
       "  </thead>\n",
       "  <tbody>\n",
       "    <tr>\n",
       "      <th>0</th>\n",
       "      <td>0</td>\n",
       "      <td>100002020</td>\n",
       "      <td>0</td>\n",
       "      <td>1</td>\n",
       "      <td>80</td>\n",
       "      <td>互联网</td>\n",
       "      <td>0</td>\n",
       "      <td>9828.0</td>\n",
       "      <td>Android</td>\n",
       "      <td>2016-07-04 17:53:27.0</td>\n",
       "      <td>2.8.2</td>\n",
       "      <td>2014-09-25 08:43:55.0</td>\n",
       "    </tr>\n",
       "    <tr>\n",
       "      <th>1</th>\n",
       "      <td>3</td>\n",
       "      <td>100002023</td>\n",
       "      <td>0</td>\n",
       "      <td>2</td>\n",
       "      <td>80</td>\n",
       "      <td>公司员工</td>\n",
       "      <td>0</td>\n",
       "      <td>7262.0</td>\n",
       "      <td>iOS</td>\n",
       "      <td>2016-01-23 10:50:37.0</td>\n",
       "      <td>2.4.6</td>\n",
       "      <td>2014-09-25 11:32:21.0</td>\n",
       "    </tr>\n",
       "    <tr>\n",
       "      <th>2</th>\n",
       "      <td>4</td>\n",
       "      <td>100002024</td>\n",
       "      <td>0</td>\n",
       "      <td>1</td>\n",
       "      <td>90</td>\n",
       "      <td>程序员</td>\n",
       "      <td>0</td>\n",
       "      <td>5723.0</td>\n",
       "      <td>iOS</td>\n",
       "      <td>2017-03-07 18:16:19.0</td>\n",
       "      <td>3.3.0</td>\n",
       "      <td>2014-09-25 14:54:44.0</td>\n",
       "    </tr>\n",
       "    <tr>\n",
       "      <th>3</th>\n",
       "      <td>13</td>\n",
       "      <td>100002033</td>\n",
       "      <td>0</td>\n",
       "      <td>0</td>\n",
       "      <td>NaN</td>\n",
       "      <td>NaN</td>\n",
       "      <td>0</td>\n",
       "      <td>6126.0</td>\n",
       "      <td>iOS</td>\n",
       "      <td>2017-05-12 00:42:20.0</td>\n",
       "      <td>3.5.0</td>\n",
       "      <td>2014-09-25 23:55:48.0</td>\n",
       "    </tr>\n",
       "    <tr>\n",
       "      <th>4</th>\n",
       "      <td>14</td>\n",
       "      <td>100002034</td>\n",
       "      <td>0</td>\n",
       "      <td>0</td>\n",
       "      <td>NaN</td>\n",
       "      <td>NaN</td>\n",
       "      <td>0</td>\n",
       "      <td>6665.0</td>\n",
       "      <td>iOS</td>\n",
       "      <td>2015-12-21 18:01:17.0</td>\n",
       "      <td>2.4.2</td>\n",
       "      <td>2014-09-26 08:01:30.0</td>\n",
       "    </tr>\n",
       "  </tbody>\n",
       "</table>\n",
       "</div>"
      ],
      "text/plain": [
       "   Unnamed: 0    user_id  city_id  sex  age occupation  invite_id  \\\n",
       "0           0  100002020        0    1   80        互联网          0   \n",
       "1           3  100002023        0    2   80       公司员工          0   \n",
       "2           4  100002024        0    1   90        程序员          0   \n",
       "3          13  100002033        0    0  NaN        NaN          0   \n",
       "4          14  100002034        0    0  NaN        NaN          0   \n",
       "\n",
       "   invite_code login_platform             last_login app_version  \\\n",
       "0       9828.0        Android  2016-07-04 17:53:27.0       2.8.2   \n",
       "1       7262.0            iOS  2016-01-23 10:50:37.0       2.4.6   \n",
       "2       5723.0            iOS  2017-03-07 18:16:19.0       3.3.0   \n",
       "3       6126.0            iOS  2017-05-12 00:42:20.0       3.5.0   \n",
       "4       6665.0            iOS  2015-12-21 18:01:17.0       2.4.2   \n",
       "\n",
       "             create_time  \n",
       "0  2014-09-25 08:43:55.0  \n",
       "1  2014-09-25 11:32:21.0  \n",
       "2  2014-09-25 14:54:44.0  \n",
       "3  2014-09-25 23:55:48.0  \n",
       "4  2014-09-26 08:01:30.0  "
      ]
     },
     "execution_count": 13,
     "metadata": {},
     "output_type": "execute_result"
    }
   ],
   "source": [
    "user.head()"
   ]
  },
  {
   "cell_type": "code",
   "execution_count": 14,
   "metadata": {},
   "outputs": [
    {
     "data": {
      "text/plain": [
       "473628"
      ]
     },
     "execution_count": 14,
     "metadata": {},
     "output_type": "execute_result"
    }
   ],
   "source": [
    "len(user)"
   ]
  },
  {
   "cell_type": "code",
   "execution_count": null,
   "metadata": {},
   "outputs": [],
   "source": []
  }
 ],
 "metadata": {
  "kernelspec": {
   "display_name": "Python 3",
   "language": "python",
   "name": "python3"
  },
  "language_info": {
   "codemirror_mode": {
    "name": "ipython",
    "version": 3
   },
   "file_extension": ".py",
   "mimetype": "text/x-python",
   "name": "python",
   "nbconvert_exporter": "python",
   "pygments_lexer": "ipython3",
   "version": "3.6.6"
  }
 },
 "nbformat": 4,
 "nbformat_minor": 2
}
