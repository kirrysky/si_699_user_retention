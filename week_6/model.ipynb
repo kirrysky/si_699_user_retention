{
 "cells": [
  {
   "cell_type": "code",
   "execution_count": 1,
   "metadata": {
    "collapsed": true
   },
   "outputs": [],
   "source": [
    "import pandas as pd\n",
    "import numpy as np\n",
    "import warnings\n",
    "warnings.filterwarnings(\"ignore\")"
   ]
  },
  {
   "cell_type": "code",
   "execution_count": 71,
   "metadata": {
    "collapsed": true
   },
   "outputs": [],
   "source": [
    "shuffled_labeled_data=pd.read_csv('all_data_add_daily_feature.csv')"
   ]
  },
  {
   "cell_type": "code",
   "execution_count": 72,
   "metadata": {},
   "outputs": [
    {
     "name": "stdout",
     "output_type": "stream",
     "text": [
      "<class 'pandas.core.frame.DataFrame'>\n",
      "RangeIndex: 191865 entries, 0 to 191864\n",
      "Columns: 122 entries, user_id to app_version\n",
      "dtypes: float64(108), int64(9), object(5)\n",
      "memory usage: 178.6+ MB\n"
     ]
    }
   ],
   "source": [
    "shuffled_labeled_data.info()"
   ]
  },
  {
   "cell_type": "code",
   "execution_count": 73,
   "metadata": {},
   "outputs": [
    {
     "data": {
      "text/plain": [
       "Index(['user_id', 'order_sd', 'active_days', 'lastgap', 'avg_gap', 'min_gap',\n",
       "       'max_gap', 'total_orders', 'w1_total_orders', 'w2_total_orders',\n",
       "       ...\n",
       "       '06/11/2016count', '06/12/2016count', 'city_id', 'sex', 'age',\n",
       "       'occupation', 'invite_id', 'invite_code', 'login_platform',\n",
       "       'app_version'],\n",
       "      dtype='object', length=122)"
      ]
     },
     "execution_count": 73,
     "metadata": {},
     "output_type": "execute_result"
    }
   ],
   "source": [
    "shuffled_labeled_data.columns"
   ]
  },
  {
   "cell_type": "code",
   "execution_count": 74,
   "metadata": {},
   "outputs": [],
   "source": [
    "X=shuffled_labeled_data\n",
    "y=shuffled_labeled_data['label']\n",
    "#先删了吧= 。 =晚点再处理\n",
    "X=X.drop(['label','occupation'],axis=1)"
   ]
  },
  {
   "cell_type": "code",
   "execution_count": 75,
   "metadata": {
    "scrolled": false
   },
   "outputs": [
    {
     "data": {
      "text/plain": [
       "user_id             int64\n",
       "active_days         int64\n",
       "first_order         int64\n",
       "last_order          int64\n",
       "accountLength       int64\n",
       "last_coupon_fee    object\n",
       "last_send_type      int64\n",
       "city_id             int64\n",
       "sex                 int64\n",
       "age                object\n",
       "invite_id           int64\n",
       "login_platform     object\n",
       "app_version        object\n",
       "dtype: object"
      ]
     },
     "execution_count": 75,
     "metadata": {},
     "output_type": "execute_result"
    }
   ],
   "source": [
    "X.dtypes[(X.dtypes != 'float64')]"
   ]
  },
  {
   "cell_type": "code",
   "execution_count": 76,
   "metadata": {},
   "outputs": [
    {
     "data": {
      "text/plain": [
       "array([80., nan, 90., 70., 60.,  0.])"
      ]
     },
     "execution_count": 76,
     "metadata": {},
     "output_type": "execute_result"
    }
   ],
   "source": [
    "X['age']=X['age'].astype(str)\n",
    "\n",
    "X['age'].unique()\n",
    "\n",
    "X['age'].replace('nan',np.nan,inplace=True)\n",
    "X['age'].replace('前',np.nan,inplace=True)\n",
    "X['age'].replace('0后',np.nan,inplace=True)\n",
    "X['age']=X['age'].astype(float)\n",
    "\n",
    "X['age'].unique()"
   ]
  },
  {
   "cell_type": "code",
   "execution_count": 77,
   "metadata": {},
   "outputs": [],
   "source": [
    "X['last_coupon_fee'].replace('\\\\N','0.0',inplace=True)\n",
    "X['last_coupon_fee']=X['last_coupon_fee'].astype(float)"
   ]
  },
  {
   "cell_type": "code",
   "execution_count": 78,
   "metadata": {
    "collapsed": true
   },
   "outputs": [],
   "source": [
    "X['login_platform']=X['login_platform'].astype(str)"
   ]
  },
  {
   "cell_type": "code",
   "execution_count": 79,
   "metadata": {
    "collapsed": true
   },
   "outputs": [],
   "source": [
    "X['app_version']=X['app_version'].astype(str)"
   ]
  },
  {
   "cell_type": "code",
   "execution_count": 80,
   "metadata": {
    "collapsed": true
   },
   "outputs": [],
   "source": [
    "#'user_age','user_occupation','user_login_platform','user_app_version','user_create_time'"
   ]
  },
  {
   "cell_type": "code",
   "execution_count": 81,
   "metadata": {
    "collapsed": true
   },
   "outputs": [],
   "source": [
    "from sklearn.model_selection import train_test_split"
   ]
  },
  {
   "cell_type": "code",
   "execution_count": 82,
   "metadata": {
    "collapsed": true
   },
   "outputs": [],
   "source": [
    "X_train, X_test, y_train, y_test = train_test_split(X, y, test_size=0.2, random_state=42)"
   ]
  },
  {
   "cell_type": "code",
   "execution_count": 83,
   "metadata": {
    "collapsed": true
   },
   "outputs": [],
   "source": [
    "from sklearn.dummy import DummyClassifier"
   ]
  },
  {
   "cell_type": "code",
   "execution_count": 84,
   "metadata": {
    "collapsed": true
   },
   "outputs": [],
   "source": [
    "dummy0=DummyClassifier(strategy='constant', random_state=None, constant=0)"
   ]
  },
  {
   "cell_type": "code",
   "execution_count": 85,
   "metadata": {
    "collapsed": true
   },
   "outputs": [],
   "source": [
    "dummy1=DummyClassifier(strategy='constant', random_state=None, constant=1)"
   ]
  },
  {
   "cell_type": "code",
   "execution_count": 86,
   "metadata": {
    "collapsed": true
   },
   "outputs": [],
   "source": [
    "dummy2=DummyClassifier(strategy='stratified', random_state=None)"
   ]
  },
  {
   "cell_type": "code",
   "execution_count": 87,
   "metadata": {
    "collapsed": true
   },
   "outputs": [],
   "source": [
    "dummy0.fit(X_train,y_train)\n",
    "predict0=dummy0.predict(X_test)"
   ]
  },
  {
   "cell_type": "code",
   "execution_count": 88,
   "metadata": {
    "collapsed": true
   },
   "outputs": [],
   "source": [
    "dummy1.fit(X_train,y_train)\n",
    "predict1=dummy1.predict(X_test)"
   ]
  },
  {
   "cell_type": "code",
   "execution_count": 89,
   "metadata": {
    "collapsed": true
   },
   "outputs": [],
   "source": [
    "dummy2.fit(X_train,y_train)\n",
    "predict2=dummy2.predict(X_test)"
   ]
  },
  {
   "cell_type": "code",
   "execution_count": 90,
   "metadata": {
    "collapsed": true
   },
   "outputs": [],
   "source": [
    "from sklearn import metrics"
   ]
  },
  {
   "cell_type": "code",
   "execution_count": 91,
   "metadata": {},
   "outputs": [
    {
     "name": "stdout",
     "output_type": "stream",
     "text": [
      "              precision    recall  f1-score   support\n",
      "\n",
      "         0.0       0.70      1.00      0.83     27045\n",
      "         1.0       0.00      0.00      0.00     11328\n",
      "\n",
      "   micro avg       0.70      0.70      0.70     38373\n",
      "   macro avg       0.35      0.50      0.41     38373\n",
      "weighted avg       0.50      0.70      0.58     38373\n",
      "\n"
     ]
    }
   ],
   "source": [
    "print(metrics.classification_report(y_test, predict0))"
   ]
  },
  {
   "cell_type": "code",
   "execution_count": 92,
   "metadata": {},
   "outputs": [
    {
     "name": "stdout",
     "output_type": "stream",
     "text": [
      "              precision    recall  f1-score   support\n",
      "\n",
      "         0.0       0.00      0.00      0.00     27045\n",
      "         1.0       0.30      1.00      0.46     11328\n",
      "\n",
      "   micro avg       0.30      0.30      0.30     38373\n",
      "   macro avg       0.15      0.50      0.23     38373\n",
      "weighted avg       0.09      0.30      0.13     38373\n",
      "\n"
     ]
    }
   ],
   "source": [
    "print(metrics.classification_report(y_test, predict1))"
   ]
  },
  {
   "cell_type": "code",
   "execution_count": 93,
   "metadata": {},
   "outputs": [
    {
     "name": "stdout",
     "output_type": "stream",
     "text": [
      "              precision    recall  f1-score   support\n",
      "\n",
      "         0.0       0.70      0.70      0.70     27045\n",
      "         1.0       0.29      0.30      0.30     11328\n",
      "\n",
      "   micro avg       0.58      0.58      0.58     38373\n",
      "   macro avg       0.50      0.50      0.50     38373\n",
      "weighted avg       0.58      0.58      0.58     38373\n",
      "\n"
     ]
    }
   ],
   "source": [
    "print(metrics.classification_report(y_test, predict2))"
   ]
  },
  {
   "cell_type": "code",
   "execution_count": 94,
   "metadata": {
    "collapsed": true
   },
   "outputs": [],
   "source": [
    "from sklearn.linear_model import LogisticRegression\n",
    "from sklearn.linear_model import RidgeClassifier\n",
    "from sklearn.naive_bayes import BernoulliNB"
   ]
  },
  {
   "cell_type": "code",
   "execution_count": 96,
   "metadata": {},
   "outputs": [
    {
     "data": {
      "text/plain": [
       "(153492, 163)"
      ]
     },
     "execution_count": 96,
     "metadata": {},
     "output_type": "execute_result"
    }
   ],
   "source": [
    "X_train2.shape"
   ]
  },
  {
   "cell_type": "code",
   "execution_count": 97,
   "metadata": {},
   "outputs": [
    {
     "data": {
      "text/plain": [
       "(38373, 163)"
      ]
     },
     "execution_count": 97,
     "metadata": {},
     "output_type": "execute_result"
    }
   ],
   "source": [
    "X_test2.shape"
   ]
  },
  {
   "cell_type": "code",
   "execution_count": 95,
   "metadata": {},
   "outputs": [],
   "source": [
    "X_train2 = pd.get_dummies(X_train)\n",
    "X_test2=pd.get_dummies(X_test)\n",
    "X_train2=X_train2.fillna(-1)\n",
    "X_test2=X_test2.fillna(-1)\n",
    "lr=LogisticRegression()\n",
    "lr.fit(X_train2,y_train)\n",
    "lr_predict=lr.predict(X_test2)"
   ]
  },
  {
   "cell_type": "code",
   "execution_count": 99,
   "metadata": {
    "collapsed": true
   },
   "outputs": [],
   "source": [
    "ridge=RidgeClassifier()\n",
    "ridge.fit(X_train2,y_train)\n",
    "ridge_predict=ridge.predict(X_test2)"
   ]
  },
  {
   "cell_type": "code",
   "execution_count": 100,
   "metadata": {
    "collapsed": true
   },
   "outputs": [],
   "source": [
    "nb=BernoulliNB()\n",
    "nb.fit(X_train2,y_train)\n",
    "nb_predict=nb.predict(X_test2)"
   ]
  },
  {
   "cell_type": "code",
   "execution_count": 101,
   "metadata": {},
   "outputs": [
    {
     "name": "stdout",
     "output_type": "stream",
     "text": [
      "              precision    recall  f1-score   support\n",
      "\n",
      "         0.0       0.73      0.95      0.83     27045\n",
      "         1.0       0.61      0.18      0.28     11328\n",
      "\n",
      "   micro avg       0.72      0.72      0.72     38373\n",
      "   macro avg       0.67      0.57      0.55     38373\n",
      "weighted avg       0.70      0.72      0.67     38373\n",
      "\n"
     ]
    }
   ],
   "source": [
    "print(metrics.classification_report(y_test,lr_predict))"
   ]
  },
  {
   "cell_type": "code",
   "execution_count": 103,
   "metadata": {},
   "outputs": [
    {
     "name": "stdout",
     "output_type": "stream",
     "text": [
      "              precision    recall  f1-score   support\n",
      "\n",
      "         0.0       0.83      0.93      0.88     27045\n",
      "         1.0       0.77      0.56      0.65     11328\n",
      "\n",
      "   micro avg       0.82      0.82      0.82     38373\n",
      "   macro avg       0.80      0.74      0.76     38373\n",
      "weighted avg       0.81      0.82      0.81     38373\n",
      "\n"
     ]
    }
   ],
   "source": [
    "print(metrics.classification_report(y_test,ridge_predict))"
   ]
  },
  {
   "cell_type": "code",
   "execution_count": 104,
   "metadata": {},
   "outputs": [
    {
     "name": "stdout",
     "output_type": "stream",
     "text": [
      "              precision    recall  f1-score   support\n",
      "\n",
      "         0.0       0.87      0.83      0.85     27045\n",
      "         1.0       0.63      0.70      0.66     11328\n",
      "\n",
      "   micro avg       0.79      0.79      0.79     38373\n",
      "   macro avg       0.75      0.76      0.75     38373\n",
      "weighted avg       0.80      0.79      0.79     38373\n",
      "\n"
     ]
    }
   ],
   "source": [
    "print(metrics.classification_report(y_test,nb_predict))"
   ]
  },
  {
   "cell_type": "code",
   "execution_count": 105,
   "metadata": {
    "collapsed": true
   },
   "outputs": [],
   "source": [
    "from sklearn.ensemble import RandomForestClassifier"
   ]
  },
  {
   "cell_type": "code",
   "execution_count": 106,
   "metadata": {
    "collapsed": true
   },
   "outputs": [],
   "source": [
    "rf= RandomForestClassifier(n_estimators=1500, max_depth=10,random_state=0)"
   ]
  },
  {
   "cell_type": "code",
   "execution_count": 108,
   "metadata": {},
   "outputs": [],
   "source": [
    "rf.fit(X_train2,y_train)\n",
    "rf_predict=rf.predict(X_test2)"
   ]
  },
  {
   "cell_type": "code",
   "execution_count": 109,
   "metadata": {},
   "outputs": [
    {
     "name": "stdout",
     "output_type": "stream",
     "text": [
      "              precision    recall  f1-score   support\n",
      "\n",
      "         0.0       0.84      0.92      0.88     27045\n",
      "         1.0       0.75      0.59      0.66     11328\n",
      "\n",
      "   micro avg       0.82      0.82      0.82     38373\n",
      "   macro avg       0.80      0.76      0.77     38373\n",
      "weighted avg       0.82      0.82      0.82     38373\n",
      "\n"
     ]
    }
   ],
   "source": [
    "print(metrics.classification_report(y_test,rf_predict))"
   ]
  },
  {
   "cell_type": "code",
   "execution_count": null,
   "metadata": {
    "collapsed": true
   },
   "outputs": [],
   "source": []
  }
 ],
 "metadata": {
  "kernelspec": {
   "display_name": "Python 3",
   "language": "python",
   "name": "python3"
  },
  "language_info": {
   "codemirror_mode": {
    "name": "ipython",
    "version": 3
   },
   "file_extension": ".py",
   "mimetype": "text/x-python",
   "name": "python",
   "nbconvert_exporter": "python",
   "pygments_lexer": "ipython3",
   "version": "3.6.3"
  }
 },
 "nbformat": 4,
 "nbformat_minor": 2
}
