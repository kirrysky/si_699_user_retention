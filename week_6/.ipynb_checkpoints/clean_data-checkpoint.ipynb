{
 "cells": [
  {
   "cell_type": "markdown",
   "metadata": {},
   "source": [
    "# Clean Data\n",
    "\n",
    "- Author: Wen Xin\n",
    "- Description: This file is used to clean data."
   ]
  },
  {
   "cell_type": "code",
   "execution_count": 1,
   "metadata": {},
   "outputs": [],
   "source": [
    "import numpy as np\n",
    "import pandas as pd\n",
    "import matplotlib.pyplot as plt\n",
    "import seaborn as sns \n",
    "import warnings\n",
    "warnings.filterwarnings(\"ignore\")"
   ]
  },
  {
   "cell_type": "code",
   "execution_count": 2,
   "metadata": {},
   "outputs": [],
   "source": [
    "data=pd.read_csv('all_data.csv')"
   ]
  },
  {
   "cell_type": "code",
   "execution_count": 3,
   "metadata": {},
   "outputs": [
    {
     "data": {
      "text/html": [
       "<div>\n",
       "<style scoped>\n",
       "    .dataframe tbody tr th:only-of-type {\n",
       "        vertical-align: middle;\n",
       "    }\n",
       "\n",
       "    .dataframe tbody tr th {\n",
       "        vertical-align: top;\n",
       "    }\n",
       "\n",
       "    .dataframe thead th {\n",
       "        text-align: right;\n",
       "    }\n",
       "</style>\n",
       "<table border=\"1\" class=\"dataframe\">\n",
       "  <thead>\n",
       "    <tr style=\"text-align: right;\">\n",
       "      <th></th>\n",
       "      <th>user_id</th>\n",
       "      <th>order_sd</th>\n",
       "      <th>active_days</th>\n",
       "      <th>lastgap</th>\n",
       "      <th>avg_gap</th>\n",
       "      <th>min_gap</th>\n",
       "      <th>max_gap</th>\n",
       "      <th>total_orders</th>\n",
       "      <th>w1_total_orders</th>\n",
       "      <th>w2_total_orders</th>\n",
       "      <th>...</th>\n",
       "      <th>last_distance</th>\n",
       "      <th>order_nums</th>\n",
       "      <th>city_id</th>\n",
       "      <th>sex</th>\n",
       "      <th>age</th>\n",
       "      <th>occupation</th>\n",
       "      <th>invite_id</th>\n",
       "      <th>invite_code</th>\n",
       "      <th>login_platform</th>\n",
       "      <th>app_version</th>\n",
       "    </tr>\n",
       "  </thead>\n",
       "  <tbody>\n",
       "    <tr>\n",
       "      <th>0</th>\n",
       "      <td>100002020</td>\n",
       "      <td>0.663138</td>\n",
       "      <td>10</td>\n",
       "      <td>3.0</td>\n",
       "      <td>4.888889</td>\n",
       "      <td>1.0</td>\n",
       "      <td>12.0</td>\n",
       "      <td>16.0</td>\n",
       "      <td>4.0</td>\n",
       "      <td>2.0</td>\n",
       "      <td>...</td>\n",
       "      <td>56.0</td>\n",
       "      <td>8.0</td>\n",
       "      <td>0</td>\n",
       "      <td>1</td>\n",
       "      <td>80</td>\n",
       "      <td>互联网</td>\n",
       "      <td>0</td>\n",
       "      <td>9828.0</td>\n",
       "      <td>Android</td>\n",
       "      <td>2.8.2</td>\n",
       "    </tr>\n",
       "    <tr>\n",
       "      <th>1</th>\n",
       "      <td>100002033</td>\n",
       "      <td>0.602960</td>\n",
       "      <td>18</td>\n",
       "      <td>7.0</td>\n",
       "      <td>2.941176</td>\n",
       "      <td>1.0</td>\n",
       "      <td>11.0</td>\n",
       "      <td>22.0</td>\n",
       "      <td>8.0</td>\n",
       "      <td>5.0</td>\n",
       "      <td>...</td>\n",
       "      <td>2099.0</td>\n",
       "      <td>10.0</td>\n",
       "      <td>0</td>\n",
       "      <td>0</td>\n",
       "      <td>NaN</td>\n",
       "      <td>NaN</td>\n",
       "      <td>0</td>\n",
       "      <td>6126.0</td>\n",
       "      <td>iOS</td>\n",
       "      <td>3.5.0</td>\n",
       "    </tr>\n",
       "    <tr>\n",
       "      <th>2</th>\n",
       "      <td>100002035</td>\n",
       "      <td>0.391684</td>\n",
       "      <td>13</td>\n",
       "      <td>5.0</td>\n",
       "      <td>4.500000</td>\n",
       "      <td>2.0</td>\n",
       "      <td>12.0</td>\n",
       "      <td>13.0</td>\n",
       "      <td>3.0</td>\n",
       "      <td>2.0</td>\n",
       "      <td>...</td>\n",
       "      <td>1423.0</td>\n",
       "      <td>7.0</td>\n",
       "      <td>0</td>\n",
       "      <td>0</td>\n",
       "      <td>NaN</td>\n",
       "      <td>NaN</td>\n",
       "      <td>0</td>\n",
       "      <td>3227.0</td>\n",
       "      <td>iOS</td>\n",
       "      <td>2.4.6</td>\n",
       "    </tr>\n",
       "    <tr>\n",
       "      <th>3</th>\n",
       "      <td>100002036</td>\n",
       "      <td>0.337142</td>\n",
       "      <td>9</td>\n",
       "      <td>5.0</td>\n",
       "      <td>8.625000</td>\n",
       "      <td>1.0</td>\n",
       "      <td>53.0</td>\n",
       "      <td>9.0</td>\n",
       "      <td>2.0</td>\n",
       "      <td>0.0</td>\n",
       "      <td>...</td>\n",
       "      <td>1876.0</td>\n",
       "      <td>5.0</td>\n",
       "      <td>0</td>\n",
       "      <td>0</td>\n",
       "      <td>NaN</td>\n",
       "      <td>NaN</td>\n",
       "      <td>0</td>\n",
       "      <td>3844.0</td>\n",
       "      <td>iOS</td>\n",
       "      <td>3.4.0</td>\n",
       "    </tr>\n",
       "    <tr>\n",
       "      <th>4</th>\n",
       "      <td>100002040</td>\n",
       "      <td>0.535490</td>\n",
       "      <td>12</td>\n",
       "      <td>5.0</td>\n",
       "      <td>3.454545</td>\n",
       "      <td>1.0</td>\n",
       "      <td>6.0</td>\n",
       "      <td>15.0</td>\n",
       "      <td>0.0</td>\n",
       "      <td>0.0</td>\n",
       "      <td>...</td>\n",
       "      <td>2140.0</td>\n",
       "      <td>2.0</td>\n",
       "      <td>0</td>\n",
       "      <td>2</td>\n",
       "      <td>90</td>\n",
       "      <td>上班族</td>\n",
       "      <td>0</td>\n",
       "      <td>4316.0</td>\n",
       "      <td>Android</td>\n",
       "      <td>3.2.1</td>\n",
       "    </tr>\n",
       "  </tbody>\n",
       "</table>\n",
       "<p>5 rows × 52 columns</p>\n",
       "</div>"
      ],
      "text/plain": [
       "     user_id  order_sd  active_days  lastgap   avg_gap  min_gap  max_gap  \\\n",
       "0  100002020  0.663138           10      3.0  4.888889      1.0     12.0   \n",
       "1  100002033  0.602960           18      7.0  2.941176      1.0     11.0   \n",
       "2  100002035  0.391684           13      5.0  4.500000      2.0     12.0   \n",
       "3  100002036  0.337142            9      5.0  8.625000      1.0     53.0   \n",
       "4  100002040  0.535490           12      5.0  3.454545      1.0      6.0   \n",
       "\n",
       "   total_orders  w1_total_orders  w2_total_orders  ...  last_distance  \\\n",
       "0          16.0              4.0              2.0  ...           56.0   \n",
       "1          22.0              8.0              5.0  ...         2099.0   \n",
       "2          13.0              3.0              2.0  ...         1423.0   \n",
       "3           9.0              2.0              0.0  ...         1876.0   \n",
       "4          15.0              0.0              0.0  ...         2140.0   \n",
       "\n",
       "   order_nums  city_id  sex  age  occupation  invite_id  invite_code  \\\n",
       "0         8.0        0    1   80         互联网          0       9828.0   \n",
       "1        10.0        0    0  NaN         NaN          0       6126.0   \n",
       "2         7.0        0    0  NaN         NaN          0       3227.0   \n",
       "3         5.0        0    0  NaN         NaN          0       3844.0   \n",
       "4         2.0        0    2   90         上班族          0       4316.0   \n",
       "\n",
       "   login_platform  app_version  \n",
       "0         Android        2.8.2  \n",
       "1             iOS        3.5.0  \n",
       "2             iOS        2.4.6  \n",
       "3             iOS        3.4.0  \n",
       "4         Android        3.2.1  \n",
       "\n",
       "[5 rows x 52 columns]"
      ]
     },
     "execution_count": 3,
     "metadata": {},
     "output_type": "execute_result"
    }
   ],
   "source": [
    "data.head()"
   ]
  },
  {
   "cell_type": "code",
   "execution_count": 4,
   "metadata": {},
   "outputs": [],
   "source": [
    "data=data.drop_duplicates(keep='first')"
   ]
  },
  {
   "cell_type": "code",
   "execution_count": 5,
   "metadata": {},
   "outputs": [],
   "source": [
    "data.to_csv('all_data_corrected.csv',index=False)"
   ]
  },
  {
   "cell_type": "code",
   "execution_count": 6,
   "metadata": {},
   "outputs": [],
   "source": [
    "#1.替换错误的last coupon fee\n",
    "#  转换last coupon fee的格式 string->int\n",
    "data['last_coupon_fee'].replace('\\\\N','0.0',inplace=True)\n",
    "data['last_coupon_fee']=data['last_coupon_fee'].astype(float)"
   ]
  },
  {
   "cell_type": "code",
   "execution_count": 7,
   "metadata": {},
   "outputs": [
    {
     "data": {
      "text/plain": [
       "array(['80.0', 'nan', '90.0', '70.0', '60.0', '0.0', '90', '80', '70',\n",
       "       '60', '00', '前', '0', '0后'], dtype=object)"
      ]
     },
     "execution_count": 7,
     "metadata": {},
     "output_type": "execute_result"
    }
   ],
   "source": [
    "#2.替换错误的年龄\n",
    "data['age']=data['age'].astype(str)\n",
    "data['age'].unique()"
   ]
  },
  {
   "cell_type": "code",
   "execution_count": 8,
   "metadata": {},
   "outputs": [],
   "source": [
    "data['age'].replace('nan',np.nan,inplace=True)\n",
    "data['age'].replace('前',np.nan,inplace=True)\n",
    "data['age'].replace('0后',np.nan,inplace=True)\n",
    "data['age']=data['age'].astype(float)"
   ]
  },
  {
   "cell_type": "code",
   "execution_count": 9,
   "metadata": {},
   "outputs": [
    {
     "data": {
      "text/plain": [
       "array([80., nan, 90., 70., 60.,  0.])"
      ]
     },
     "execution_count": 9,
     "metadata": {},
     "output_type": "execute_result"
    }
   ],
   "source": [
    "data['age'].unique()"
   ]
  },
  {
   "cell_type": "code",
   "execution_count": 10,
   "metadata": {},
   "outputs": [],
   "source": [
    "data['age'].replace(0.,100.,inplace=True)"
   ]
  },
  {
   "cell_type": "code",
   "execution_count": 11,
   "metadata": {},
   "outputs": [],
   "source": [
    "data['age']=data['age'].fillna(-1)"
   ]
  },
  {
   "cell_type": "code",
   "execution_count": 12,
   "metadata": {},
   "outputs": [],
   "source": [
    "# 3.userid==101427199，赋值order_nums=1, 反正就一个没赋值好2333\n",
    "data['order_nums']=data['order_nums'].fillna(1)"
   ]
  },
  {
   "cell_type": "code",
   "execution_count": 17,
   "metadata": {},
   "outputs": [
    {
     "data": {
      "text/html": [
       "<div>\n",
       "<style scoped>\n",
       "    .dataframe tbody tr th:only-of-type {\n",
       "        vertical-align: middle;\n",
       "    }\n",
       "\n",
       "    .dataframe tbody tr th {\n",
       "        vertical-align: top;\n",
       "    }\n",
       "\n",
       "    .dataframe thead th {\n",
       "        text-align: right;\n",
       "    }\n",
       "</style>\n",
       "<table border=\"1\" class=\"dataframe\">\n",
       "  <thead>\n",
       "    <tr style=\"text-align: right;\">\n",
       "      <th></th>\n",
       "      <th>order_sd</th>\n",
       "      <th>active_days</th>\n",
       "      <th>lastgap</th>\n",
       "      <th>avg_gap</th>\n",
       "      <th>min_gap</th>\n",
       "      <th>max_gap</th>\n",
       "      <th>total_orders</th>\n",
       "      <th>w1_total_orders</th>\n",
       "      <th>w2_total_orders</th>\n",
       "      <th>w3_total_orders</th>\n",
       "      <th>...</th>\n",
       "      <th>send2update_time_max</th>\n",
       "      <th>intime_rate</th>\n",
       "      <th>last_coupon_fee</th>\n",
       "      <th>last_send_type</th>\n",
       "      <th>order_nums</th>\n",
       "      <th>city_id</th>\n",
       "      <th>sex</th>\n",
       "      <th>age</th>\n",
       "      <th>login_platform</th>\n",
       "      <th>app_version</th>\n",
       "    </tr>\n",
       "  </thead>\n",
       "  <tbody>\n",
       "  </tbody>\n",
       "</table>\n",
       "<p>0 rows × 44 columns</p>\n",
       "</div>"
      ],
      "text/plain": [
       "Empty DataFrame\n",
       "Columns: [order_sd, active_days, lastgap, avg_gap, min_gap, max_gap, total_orders, w1_total_orders, w2_total_orders, w3_total_orders, w4_total_orders, w5_total_orders, w6_total_orders, w7_total_orders, total_couponworth, w1_total_couponworth, w2_total_couponworth, w3_total_couponworth, w4_total_couponworth, w5_total_couponworth, w6_total_couponworth, w7_total_couponworth, label, first_order, last_order, accountLength, overall_time_mean, update2create_time_mean, send2update_time_mean, overall_time_min, update2create_time_min, send2update_time_min, overall_time_max, update2create_time_max, send2update_time_max, intime_rate, last_coupon_fee, last_send_type, order_nums, city_id, sex, age, login_platform, app_version]\n",
       "Index: []\n",
       "\n",
       "[0 rows x 44 columns]"
      ]
     },
     "execution_count": 17,
     "metadata": {},
     "output_type": "execute_result"
    }
   ],
   "source": [
    "data[pd.isnull(data['order_nums'])]"
   ]
  },
  {
   "cell_type": "code",
   "execution_count": 18,
   "metadata": {},
   "outputs": [
    {
     "data": {
      "text/plain": [
       "Index(['order_sd', 'active_days', 'lastgap', 'avg_gap', 'min_gap', 'max_gap',\n",
       "       'total_orders', 'w1_total_orders', 'w2_total_orders', 'w3_total_orders',\n",
       "       'w4_total_orders', 'w5_total_orders', 'w6_total_orders',\n",
       "       'w7_total_orders', 'total_couponworth', 'w1_total_couponworth',\n",
       "       'w2_total_couponworth', 'w3_total_couponworth', 'w4_total_couponworth',\n",
       "       'w5_total_couponworth', 'w6_total_couponworth', 'w7_total_couponworth',\n",
       "       'label', 'first_order', 'last_order', 'accountLength',\n",
       "       'overall_time_mean', 'update2create_time_mean', 'send2update_time_mean',\n",
       "       'overall_time_min', 'update2create_time_min', 'send2update_time_min',\n",
       "       'overall_time_max', 'update2create_time_max', 'send2update_time_max',\n",
       "       'intime_rate', 'last_coupon_fee', 'last_send_type', 'order_nums',\n",
       "       'city_id', 'sex', 'age', 'login_platform', 'app_version'],\n",
       "      dtype='object')"
      ]
     },
     "execution_count": 18,
     "metadata": {},
     "output_type": "execute_result"
    }
   ],
   "source": [
    "# 4.drop user_id,invite_id,occupation,一些和distance相关的feature\n",
    "data.columns"
   ]
  },
  {
   "cell_type": "code",
   "execution_count": 19,
   "metadata": {},
   "outputs": [
    {
     "ename": "KeyError",
     "evalue": "\"['user_id' 'invite_id' 'occupation' 'distance_min' 'distance_max'\\n 'distance_mean' 'last_distance' 'invite_code'] not found in axis\"",
     "output_type": "error",
     "traceback": [
      "\u001b[0;31m---------------------------------------------------------------------------\u001b[0m",
      "\u001b[0;31mKeyError\u001b[0m                                  Traceback (most recent call last)",
      "\u001b[0;32m<ipython-input-19-318526a89c17>\u001b[0m in \u001b[0;36m<module>\u001b[0;34m()\u001b[0m\n\u001b[1;32m      1\u001b[0m data=data.drop(['user_id','invite_id','occupation',\n\u001b[1;32m      2\u001b[0m           \u001b[0;34m'distance_min'\u001b[0m\u001b[0;34m,\u001b[0m \u001b[0;34m'distance_max'\u001b[0m\u001b[0;34m,\u001b[0m \u001b[0;34m'distance_mean'\u001b[0m\u001b[0;34m,\u001b[0m\u001b[0;34m\u001b[0m\u001b[0m\n\u001b[0;32m----> 3\u001b[0;31m           'last_distance','invite_code'],axis=1)\n\u001b[0m",
      "\u001b[0;32m/anaconda3/lib/python3.6/site-packages/pandas/core/frame.py\u001b[0m in \u001b[0;36mdrop\u001b[0;34m(self, labels, axis, index, columns, level, inplace, errors)\u001b[0m\n\u001b[1;32m   3938\u001b[0m                                            \u001b[0mindex\u001b[0m\u001b[0;34m=\u001b[0m\u001b[0mindex\u001b[0m\u001b[0;34m,\u001b[0m \u001b[0mcolumns\u001b[0m\u001b[0;34m=\u001b[0m\u001b[0mcolumns\u001b[0m\u001b[0;34m,\u001b[0m\u001b[0;34m\u001b[0m\u001b[0m\n\u001b[1;32m   3939\u001b[0m                                            \u001b[0mlevel\u001b[0m\u001b[0;34m=\u001b[0m\u001b[0mlevel\u001b[0m\u001b[0;34m,\u001b[0m \u001b[0minplace\u001b[0m\u001b[0;34m=\u001b[0m\u001b[0minplace\u001b[0m\u001b[0;34m,\u001b[0m\u001b[0;34m\u001b[0m\u001b[0m\n\u001b[0;32m-> 3940\u001b[0;31m                                            errors=errors)\n\u001b[0m\u001b[1;32m   3941\u001b[0m \u001b[0;34m\u001b[0m\u001b[0m\n\u001b[1;32m   3942\u001b[0m     @rewrite_axis_style_signature('mapper', [('copy', True),\n",
      "\u001b[0;32m/anaconda3/lib/python3.6/site-packages/pandas/core/generic.py\u001b[0m in \u001b[0;36mdrop\u001b[0;34m(self, labels, axis, index, columns, level, inplace, errors)\u001b[0m\n\u001b[1;32m   3778\u001b[0m         \u001b[0;32mfor\u001b[0m \u001b[0maxis\u001b[0m\u001b[0;34m,\u001b[0m \u001b[0mlabels\u001b[0m \u001b[0;32min\u001b[0m \u001b[0maxes\u001b[0m\u001b[0;34m.\u001b[0m\u001b[0mitems\u001b[0m\u001b[0;34m(\u001b[0m\u001b[0;34m)\u001b[0m\u001b[0;34m:\u001b[0m\u001b[0;34m\u001b[0m\u001b[0m\n\u001b[1;32m   3779\u001b[0m             \u001b[0;32mif\u001b[0m \u001b[0mlabels\u001b[0m \u001b[0;32mis\u001b[0m \u001b[0;32mnot\u001b[0m \u001b[0;32mNone\u001b[0m\u001b[0;34m:\u001b[0m\u001b[0;34m\u001b[0m\u001b[0m\n\u001b[0;32m-> 3780\u001b[0;31m                 \u001b[0mobj\u001b[0m \u001b[0;34m=\u001b[0m \u001b[0mobj\u001b[0m\u001b[0;34m.\u001b[0m\u001b[0m_drop_axis\u001b[0m\u001b[0;34m(\u001b[0m\u001b[0mlabels\u001b[0m\u001b[0;34m,\u001b[0m \u001b[0maxis\u001b[0m\u001b[0;34m,\u001b[0m \u001b[0mlevel\u001b[0m\u001b[0;34m=\u001b[0m\u001b[0mlevel\u001b[0m\u001b[0;34m,\u001b[0m \u001b[0merrors\u001b[0m\u001b[0;34m=\u001b[0m\u001b[0merrors\u001b[0m\u001b[0;34m)\u001b[0m\u001b[0;34m\u001b[0m\u001b[0m\n\u001b[0m\u001b[1;32m   3781\u001b[0m \u001b[0;34m\u001b[0m\u001b[0m\n\u001b[1;32m   3782\u001b[0m         \u001b[0;32mif\u001b[0m \u001b[0minplace\u001b[0m\u001b[0;34m:\u001b[0m\u001b[0;34m\u001b[0m\u001b[0m\n",
      "\u001b[0;32m/anaconda3/lib/python3.6/site-packages/pandas/core/generic.py\u001b[0m in \u001b[0;36m_drop_axis\u001b[0;34m(self, labels, axis, level, errors)\u001b[0m\n\u001b[1;32m   3810\u001b[0m                 \u001b[0mnew_axis\u001b[0m \u001b[0;34m=\u001b[0m \u001b[0maxis\u001b[0m\u001b[0;34m.\u001b[0m\u001b[0mdrop\u001b[0m\u001b[0;34m(\u001b[0m\u001b[0mlabels\u001b[0m\u001b[0;34m,\u001b[0m \u001b[0mlevel\u001b[0m\u001b[0;34m=\u001b[0m\u001b[0mlevel\u001b[0m\u001b[0;34m,\u001b[0m \u001b[0merrors\u001b[0m\u001b[0;34m=\u001b[0m\u001b[0merrors\u001b[0m\u001b[0;34m)\u001b[0m\u001b[0;34m\u001b[0m\u001b[0m\n\u001b[1;32m   3811\u001b[0m             \u001b[0;32melse\u001b[0m\u001b[0;34m:\u001b[0m\u001b[0;34m\u001b[0m\u001b[0m\n\u001b[0;32m-> 3812\u001b[0;31m                 \u001b[0mnew_axis\u001b[0m \u001b[0;34m=\u001b[0m \u001b[0maxis\u001b[0m\u001b[0;34m.\u001b[0m\u001b[0mdrop\u001b[0m\u001b[0;34m(\u001b[0m\u001b[0mlabels\u001b[0m\u001b[0;34m,\u001b[0m \u001b[0merrors\u001b[0m\u001b[0;34m=\u001b[0m\u001b[0merrors\u001b[0m\u001b[0;34m)\u001b[0m\u001b[0;34m\u001b[0m\u001b[0m\n\u001b[0m\u001b[1;32m   3813\u001b[0m             \u001b[0mresult\u001b[0m \u001b[0;34m=\u001b[0m \u001b[0mself\u001b[0m\u001b[0;34m.\u001b[0m\u001b[0mreindex\u001b[0m\u001b[0;34m(\u001b[0m\u001b[0;34m**\u001b[0m\u001b[0;34m{\u001b[0m\u001b[0maxis_name\u001b[0m\u001b[0;34m:\u001b[0m \u001b[0mnew_axis\u001b[0m\u001b[0;34m}\u001b[0m\u001b[0;34m)\u001b[0m\u001b[0;34m\u001b[0m\u001b[0m\n\u001b[1;32m   3814\u001b[0m \u001b[0;34m\u001b[0m\u001b[0m\n",
      "\u001b[0;32m/anaconda3/lib/python3.6/site-packages/pandas/core/indexes/base.py\u001b[0m in \u001b[0;36mdrop\u001b[0;34m(self, labels, errors)\u001b[0m\n\u001b[1;32m   4962\u001b[0m             \u001b[0;32mif\u001b[0m \u001b[0merrors\u001b[0m \u001b[0;34m!=\u001b[0m \u001b[0;34m'ignore'\u001b[0m\u001b[0;34m:\u001b[0m\u001b[0;34m\u001b[0m\u001b[0m\n\u001b[1;32m   4963\u001b[0m                 raise KeyError(\n\u001b[0;32m-> 4964\u001b[0;31m                     '{} not found in axis'.format(labels[mask]))\n\u001b[0m\u001b[1;32m   4965\u001b[0m             \u001b[0mindexer\u001b[0m \u001b[0;34m=\u001b[0m \u001b[0mindexer\u001b[0m\u001b[0;34m[\u001b[0m\u001b[0;34m~\u001b[0m\u001b[0mmask\u001b[0m\u001b[0;34m]\u001b[0m\u001b[0;34m\u001b[0m\u001b[0m\n\u001b[1;32m   4966\u001b[0m         \u001b[0;32mreturn\u001b[0m \u001b[0mself\u001b[0m\u001b[0;34m.\u001b[0m\u001b[0mdelete\u001b[0m\u001b[0;34m(\u001b[0m\u001b[0mindexer\u001b[0m\u001b[0;34m)\u001b[0m\u001b[0;34m\u001b[0m\u001b[0m\n",
      "\u001b[0;31mKeyError\u001b[0m: \"['user_id' 'invite_id' 'occupation' 'distance_min' 'distance_max'\\n 'distance_mean' 'last_distance' 'invite_code'] not found in axis\""
     ]
    }
   ],
   "source": [
    "data=data.drop(['user_id','invite_id','occupation',\n",
    "          'distance_min', 'distance_max', 'distance_mean',\n",
    "          'last_distance','invite_code'],axis=1)"
   ]
  },
  {
   "cell_type": "code",
   "execution_count": 20,
   "metadata": {},
   "outputs": [],
   "source": [
    "# 5.login platform"
   ]
  },
  {
   "cell_type": "code",
   "execution_count": 21,
   "metadata": {},
   "outputs": [
    {
     "data": {
      "text/plain": [
       "array(['Android', 'iOS', 'mobile', nan], dtype=object)"
      ]
     },
     "execution_count": 21,
     "metadata": {},
     "output_type": "execute_result"
    }
   ],
   "source": [
    "data['login_platform'].unique()"
   ]
  },
  {
   "cell_type": "code",
   "execution_count": 22,
   "metadata": {},
   "outputs": [],
   "source": [
    "def map_platform(p):\n",
    "    if p == 'iOS':\n",
    "        return 1\n",
    "    elif p == 'Android':\n",
    "        return 0\n",
    "    else:\n",
    "        return -1\n",
    "\n",
    "data['login_platform_b'] = data['login_platform'].map(map_platform)"
   ]
  },
  {
   "cell_type": "code",
   "execution_count": 23,
   "metadata": {},
   "outputs": [
    {
     "data": {
      "text/plain": [
       "array([ 0,  1, -1])"
      ]
     },
     "execution_count": 23,
     "metadata": {},
     "output_type": "execute_result"
    }
   ],
   "source": [
    "data['login_platform_b'].unique()"
   ]
  },
  {
   "cell_type": "code",
   "execution_count": 24,
   "metadata": {},
   "outputs": [],
   "source": [
    "# 6.app version\n",
    "# 逻辑是愿意更新的人肯定app version要新，不更新的说明不用这个app了，也不会更新了"
   ]
  },
  {
   "cell_type": "code",
   "execution_count": 25,
   "metadata": {},
   "outputs": [
    {
     "data": {
      "text/plain": [
       "array(['2.8.2', '3.5.0', '2.4.6', '3.4.0', '3.2.1', '2.6.0', '3.7.1',\n",
       "       '3.3.0', '2.9.0', '3.3.1', '2.7.0', '3.2.0', '3.0.0', '2.6.1',\n",
       "       '2.4.3', '2.7.1', '2.1.4', '2.8.1', '3.7.0', '3.1.0', '2.9.6',\n",
       "       '2.5.1', '2.4.1', '2.1.0', '3.6.0', '2.2.1', '2.1.2', '2.9.7',\n",
       "       '2.9.1', nan, '2.4.5', '2.3.0', '2.5.0', '2.8.0', '2.1.1', '2.4.4',\n",
       "       '2.4.0', '2.0.3', '2.4.2', '2.0.0', '2.2.0'], dtype=object)"
      ]
     },
     "execution_count": 25,
     "metadata": {},
     "output_type": "execute_result"
    }
   ],
   "source": [
    "data['app_version'].unique()"
   ]
  },
  {
   "cell_type": "code",
   "execution_count": 26,
   "metadata": {},
   "outputs": [],
   "source": [
    "def map_app_versions(p):\n",
    "    updated_versions=['2.8.2', '3.5.0', '3.4.0', '3.2.1', '3.7.1', \\\n",
    "    '3.3.0', '2.9.0', '3.3.1', '3.2.0', '3.0.0', '2.8.1', '3.7.0',\\\n",
    "    '3.1.0', '2.9.6', '3.6.0',  '2.9.7','2.9.1']\n",
    "    if p in updated_versions:\n",
    "        return 1\n",
    "    else:\n",
    "        return 0\n",
    "\n",
    "data['app_version_b'] = data['app_version'].map(map_app_versions)"
   ]
  },
  {
   "cell_type": "code",
   "execution_count": 27,
   "metadata": {},
   "outputs": [
    {
     "data": {
      "text/plain": [
       "array([1, 0])"
      ]
     },
     "execution_count": 27,
     "metadata": {},
     "output_type": "execute_result"
    }
   ],
   "source": [
    "data['app_version_b'].unique()"
   ]
  },
  {
   "cell_type": "code",
   "execution_count": 28,
   "metadata": {},
   "outputs": [],
   "source": [
    "data=data.drop(['login_platform','app_version'],axis=1)"
   ]
  },
  {
   "cell_type": "code",
   "execution_count": 29,
   "metadata": {},
   "outputs": [
    {
     "data": {
      "text/plain": [
       "Index(['order_sd', 'active_days', 'lastgap', 'avg_gap', 'min_gap', 'max_gap',\n",
       "       'total_orders', 'w1_total_orders', 'w2_total_orders', 'w3_total_orders',\n",
       "       'w4_total_orders', 'w5_total_orders', 'w6_total_orders',\n",
       "       'w7_total_orders', 'total_couponworth', 'w1_total_couponworth',\n",
       "       'w2_total_couponworth', 'w3_total_couponworth', 'w4_total_couponworth',\n",
       "       'w5_total_couponworth', 'w6_total_couponworth', 'w7_total_couponworth',\n",
       "       'label', 'first_order', 'last_order', 'accountLength',\n",
       "       'overall_time_mean', 'update2create_time_mean', 'send2update_time_mean',\n",
       "       'overall_time_min', 'update2create_time_min', 'send2update_time_min',\n",
       "       'overall_time_max', 'update2create_time_max', 'send2update_time_max',\n",
       "       'intime_rate', 'last_coupon_fee', 'last_send_type', 'order_nums',\n",
       "       'city_id', 'sex', 'age', 'login_platform_b', 'app_version_b'],\n",
       "      dtype='object')"
      ]
     },
     "execution_count": 29,
     "metadata": {},
     "output_type": "execute_result"
    }
   ],
   "source": [
    "# 7.gap fillna fill 100\n",
    "data.columns"
   ]
  },
  {
   "cell_type": "code",
   "execution_count": 30,
   "metadata": {},
   "outputs": [],
   "source": [
    "data['lastgap']=data['lastgap'].fillna(100)\n",
    "data['avg_gap']=data['avg_gap'].fillna(100)\n",
    "data['min_gap']=data['min_gap'].fillna(100)\n",
    "data['max_gap']=data['max_gap'].fillna(100)"
   ]
  },
  {
   "cell_type": "code",
   "execution_count": 31,
   "metadata": {},
   "outputs": [],
   "source": [
    "# 8.所有time相关的fillna fill 500000\n",
    "time_features=['overall_time_mean', 'update2create_time_mean', 'send2update_time_mean',\\\n",
    "               'overall_time_min', 'update2create_time_min', 'send2update_time_min',\\\n",
    "               'overall_time_max', 'update2create_time_max', 'send2update_time_max']"
   ]
  },
  {
   "cell_type": "code",
   "execution_count": 32,
   "metadata": {},
   "outputs": [
    {
     "data": {
      "text/html": [
       "<div>\n",
       "<style scoped>\n",
       "    .dataframe tbody tr th:only-of-type {\n",
       "        vertical-align: middle;\n",
       "    }\n",
       "\n",
       "    .dataframe tbody tr th {\n",
       "        vertical-align: top;\n",
       "    }\n",
       "\n",
       "    .dataframe thead th {\n",
       "        text-align: right;\n",
       "    }\n",
       "</style>\n",
       "<table border=\"1\" class=\"dataframe\">\n",
       "  <thead>\n",
       "    <tr style=\"text-align: right;\">\n",
       "      <th></th>\n",
       "      <th>order_sd</th>\n",
       "      <th>active_days</th>\n",
       "      <th>lastgap</th>\n",
       "      <th>avg_gap</th>\n",
       "      <th>min_gap</th>\n",
       "      <th>max_gap</th>\n",
       "      <th>total_orders</th>\n",
       "      <th>w1_total_orders</th>\n",
       "      <th>w2_total_orders</th>\n",
       "      <th>w3_total_orders</th>\n",
       "      <th>...</th>\n",
       "      <th>send2update_time_max</th>\n",
       "      <th>intime_rate</th>\n",
       "      <th>last_coupon_fee</th>\n",
       "      <th>last_send_type</th>\n",
       "      <th>order_nums</th>\n",
       "      <th>city_id</th>\n",
       "      <th>sex</th>\n",
       "      <th>age</th>\n",
       "      <th>login_platform_b</th>\n",
       "      <th>app_version_b</th>\n",
       "    </tr>\n",
       "  </thead>\n",
       "  <tbody>\n",
       "  </tbody>\n",
       "</table>\n",
       "<p>0 rows × 44 columns</p>\n",
       "</div>"
      ],
      "text/plain": [
       "Empty DataFrame\n",
       "Columns: [order_sd, active_days, lastgap, avg_gap, min_gap, max_gap, total_orders, w1_total_orders, w2_total_orders, w3_total_orders, w4_total_orders, w5_total_orders, w6_total_orders, w7_total_orders, total_couponworth, w1_total_couponworth, w2_total_couponworth, w3_total_couponworth, w4_total_couponworth, w5_total_couponworth, w6_total_couponworth, w7_total_couponworth, label, first_order, last_order, accountLength, overall_time_mean, update2create_time_mean, send2update_time_mean, overall_time_min, update2create_time_min, send2update_time_min, overall_time_max, update2create_time_max, send2update_time_max, intime_rate, last_coupon_fee, last_send_type, order_nums, city_id, sex, age, login_platform_b, app_version_b]\n",
       "Index: []\n",
       "\n",
       "[0 rows x 44 columns]"
      ]
     },
     "execution_count": 32,
     "metadata": {},
     "output_type": "execute_result"
    }
   ],
   "source": [
    "data[pd.isnull(data['overall_time_mean'])]"
   ]
  },
  {
   "cell_type": "code",
   "execution_count": 33,
   "metadata": {},
   "outputs": [
    {
     "data": {
      "text/html": [
       "<div>\n",
       "<style scoped>\n",
       "    .dataframe tbody tr th:only-of-type {\n",
       "        vertical-align: middle;\n",
       "    }\n",
       "\n",
       "    .dataframe tbody tr th {\n",
       "        vertical-align: top;\n",
       "    }\n",
       "\n",
       "    .dataframe thead th {\n",
       "        text-align: right;\n",
       "    }\n",
       "</style>\n",
       "<table border=\"1\" class=\"dataframe\">\n",
       "  <thead>\n",
       "    <tr style=\"text-align: right;\">\n",
       "      <th></th>\n",
       "      <th>order_sd</th>\n",
       "      <th>active_days</th>\n",
       "      <th>lastgap</th>\n",
       "      <th>avg_gap</th>\n",
       "      <th>min_gap</th>\n",
       "      <th>max_gap</th>\n",
       "      <th>total_orders</th>\n",
       "      <th>w1_total_orders</th>\n",
       "      <th>w2_total_orders</th>\n",
       "      <th>w3_total_orders</th>\n",
       "      <th>...</th>\n",
       "      <th>send2update_time_max</th>\n",
       "      <th>intime_rate</th>\n",
       "      <th>last_coupon_fee</th>\n",
       "      <th>last_send_type</th>\n",
       "      <th>order_nums</th>\n",
       "      <th>city_id</th>\n",
       "      <th>sex</th>\n",
       "      <th>age</th>\n",
       "      <th>login_platform_b</th>\n",
       "      <th>app_version_b</th>\n",
       "    </tr>\n",
       "  </thead>\n",
       "  <tbody>\n",
       "  </tbody>\n",
       "</table>\n",
       "<p>0 rows × 44 columns</p>\n",
       "</div>"
      ],
      "text/plain": [
       "Empty DataFrame\n",
       "Columns: [order_sd, active_days, lastgap, avg_gap, min_gap, max_gap, total_orders, w1_total_orders, w2_total_orders, w3_total_orders, w4_total_orders, w5_total_orders, w6_total_orders, w7_total_orders, total_couponworth, w1_total_couponworth, w2_total_couponworth, w3_total_couponworth, w4_total_couponworth, w5_total_couponworth, w6_total_couponworth, w7_total_couponworth, label, first_order, last_order, accountLength, overall_time_mean, update2create_time_mean, send2update_time_mean, overall_time_min, update2create_time_min, send2update_time_min, overall_time_max, update2create_time_max, send2update_time_max, intime_rate, last_coupon_fee, last_send_type, order_nums, city_id, sex, age, login_platform_b, app_version_b]\n",
       "Index: []\n",
       "\n",
       "[0 rows x 44 columns]"
      ]
     },
     "execution_count": 33,
     "metadata": {},
     "output_type": "execute_result"
    }
   ],
   "source": [
    "data[pd.isnull(data['overall_time_min'])]"
   ]
  },
  {
   "cell_type": "code",
   "execution_count": 35,
   "metadata": {},
   "outputs": [
    {
     "data": {
      "text/html": [
       "<div>\n",
       "<style scoped>\n",
       "    .dataframe tbody tr th:only-of-type {\n",
       "        vertical-align: middle;\n",
       "    }\n",
       "\n",
       "    .dataframe tbody tr th {\n",
       "        vertical-align: top;\n",
       "    }\n",
       "\n",
       "    .dataframe thead th {\n",
       "        text-align: right;\n",
       "    }\n",
       "</style>\n",
       "<table border=\"1\" class=\"dataframe\">\n",
       "  <thead>\n",
       "    <tr style=\"text-align: right;\">\n",
       "      <th></th>\n",
       "      <th>order_sd</th>\n",
       "      <th>active_days</th>\n",
       "      <th>lastgap</th>\n",
       "      <th>avg_gap</th>\n",
       "      <th>min_gap</th>\n",
       "      <th>max_gap</th>\n",
       "      <th>total_orders</th>\n",
       "      <th>w1_total_orders</th>\n",
       "      <th>w2_total_orders</th>\n",
       "      <th>w3_total_orders</th>\n",
       "      <th>...</th>\n",
       "      <th>send2update_time_max</th>\n",
       "      <th>intime_rate</th>\n",
       "      <th>last_coupon_fee</th>\n",
       "      <th>last_send_type</th>\n",
       "      <th>order_nums</th>\n",
       "      <th>city_id</th>\n",
       "      <th>sex</th>\n",
       "      <th>age</th>\n",
       "      <th>login_platform_b</th>\n",
       "      <th>app_version_b</th>\n",
       "    </tr>\n",
       "  </thead>\n",
       "  <tbody>\n",
       "  </tbody>\n",
       "</table>\n",
       "<p>0 rows × 44 columns</p>\n",
       "</div>"
      ],
      "text/plain": [
       "Empty DataFrame\n",
       "Columns: [order_sd, active_days, lastgap, avg_gap, min_gap, max_gap, total_orders, w1_total_orders, w2_total_orders, w3_total_orders, w4_total_orders, w5_total_orders, w6_total_orders, w7_total_orders, total_couponworth, w1_total_couponworth, w2_total_couponworth, w3_total_couponworth, w4_total_couponworth, w5_total_couponworth, w6_total_couponworth, w7_total_couponworth, label, first_order, last_order, accountLength, overall_time_mean, update2create_time_mean, send2update_time_mean, overall_time_min, update2create_time_min, send2update_time_min, overall_time_max, update2create_time_max, send2update_time_max, intime_rate, last_coupon_fee, last_send_type, order_nums, city_id, sex, age, login_platform_b, app_version_b]\n",
       "Index: []\n",
       "\n",
       "[0 rows x 44 columns]"
      ]
     },
     "execution_count": 35,
     "metadata": {},
     "output_type": "execute_result"
    }
   ],
   "source": [
    "data[pd.isnull(data['overall_time_max'])]"
   ]
  },
  {
   "cell_type": "code",
   "execution_count": 34,
   "metadata": {},
   "outputs": [],
   "source": [
    "for f in time_features:\n",
    "    data[f]=data[f].fillna(500000)"
   ]
  },
  {
   "cell_type": "code",
   "execution_count": 31,
   "metadata": {},
   "outputs": [],
   "source": [
    "# 9.intime_rate fillna 赋0\n",
    "data['intime_rate']=data['intime_rate'].fillna(0)"
   ]
  },
  {
   "cell_type": "code",
   "execution_count": 32,
   "metadata": {},
   "outputs": [],
   "source": [
    "# 整合，看新data的样子什么的！"
   ]
  },
  {
   "cell_type": "code",
   "execution_count": 33,
   "metadata": {},
   "outputs": [
    {
     "ename": "TypeError",
     "evalue": "Empty 'DataFrame': no numeric data to plot",
     "output_type": "error",
     "traceback": [
      "\u001b[0;31m---------------------------------------------------------------------------\u001b[0m",
      "\u001b[0;31mTypeError\u001b[0m                                 Traceback (most recent call last)",
      "\u001b[0;32m<ipython-input-33-48d2fc2737ee>\u001b[0m in \u001b[0;36m<module>\u001b[0;34m()\u001b[0m\n\u001b[1;32m      5\u001b[0m \u001b[0mnan_value\u001b[0m \u001b[0;34m=\u001b[0m \u001b[0mnan_value\u001b[0m\u001b[0;34m[\u001b[0m\u001b[0mnan_value\u001b[0m \u001b[0;34m>\u001b[0m \u001b[0;36m0\u001b[0m\u001b[0;34m]\u001b[0m\u001b[0;34m\u001b[0m\u001b[0m\n\u001b[1;32m      6\u001b[0m \u001b[0mnan_value\u001b[0m\u001b[0;34m.\u001b[0m\u001b[0msort_values\u001b[0m\u001b[0;34m(\u001b[0m\u001b[0minplace\u001b[0m\u001b[0;34m=\u001b[0m\u001b[0;32mTrue\u001b[0m\u001b[0;34m,\u001b[0m\u001b[0mascending\u001b[0m\u001b[0;34m=\u001b[0m\u001b[0;32mFalse\u001b[0m\u001b[0;34m)\u001b[0m\u001b[0;34m\u001b[0m\u001b[0m\n\u001b[0;32m----> 7\u001b[0;31m \u001b[0mnan_value\u001b[0m\u001b[0;34m.\u001b[0m\u001b[0mplot\u001b[0m\u001b[0;34m.\u001b[0m\u001b[0mbar\u001b[0m\u001b[0;34m(\u001b[0m\u001b[0;34m)\u001b[0m\u001b[0;34m\u001b[0m\u001b[0m\n\u001b[0m",
      "\u001b[0;32m/anaconda3/lib/python3.6/site-packages/pandas/plotting/_core.py\u001b[0m in \u001b[0;36mbar\u001b[0;34m(self, **kwds)\u001b[0m\n\u001b[1;32m   2781\u001b[0m         \u001b[0maxes\u001b[0m \u001b[0;34m:\u001b[0m \u001b[0;34m:\u001b[0m\u001b[0;32mclass\u001b[0m\u001b[0;34m:\u001b[0m\u001b[0;31m`\u001b[0m\u001b[0mmatplotlib\u001b[0m\u001b[0;34m.\u001b[0m\u001b[0maxes\u001b[0m\u001b[0;34m.\u001b[0m\u001b[0mAxes\u001b[0m\u001b[0;31m`\u001b[0m \u001b[0;32mor\u001b[0m \u001b[0mnumpy\u001b[0m\u001b[0;34m.\u001b[0m\u001b[0mndarray\u001b[0m \u001b[0mof\u001b[0m \u001b[0mthem\u001b[0m\u001b[0;34m\u001b[0m\u001b[0m\n\u001b[1;32m   2782\u001b[0m         \"\"\"\n\u001b[0;32m-> 2783\u001b[0;31m         \u001b[0;32mreturn\u001b[0m \u001b[0mself\u001b[0m\u001b[0;34m(\u001b[0m\u001b[0mkind\u001b[0m\u001b[0;34m=\u001b[0m\u001b[0;34m'bar'\u001b[0m\u001b[0;34m,\u001b[0m \u001b[0;34m**\u001b[0m\u001b[0mkwds\u001b[0m\u001b[0;34m)\u001b[0m\u001b[0;34m\u001b[0m\u001b[0m\n\u001b[0m\u001b[1;32m   2784\u001b[0m \u001b[0;34m\u001b[0m\u001b[0m\n\u001b[1;32m   2785\u001b[0m     \u001b[0;32mdef\u001b[0m \u001b[0mbarh\u001b[0m\u001b[0;34m(\u001b[0m\u001b[0mself\u001b[0m\u001b[0;34m,\u001b[0m \u001b[0;34m**\u001b[0m\u001b[0mkwds\u001b[0m\u001b[0;34m)\u001b[0m\u001b[0;34m:\u001b[0m\u001b[0;34m\u001b[0m\u001b[0m\n",
      "\u001b[0;32m/anaconda3/lib/python3.6/site-packages/pandas/plotting/_core.py\u001b[0m in \u001b[0;36m__call__\u001b[0;34m(self, kind, ax, figsize, use_index, title, grid, legend, style, logx, logy, loglog, xticks, yticks, xlim, ylim, rot, fontsize, colormap, table, yerr, xerr, label, secondary_y, **kwds)\u001b[0m\n\u001b[1;32m   2739\u001b[0m                            \u001b[0mcolormap\u001b[0m\u001b[0;34m=\u001b[0m\u001b[0mcolormap\u001b[0m\u001b[0;34m,\u001b[0m \u001b[0mtable\u001b[0m\u001b[0;34m=\u001b[0m\u001b[0mtable\u001b[0m\u001b[0;34m,\u001b[0m \u001b[0myerr\u001b[0m\u001b[0;34m=\u001b[0m\u001b[0myerr\u001b[0m\u001b[0;34m,\u001b[0m\u001b[0;34m\u001b[0m\u001b[0m\n\u001b[1;32m   2740\u001b[0m                            \u001b[0mxerr\u001b[0m\u001b[0;34m=\u001b[0m\u001b[0mxerr\u001b[0m\u001b[0;34m,\u001b[0m \u001b[0mlabel\u001b[0m\u001b[0;34m=\u001b[0m\u001b[0mlabel\u001b[0m\u001b[0;34m,\u001b[0m \u001b[0msecondary_y\u001b[0m\u001b[0;34m=\u001b[0m\u001b[0msecondary_y\u001b[0m\u001b[0;34m,\u001b[0m\u001b[0;34m\u001b[0m\u001b[0m\n\u001b[0;32m-> 2741\u001b[0;31m                            **kwds)\n\u001b[0m\u001b[1;32m   2742\u001b[0m     \u001b[0m__call__\u001b[0m\u001b[0;34m.\u001b[0m\u001b[0m__doc__\u001b[0m \u001b[0;34m=\u001b[0m \u001b[0mplot_series\u001b[0m\u001b[0;34m.\u001b[0m\u001b[0m__doc__\u001b[0m\u001b[0;34m\u001b[0m\u001b[0m\n\u001b[1;32m   2743\u001b[0m \u001b[0;34m\u001b[0m\u001b[0m\n",
      "\u001b[0;32m/anaconda3/lib/python3.6/site-packages/pandas/plotting/_core.py\u001b[0m in \u001b[0;36mplot_series\u001b[0;34m(data, kind, ax, figsize, use_index, title, grid, legend, style, logx, logy, loglog, xticks, yticks, xlim, ylim, rot, fontsize, colormap, table, yerr, xerr, label, secondary_y, **kwds)\u001b[0m\n\u001b[1;32m   2000\u001b[0m                  \u001b[0myerr\u001b[0m\u001b[0;34m=\u001b[0m\u001b[0myerr\u001b[0m\u001b[0;34m,\u001b[0m \u001b[0mxerr\u001b[0m\u001b[0;34m=\u001b[0m\u001b[0mxerr\u001b[0m\u001b[0;34m,\u001b[0m\u001b[0;34m\u001b[0m\u001b[0m\n\u001b[1;32m   2001\u001b[0m                  \u001b[0mlabel\u001b[0m\u001b[0;34m=\u001b[0m\u001b[0mlabel\u001b[0m\u001b[0;34m,\u001b[0m \u001b[0msecondary_y\u001b[0m\u001b[0;34m=\u001b[0m\u001b[0msecondary_y\u001b[0m\u001b[0;34m,\u001b[0m\u001b[0;34m\u001b[0m\u001b[0m\n\u001b[0;32m-> 2002\u001b[0;31m                  **kwds)\n\u001b[0m\u001b[1;32m   2003\u001b[0m \u001b[0;34m\u001b[0m\u001b[0m\n\u001b[1;32m   2004\u001b[0m \u001b[0;34m\u001b[0m\u001b[0m\n",
      "\u001b[0;32m/anaconda3/lib/python3.6/site-packages/pandas/plotting/_core.py\u001b[0m in \u001b[0;36m_plot\u001b[0;34m(data, x, y, subplots, ax, kind, **kwds)\u001b[0m\n\u001b[1;32m   1802\u001b[0m         \u001b[0mplot_obj\u001b[0m \u001b[0;34m=\u001b[0m \u001b[0mklass\u001b[0m\u001b[0;34m(\u001b[0m\u001b[0mdata\u001b[0m\u001b[0;34m,\u001b[0m \u001b[0msubplots\u001b[0m\u001b[0;34m=\u001b[0m\u001b[0msubplots\u001b[0m\u001b[0;34m,\u001b[0m \u001b[0max\u001b[0m\u001b[0;34m=\u001b[0m\u001b[0max\u001b[0m\u001b[0;34m,\u001b[0m \u001b[0mkind\u001b[0m\u001b[0;34m=\u001b[0m\u001b[0mkind\u001b[0m\u001b[0;34m,\u001b[0m \u001b[0;34m**\u001b[0m\u001b[0mkwds\u001b[0m\u001b[0;34m)\u001b[0m\u001b[0;34m\u001b[0m\u001b[0m\n\u001b[1;32m   1803\u001b[0m \u001b[0;34m\u001b[0m\u001b[0m\n\u001b[0;32m-> 1804\u001b[0;31m     \u001b[0mplot_obj\u001b[0m\u001b[0;34m.\u001b[0m\u001b[0mgenerate\u001b[0m\u001b[0;34m(\u001b[0m\u001b[0;34m)\u001b[0m\u001b[0;34m\u001b[0m\u001b[0m\n\u001b[0m\u001b[1;32m   1805\u001b[0m     \u001b[0mplot_obj\u001b[0m\u001b[0;34m.\u001b[0m\u001b[0mdraw\u001b[0m\u001b[0;34m(\u001b[0m\u001b[0;34m)\u001b[0m\u001b[0;34m\u001b[0m\u001b[0m\n\u001b[1;32m   1806\u001b[0m     \u001b[0;32mreturn\u001b[0m \u001b[0mplot_obj\u001b[0m\u001b[0;34m.\u001b[0m\u001b[0mresult\u001b[0m\u001b[0;34m\u001b[0m\u001b[0m\n",
      "\u001b[0;32m/anaconda3/lib/python3.6/site-packages/pandas/plotting/_core.py\u001b[0m in \u001b[0;36mgenerate\u001b[0;34m(self)\u001b[0m\n\u001b[1;32m    256\u001b[0m     \u001b[0;32mdef\u001b[0m \u001b[0mgenerate\u001b[0m\u001b[0;34m(\u001b[0m\u001b[0mself\u001b[0m\u001b[0;34m)\u001b[0m\u001b[0;34m:\u001b[0m\u001b[0;34m\u001b[0m\u001b[0m\n\u001b[1;32m    257\u001b[0m         \u001b[0mself\u001b[0m\u001b[0;34m.\u001b[0m\u001b[0m_args_adjust\u001b[0m\u001b[0;34m(\u001b[0m\u001b[0;34m)\u001b[0m\u001b[0;34m\u001b[0m\u001b[0m\n\u001b[0;32m--> 258\u001b[0;31m         \u001b[0mself\u001b[0m\u001b[0;34m.\u001b[0m\u001b[0m_compute_plot_data\u001b[0m\u001b[0;34m(\u001b[0m\u001b[0;34m)\u001b[0m\u001b[0;34m\u001b[0m\u001b[0m\n\u001b[0m\u001b[1;32m    259\u001b[0m         \u001b[0mself\u001b[0m\u001b[0;34m.\u001b[0m\u001b[0m_setup_subplots\u001b[0m\u001b[0;34m(\u001b[0m\u001b[0;34m)\u001b[0m\u001b[0;34m\u001b[0m\u001b[0m\n\u001b[1;32m    260\u001b[0m         \u001b[0mself\u001b[0m\u001b[0;34m.\u001b[0m\u001b[0m_make_plot\u001b[0m\u001b[0;34m(\u001b[0m\u001b[0;34m)\u001b[0m\u001b[0;34m\u001b[0m\u001b[0m\n",
      "\u001b[0;32m/anaconda3/lib/python3.6/site-packages/pandas/plotting/_core.py\u001b[0m in \u001b[0;36m_compute_plot_data\u001b[0;34m(self)\u001b[0m\n\u001b[1;32m    371\u001b[0m         \u001b[0;32mif\u001b[0m \u001b[0mis_empty\u001b[0m\u001b[0;34m:\u001b[0m\u001b[0;34m\u001b[0m\u001b[0m\n\u001b[1;32m    372\u001b[0m             raise TypeError('Empty {0!r}: no numeric data to '\n\u001b[0;32m--> 373\u001b[0;31m                             'plot'.format(numeric_data.__class__.__name__))\n\u001b[0m\u001b[1;32m    374\u001b[0m \u001b[0;34m\u001b[0m\u001b[0m\n\u001b[1;32m    375\u001b[0m         \u001b[0mself\u001b[0m\u001b[0;34m.\u001b[0m\u001b[0mdata\u001b[0m \u001b[0;34m=\u001b[0m \u001b[0mnumeric_data\u001b[0m\u001b[0;34m\u001b[0m\u001b[0m\n",
      "\u001b[0;31mTypeError\u001b[0m: Empty 'DataFrame': no numeric data to plot"
     ]
    }
   ],
   "source": [
    "# this piece of code from one kaggle\n",
    "# 看看有没有NAN什么的,Type Error说明没有NAN了！\n",
    "import matplotlib.pyplot as plt\n",
    "nan_value = data.isnull().sum()\n",
    "nan_value = nan_value[nan_value > 0]\n",
    "nan_value.sort_values(inplace=True,ascending=False)\n",
    "nan_value.plot.bar()"
   ]
  },
  {
   "cell_type": "code",
   "execution_count": 34,
   "metadata": {},
   "outputs": [],
   "source": [
    "data.to_csv('data_cleaned.csv',index=False)"
   ]
  },
  {
   "cell_type": "code",
   "execution_count": 36,
   "metadata": {},
   "outputs": [],
   "source": [
    "data=pd.read_csv('data_cleaned.csv')"
   ]
  },
  {
   "cell_type": "code",
   "execution_count": 37,
   "metadata": {},
   "outputs": [
    {
     "data": {
      "text/plain": [
       "Index(['order_sd', 'active_days', 'lastgap', 'avg_gap', 'min_gap', 'max_gap',\n",
       "       'total_orders', 'w1_total_orders', 'w2_total_orders', 'w3_total_orders',\n",
       "       'w4_total_orders', 'w5_total_orders', 'w6_total_orders',\n",
       "       'w7_total_orders', 'total_couponworth', 'w1_total_couponworth',\n",
       "       'w2_total_couponworth', 'w3_total_couponworth', 'w4_total_couponworth',\n",
       "       'w5_total_couponworth', 'w6_total_couponworth', 'w7_total_couponworth',\n",
       "       'label', 'first_order', 'last_order', 'accountLength',\n",
       "       'overall_time_mean', 'update2create_time_mean', 'send2update_time_mean',\n",
       "       'overall_time_min', 'update2create_time_min', 'send2update_time_min',\n",
       "       'overall_time_max', 'update2create_time_max', 'send2update_time_max',\n",
       "       'intime_rate', 'last_coupon_fee', 'last_send_type', 'order_nums',\n",
       "       'city_id', 'sex', 'age', 'login_platform_b', 'app_version_b'],\n",
       "      dtype='object')"
      ]
     },
     "execution_count": 37,
     "metadata": {},
     "output_type": "execute_result"
    }
   ],
   "source": [
    "data.columns"
   ]
  },
  {
   "cell_type": "code",
   "execution_count": 38,
   "metadata": {},
   "outputs": [
    {
     "name": "stdout",
     "output_type": "stream",
     "text": [
      "<class 'pandas.core.frame.DataFrame'>\n",
      "RangeIndex: 191855 entries, 0 to 191854\n",
      "Data columns (total 44 columns):\n",
      "order_sd                   191855 non-null float64\n",
      "active_days                191855 non-null int64\n",
      "lastgap                    191855 non-null float64\n",
      "avg_gap                    191855 non-null float64\n",
      "min_gap                    191855 non-null float64\n",
      "max_gap                    191855 non-null float64\n",
      "total_orders               191855 non-null float64\n",
      "w1_total_orders            191855 non-null float64\n",
      "w2_total_orders            191855 non-null float64\n",
      "w3_total_orders            191855 non-null float64\n",
      "w4_total_orders            191855 non-null float64\n",
      "w5_total_orders            191855 non-null float64\n",
      "w6_total_orders            191855 non-null float64\n",
      "w7_total_orders            191855 non-null float64\n",
      "total_couponworth          191855 non-null float64\n",
      "w1_total_couponworth       191855 non-null float64\n",
      "w2_total_couponworth       191855 non-null float64\n",
      "w3_total_couponworth       191855 non-null float64\n",
      "w4_total_couponworth       191855 non-null float64\n",
      "w5_total_couponworth       191855 non-null float64\n",
      "w6_total_couponworth       191855 non-null float64\n",
      "w7_total_couponworth       191855 non-null float64\n",
      "label                      191855 non-null float64\n",
      "first_order                191855 non-null int64\n",
      "last_order                 191855 non-null int64\n",
      "accountLength              191855 non-null int64\n",
      "overall_time_mean          191855 non-null float64\n",
      "update2create_time_mean    191855 non-null float64\n",
      "send2update_time_mean      191855 non-null float64\n",
      "overall_time_min           191855 non-null float64\n",
      "update2create_time_min     191855 non-null float64\n",
      "send2update_time_min       191855 non-null float64\n",
      "overall_time_max           191855 non-null float64\n",
      "update2create_time_max     191855 non-null float64\n",
      "send2update_time_max       191855 non-null float64\n",
      "intime_rate                191855 non-null float64\n",
      "last_coupon_fee            191855 non-null float64\n",
      "last_send_type             191855 non-null int64\n",
      "order_nums                 191855 non-null float64\n",
      "city_id                    191855 non-null int64\n",
      "sex                        191855 non-null int64\n",
      "age                        191855 non-null float64\n",
      "login_platform_b           191855 non-null int64\n",
      "app_version_b              191855 non-null int64\n",
      "dtypes: float64(35), int64(9)\n",
      "memory usage: 64.4 MB\n"
     ]
    }
   ],
   "source": [
    "data.info()"
   ]
  },
  {
   "cell_type": "code",
   "execution_count": 39,
   "metadata": {},
   "outputs": [
    {
     "data": {
      "text/plain": [
       "191855"
      ]
     },
     "execution_count": 39,
     "metadata": {},
     "output_type": "execute_result"
    }
   ],
   "source": [
    "len(data)"
   ]
  },
  {
   "cell_type": "code",
   "execution_count": null,
   "metadata": {},
   "outputs": [],
   "source": []
  }
 ],
 "metadata": {
  "kernelspec": {
   "display_name": "Python 3",
   "language": "python",
   "name": "python3"
  },
  "language_info": {
   "codemirror_mode": {
    "name": "ipython",
    "version": 3
   },
   "file_extension": ".py",
   "mimetype": "text/x-python",
   "name": "python",
   "nbconvert_exporter": "python",
   "pygments_lexer": "ipython3",
   "version": "3.6.6"
  }
 },
 "nbformat": 4,
 "nbformat_minor": 2
}
