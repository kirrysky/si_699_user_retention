{
 "cells": [
  {
   "cell_type": "markdown",
   "metadata": {},
   "source": [
    "# Second Version Model \n",
    "\n",
    "- Author: Wen Xin\n",
    "- Description: This is the second version of ridge model."
   ]
  },
  {
   "cell_type": "code",
   "execution_count": 46,
   "metadata": {},
   "outputs": [],
   "source": [
    "import pandas as pd\n",
    "import numpy as np\n",
    "import warnings\n",
    "warnings.filterwarnings(\"ignore\")"
   ]
  },
  {
   "cell_type": "code",
   "execution_count": 47,
   "metadata": {},
   "outputs": [],
   "source": [
    "data=pd.read_csv('data_final.csv')"
   ]
  },
  {
   "cell_type": "code",
   "execution_count": 48,
   "metadata": {},
   "outputs": [
    {
     "data": {
      "text/plain": [
       "{'log_last_order': -0.5536361065888085,\n",
       " 'last_order': -0.4844014127601791,\n",
       " 'lastgap': -0.4251957405575823,\n",
       " 'log_lastgap': -0.4158685435361861,\n",
       " 'lastgap_na': -0.41452963920892577,\n",
       " 'min_gap': -0.37533209394270584,\n",
       " 'avg_gap': -0.37327555354711695,\n",
       " 'log_min_gap': -0.3619797241583687,\n",
       " 'log_avg_gap': -0.360780652496656,\n",
       " 'max_gap_na': -0.3592693081294099,\n",
       " 'avg_gap_na': -0.3592693081294099,\n",
       " 'min_gap_na': -0.3592693081294099,\n",
       " 'log_max_gap': -0.3585205840904891,\n",
       " 'max_gap': -0.352800661570623,\n",
       " 'pca_4': -0.26476729833274054,\n",
       " 'log_overall_time_min': -0.1932759026182171,\n",
       " 'overall_time_min': -0.1599887013343128,\n",
       " 'update2create_time_min': -0.150285579358441,\n",
       " 'update2create_time_mean': -0.14261494102564126,\n",
       " 'send2update_time_min': -0.13633923013060498,\n",
       " 'pca_1': -0.13561229333435332,\n",
       " 'log_update2create_time_min': -0.1339929903264002,\n",
       " 'send2update_time_mean': -0.13399201386669532,\n",
       " 'log_send2update_time_min': -0.1339903942582723,\n",
       " 'update2create_time_mean_na': -0.13399037709380412,\n",
       " 'update2create_time_max_na': -0.13399037709380412,\n",
       " 'send2update_time_max_na': -0.13399037709380412,\n",
       " 'update2create_time_min_na': -0.13399037709380412,\n",
       " 'send2update_time_min_na': -0.13399037709380412,\n",
       " 'send2update_time_mean_na': -0.13399037709380412,\n",
       " 'log_send2update_time_mean': -0.13399037661912444,\n",
       " 'log_send2update_time_max': -0.13399034799205675,\n",
       " 'log_update2create_time_mean': -0.13399033529529533,\n",
       " 'log_update2create_time_max': -0.13398901873604238,\n",
       " 'send2update_time_max': -0.13178127282272586,\n",
       " 'update2create_time_max': -0.1151184768400833,\n",
       " 'last_coupon_fee': -0.09176662510140828,\n",
       " 'age': -0.08827631565097394,\n",
       " 'overall_time_mean': -0.08172624910156304,\n",
       " 'pca_2': -0.052199619680197706,\n",
       " 'log_last_coupon_fee': -0.036180530635755215,\n",
       " 'log_overall_time_mean': -0.02285572117746364,\n",
       " 'log_first_order': -0.021709593131077384,\n",
       " 'intime_rate': 0.018769290626871146,\n",
       " 'first_order': 0.03203327859012134,\n",
       " 'city_id': 0.0340661074518995,\n",
       " 'log_intime_rate': 0.035242835701659835,\n",
       " 'w1_avg_couponworth': 0.03791155424588239,\n",
       " 'pca_5': 0.0380923658650619,\n",
       " 'w2_avg_couponworth': 0.04624470679287108,\n",
       " 'pca_3': 0.04947895806037128,\n",
       " 'login_platform_b': 0.05672688331051545,\n",
       " 'log_accountLength': 0.06589245350582469,\n",
       " 'age_na': 0.06739957562571323,\n",
       " 'last_send_type': 0.0733923108588912,\n",
       " 'log_w1_avg_couponworth': 0.08383497858765823,\n",
       " 'log_w2_avg_couponworth': 0.0946572971387005,\n",
       " 'w3_avg_couponworth': 0.0967701936770236,\n",
       " 'accountLength': 0.10340674004336883,\n",
       " 'overall_time_max': 0.10419377232852595,\n",
       " 'w1_max_couponworth': 0.11088665844659429,\n",
       " 'sex': 0.11589509167350794,\n",
       " 'log_w1_max_couponworth': 0.12081301984669285,\n",
       " 'w2_max_couponworth': 0.1223322001521848,\n",
       " 'log_overall_time_max': 0.12304777963133345,\n",
       " 'dummy_log_update2create_time_max': 0.13399037709380412,\n",
       " 'dummy_log_update2create_time_min': 0.13399037709380412,\n",
       " 'dummy_log_update2create_time_mean': 0.13399037709380412,\n",
       " 'dummy_log_send2update_time_max': 0.13399037709380412,\n",
       " 'dummy_log_send2update_time_min': 0.13399037709380412,\n",
       " 'dummy_log_send2update_time_mean': 0.13399037709380412,\n",
       " 'log_w2_max_couponworth': 0.13533206786198354,\n",
       " 'log_w3_avg_couponworth': 0.14366372296511756,\n",
       " 'w4_avg_couponworth': 0.144565051130941,\n",
       " 'w3_max_couponworth': 0.16672661065941322,\n",
       " 'log_w3_max_couponworth': 0.17806042169887704,\n",
       " 'log_w1_total_orders': 0.19002180412571124,\n",
       " '06/09/2016count': 0.19613750728364843,\n",
       " '06/10/2016count': 0.20128513917949142,\n",
       " 'w1_total_orders': 0.20380448263076878,\n",
       " 'w5_avg_couponworth': 0.20737448944365736,\n",
       " 'log_w4_avg_couponworth': 0.20794541879091322,\n",
       " 'log_w2_total_orders': 0.21314631553377994,\n",
       " '06/05/2016count': 0.21918981037954793,\n",
       " '06/04/2016count': 0.2193437778839862,\n",
       " 'w2_total_orders': 0.22553273130627968,\n",
       " 'w4_max_couponworth': 0.22597504749786806,\n",
       " '06/11/2016count': 0.23007268467775074,\n",
       " 'log_w4_max_couponworth': 0.24880823100289556,\n",
       " 'log_w3_total_orders': 0.2492991221820393,\n",
       " '06/01/2016count': 0.2495950612940517,\n",
       " '05/30/2016count': 0.2509263370850691,\n",
       " 'w3_total_orders': 0.2532933450117562,\n",
       " 'w6_avg_couponworth': 0.2532969188970038,\n",
       " 'app_version_b': 0.26218799848431196,\n",
       " '06/03/2016count': 0.26260394083239935,\n",
       " '05/31/2016count': 0.2656813136353311,\n",
       " 'w5_max_couponworth': 0.2659765792416001,\n",
       " '06/08/2016count': 0.26645493518112934,\n",
       " 'log_w5_avg_couponworth': 0.26825218251086297,\n",
       " '06/02/2016count': 0.26832721610485244,\n",
       " '06/06/2016count': 0.28911085779023854,\n",
       " '06/07/2016count': 0.2894379652629744,\n",
       " 'log_w5_max_couponworth': 0.30321879122993567,\n",
       " '06/12/2016count': 0.3076504754748247,\n",
       " 'w4_total_orders': 0.3176001805693925,\n",
       " 'order_nums': 0.3213256675900774,\n",
       " 'log_w6_avg_couponworth': 0.3253628305662323,\n",
       " 'log_w4_total_orders': 0.3267497399203577,\n",
       " 'w6_max_couponworth': 0.33078224145276025,\n",
       " 'dummy_log_max_gap': 0.35860452045965285,\n",
       " 'dummy_log_min_gap': 0.35905858264730034,\n",
       " 'dummy_log_avg_gap': 0.35905858264730034,\n",
       " 'w5_total_orders': 0.35976415358021324,\n",
       " 'log_w6_max_couponworth': 0.3645963865524793,\n",
       " 'log_w5_total_orders': 0.38391791010314424,\n",
       " 'w7_avg_couponworth': 0.3874900652631192,\n",
       " 'dummy_log_lastgap': 0.4144192087887387,\n",
       " 'w7_max_couponworth': 0.4213802604734643,\n",
       " 'w6_total_orders': 0.4264515267243176,\n",
       " 'log_order_nums': 0.43089880102910233,\n",
       " 'log_w7_avg_couponworth': 0.4385390557793635,\n",
       " 'order_sd': 0.45472263332278995,\n",
       " 'log_w7_max_couponworth': 0.4613247195486057,\n",
       " 'log_w6_total_orders': 0.4628023119653314,\n",
       " 'active_days': 0.47221944615696804,\n",
       " 'log_order_sd': 0.47261741482677694,\n",
       " 'w7_total_orders': 0.47290848936647784,\n",
       " 'log_total_orders': 0.5110168100828612,\n",
       " 'log_active_days': 0.5179160995259368,\n",
       " 'log_w7_total_orders': 0.5412721505713015,\n",
       " 'label': 1.0,\n",
       " 'label.1': 1.0,\n",
       " 'overall_time_mean_na': nan,\n",
       " 'overall_time_min_na': nan,\n",
       " 'overall_time_max_na': nan}"
      ]
     },
     "execution_count": 48,
     "metadata": {},
     "output_type": "execute_result"
    }
   ],
   "source": [
    "dict(data.corr()['label'].sort_values())"
   ]
  },
  {
   "cell_type": "code",
   "execution_count": 50,
   "metadata": {},
   "outputs": [
    {
     "data": {
      "text/plain": [
       "<matplotlib.axes._subplots.AxesSubplot at 0x11d6692b0>"
      ]
     },
     "execution_count": 50,
     "metadata": {},
     "output_type": "execute_result"
    },
    {
     "data": {
      "image/png": "[encoded data removed]",
      "text/plain": [
       "<Figure size 432x288 with 1 Axes>"
      ]
     },
     "metadata": {
      "needs_background": "light"
     },
     "output_type": "display_data"
    }
   ],
   "source": [
    "# this piece of code from one kaggle\n",
    "# 看看有没有NAN什么的,Type Error说明没有NAN了！\n",
    "import matplotlib.pyplot as plt\n",
    "nan_value = data.isnull().sum()\n",
    "nan_value = nan_value[nan_value > 0]\n",
    "nan_value.sort_values(inplace=True,ascending=False)\n",
    "nan_value.plot.bar()"
   ]
  },
  {
   "cell_type": "code",
   "execution_count": 52,
   "metadata": {},
   "outputs": [],
   "source": [
    "X=X.fillna(0)"
   ]
  },
  {
   "cell_type": "code",
   "execution_count": 53,
   "metadata": {},
   "outputs": [],
   "source": [
    "X=data\n",
    "y=data['label']\n",
    "#先删了吧= 。 =晚点再处理\n",
    "X=X.drop(['label','label.1','log_overall_time_min'],axis=1)"
   ]
  },
  {
   "cell_type": "code",
   "execution_count": 55,
   "metadata": {},
   "outputs": [],
   "source": [
    "from sklearn.model_selection import train_test_split\n",
    "X_train, X_test, y_train, y_test = train_test_split(X, y, test_size=0.2, random_state=42)"
   ]
  },
  {
   "cell_type": "code",
   "execution_count": 56,
   "metadata": {},
   "outputs": [],
   "source": [
    "from sklearn.linear_model import RidgeClassifier"
   ]
  },
  {
   "cell_type": "code",
   "execution_count": 57,
   "metadata": {},
   "outputs": [],
   "source": [
    "ridge=RidgeClassifier()\n",
    "ridge.fit(X_train,y_train)\n",
    "ridge_predict=ridge.predict(X_test)"
   ]
  },
  {
   "cell_type": "code",
   "execution_count": 58,
   "metadata": {},
   "outputs": [],
   "source": [
    "from sklearn import metrics"
   ]
  },
  {
   "cell_type": "code",
   "execution_count": 60,
   "metadata": {},
   "outputs": [
    {
     "name": "stdout",
     "output_type": "stream",
     "text": [
      "             precision    recall  f1-score   support\n",
      "\n",
      "        0.0       0.84      0.93      0.88    108250\n",
      "        1.0       0.77      0.58      0.66     45234\n",
      "\n",
      "avg / total       0.82      0.82      0.82    153484\n",
      "\n"
     ]
    }
   ],
   "source": [
    "print(metrics.classification_report(y_train, ridge_train_predict))"
   ]
  },
  {
   "cell_type": "code",
   "execution_count": 59,
   "metadata": {},
   "outputs": [
    {
     "name": "stdout",
     "output_type": "stream",
     "text": [
      "             precision    recall  f1-score   support\n",
      "\n",
      "        0.0       0.84      0.92      0.88     27008\n",
      "        1.0       0.76      0.59      0.66     11363\n",
      "\n",
      "avg / total       0.82      0.82      0.82     38371\n",
      "\n"
     ]
    }
   ],
   "source": [
    "print(metrics.classification_report(y_test, ridge_predict))"
   ]
  },
  {
   "cell_type": "code",
   "execution_count": 61,
   "metadata": {},
   "outputs": [],
   "source": [
    "from sklearn.metrics import roc_curve\n",
    "fpr, tpr, thresholds2 = roc_curve(y_test,ridge_predict)"
   ]
  },
  {
   "cell_type": "code",
   "execution_count": 62,
   "metadata": {},
   "outputs": [
    {
     "data": {
      "text/plain": [
       "Text(0.5,1,'ROC curve')"
      ]
     },
     "execution_count": 62,
     "metadata": {},
     "output_type": "execute_result"
    },
    {
     "data": {
      "image/png": "[encoded data removed]",
      "text/plain": [
       "<Figure size 432x288 with 1 Axes>"
      ]
     },
     "metadata": {
      "needs_background": "light"
     },
     "output_type": "display_data"
    }
   ],
   "source": [
    "import matplotlib.pyplot as plt\n",
    "plt.plot(fpr, tpr, color='darkorange',label='ROC curve')\n",
    "plt.plot([0, 1], [0, 1], color='navy',linestyle='--')\n",
    "plt.xlim([-0.01, 1.0])\n",
    "plt.ylim([-0.01, 1.05])\n",
    "plt.xlabel('False Positive Rate')\n",
    "plt.ylabel('True Positive Rate')\n",
    "plt.title('ROC curve')"
   ]
  },
  {
   "cell_type": "code",
   "execution_count": 63,
   "metadata": {},
   "outputs": [],
   "source": [
    "# baseline1"
   ]
  },
  {
   "cell_type": "code",
   "execution_count": 64,
   "metadata": {},
   "outputs": [],
   "source": [
    "ridge_train_predict=ridge.predict(X_train)"
   ]
  },
  {
   "cell_type": "code",
   "execution_count": 65,
   "metadata": {},
   "outputs": [
    {
     "data": {
      "text/plain": [
       "0.7560641710509248"
      ]
     },
     "execution_count": 65,
     "metadata": {},
     "output_type": "execute_result"
    }
   ],
   "source": [
    "from sklearn.metrics import roc_auc_score\n",
    "roc_auc_score(y_test,ridge_predict)"
   ]
  },
  {
   "cell_type": "code",
   "execution_count": 66,
   "metadata": {},
   "outputs": [
    {
     "data": {
      "text/plain": [
       "0.753856534167058"
      ]
     },
     "execution_count": 66,
     "metadata": {},
     "output_type": "execute_result"
    }
   ],
   "source": [
    "roc_auc_score(y_train,ridge_train_predict)"
   ]
  },
  {
   "cell_type": "code",
   "execution_count": 67,
   "metadata": {},
   "outputs": [],
   "source": [
    "from sklearn.preprocessing import StandardScaler"
   ]
  },
  {
   "cell_type": "code",
   "execution_count": 68,
   "metadata": {},
   "outputs": [],
   "source": [
    "scaler = StandardScaler()"
   ]
  },
  {
   "cell_type": "code",
   "execution_count": 69,
   "metadata": {},
   "outputs": [],
   "source": [
    "X_train2=scaler.fit_transform(X_train)\n",
    "X_test2=scaler.transform(X_test)"
   ]
  },
  {
   "cell_type": "code",
   "execution_count": 70,
   "metadata": {},
   "outputs": [],
   "source": [
    "ridge2=RidgeClassifier()\n",
    "ridge2.fit(X_train2,y_train)\n",
    "ridge_predict2=ridge2.predict(X_test2)"
   ]
  },
  {
   "cell_type": "code",
   "execution_count": 71,
   "metadata": {},
   "outputs": [],
   "source": [
    "ridge_train_predict2=ridge2.predict(X_train2)"
   ]
  },
  {
   "cell_type": "code",
   "execution_count": 72,
   "metadata": {},
   "outputs": [],
   "source": [
    "fpr, tpr, thresholds2 = roc_curve(y_test,ridge_predict2)"
   ]
  },
  {
   "cell_type": "code",
   "execution_count": 73,
   "metadata": {},
   "outputs": [
    {
     "data": {
      "text/plain": [
       "Text(0.5,1,'ROC curve')"
      ]
     },
     "execution_count": 73,
     "metadata": {},
     "output_type": "execute_result"
    },
    {
     "data": {
      "image/png": "[encoded data removed]",
      "text/plain": [
       "<Figure size 432x288 with 1 Axes>"
      ]
     },
     "metadata": {
      "needs_background": "light"
     },
     "output_type": "display_data"
    }
   ],
   "source": [
    "import matplotlib.pyplot as plt\n",
    "plt.plot(fpr, tpr, color='darkorange',label='ROC curve')\n",
    "plt.plot([0, 1], [0, 1], color='navy',linestyle='--')\n",
    "plt.xlim([-0.01, 1.0])\n",
    "plt.ylim([-0.01, 1.05])\n",
    "plt.xlabel('False Positive Rate')\n",
    "plt.ylabel('True Positive Rate')\n",
    "plt.title('ROC curve')"
   ]
  },
  {
   "cell_type": "code",
   "execution_count": 74,
   "metadata": {},
   "outputs": [
    {
     "data": {
      "text/plain": [
       "0.7563421386313273"
      ]
     },
     "execution_count": 74,
     "metadata": {},
     "output_type": "execute_result"
    }
   ],
   "source": [
    "# baseline2\n",
    "from sklearn.metrics import roc_auc_score\n",
    "roc_auc_score(y_test,ridge_predict2)"
   ]
  },
  {
   "cell_type": "code",
   "execution_count": 75,
   "metadata": {},
   "outputs": [
    {
     "data": {
      "text/plain": [
       "0.7540518680332122"
      ]
     },
     "execution_count": 75,
     "metadata": {},
     "output_type": "execute_result"
    }
   ],
   "source": [
    "roc_auc_score(y_train, ridge_train_predict2)"
   ]
  },
  {
   "cell_type": "code",
   "execution_count": 76,
   "metadata": {},
   "outputs": [
    {
     "name": "stdout",
     "output_type": "stream",
     "text": [
      "             precision    recall  f1-score   support\n",
      "\n",
      "        0.0       0.84      0.93      0.88    108250\n",
      "        1.0       0.77      0.58      0.66     45234\n",
      "\n",
      "avg / total       0.82      0.82      0.82    153484\n",
      "\n"
     ]
    }
   ],
   "source": [
    "print(metrics.classification_report(y_train, ridge_train_predict2))"
   ]
  },
  {
   "cell_type": "code",
   "execution_count": 77,
   "metadata": {},
   "outputs": [
    {
     "name": "stdout",
     "output_type": "stream",
     "text": [
      "             precision    recall  f1-score   support\n",
      "\n",
      "        0.0       0.84      0.92      0.88     27008\n",
      "        1.0       0.76      0.59      0.67     11363\n",
      "\n",
      "avg / total       0.82      0.82      0.82     38371\n",
      "\n"
     ]
    }
   ],
   "source": [
    "print(metrics.classification_report(y_test, ridge_predict2))"
   ]
  },
  {
   "cell_type": "code",
   "execution_count": 78,
   "metadata": {},
   "outputs": [],
   "source": [
    "from sklearn.linear_model import Ridge"
   ]
  },
  {
   "cell_type": "code",
   "execution_count": 79,
   "metadata": {},
   "outputs": [
    {
     "data": {
      "text/plain": [
       "Ridge(alpha=1.0, copy_X=True, fit_intercept=True, max_iter=None,\n",
       "   normalize=False, random_state=None, solver='auto', tol=0.001)"
      ]
     },
     "execution_count": 79,
     "metadata": {},
     "output_type": "execute_result"
    }
   ],
   "source": [
    "clf = Ridge()\n",
    "clf.fit(X_train, y_train)"
   ]
  },
  {
   "cell_type": "code",
   "execution_count": 80,
   "metadata": {},
   "outputs": [],
   "source": [
    "prediction2=clf.predict(X_train)"
   ]
  },
  {
   "cell_type": "code",
   "execution_count": 81,
   "metadata": {},
   "outputs": [
    {
     "data": {
      "text/plain": [
       "Text(0.5,1,'Residual plot')"
      ]
     },
     "execution_count": 81,
     "metadata": {},
     "output_type": "execute_result"
    },
    {
     "data": {
      "image/png": "[encoded data removed]",
      "text/plain": [
       "<Figure size 432x288 with 1 Axes>"
      ]
     },
     "metadata": {
      "needs_background": "light"
     },
     "output_type": "display_data"
    }
   ],
   "source": [
    "plt.scatter(ridge_train_predict2, prediction2, c='b')\n",
    "plt.title('Residual plot')"
   ]
  },
  {
   "cell_type": "code",
   "execution_count": null,
   "metadata": {},
   "outputs": [],
   "source": []
  }
 ],
 "metadata": {
  "kernelspec": {
   "display_name": "Python 3",
   "language": "python",
   "name": "python3"
  },
  "language_info": {
   "codemirror_mode": {
    "name": "ipython",
    "version": 3
   },
   "file_extension": ".py",
   "mimetype": "text/x-python",
   "name": "python",
   "nbconvert_exporter": "python",
   "pygments_lexer": "ipython3",
   "version": "3.6.6"
  }
 },
 "nbformat": 4,
 "nbformat_minor": 2
}
