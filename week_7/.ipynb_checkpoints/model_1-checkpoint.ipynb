{
 "cells": [
  {
   "cell_type": "markdown",
   "metadata": {},
   "source": [
    "# First Version Model \n",
    "\n",
    "- Author: Wen Xin\n",
    "- Description: This is the first version of model."
   ]
  },
  {
   "cell_type": "code",
   "execution_count": 48,
   "metadata": {},
   "outputs": [],
   "source": [
    "import pandas as pd\n",
    "import numpy as np\n",
    "import warnings\n",
    "warnings.filterwarnings(\"ignore\")"
   ]
  },
  {
   "cell_type": "code",
   "execution_count": 66,
   "metadata": {},
   "outputs": [],
   "source": [
    "data=pd.read_csv('data_final.csv')"
   ]
  },
  {
   "cell_type": "code",
   "execution_count": 50,
   "metadata": {},
   "outputs": [
    {
     "data": {
      "text/plain": [
       "Index(['order_sd', 'active_days', 'lastgap', 'avg_gap', 'min_gap', 'max_gap',\n",
       "       'total_orders', 'w1_total_orders', 'w2_total_orders', 'w3_total_orders',\n",
       "       'w4_total_orders', 'w5_total_orders', 'w6_total_orders',\n",
       "       'w7_total_orders', 'total_couponworth', 'w1_total_couponworth',\n",
       "       'w2_total_couponworth', 'w3_total_couponworth', 'w4_total_couponworth',\n",
       "       'w5_total_couponworth', 'w6_total_couponworth', 'w7_total_couponworth',\n",
       "       'label', 'first_order', 'last_order', 'accountLength',\n",
       "       'overall_time_mean', 'update2create_time_mean', 'send2update_time_mean',\n",
       "       'overall_time_min', 'update2create_time_min', 'send2update_time_min',\n",
       "       'overall_time_max', 'update2create_time_max', 'send2update_time_max',\n",
       "       'intime_rate', 'last_coupon_fee', 'last_send_type', 'order_nums',\n",
       "       'city_id', 'sex', 'age', 'login_platform_b', 'app_version_b', 'age_na',\n",
       "       'lastgap_na', 'avg_gap_na', 'min_gap_na', 'max_gap_na',\n",
       "       'overall_time_mean_na', 'update2create_time_mean_na',\n",
       "       'send2update_time_mean_na', 'overall_time_min_na',\n",
       "       'update2create_time_min_na', 'send2update_time_min_na',\n",
       "       'overall_time_max_na', 'update2create_time_max_na',\n",
       "       'send2update_time_max_na', 'pca_1', 'pca_2', 'pca_3', 'pca_4', 'pca_5',\n",
       "       'label.1'],\n",
       "      dtype='object')"
      ]
     },
     "execution_count": 50,
     "metadata": {},
     "output_type": "execute_result"
    }
   ],
   "source": [
    "data.columns"
   ]
  },
  {
   "cell_type": "code",
   "execution_count": 70,
   "metadata": {},
   "outputs": [
    {
     "name": "stdout",
     "output_type": "stream",
     "text": [
      "log_last_order               -0.553636\n",
      "last_order                   -0.484401\n",
      "lastgap                      -0.425196\n",
      "log_lastgap                  -0.415869\n",
      "lastgap_na                   -0.414530\n",
      "min_gap                      -0.375332\n",
      "avg_gap                      -0.373276\n",
      "log_min_gap                  -0.361980\n",
      "log_avg_gap                  -0.360781\n",
      "max_gap_na                   -0.359269\n",
      "min_gap_na                   -0.359269\n",
      "avg_gap_na                   -0.359269\n",
      "log_max_gap                  -0.358521\n",
      "max_gap                      -0.352801\n",
      "pca_4                        -0.264767\n",
      "log_overall_time_min         -0.193276\n",
      "overall_time_min             -0.159989\n",
      "update2create_time_min       -0.150286\n",
      "update2create_time_mean      -0.142615\n",
      "send2update_time_min         -0.136339\n",
      "log_send2update_time_mean    -0.136247\n",
      "log_send2update_time_max     -0.135869\n",
      "pca_1                        -0.135612\n",
      "log_update2create_time_min   -0.133993\n",
      "send2update_time_mean        -0.133992\n",
      "send2update_time_max_na      -0.133990\n",
      "send2update_time_mean_na     -0.133990\n",
      "update2create_time_mean_na   -0.133990\n",
      "update2create_time_min_na    -0.133990\n",
      "update2create_time_max_na    -0.133990\n",
      "                                ...   \n",
      "order_nums                    0.321326\n",
      "log_w6_avg_couponworth        0.325363\n",
      "log_w4_total_orders           0.326750\n",
      "w6_max_couponworth            0.330782\n",
      "dummy_log_max_gap             0.358605\n",
      "dummy_log_min_gap             0.359059\n",
      "dummy_log_avg_gap             0.359059\n",
      "w5_total_orders               0.359764\n",
      "log_w6_max_couponworth        0.364596\n",
      "log_w5_total_orders           0.383918\n",
      "w7_avg_couponworth            0.387490\n",
      "dummy_log_lastgap             0.414419\n",
      "w7_max_couponworth            0.421380\n",
      "w6_total_orders               0.426452\n",
      "log_order_nums                0.430899\n",
      "log_w7_avg_couponworth        0.438539\n",
      "order_sd                      0.454723\n",
      "log_w7_max_couponworth        0.461325\n",
      "log_w6_total_orders           0.462802\n",
      "active_days                   0.472219\n",
      "log_order_sd                  0.472617\n",
      "w7_total_orders               0.472908\n",
      "log_total_orders              0.511017\n",
      "log_active_days               0.517916\n",
      "log_w7_total_orders           0.541272\n",
      "label                         1.000000\n",
      "label.1                       1.000000\n",
      "overall_time_mean_na               NaN\n",
      "overall_time_min_na                NaN\n",
      "overall_time_max_na                NaN\n",
      "Name: label, Length: 136, dtype: float64\n"
     ]
    }
   ],
   "source": [
    "print(data.corr()['label'].sort_values())"
   ]
  },
  {
   "cell_type": "code",
   "execution_count": 71,
   "metadata": {},
   "outputs": [
    {
     "data": {
      "text/plain": [
       "<matplotlib.axes._subplots.AxesSubplot at 0x12993f828>"
      ]
     },
     "execution_count": 71,
     "metadata": {},
     "output_type": "execute_result"
    },
    {
     "data": {
      "image/png": "[encoded data removed]",
      "text/plain": [
       "<Figure size 432x288 with 1 Axes>"
      ]
     },
     "metadata": {
      "needs_background": "light"
     },
     "output_type": "display_data"
    }
   ],
   "source": [
    "# this piece of code from one kaggle\n",
    "# 看看有没有NAN什么的,Type Error说明没有NAN了！\n",
    "import matplotlib.pyplot as plt\n",
    "nan_value = data.isnull().sum()\n",
    "nan_value = nan_value[nan_value > 0]\n",
    "nan_value.sort_values(inplace=True,ascending=False)\n",
    "nan_value.plot.bar()"
   ]
  },
  {
   "cell_type": "code",
   "execution_count": 72,
   "metadata": {},
   "outputs": [],
   "source": [
    "X=data\n",
    "y=data['label']\n",
    "#先删了吧= 。 =晚点再处理\n",
    "# X=X.drop(['label','label.1'],axis=1)\n",
    "X=X.drop(['label','label.1','log_send2update_time_min',\\\n",
    "          'log_send2update_time_mean','log_send2update_time_max',\\\n",
    "          'log_overall_time_min'],axis=1)"
   ]
  },
  {
   "cell_type": "code",
   "execution_count": 73,
   "metadata": {},
   "outputs": [
    {
     "data": {
      "text/plain": [
       "['order_sd',\n",
       " 'active_days',\n",
       " 'lastgap',\n",
       " 'avg_gap',\n",
       " 'min_gap',\n",
       " 'max_gap',\n",
       " 'w1_total_orders',\n",
       " 'w2_total_orders',\n",
       " 'w3_total_orders',\n",
       " 'w4_total_orders',\n",
       " 'w5_total_orders',\n",
       " 'w6_total_orders',\n",
       " 'w7_total_orders',\n",
       " 'first_order',\n",
       " 'last_order',\n",
       " 'accountLength',\n",
       " 'overall_time_mean',\n",
       " 'update2create_time_mean',\n",
       " 'send2update_time_mean',\n",
       " 'overall_time_min',\n",
       " 'update2create_time_min',\n",
       " 'send2update_time_min',\n",
       " 'overall_time_max',\n",
       " 'update2create_time_max',\n",
       " 'send2update_time_max',\n",
       " 'intime_rate',\n",
       " 'last_coupon_fee',\n",
       " 'last_send_type',\n",
       " 'order_nums',\n",
       " 'city_id',\n",
       " 'sex',\n",
       " 'age',\n",
       " 'login_platform_b',\n",
       " 'app_version_b',\n",
       " 'age_na',\n",
       " 'lastgap_na',\n",
       " 'avg_gap_na',\n",
       " 'min_gap_na',\n",
       " 'max_gap_na',\n",
       " 'overall_time_mean_na',\n",
       " 'update2create_time_mean_na',\n",
       " 'send2update_time_mean_na',\n",
       " 'overall_time_min_na',\n",
       " 'update2create_time_min_na',\n",
       " 'send2update_time_min_na',\n",
       " 'overall_time_max_na',\n",
       " 'update2create_time_max_na',\n",
       " 'send2update_time_max_na',\n",
       " 'pca_1',\n",
       " 'pca_2',\n",
       " 'pca_3',\n",
       " 'pca_4',\n",
       " 'pca_5',\n",
       " '05/30/2016count',\n",
       " '05/31/2016count',\n",
       " '06/01/2016count',\n",
       " '06/02/2016count',\n",
       " '06/03/2016count',\n",
       " '06/04/2016count',\n",
       " '06/05/2016count',\n",
       " '06/06/2016count',\n",
       " '06/07/2016count',\n",
       " '06/08/2016count',\n",
       " '06/09/2016count',\n",
       " '06/10/2016count',\n",
       " '06/11/2016count',\n",
       " '06/12/2016count',\n",
       " 'w1_avg_couponworth',\n",
       " 'w2_avg_couponworth',\n",
       " 'w3_avg_couponworth',\n",
       " 'w4_avg_couponworth',\n",
       " 'w5_avg_couponworth',\n",
       " 'w6_avg_couponworth',\n",
       " 'w7_avg_couponworth',\n",
       " 'w1_max_couponworth',\n",
       " 'w2_max_couponworth',\n",
       " 'w3_max_couponworth',\n",
       " 'w4_max_couponworth',\n",
       " 'w5_max_couponworth',\n",
       " 'w6_max_couponworth',\n",
       " 'w7_max_couponworth',\n",
       " 'log_order_sd',\n",
       " 'log_active_days',\n",
       " 'log_total_orders',\n",
       " 'log_w1_total_orders',\n",
       " 'log_w2_total_orders',\n",
       " 'log_w3_total_orders',\n",
       " 'log_w4_total_orders',\n",
       " 'log_w5_total_orders',\n",
       " 'log_w6_total_orders',\n",
       " 'log_w7_total_orders',\n",
       " 'log_first_order',\n",
       " 'log_last_order',\n",
       " 'log_accountLength',\n",
       " 'log_overall_time_mean',\n",
       " 'log_overall_time_max',\n",
       " 'log_intime_rate',\n",
       " 'log_last_coupon_fee',\n",
       " 'log_order_nums',\n",
       " 'log_w1_avg_couponworth',\n",
       " 'log_w2_avg_couponworth',\n",
       " 'log_w3_avg_couponworth',\n",
       " 'log_w4_avg_couponworth',\n",
       " 'log_w5_avg_couponworth',\n",
       " 'log_w6_avg_couponworth',\n",
       " 'log_w7_avg_couponworth',\n",
       " 'log_w1_max_couponworth',\n",
       " 'log_w2_max_couponworth',\n",
       " 'log_w3_max_couponworth',\n",
       " 'log_w4_max_couponworth',\n",
       " 'log_w5_max_couponworth',\n",
       " 'log_w6_max_couponworth',\n",
       " 'log_w7_max_couponworth',\n",
       " 'dummy_log_lastgap',\n",
       " 'log_lastgap',\n",
       " 'dummy_log_avg_gap',\n",
       " 'log_avg_gap',\n",
       " 'dummy_log_min_gap',\n",
       " 'log_min_gap',\n",
       " 'dummy_log_max_gap',\n",
       " 'log_max_gap',\n",
       " 'dummy_log_update2create_time_mean',\n",
       " 'log_update2create_time_mean',\n",
       " 'dummy_log_send2update_time_mean',\n",
       " 'dummy_log_update2create_time_min',\n",
       " 'log_update2create_time_min',\n",
       " 'dummy_log_send2update_time_min',\n",
       " 'dummy_log_update2create_time_max',\n",
       " 'log_update2create_time_max',\n",
       " 'dummy_log_send2update_time_max']"
      ]
     },
     "execution_count": 73,
     "metadata": {},
     "output_type": "execute_result"
    }
   ],
   "source": [
    "list(X.columns)"
   ]
  },
  {
   "cell_type": "code",
   "execution_count": 74,
   "metadata": {},
   "outputs": [],
   "source": [
    "from sklearn.model_selection import train_test_split\n",
    "X_train, X_test, y_train, y_test = train_test_split(X, y, test_size=0.2, random_state=42)"
   ]
  },
  {
   "cell_type": "code",
   "execution_count": 75,
   "metadata": {},
   "outputs": [],
   "source": [
    "from sklearn.linear_model import RidgeClassifier"
   ]
  },
  {
   "cell_type": "code",
   "execution_count": 76,
   "metadata": {},
   "outputs": [],
   "source": [
    "ridge=RidgeClassifier()\n",
    "ridge.fit(X_train,y_train)\n",
    "ridge_predict=ridge.predict(X_test)"
   ]
  },
  {
   "cell_type": "code",
   "execution_count": 77,
   "metadata": {},
   "outputs": [],
   "source": [
    "from sklearn import metrics"
   ]
  },
  {
   "cell_type": "code",
   "execution_count": 87,
   "metadata": {},
   "outputs": [
    {
     "name": "stdout",
     "output_type": "stream",
     "text": [
      "             precision    recall  f1-score   support\n",
      "\n",
      "        0.0       0.84      0.93      0.88    108250\n",
      "        1.0       0.77      0.58      0.66     45234\n",
      "\n",
      "avg / total       0.82      0.82      0.82    153484\n",
      "\n"
     ]
    }
   ],
   "source": [
    "print(metrics.classification_report(y_train, ridge_train_predict))"
   ]
  },
  {
   "cell_type": "code",
   "execution_count": 78,
   "metadata": {},
   "outputs": [
    {
     "name": "stdout",
     "output_type": "stream",
     "text": [
      "             precision    recall  f1-score   support\n",
      "\n",
      "        0.0       0.84      0.92      0.88     27008\n",
      "        1.0       0.76      0.59      0.66     11363\n",
      "\n",
      "avg / total       0.82      0.82      0.82     38371\n",
      "\n"
     ]
    }
   ],
   "source": [
    "print(metrics.classification_report(y_test, ridge_predict))"
   ]
  },
  {
   "cell_type": "code",
   "execution_count": 79,
   "metadata": {},
   "outputs": [],
   "source": [
    "from sklearn.metrics import roc_curve\n",
    "fpr, tpr, thresholds2 = roc_curve(y_test,ridge_predict)"
   ]
  },
  {
   "cell_type": "code",
   "execution_count": 80,
   "metadata": {},
   "outputs": [
    {
     "data": {
      "text/plain": [
       "Text(0.5,1,'ROC curve')"
      ]
     },
     "execution_count": 80,
     "metadata": {},
     "output_type": "execute_result"
    },
    {
     "data": {
      "image/png": "[encoded data removed]",
      "text/plain": [
       "<Figure size 432x288 with 1 Axes>"
      ]
     },
     "metadata": {
      "needs_background": "light"
     },
     "output_type": "display_data"
    }
   ],
   "source": [
    "import matplotlib.pyplot as plt\n",
    "plt.plot(fpr, tpr, color='darkorange',label='ROC curve')\n",
    "plt.plot([0, 1], [0, 1], color='navy',linestyle='--')\n",
    "plt.xlim([-0.01, 1.0])\n",
    "plt.ylim([-0.01, 1.05])\n",
    "plt.xlabel('False Positive Rate')\n",
    "plt.ylabel('True Positive Rate')\n",
    "plt.title('ROC curve')"
   ]
  },
  {
   "cell_type": "code",
   "execution_count": 81,
   "metadata": {},
   "outputs": [],
   "source": [
    "# baseline1"
   ]
  },
  {
   "cell_type": "code",
   "execution_count": 83,
   "metadata": {},
   "outputs": [],
   "source": [
    "ridge_train_predict=ridge.predict(X_train)"
   ]
  },
  {
   "cell_type": "code",
   "execution_count": 82,
   "metadata": {},
   "outputs": [
    {
     "data": {
      "text/plain": [
       "0.7560086319513989"
      ]
     },
     "execution_count": 82,
     "metadata": {},
     "output_type": "execute_result"
    }
   ],
   "source": [
    "from sklearn.metrics import roc_auc_score\n",
    "roc_auc_score(y_test,ridge_predict)"
   ]
  },
  {
   "cell_type": "code",
   "execution_count": 84,
   "metadata": {},
   "outputs": [
    {
     "data": {
      "text/plain": [
       "0.7538593373477674"
      ]
     },
     "execution_count": 84,
     "metadata": {},
     "output_type": "execute_result"
    }
   ],
   "source": [
    "roc_auc_score(y_train,ridge_train_predict)"
   ]
  },
  {
   "cell_type": "code",
   "execution_count": 88,
   "metadata": {},
   "outputs": [],
   "source": [
    "from sklearn.preprocessing import StandardScaler"
   ]
  },
  {
   "cell_type": "code",
   "execution_count": 89,
   "metadata": {},
   "outputs": [],
   "source": [
    "scaler = StandardScaler()"
   ]
  },
  {
   "cell_type": "code",
   "execution_count": 90,
   "metadata": {},
   "outputs": [],
   "source": [
    "X_train2=scaler.fit_transform(X_train)\n",
    "X_test2=scaler.transform(X_test)"
   ]
  },
  {
   "cell_type": "code",
   "execution_count": 91,
   "metadata": {},
   "outputs": [],
   "source": [
    "ridge2=RidgeClassifier()\n",
    "ridge2.fit(X_train2,y_train)\n",
    "ridge_predict2=ridge2.predict(X_test2)"
   ]
  },
  {
   "cell_type": "code",
   "execution_count": 92,
   "metadata": {},
   "outputs": [],
   "source": [
    "ridge_train_predict2=ridge2.predict(X_train2)"
   ]
  },
  {
   "cell_type": "code",
   "execution_count": 93,
   "metadata": {},
   "outputs": [],
   "source": [
    "fpr, tpr, thresholds2 = roc_curve(y_test,ridge_predict2)"
   ]
  },
  {
   "cell_type": "code",
   "execution_count": 94,
   "metadata": {},
   "outputs": [
    {
     "data": {
      "text/plain": [
       "Text(0.5,1,'ROC curve')"
      ]
     },
     "execution_count": 94,
     "metadata": {},
     "output_type": "execute_result"
    },
    {
     "data": {
      "image/png": "[encoded data removed]",
      "text/plain": [
       "<Figure size 432x288 with 1 Axes>"
      ]
     },
     "metadata": {
      "needs_background": "light"
     },
     "output_type": "display_data"
    }
   ],
   "source": [
    "import matplotlib.pyplot as plt\n",
    "plt.plot(fpr, tpr, color='darkorange',label='ROC curve')\n",
    "plt.plot([0, 1], [0, 1], color='navy',linestyle='--')\n",
    "plt.xlim([-0.01, 1.0])\n",
    "plt.ylim([-0.01, 1.05])\n",
    "plt.xlabel('False Positive Rate')\n",
    "plt.ylabel('True Positive Rate')\n",
    "plt.title('ROC curve')"
   ]
  },
  {
   "cell_type": "code",
   "execution_count": 95,
   "metadata": {},
   "outputs": [
    {
     "data": {
      "text/plain": [
       "0.7563421386313273"
      ]
     },
     "execution_count": 95,
     "metadata": {},
     "output_type": "execute_result"
    }
   ],
   "source": [
    "# baseline2\n",
    "from sklearn.metrics import roc_auc_score\n",
    "roc_auc_score(y_test,ridge_predict2)"
   ]
  },
  {
   "cell_type": "code",
   "execution_count": 99,
   "metadata": {},
   "outputs": [
    {
     "data": {
      "text/plain": [
       "0.7540518680332122"
      ]
     },
     "execution_count": 99,
     "metadata": {},
     "output_type": "execute_result"
    }
   ],
   "source": [
    "roc_auc_score(y_train, ridge_train_predict2)"
   ]
  },
  {
   "cell_type": "code",
   "execution_count": 97,
   "metadata": {},
   "outputs": [
    {
     "name": "stdout",
     "output_type": "stream",
     "text": [
      "             precision    recall  f1-score   support\n",
      "\n",
      "        0.0       0.84      0.93      0.88    108250\n",
      "        1.0       0.77      0.58      0.66     45234\n",
      "\n",
      "avg / total       0.82      0.82      0.82    153484\n",
      "\n"
     ]
    }
   ],
   "source": [
    "print(metrics.classification_report(y_train, ridge_train_predict2))"
   ]
  },
  {
   "cell_type": "code",
   "execution_count": 98,
   "metadata": {},
   "outputs": [
    {
     "name": "stdout",
     "output_type": "stream",
     "text": [
      "             precision    recall  f1-score   support\n",
      "\n",
      "        0.0       0.84      0.92      0.88     27008\n",
      "        1.0       0.76      0.59      0.67     11363\n",
      "\n",
      "avg / total       0.82      0.82      0.82     38371\n",
      "\n"
     ]
    }
   ],
   "source": [
    "print(metrics.classification_report(y_test, ridge_predict2))"
   ]
  },
  {
   "cell_type": "code",
   "execution_count": null,
   "metadata": {},
   "outputs": [],
   "source": []
  }
 ],
 "metadata": {
  "kernelspec": {
   "display_name": "Python 3",
   "language": "python",
   "name": "python3"
  },
  "language_info": {
   "codemirror_mode": {
    "name": "ipython",
    "version": 3
   },
   "file_extension": ".py",
   "mimetype": "text/x-python",
   "name": "python",
   "nbconvert_exporter": "python",
   "pygments_lexer": "ipython3",
   "version": "3.6.6"
  }
 },
 "nbformat": 4,
 "nbformat_minor": 2
}
