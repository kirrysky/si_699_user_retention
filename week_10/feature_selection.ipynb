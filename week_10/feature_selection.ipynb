{
 "cells": [
  {
   "cell_type": "markdown",
   "metadata": {},
   "source": [
    "# Feature Selection\n",
    "\n",
    "- Author: Wen Xin\n",
    "- Description: Use single feature in model like naive bayes to calculate ROC score and rank them as a result."
   ]
  },
  {
   "cell_type": "code",
   "execution_count": 1,
   "metadata": {},
   "outputs": [],
   "source": [
    "import numpy as np\n",
    "import pandas as pd\n",
    "import matplotlib.pyplot as plt\n",
    "import seaborn as sns \n",
    "import warnings\n",
    "warnings.filterwarnings(\"ignore\")"
   ]
  },
  {
   "cell_type": "code",
   "execution_count": 2,
   "metadata": {},
   "outputs": [],
   "source": [
    "data=pd.read_csv('new_dataset_w9_final.csv')"
   ]
  },
  {
   "cell_type": "code",
   "execution_count": 3,
   "metadata": {},
   "outputs": [],
   "source": [
    "columns=list(data.columns)\n",
    "columns.remove('label')\n",
    "columns.remove('overall_time_mean_na')\n",
    "columns.remove('overall_time_min_na')\n",
    "columns.remove('overall_time_max_na')"
   ]
  },
  {
   "cell_type": "code",
   "execution_count": 4,
   "metadata": {},
   "outputs": [],
   "source": [
    "for c in columns:\n",
    "    if len(list(data[c].unique()))==1:\n",
    "        print(c)"
   ]
  },
  {
   "cell_type": "code",
   "execution_count": 5,
   "metadata": {},
   "outputs": [],
   "source": [
    "from sklearn.linear_model import Ridge\n",
    "from sklearn import metrics\n",
    "from sklearn.metrics import roc_auc_score\n",
    "from sklearn.preprocessing import StandardScaler"
   ]
  },
  {
   "cell_type": "code",
   "execution_count": 6,
   "metadata": {},
   "outputs": [
    {
     "name": "stdout",
     "output_type": "stream",
     "text": [
      "order_sd 0.784552918703676\n",
      "active_days 0.8009524393265433\n",
      "lastgap 0.7518256712991884\n",
      "avg_gap 0.7370437415701858\n",
      "min_gap 0.7565779898713217\n",
      "max_gap 0.6853250583468392\n",
      "w1_total_orders 0.5808170052839604\n",
      "w2_total_orders 0.5923988521258996\n",
      "w3_total_orders 0.6178730037169915\n",
      "w4_total_orders 0.6606799746397539\n",
      "w5_total_orders 0.6955583172340938\n",
      "w6_total_orders 0.7401266602618726\n",
      "w7_total_orders 0.7726043652974948\n",
      "first_order 0.5441458326744835\n",
      "last_order 0.8339119903535192\n",
      "accountLength 0.5583242409677465\n",
      "overall_time_mean 0.4634672720309942\n",
      "update2create_time_mean 0.5249708749299015\n",
      "send2update_time_mean 0.538591747083271\n",
      "overall_time_min 0.6635429161715739\n",
      "update2create_time_min 0.6907449602591065\n",
      "send2update_time_min 0.6953157710927348\n",
      "overall_time_max 0.6131102476603977\n",
      "update2create_time_max 0.45079916261844366\n",
      "send2update_time_max 0.3939345017845658\n",
      "intime_rate 0.43474898310213655\n",
      "last_coupon_fee 0.5362725836522447\n",
      "last_send_type 0.5236245440039965\n",
      "order_nums 0.748761418946136\n",
      "city_id 0.5175394455614891\n",
      "sex 0.5550546080745642\n",
      "age 0.5745804404590644\n",
      "login_platform_b 0.5293740958901874\n",
      "app_version_b 0.6388872089626084\n",
      "age_na 0.5354710967043371\n",
      "lastgap_na 0.7268680371780676\n",
      "avg_gap_na 0.6917837491332519\n",
      "min_gap_na 0.6917837491332519\n",
      "max_gap_na 0.6917837491332519\n",
      "update2create_time_mean_na 0.5436919147690138\n",
      "send2update_time_mean_na 0.5436919147690138\n",
      "update2create_time_min_na 0.5436919147690138\n",
      "send2update_time_min_na 0.5436919147690138\n",
      "update2create_time_max_na 0.5436919147690138\n",
      "send2update_time_max_na 0.5436919147690138\n",
      "w1_avg_couponworth 0.5503751775676374\n",
      "w2_avg_couponworth 0.5570495560096902\n",
      "w3_avg_couponworth 0.5781789725943496\n",
      "w4_avg_couponworth 0.6134615971411315\n",
      "w5_avg_couponworth 0.6411190099132532\n",
      "w6_avg_couponworth 0.6703610249443108\n",
      "w7_avg_couponworth 0.7031360182786236\n",
      "w1_max_couponworth 0.5602275273822587\n",
      "w2_max_couponworth 0.5668825038416457\n",
      "w3_max_couponworth 0.5909365567777876\n",
      "w4_max_couponworth 0.626513506472877\n",
      "w5_max_couponworth 0.6538688031149834\n",
      "w6_max_couponworth 0.6827605596235113\n",
      "w7_max_couponworth 0.7080010429636198\n",
      "log_order_sd 0.7845518731394701\n",
      "log_active_days 0.8009524393265433\n",
      "log_total_orders 0.798418407421928\n",
      "log_w1_total_orders 0.5808170052839604\n",
      "log_w2_total_orders 0.5923988521258996\n",
      "log_w3_total_orders 0.6178730037169915\n",
      "log_w4_total_orders 0.6606799746397539\n",
      "log_w5_total_orders 0.6955583172340938\n",
      "log_w6_total_orders 0.7401266602618726\n",
      "log_w7_total_orders 0.7726043652974948\n",
      "log_first_order 0.45585416732551653\n",
      "log_last_order 0.8339119903535192\n",
      "log_accountLength 0.5583242409677465\n",
      "log_overall_time_mean 0.46346719221593546\n",
      "log_overall_time_min 0.6635429161715739\n",
      "log_overall_time_max 0.6131102476603977\n",
      "log_intime_rate 0.43474898310213655\n",
      "log_last_coupon_fee 0.5362725836522447\n",
      "log_order_nums 0.748761418946136\n",
      "log_w1_avg_couponworth 0.5503751781554734\n",
      "log_w2_avg_couponworth 0.5570495511763724\n",
      "log_w3_avg_couponworth 0.5781789725943496\n",
      "log_w4_avg_couponworth 0.6134615971411315\n",
      "log_w5_avg_couponworth 0.6411190099132532\n",
      "log_w6_avg_couponworth 0.6703610174330737\n",
      "log_w7_avg_couponworth 0.703136065762705\n",
      "log_w1_max_couponworth 0.5602275273822587\n",
      "log_w2_max_couponworth 0.5668825038416457\n",
      "log_w3_max_couponworth 0.5909365567777876\n",
      "log_w4_max_couponworth 0.626513506472877\n",
      "log_w5_max_couponworth 0.6538688031149834\n",
      "log_w6_max_couponworth 0.6827605595581964\n",
      "log_w7_max_couponworth 0.7080010429636199\n",
      "dummy_log_lastgap 0.7268035019351048\n",
      "log_lastgap 0.7518256712991884\n",
      "dummy_log_avg_gap 0.6917252902198523\n",
      "log_avg_gap 0.7370437415701858\n",
      "dummy_log_min_gap 0.6917252902198523\n",
      "log_min_gap 0.7565779898713217\n",
      "dummy_log_max_gap 0.6915099436396922\n",
      "log_max_gap 0.6853250583468392\n",
      "dummy_log_update2create_time_mean 0.5436919147690138\n",
      "log_update2create_time_mean 0.5249708749299015\n",
      "dummy_log_send2update_time_mean 0.5436919147690138\n",
      "log_send2update_time_mean 0.538591747083271\n",
      "dummy_log_update2create_time_min 0.5436919147690138\n",
      "log_update2create_time_min 0.6907449602591065\n",
      "dummy_log_send2update_time_min 0.5436919147690138\n",
      "log_send2update_time_min 0.6953157710927348\n",
      "dummy_log_update2create_time_max 0.5436919147690138\n",
      "log_update2create_time_max 0.45079916261844366\n",
      "dummy_log_send2update_time_max 0.5436919147690138\n",
      "log_send2update_time_max 0.3939345017845658\n",
      "kitchen_royalty 0.713613513662163\n",
      "staple_price 0.5259868656971651\n",
      "like_num 0.5093829083374397\n",
      "dummy_like_num 0.5042923976859639\n",
      "dummy_has_kitchen_info 0.502506199635991\n",
      "dummy_staple_price 0.502506199635991\n",
      "comment_perc 0.6163319039961179\n"
     ]
    }
   ],
   "source": [
    "roc_ridge={'column_name':[],'ROC_score':[]}\n",
    "for c in columns:\n",
    "    ridge=Ridge()\n",
    "    scaler = StandardScaler()\n",
    "    training_data=scaler.fit_transform(pd.DataFrame(data[c]))\n",
    "    ridge.fit(pd.DataFrame(training_data),data['label'])\n",
    "    pred=ridge.predict(pd.DataFrame(training_data))\n",
    "    print(c,roc_auc_score(data['label'],pred))\n",
    "    roc_ridge['column_name'].append(c)\n",
    "    roc_ridge['ROC_score'].append(roc_auc_score(data['label'],pred))"
   ]
  },
  {
   "cell_type": "code",
   "execution_count": 7,
   "metadata": {},
   "outputs": [],
   "source": [
    "ridge_frame=pd.DataFrame.from_dict(roc_ridge, orient='columns').sort_values(by='ROC_score',ascending=False).reset_index().reset_index()"
   ]
  },
  {
   "cell_type": "code",
   "execution_count": 8,
   "metadata": {},
   "outputs": [],
   "source": [
    "ridge_frame['level_0']=ridge_frame['level_0']+1"
   ]
  },
  {
   "cell_type": "code",
   "execution_count": 9,
   "metadata": {},
   "outputs": [],
   "source": [
    "ridge_frame.columns=['ridge_Rank','index','column_name','ROC_score']\n",
    "ridge_frame=ridge_frame[['ridge_Rank','column_name','ROC_score']]"
   ]
  },
  {
   "cell_type": "code",
   "execution_count": 10,
   "metadata": {},
   "outputs": [
    {
     "data": {
      "text/html": [
       "<div>\n",
       "<style scoped>\n",
       "    .dataframe tbody tr th:only-of-type {\n",
       "        vertical-align: middle;\n",
       "    }\n",
       "\n",
       "    .dataframe tbody tr th {\n",
       "        vertical-align: top;\n",
       "    }\n",
       "\n",
       "    .dataframe thead th {\n",
       "        text-align: right;\n",
       "    }\n",
       "</style>\n",
       "<table border=\"1\" class=\"dataframe\">\n",
       "  <thead>\n",
       "    <tr style=\"text-align: right;\">\n",
       "      <th></th>\n",
       "      <th>ridge_Rank</th>\n",
       "      <th>column_name</th>\n",
       "      <th>ROC_score</th>\n",
       "    </tr>\n",
       "  </thead>\n",
       "  <tbody>\n",
       "    <tr>\n",
       "      <th>0</th>\n",
       "      <td>1</td>\n",
       "      <td>last_order</td>\n",
       "      <td>0.833912</td>\n",
       "    </tr>\n",
       "    <tr>\n",
       "      <th>1</th>\n",
       "      <td>2</td>\n",
       "      <td>log_last_order</td>\n",
       "      <td>0.833912</td>\n",
       "    </tr>\n",
       "    <tr>\n",
       "      <th>2</th>\n",
       "      <td>3</td>\n",
       "      <td>log_active_days</td>\n",
       "      <td>0.800952</td>\n",
       "    </tr>\n",
       "    <tr>\n",
       "      <th>3</th>\n",
       "      <td>4</td>\n",
       "      <td>active_days</td>\n",
       "      <td>0.800952</td>\n",
       "    </tr>\n",
       "    <tr>\n",
       "      <th>4</th>\n",
       "      <td>5</td>\n",
       "      <td>log_total_orders</td>\n",
       "      <td>0.798418</td>\n",
       "    </tr>\n",
       "  </tbody>\n",
       "</table>\n",
       "</div>"
      ],
      "text/plain": [
       "   ridge_Rank       column_name  ROC_score\n",
       "0           1        last_order   0.833912\n",
       "1           2    log_last_order   0.833912\n",
       "2           3   log_active_days   0.800952\n",
       "3           4       active_days   0.800952\n",
       "4           5  log_total_orders   0.798418"
      ]
     },
     "execution_count": 10,
     "metadata": {},
     "output_type": "execute_result"
    }
   ],
   "source": [
    "ridge_frame.head()"
   ]
  },
  {
   "cell_type": "code",
   "execution_count": 11,
   "metadata": {},
   "outputs": [],
   "source": [
    "from sklearn.naive_bayes import GaussianNB"
   ]
  },
  {
   "cell_type": "code",
   "execution_count": 12,
   "metadata": {},
   "outputs": [
    {
     "name": "stdout",
     "output_type": "stream",
     "text": [
      "order_sd 0.7845531633087454\n",
      "active_days 0.773402997387464\n",
      "lastgap 0.7518256712991884\n",
      "avg_gap 0.7370437415701858\n",
      "min_gap 0.7565779898713217\n",
      "max_gap 0.6853250583468392\n",
      "w1_total_orders 0.580817003781713\n",
      "w2_total_orders 0.5923988698916082\n",
      "w3_total_orders 0.6178730558384455\n",
      "w4_total_orders 0.6606800003739054\n",
      "w5_total_orders 0.6955582741914395\n",
      "w6_total_orders 0.7401255625762126\n",
      "w7_total_orders 0.7725944098385117\n",
      "first_order 0.600604916422696\n",
      "last_order 0.8339119903535192\n",
      "accountLength 0.5583242409677465\n",
      "overall_time_mean 0.564793546242555\n",
      "update2create_time_mean 0.566635208181773\n",
      "send2update_time_mean 0.5406262347583894\n",
      "overall_time_min 0.5520653208723828\n",
      "update2create_time_min 0.6907449602591065\n",
      "send2update_time_min 0.690404183334471\n",
      "overall_time_max 0.6121863327074608\n",
      "update2create_time_max 0.5826415815100929\n",
      "send2update_time_max 0.4002064067188125\n",
      "intime_rate 0.5534539066872085\n",
      "last_coupon_fee 0.523899823594168\n",
      "last_send_type 0.5236245440039965\n",
      "order_nums 0.7487598135661624\n",
      "city_id 0.5175394455614891\n",
      "sex 0.5550546080745642\n",
      "age 0.5745804404590644\n",
      "login_platform_b 0.5293740958901874\n",
      "app_version_b 0.6388872089626084\n",
      "age_na 0.5354710967043371\n",
      "lastgap_na 0.7268680371780676\n",
      "avg_gap_na 0.6917837491332519\n",
      "min_gap_na 0.6917837491332519\n",
      "max_gap_na 0.6917837491332519\n",
      "update2create_time_mean_na 0.5436919147690138\n",
      "send2update_time_mean_na 0.5436919147690138\n",
      "update2create_time_min_na 0.5436919147690138\n",
      "send2update_time_min_na 0.5436919147690138\n",
      "update2create_time_max_na 0.5436919147690138\n",
      "send2update_time_max_na 0.5436919147690138\n",
      "w1_avg_couponworth 0.5701806084383334\n",
      "w2_avg_couponworth 0.5742779195060264\n",
      "w3_avg_couponworth 0.5781789725943496\n",
      "w4_avg_couponworth 0.6134615971411315\n",
      "w5_avg_couponworth 0.6411190099132532\n",
      "w6_avg_couponworth 0.6703610224623369\n",
      "w7_avg_couponworth 0.7031360423145823\n",
      "w1_max_couponworth 0.5602275281660399\n",
      "w2_max_couponworth 0.5668825048213724\n",
      "w3_max_couponworth 0.5909365568431028\n",
      "w4_max_couponworth 0.626513506472877\n",
      "w5_max_couponworth 0.6538688037028193\n",
      "w6_max_couponworth 0.6827605590356755\n",
      "w7_max_couponworth 0.7080007638721748\n",
      "log_order_sd 0.7845517777141012\n",
      "log_active_days 0.8009524393265433\n",
      "log_total_orders 0.798418407421928\n",
      "log_w1_total_orders 0.5808170052839604\n",
      "log_w2_total_orders 0.5923988521258996\n",
      "log_w3_total_orders 0.6178730037169915\n",
      "log_w4_total_orders 0.6606799746397539\n",
      "log_w5_total_orders 0.6955583172340938\n",
      "log_w6_total_orders 0.7401266602618726\n",
      "log_w7_total_orders 0.7726043664078516\n",
      "log_first_order 0.5832465864478195\n",
      "log_last_order 0.8339119903535192\n",
      "log_accountLength 0.5960778624641502\n",
      "log_overall_time_mean 0.5576050066382706\n",
      "log_overall_time_min 0.6411944723080207\n",
      "log_overall_time_max 0.6131049010965065\n",
      "log_intime_rate 0.5619003672786724\n",
      "log_last_coupon_fee 0.5479220434502243\n",
      "log_order_nums 0.7487614190114511\n",
      "log_w1_avg_couponworth 0.550375175412239\n",
      "log_w2_avg_couponworth 0.5570495538542917\n",
      "log_w3_avg_couponworth 0.5781789725943496\n",
      "log_w4_avg_couponworth 0.6134615971411315\n",
      "log_w5_avg_couponworth 0.6411190099132532\n",
      "log_w6_avg_couponworth 0.6703610169105528\n",
      "log_w7_avg_couponworth 0.7031356507505259\n",
      "log_w1_max_couponworth 0.5602275273822587\n",
      "log_w2_max_couponworth 0.5668825038416457\n",
      "log_w3_max_couponworth 0.5909365567777876\n",
      "log_w4_max_couponworth 0.626513506472877\n",
      "log_w5_max_couponworth 0.6538688031149834\n",
      "log_w6_max_couponworth 0.6827605595581964\n",
      "log_w7_max_couponworth 0.7080010429636199\n",
      "dummy_log_lastgap 0.7268035019351048\n",
      "log_lastgap 0.7518256712991884\n",
      "dummy_log_avg_gap 0.6917252902198523\n",
      "log_avg_gap 0.7370437415701858\n",
      "dummy_log_min_gap 0.6917252902198523\n",
      "log_min_gap 0.7565779898713217\n",
      "dummy_log_max_gap 0.6915099436396922\n",
      "log_max_gap 0.6853250583468392\n",
      "dummy_log_update2create_time_mean 0.5436919147690138\n",
      "log_update2create_time_mean 0.5249708749299015\n",
      "dummy_log_send2update_time_mean 0.5436919147690138\n",
      "log_send2update_time_mean 0.5385917471485862\n",
      "dummy_log_update2create_time_min 0.5436919147690138\n",
      "log_update2create_time_min 0.6907449602591065\n",
      "dummy_log_send2update_time_min 0.5436919147690138\n",
      "log_send2update_time_min 0.6953157710927348\n",
      "dummy_log_update2create_time_max 0.5436919147690138\n",
      "log_update2create_time_max 0.45079916261844366\n",
      "dummy_log_send2update_time_max 0.5436919147690138\n",
      "log_send2update_time_max 0.3939345017845658\n",
      "kitchen_royalty 0.6054173134615806\n",
      "staple_price 0.5259868656971651\n",
      "like_num 0.5128159705970707\n",
      "dummy_like_num 0.5042923976859639\n",
      "dummy_has_kitchen_info 0.502506199635991\n",
      "dummy_staple_price 0.502506199635991\n",
      "comment_perc 0.6163319039961179\n"
     ]
    }
   ],
   "source": [
    "roc_nb={'column_name':[],'ROC_score':[]}\n",
    "for c in columns:\n",
    "    nb = GaussianNB()\n",
    "    nb.fit(pd.DataFrame(data[c]),data['label'])\n",
    "    pred=nb.predict_proba(pd.DataFrame(pd.DataFrame(data[c])))\n",
    "    print(c,roc_auc_score(data['label'],pred.T[1]))\n",
    "    roc_nb['column_name'].append(c)\n",
    "    roc_nb['ROC_score'].append(roc_auc_score(data['label'],pred.T[1]))"
   ]
  },
  {
   "cell_type": "code",
   "execution_count": 26,
   "metadata": {},
   "outputs": [],
   "source": [
    "nb_frame=pd.DataFrame.from_dict(roc_nb, orient='columns').sort_values(by='ROC_score',ascending=False).reset_index().reset_index()"
   ]
  },
  {
   "cell_type": "code",
   "execution_count": 27,
   "metadata": {},
   "outputs": [],
   "source": [
    "nb_frame['level_0']=nb_frame['level_0']+1"
   ]
  },
  {
   "cell_type": "code",
   "execution_count": 28,
   "metadata": {},
   "outputs": [],
   "source": [
    "nb_frame.columns=['nb_Rank','index','column_name','ROC_score']\n",
    "nb_frame=nb_frame[['nb_Rank','column_name','ROC_score']]"
   ]
  },
  {
   "cell_type": "code",
   "execution_count": 29,
   "metadata": {},
   "outputs": [
    {
     "data": {
      "text/html": [
       "<div>\n",
       "<style scoped>\n",
       "    .dataframe tbody tr th:only-of-type {\n",
       "        vertical-align: middle;\n",
       "    }\n",
       "\n",
       "    .dataframe tbody tr th {\n",
       "        vertical-align: top;\n",
       "    }\n",
       "\n",
       "    .dataframe thead th {\n",
       "        text-align: right;\n",
       "    }\n",
       "</style>\n",
       "<table border=\"1\" class=\"dataframe\">\n",
       "  <thead>\n",
       "    <tr style=\"text-align: right;\">\n",
       "      <th></th>\n",
       "      <th>nb_Rank</th>\n",
       "      <th>column_name</th>\n",
       "      <th>ROC_score</th>\n",
       "    </tr>\n",
       "  </thead>\n",
       "  <tbody>\n",
       "    <tr>\n",
       "      <th>0</th>\n",
       "      <td>1</td>\n",
       "      <td>last_order</td>\n",
       "      <td>0.833912</td>\n",
       "    </tr>\n",
       "    <tr>\n",
       "      <th>1</th>\n",
       "      <td>2</td>\n",
       "      <td>log_last_order</td>\n",
       "      <td>0.833912</td>\n",
       "    </tr>\n",
       "    <tr>\n",
       "      <th>2</th>\n",
       "      <td>3</td>\n",
       "      <td>log_active_days</td>\n",
       "      <td>0.800952</td>\n",
       "    </tr>\n",
       "    <tr>\n",
       "      <th>3</th>\n",
       "      <td>4</td>\n",
       "      <td>log_total_orders</td>\n",
       "      <td>0.798418</td>\n",
       "    </tr>\n",
       "    <tr>\n",
       "      <th>4</th>\n",
       "      <td>5</td>\n",
       "      <td>order_sd</td>\n",
       "      <td>0.784553</td>\n",
       "    </tr>\n",
       "  </tbody>\n",
       "</table>\n",
       "</div>"
      ],
      "text/plain": [
       "   nb_Rank       column_name  ROC_score\n",
       "0        1        last_order   0.833912\n",
       "1        2    log_last_order   0.833912\n",
       "2        3   log_active_days   0.800952\n",
       "3        4  log_total_orders   0.798418\n",
       "4        5          order_sd   0.784553"
      ]
     },
     "execution_count": 29,
     "metadata": {},
     "output_type": "execute_result"
    }
   ],
   "source": [
    "nb_frame.head()"
   ]
  },
  {
   "cell_type": "code",
   "execution_count": 17,
   "metadata": {},
   "outputs": [],
   "source": [
    "import lightgbm as lgb"
   ]
  },
  {
   "cell_type": "code",
   "execution_count": 18,
   "metadata": {},
   "outputs": [],
   "source": [
    "categorical_features=[\n",
    " 'last_send_type',\n",
    " 'city_id',\n",
    " 'sex',\n",
    " 'age',\n",
    " 'login_platform_b',\n",
    " 'app_version_b',\n",
    " 'age_na',\n",
    " 'lastgap_na',\n",
    " 'avg_gap_na',\n",
    " 'min_gap_na',\n",
    " 'max_gap_na',\n",
    " 'update2create_time_mean_na',\n",
    " 'send2update_time_mean_na',\n",
    " 'update2create_time_min_na',\n",
    " 'send2update_time_min_na',\n",
    " 'update2create_time_max_na',\n",
    " 'send2update_time_max_na',\n",
    " 'dummy_log_lastgap',\n",
    " 'dummy_log_avg_gap',\n",
    " 'dummy_log_min_gap',\n",
    " 'dummy_log_max_gap',\n",
    " 'dummy_log_update2create_time_mean',\n",
    " 'dummy_log_send2update_time_mean',\n",
    " 'dummy_log_update2create_time_min',\n",
    " 'dummy_log_send2update_time_min',\n",
    " 'dummy_log_update2create_time_max',\n",
    " 'dummy_log_send2update_time_max',                               \n",
    " 'staple_price',                         \n",
    " 'like_num',                           \n",
    " 'is_refectory',                        \n",
    " 'hold_num',                             \n",
    " 'type',                                 \n",
    " 'level',                                \n",
    " 'star',                               \n",
    " 'dummy_like_num',                     \n",
    " 'dummy_hold_num',                     \n",
    " 'dummy_star',                        \n",
    " 'dummy_has_kitchen_info'              \n",
    "]"
   ]
  },
  {
   "cell_type": "code",
   "execution_count": 19,
   "metadata": {},
   "outputs": [],
   "source": [
    "gbm_classifier=lgb.LGBMClassifier()\n",
    "gbm_classifier.fit(data[columns],data['label'])\n",
    "importances=pd.Series(gbm_classifier.feature_importances_)"
   ]
  },
  {
   "cell_type": "code",
   "execution_count": 20,
   "metadata": {},
   "outputs": [],
   "source": [
    "res=pd.concat([pd.DataFrame(columns),importances],axis=1)\n",
    "res.columns=['column_name','ROC_score']\n",
    "res=res.sort_values(by='ROC_score',ascending=False).reset_index().reset_index()"
   ]
  },
  {
   "cell_type": "code",
   "execution_count": 21,
   "metadata": {},
   "outputs": [],
   "source": [
    "res['level_0']=res['level_0']+1"
   ]
  },
  {
   "cell_type": "code",
   "execution_count": 22,
   "metadata": {},
   "outputs": [],
   "source": [
    "res.columns=['lightGBM','index','column_name','feature_importance_lgbm']\n",
    "res=res[['lightGBM','column_name','feature_importance_lgbm']]"
   ]
  },
  {
   "cell_type": "code",
   "execution_count": 23,
   "metadata": {},
   "outputs": [
    {
     "data": {
      "text/html": [
       "<div>\n",
       "<style scoped>\n",
       "    .dataframe tbody tr th:only-of-type {\n",
       "        vertical-align: middle;\n",
       "    }\n",
       "\n",
       "    .dataframe tbody tr th {\n",
       "        vertical-align: top;\n",
       "    }\n",
       "\n",
       "    .dataframe thead th {\n",
       "        text-align: right;\n",
       "    }\n",
       "</style>\n",
       "<table border=\"1\" class=\"dataframe\">\n",
       "  <thead>\n",
       "    <tr style=\"text-align: right;\">\n",
       "      <th></th>\n",
       "      <th>lightGBM</th>\n",
       "      <th>column_name</th>\n",
       "      <th>feature_importance_lgbm</th>\n",
       "    </tr>\n",
       "  </thead>\n",
       "  <tbody>\n",
       "    <tr>\n",
       "      <th>0</th>\n",
       "      <td>1</td>\n",
       "      <td>last_order</td>\n",
       "      <td>292</td>\n",
       "    </tr>\n",
       "    <tr>\n",
       "      <th>1</th>\n",
       "      <td>2</td>\n",
       "      <td>accountLength</td>\n",
       "      <td>182</td>\n",
       "    </tr>\n",
       "    <tr>\n",
       "      <th>2</th>\n",
       "      <td>3</td>\n",
       "      <td>app_version_b</td>\n",
       "      <td>155</td>\n",
       "    </tr>\n",
       "    <tr>\n",
       "      <th>3</th>\n",
       "      <td>4</td>\n",
       "      <td>active_days</td>\n",
       "      <td>109</td>\n",
       "    </tr>\n",
       "    <tr>\n",
       "      <th>4</th>\n",
       "      <td>5</td>\n",
       "      <td>avg_gap</td>\n",
       "      <td>107</td>\n",
       "    </tr>\n",
       "  </tbody>\n",
       "</table>\n",
       "</div>"
      ],
      "text/plain": [
       "   lightGBM    column_name  feature_importance_lgbm\n",
       "0         1     last_order                      292\n",
       "1         2  accountLength                      182\n",
       "2         3  app_version_b                      155\n",
       "3         4    active_days                      109\n",
       "4         5        avg_gap                      107"
      ]
     },
     "execution_count": 23,
     "metadata": {},
     "output_type": "execute_result"
    }
   ],
   "source": [
    "res.head(5)"
   ]
  },
  {
   "cell_type": "code",
   "execution_count": 33,
   "metadata": {},
   "outputs": [],
   "source": [
    "temp1=pd.merge(ridge_frame,nb_frame,on='column_name')"
   ]
  },
  {
   "cell_type": "code",
   "execution_count": 34,
   "metadata": {},
   "outputs": [],
   "source": [
    "temp1=pd.merge(temp1,res,on='column_name')"
   ]
  },
  {
   "cell_type": "code",
   "execution_count": 39,
   "metadata": {},
   "outputs": [],
   "source": [
    "temp1[['ridge_Rank','nb_Rank','lightGBM','column_name']].to_csv('column_importance.csv')"
   ]
  },
  {
   "cell_type": "code",
   "execution_count": null,
   "metadata": {},
   "outputs": [],
   "source": []
  }
 ],
 "metadata": {
  "kernelspec": {
   "display_name": "Python 3",
   "language": "python",
   "name": "python3"
  },
  "language_info": {
   "codemirror_mode": {
    "name": "ipython",
    "version": 3
   },
   "file_extension": ".py",
   "mimetype": "text/x-python",
   "name": "python",
   "nbconvert_exporter": "python",
   "pygments_lexer": "ipython3",
   "version": "3.6.6"
  }
 },
 "nbformat": 4,
 "nbformat_minor": 2
}
