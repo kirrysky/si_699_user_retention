{
 "cells": [
  {
   "cell_type": "markdown",
   "metadata": {},
   "source": [
    "# Neural Network\n",
    "\n",
    "- Author: Wen Xin\n",
    "- Description: This file means that I use neural network as model."
   ]
  },
  {
   "cell_type": "code",
   "execution_count": 1,
   "metadata": {},
   "outputs": [],
   "source": [
    "import pandas as pd\n",
    "import numpy as np\n",
    "import warnings\n",
    "warnings.filterwarnings(\"ignore\")"
   ]
  },
  {
   "cell_type": "code",
   "execution_count": 2,
   "metadata": {},
   "outputs": [],
   "source": [
    "train=pd.read_csv('train_transfer.csv')\n",
    "test=pd.read_csv('test_transfer.csv')"
   ]
  },
  {
   "cell_type": "code",
   "execution_count": 189,
   "metadata": {},
   "outputs": [],
   "source": [
    "features=['last_order',\n",
    " 'active_days',\n",
    " 'w7_total_orders',\n",
    " 'log_total_orders',\n",
    " 'order_sd',\n",
    " 'lastgap',\n",
    " 'avg_gap',\n",
    " 'log_order_sd',\n",
    " 'w6_total_orders',\n",
    " 'min_gap',\n",
    " 'log_last_order',\n",
    " 'log_active_days',\n",
    " 'w7_avg_couponworth',\n",
    " 'log_lastgap',\n",
    " 'log_min_gap',\n",
    " 'order_nums',\n",
    " 'w7_max_couponworth',\n",
    " 'log_w7_max_couponworth',\n",
    " 'dummy_log_lastgap',\n",
    " 'w5_total_orders',\n",
    " 'log_avg_gap',\n",
    " 'lastgap_na',\n",
    " 'max_gap',\n",
    " 'send2update_time_min',\n",
    " 'update2create_time_min',\n",
    " 'kitchen_royalty',\n",
    " 'dummy_log_avg_gap',\n",
    " 'min_gap_na',\n",
    " 'log_send2update_time_min',\n",
    " 'avg_gap_na',\n",
    " 'dummy_log_min_gap',\n",
    " 'log_w5_total_orders',\n",
    " 'app_version_b',\n",
    " 'w6_max_couponworth',\n",
    " 'dummy_log_max_gap',\n",
    " 'w6_avg_couponworth',\n",
    " 'log_w6_max_couponworth',\n",
    " 'log_max_gap',\n",
    " 'w4_total_orders',\n",
    " 'w5_max_couponworth',\n",
    " 'w5_avg_couponworth',\n",
    " 'log_overall_time_min',\n",
    " 'overall_time_min',\n",
    " 'log_update2create_time_min',\n",
    " 'w3_total_orders',\n",
    " 'comment_perc',\n",
    " 'w4_max_couponworth',\n",
    " 'w4_avg_couponworth',\n",
    " 'log_w5_max_couponworth',\n",
    " 'log_w4_total_orders',\n",
    " 'log_w4_max_couponworth',\n",
    " 'overall_time_max',\n",
    " 'w2_total_orders',\n",
    " 'w3_max_couponworth',\n",
    " 'w1_total_orders',\n",
    " 'log_w3_total_orders',\n",
    " 'age',\n",
    " 'accountLength',\n",
    " 'log_w2_total_orders',\n",
    " 'w3_avg_couponworth',\n",
    " 'log_w3_max_couponworth',\n",
    " 'first_order',\n",
    " 'log_w1_total_orders',\n",
    " 'w2_max_couponworth',\n",
    " 'update2create_time_mean',\n",
    " 'w2_avg_couponworth',\n",
    " 'w1_avg_couponworth',\n",
    " 'sex',\n",
    " 'w1_max_couponworth',\n",
    " 'send2update_time_mean',\n",
    " 'update2create_time_max',\n",
    " 'last_coupon_fee',\n",
    " 'dummy_log_send2update_time_mean',\n",
    " 'dummy_log_send2update_time_min',\n",
    " 'log_send2update_time_mean',\n",
    " 'dummy_log_update2create_time_min',\n",
    " 'overall_time_mean',\n",
    " 'login_platform_b',\n",
    " 'dummy_log_update2create_time_mean',\n",
    " 'dummy_log_update2create_time_max',\n",
    " 'dummy_log_send2update_time_max',\n",
    " 'send2update_time_min_na',\n",
    " 'send2update_time_max_na',\n",
    " 'send2update_time_mean_na',\n",
    " 'update2create_time_mean_na',\n",
    " 'update2create_time_min_na',\n",
    " 'like_num',\n",
    " 'staple_price',\n",
    " 'intime_rate',\n",
    " 'send2update_time_max',\n",
    " 'log_overall_time_mean',\n",
    " 'log_update2create_time_mean',\n",
    " 'city_id',\n",
    " 'last_send_type',\n",
    " 'log_send2update_time_max',\n",
    " 'age_na',\n",
    " 'log_update2create_time_max',\n",
    " 'dummy_like_num',\n",
    " 'dummy_has_kitchen_info',\n",
    " 'dummy_staple_price',\n",
    " 'label',\n",
    " 'pca_1',\n",
    " 'pca_2',\n",
    " 'pca_3',\n",
    " 'pca_4',\n",
    " 'pca_5']"
   ]
  },
  {
   "cell_type": "code",
   "execution_count": 190,
   "metadata": {},
   "outputs": [],
   "source": [
    "train=train[features]\n",
    "test=test[features]"
   ]
  },
  {
   "cell_type": "code",
   "execution_count": 191,
   "metadata": {},
   "outputs": [],
   "source": [
    "y_train=train['label']\n",
    "X_train=train.drop(['label'],axis=1)\n",
    "y_test=test['label']\n",
    "X_test=test.drop(['label'],axis=1)"
   ]
  },
  {
   "cell_type": "code",
   "execution_count": 192,
   "metadata": {},
   "outputs": [],
   "source": [
    "from sklearn.utils import resample"
   ]
  },
  {
   "cell_type": "code",
   "execution_count": 193,
   "metadata": {},
   "outputs": [],
   "source": [
    "X_train['label']=y_train\n",
    "bag = X_train[X_train['label']==1]\n",
    "boot = resample(bag, replace=True, n_samples=int(len(X_train[X_train['label']==0])*0.2), random_state=1)\n",
    "X_train=pd.concat([boot,X_train],sort=False)"
   ]
  },
  {
   "cell_type": "code",
   "execution_count": 194,
   "metadata": {},
   "outputs": [],
   "source": [
    "y_train=X_train['label']\n",
    "X_train=X_train.drop(['label'],axis=1)"
   ]
  },
  {
   "cell_type": "code",
   "execution_count": 195,
   "metadata": {},
   "outputs": [],
   "source": [
    "from sklearn.preprocessing import StandardScaler"
   ]
  },
  {
   "cell_type": "code",
   "execution_count": 196,
   "metadata": {},
   "outputs": [],
   "source": [
    "scaler = StandardScaler()"
   ]
  },
  {
   "cell_type": "code",
   "execution_count": 197,
   "metadata": {},
   "outputs": [],
   "source": [
    "X_train2=scaler.fit_transform(X_train)\n",
    "X_test2=scaler.transform(X_test)"
   ]
  },
  {
   "cell_type": "code",
   "execution_count": 204,
   "metadata": {},
   "outputs": [
    {
     "data": {
      "text/plain": [
       "(175134, 105)"
      ]
     },
     "execution_count": 204,
     "metadata": {},
     "output_type": "execute_result"
    }
   ],
   "source": [
    "X_train2.shape"
   ]
  },
  {
   "cell_type": "code",
   "execution_count": 205,
   "metadata": {},
   "outputs": [],
   "source": [
    "import keras\n",
    "from keras.models import Sequential\n",
    "from keras.layers import Dense,Dropout"
   ]
  },
  {
   "cell_type": "code",
   "execution_count": 206,
   "metadata": {},
   "outputs": [],
   "source": [
    "classifier = Sequential()"
   ]
  },
  {
   "cell_type": "code",
   "execution_count": 207,
   "metadata": {},
   "outputs": [],
   "source": [
    "classifier.add(Dense(output_dim = 32, init = 'uniform', activation = 'relu', input_dim = 105))\n",
    "classifier.add(Dropout(0.1))\n",
    "classifier.add(Dense(output_dim = 8, init = 'uniform', activation = 'relu'))\n",
    "# classifier.add(Dropout(0.1))\n",
    "classifier.add(Dense(output_dim = 1, init = 'uniform', activation = 'sigmoid'))"
   ]
  },
  {
   "cell_type": "code",
   "execution_count": 208,
   "metadata": {},
   "outputs": [],
   "source": [
    "classifier.compile(optimizer = 'adam', loss = 'binary_crossentropy', metrics = ['accuracy'])"
   ]
  },
  {
   "cell_type": "code",
   "execution_count": 209,
   "metadata": {},
   "outputs": [
    {
     "name": "stdout",
     "output_type": "stream",
     "text": [
      "Epoch 1/30\n",
      "175134/175134 [==============================] - 3s 16us/step - loss: 0.4430 - acc: 0.7953\n",
      "Epoch 2/30\n",
      "175134/175134 [==============================] - 2s 13us/step - loss: 0.4263 - acc: 0.8025\n",
      "Epoch 3/30\n",
      "175134/175134 [==============================] - 2s 13us/step - loss: 0.4252 - acc: 0.8032\n",
      "Epoch 4/30\n",
      "175134/175134 [==============================] - 3s 15us/step - loss: 0.4243 - acc: 0.8036\n",
      "Epoch 5/30\n",
      "175134/175134 [==============================] - 2s 13us/step - loss: 0.4240 - acc: 0.8038\n",
      "Epoch 6/30\n",
      "175134/175134 [==============================] - 3s 15us/step - loss: 0.4235 - acc: 0.8037\n",
      "Epoch 7/30\n",
      "175134/175134 [==============================] - 3s 15us/step - loss: 0.4234 - acc: 0.8040\n",
      "Epoch 8/30\n",
      "175134/175134 [==============================] - 2s 14us/step - loss: 0.4229 - acc: 0.8040\n",
      "Epoch 9/30\n",
      "175134/175134 [==============================] - 2s 13us/step - loss: 0.4224 - acc: 0.8043\n",
      "Epoch 10/30\n",
      "175134/175134 [==============================] - 3s 15us/step - loss: 0.4219 - acc: 0.8048\n",
      "Epoch 11/30\n",
      "175134/175134 [==============================] - 2s 14us/step - loss: 0.4219 - acc: 0.8045\n",
      "Epoch 12/30\n",
      "175134/175134 [==============================] - 3s 15us/step - loss: 0.4215 - acc: 0.8048\n",
      "Epoch 13/30\n",
      "175134/175134 [==============================] - 2s 13us/step - loss: 0.4212 - acc: 0.8050\n",
      "Epoch 14/30\n",
      "175134/175134 [==============================] - 2s 12us/step - loss: 0.4213 - acc: 0.8048\n",
      "Epoch 15/30\n",
      "175134/175134 [==============================] - 2s 14us/step - loss: 0.4206 - acc: 0.8048\n",
      "Epoch 16/30\n",
      "175134/175134 [==============================] - 2s 14us/step - loss: 0.4207 - acc: 0.8056\n",
      "Epoch 17/30\n",
      "175134/175134 [==============================] - 2s 14us/step - loss: 0.4203 - acc: 0.8054\n",
      "Epoch 18/30\n",
      "175134/175134 [==============================] - 2s 14us/step - loss: 0.4201 - acc: 0.8052\n",
      "Epoch 19/30\n",
      "175134/175134 [==============================] - 3s 15us/step - loss: 0.4196 - acc: 0.8057\n",
      "Epoch 20/30\n",
      "175134/175134 [==============================] - 3s 15us/step - loss: 0.4197 - acc: 0.8055\n",
      "Epoch 21/30\n",
      "175134/175134 [==============================] - 2s 14us/step - loss: 0.4196 - acc: 0.8056\n",
      "Epoch 22/30\n",
      "175134/175134 [==============================] - 3s 15us/step - loss: 0.4191 - acc: 0.8054\n",
      "Epoch 23/30\n",
      "175134/175134 [==============================] - 3s 15us/step - loss: 0.4191 - acc: 0.8057\n",
      "Epoch 24/30\n",
      "175134/175134 [==============================] - 3s 15us/step - loss: 0.4190 - acc: 0.8056\n",
      "Epoch 25/30\n",
      "175134/175134 [==============================] - 2s 14us/step - loss: 0.4187 - acc: 0.8061\n",
      "Epoch 26/30\n",
      "175134/175134 [==============================] - 2s 13us/step - loss: 0.4183 - acc: 0.8066\n",
      "Epoch 27/30\n",
      "175134/175134 [==============================] - 2s 13us/step - loss: 0.4186 - acc: 0.8059\n",
      "Epoch 28/30\n",
      "175134/175134 [==============================] - 2s 13us/step - loss: 0.4184 - acc: 0.8059\n",
      "Epoch 29/30\n",
      "175134/175134 [==============================] - 3s 16us/step - loss: 0.4184 - acc: 0.8063\n",
      "Epoch 30/30\n",
      "175134/175134 [==============================] - 3s 14us/step - loss: 0.4179 - acc: 0.8068\n"
     ]
    },
    {
     "data": {
      "text/plain": [
       "<keras.callbacks.History at 0x11d7d4d30>"
      ]
     },
     "execution_count": 209,
     "metadata": {},
     "output_type": "execute_result"
    }
   ],
   "source": [
    "classifier.fit(X_train2, y_train, batch_size = 128, nb_epoch = 30)"
   ]
  },
  {
   "cell_type": "code",
   "execution_count": 215,
   "metadata": {},
   "outputs": [
    {
     "data": {
      "text/plain": [
       "array([[0.5788061 ],\n",
       "       [0.31213784],\n",
       "       [0.39790338],\n",
       "       ...,\n",
       "       [0.02833248],\n",
       "       [0.10893852],\n",
       "       [0.09083619]], dtype=float32)"
      ]
     },
     "execution_count": 215,
     "metadata": {},
     "output_type": "execute_result"
    }
   ],
   "source": [
    "classifier.predict(X_test2)"
   ]
  },
  {
   "cell_type": "code",
   "execution_count": 216,
   "metadata": {},
   "outputs": [],
   "source": [
    "from sklearn.metrics import roc_auc_score"
   ]
  },
  {
   "cell_type": "code",
   "execution_count": 217,
   "metadata": {},
   "outputs": [
    {
     "data": {
      "text/plain": [
       "0.8812104685607137"
      ]
     },
     "execution_count": 217,
     "metadata": {},
     "output_type": "execute_result"
    }
   ],
   "source": [
    "roc_auc_score(y_train,classifier.predict(X_train2))"
   ]
  },
  {
   "cell_type": "code",
   "execution_count": 218,
   "metadata": {},
   "outputs": [],
   "source": [
    "pd.DataFrame(classifier.predict(X_train2)).to_csv('nn_train.csv',index=False)"
   ]
  },
  {
   "cell_type": "code",
   "execution_count": 219,
   "metadata": {},
   "outputs": [
    {
     "data": {
      "text/plain": [
       "0.8764189149153963"
      ]
     },
     "execution_count": 219,
     "metadata": {},
     "output_type": "execute_result"
    }
   ],
   "source": [
    "roc_auc_score(y_test,classifier.predict(X_test2))"
   ]
  },
  {
   "cell_type": "code",
   "execution_count": 220,
   "metadata": {},
   "outputs": [],
   "source": [
    "pd.DataFrame(classifier.predict(X_test2)).to_csv('nn_test.csv',index=False)"
   ]
  },
  {
   "cell_type": "code",
   "execution_count": 139,
   "metadata": {},
   "outputs": [],
   "source": [
    "from sklearn import metrics"
   ]
  },
  {
   "cell_type": "code",
   "execution_count": 140,
   "metadata": {},
   "outputs": [
    {
     "name": "stdout",
     "output_type": "stream",
     "text": [
      "              precision    recall  f1-score   support\n",
      "\n",
      "         0.0       0.83      0.87      0.85    108250\n",
      "         1.0       0.78      0.70      0.74     66884\n",
      "\n",
      "   micro avg       0.81      0.81      0.81    175134\n",
      "   macro avg       0.80      0.79      0.79    175134\n",
      "weighted avg       0.81      0.81      0.81    175134\n",
      "\n"
     ]
    }
   ],
   "source": [
    "print(metrics.classification_report(y_train, np.where(classifier.predict(X_train2)>0.5,1,0)))"
   ]
  },
  {
   "cell_type": "code",
   "execution_count": 201,
   "metadata": {},
   "outputs": [
    {
     "name": "stdout",
     "output_type": "stream",
     "text": [
      "              precision    recall  f1-score   support\n",
      "\n",
      "         0.0       0.89      0.81      0.85     27008\n",
      "         1.0       0.63      0.77      0.69     11363\n",
      "\n",
      "   micro avg       0.80      0.80      0.80     38371\n",
      "   macro avg       0.76      0.79      0.77     38371\n",
      "weighted avg       0.82      0.80      0.80     38371\n",
      "\n"
     ]
    }
   ],
   "source": [
    "print(metrics.classification_report(y_test, np.where(classifier.predict(X_test2)>0.5,1,0)))"
   ]
  },
  {
   "cell_type": "code",
   "execution_count": 203,
   "metadata": {},
   "outputs": [],
   "source": [
    "pd.DataFrame(classifier.predict(X_test2)).to_csv('nn_result.csv',index=False)"
   ]
  },
  {
   "cell_type": "code",
   "execution_count": null,
   "metadata": {},
   "outputs": [],
   "source": []
  }
 ],
 "metadata": {
  "kernelspec": {
   "display_name": "Python 3",
   "language": "python",
   "name": "python3"
  },
  "language_info": {
   "codemirror_mode": {
    "name": "ipython",
    "version": 3
   },
   "file_extension": ".py",
   "mimetype": "text/x-python",
   "name": "python",
   "nbconvert_exporter": "python",
   "pygments_lexer": "ipython3",
   "version": "3.6.6"
  }
 },
 "nbformat": 4,
 "nbformat_minor": 2
}
