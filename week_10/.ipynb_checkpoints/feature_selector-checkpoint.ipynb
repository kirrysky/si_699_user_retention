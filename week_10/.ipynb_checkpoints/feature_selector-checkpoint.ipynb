{
 "cells": [
  {
   "cell_type": "markdown",
   "metadata": {},
   "source": [
    "# Feature Selector\n",
    "\n",
    "- Author: Wen Xin\n",
    "- Description: Use avg rank or ranks in other models to do feature selection."
   ]
  },
  {
   "cell_type": "code",
   "execution_count": 2,
   "metadata": {},
   "outputs": [],
   "source": [
    "import pandas as pd\n",
    "import numpy as np\n",
    "import warnings\n",
    "warnings.filterwarnings(\"ignore\")"
   ]
  },
  {
   "cell_type": "code",
   "execution_count": 2,
   "metadata": {},
   "outputs": [],
   "source": [
    "data=pd.read_csv('feature_rank.csv').reset_index()"
   ]
  },
  {
   "cell_type": "code",
   "execution_count": 3,
   "metadata": {},
   "outputs": [
    {
     "data": {
      "text/html": [
       "<div>\n",
       "<style scoped>\n",
       "    .dataframe tbody tr th:only-of-type {\n",
       "        vertical-align: middle;\n",
       "    }\n",
       "\n",
       "    .dataframe tbody tr th {\n",
       "        vertical-align: top;\n",
       "    }\n",
       "\n",
       "    .dataframe thead th {\n",
       "        text-align: right;\n",
       "    }\n",
       "</style>\n",
       "<table border=\"1\" class=\"dataframe\">\n",
       "  <thead>\n",
       "    <tr style=\"text-align: right;\">\n",
       "      <th></th>\n",
       "      <th>index</th>\n",
       "      <th>ridge_Rank</th>\n",
       "      <th>nb_Rank</th>\n",
       "      <th>lightGBM</th>\n",
       "      <th>features</th>\n",
       "      <th>lr_Rank</th>\n",
       "      <th>cor_rank</th>\n",
       "      <th>avg_rank</th>\n",
       "    </tr>\n",
       "  </thead>\n",
       "  <tbody>\n",
       "    <tr>\n",
       "      <th>0</th>\n",
       "      <td>0</td>\n",
       "      <td>1</td>\n",
       "      <td>1</td>\n",
       "      <td>1</td>\n",
       "      <td>last_order</td>\n",
       "      <td>1.5</td>\n",
       "      <td>5.0</td>\n",
       "      <td>1.9</td>\n",
       "    </tr>\n",
       "    <tr>\n",
       "      <th>1</th>\n",
       "      <td>1</td>\n",
       "      <td>4</td>\n",
       "      <td>7</td>\n",
       "      <td>4</td>\n",
       "      <td>active_days</td>\n",
       "      <td>3.5</td>\n",
       "      <td>8.0</td>\n",
       "      <td>5.3</td>\n",
       "    </tr>\n",
       "    <tr>\n",
       "      <th>2</th>\n",
       "      <td>2</td>\n",
       "      <td>9</td>\n",
       "      <td>9</td>\n",
       "      <td>13</td>\n",
       "      <td>w7_total_orders</td>\n",
       "      <td>8.5</td>\n",
       "      <td>6.0</td>\n",
       "      <td>9.1</td>\n",
       "    </tr>\n",
       "    <tr>\n",
       "      <th>3</th>\n",
       "      <td>3</td>\n",
       "      <td>5</td>\n",
       "      <td>4</td>\n",
       "      <td>32</td>\n",
       "      <td>log_total_orders</td>\n",
       "      <td>5.0</td>\n",
       "      <td>4.0</td>\n",
       "      <td>10.0</td>\n",
       "    </tr>\n",
       "    <tr>\n",
       "      <th>4</th>\n",
       "      <td>4</td>\n",
       "      <td>6</td>\n",
       "      <td>5</td>\n",
       "      <td>25</td>\n",
       "      <td>order_sd</td>\n",
       "      <td>6.0</td>\n",
       "      <td>11.0</td>\n",
       "      <td>10.6</td>\n",
       "    </tr>\n",
       "  </tbody>\n",
       "</table>\n",
       "</div>"
      ],
      "text/plain": [
       "   index  ridge_Rank  nb_Rank  lightGBM          features  lr_Rank  cor_rank  \\\n",
       "0      0           1        1         1        last_order      1.5       5.0   \n",
       "1      1           4        7         4       active_days      3.5       8.0   \n",
       "2      2           9        9        13   w7_total_orders      8.5       6.0   \n",
       "3      3           5        4        32  log_total_orders      5.0       4.0   \n",
       "4      4           6        5        25          order_sd      6.0      11.0   \n",
       "\n",
       "   avg_rank  \n",
       "0       1.9  \n",
       "1       5.3  \n",
       "2       9.1  \n",
       "3      10.0  \n",
       "4      10.6  "
      ]
     },
     "execution_count": 3,
     "metadata": {},
     "output_type": "execute_result"
    }
   ],
   "source": [
    "data.head()"
   ]
  },
  {
   "cell_type": "code",
   "execution_count": 4,
   "metadata": {},
   "outputs": [
    {
     "data": {
      "text/plain": [
       "['last_order',\n",
       " 'active_days',\n",
       " 'w7_total_orders',\n",
       " 'log_total_orders',\n",
       " 'order_sd',\n",
       " 'lastgap',\n",
       " 'avg_gap',\n",
       " 'w6_total_orders',\n",
       " 'min_gap',\n",
       " 'w7_avg_couponworth',\n",
       " 'order_nums',\n",
       " 'w7_max_couponworth',\n",
       " 'w5_total_orders',\n",
       " 'max_gap',\n",
       " 'send2update_time_min',\n",
       " 'update2create_time_min',\n",
       " 'kitchen_royalty',\n",
       " 'log_send2update_time_min',\n",
       " 'app_version_b',\n",
       " 'w6_max_couponworth',\n",
       " 'w6_avg_couponworth',\n",
       " 'w5_avg_couponworth',\n",
       " 'overall_time_min',\n",
       " 'w3_total_orders',\n",
       " 'comment_perc',\n",
       " 'w4_avg_couponworth',\n",
       " 'overall_time_max',\n",
       " 'w1_total_orders',\n",
       " 'age',\n",
       " 'accountLength',\n",
       " 'w3_avg_couponworth',\n",
       " 'first_order',\n",
       " 'w2_max_couponworth',\n",
       " 'update2create_time_mean',\n",
       " 'w2_avg_couponworth',\n",
       " 'w1_avg_couponworth',\n",
       " 'sex',\n",
       " 'send2update_time_mean',\n",
       " 'update2create_time_max',\n",
       " 'last_coupon_fee',\n",
       " 'log_send2update_time_mean',\n",
       " 'overall_time_mean',\n",
       " 'login_platform_b',\n",
       " 'like_num',\n",
       " 'staple_price',\n",
       " 'intime_rate',\n",
       " 'send2update_time_max',\n",
       " 'log_overall_time_mean',\n",
       " 'city_id',\n",
       " 'log_send2update_time_max']"
      ]
     },
     "execution_count": 4,
     "metadata": {},
     "output_type": "execute_result"
    }
   ],
   "source": [
    "list(data[data['lightGBM']<=50]['features'])"
   ]
  },
  {
   "cell_type": "code",
   "execution_count": null,
   "metadata": {},
   "outputs": [],
   "source": []
  }
 ],
 "metadata": {
  "kernelspec": {
   "display_name": "Python 3",
   "language": "python",
   "name": "python3"
  },
  "language_info": {
   "codemirror_mode": {
    "name": "ipython",
    "version": 3
   },
   "file_extension": ".py",
   "mimetype": "text/x-python",
   "name": "python",
   "nbconvert_exporter": "python",
   "pygments_lexer": "ipython3",
   "version": "3.6.6"
  }
 },
 "nbformat": 4,
 "nbformat_minor": 2
}
